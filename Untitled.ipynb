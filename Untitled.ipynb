{
 "cells": [
  {
   "cell_type": "code",
   "execution_count": 3,
   "id": "e82b259e-2b71-4c8d-a922-639a1a011dd8",
   "metadata": {},
   "outputs": [],
   "source": [
    "l=list(range(1,5))"
   ]
  },
  {
   "cell_type": "code",
   "execution_count": 4,
   "id": "5ad7e868-1bbc-475f-97f0-feff6566d4cd",
   "metadata": {},
   "outputs": [
    {
     "data": {
      "text/plain": [
       "[1, 2, 3, 4]"
      ]
     },
     "execution_count": 4,
     "metadata": {},
     "output_type": "execute_result"
    }
   ],
   "source": [
    "l"
   ]
  },
  {
   "cell_type": "code",
   "execution_count": 5,
   "id": "04fe0196-b7c9-4901-984b-5cbf2410a4a9",
   "metadata": {},
   "outputs": [
    {
     "name": "stdout",
     "output_type": "stream",
     "text": [
      "[1, 4, 9, 16]\n"
     ]
    }
   ],
   "source": [
    "## for squares of numbers in the list\n",
    "l1=[]\n",
    "for i in l:\n",
    "    l1.append(i**2)\n",
    "print(l1)"
   ]
  },
  {
   "cell_type": "code",
   "execution_count": 15,
   "id": "79e79883-42f2-442d-8cd3-bbb9bc62c672",
   "metadata": {},
   "outputs": [],
   "source": [
    "#or in a single statement\n",
    "l2=[i**2 for i in l ]\n"
   ]
  },
  {
   "cell_type": "code",
   "execution_count": 16,
   "id": "7f5974cb-ba72-44cb-94d2-cf2d2a61ab2d",
   "metadata": {},
   "outputs": [
    {
     "data": {
      "text/plain": [
       "[1, 4, 9, 16]"
      ]
     },
     "execution_count": 16,
     "metadata": {},
     "output_type": "execute_result"
    }
   ],
   "source": [
    "l2"
   ]
  },
  {
   "cell_type": "code",
   "execution_count": 17,
   "id": "3756f31e-2287-4b51-ab7e-35ec537f389c",
   "metadata": {},
   "outputs": [
    {
     "data": {
      "text/plain": [
       "[1, 4, 9, 16]"
      ]
     },
     "execution_count": 17,
     "metadata": {},
     "output_type": "execute_result"
    }
   ],
   "source": [
    "l1"
   ]
  },
  {
   "cell_type": "code",
   "execution_count": 23,
   "id": "cd227689-f31d-45d9-a881-6a75ae73e178",
   "metadata": {},
   "outputs": [],
   "source": [
    "l3=list(range(15))"
   ]
  },
  {
   "cell_type": "code",
   "execution_count": 24,
   "id": "b5298208-ebbd-412c-a9ce-b2e993bd5f50",
   "metadata": {},
   "outputs": [
    {
     "data": {
      "text/plain": [
       "[0, 1, 2, 3, 4, 5, 6, 7, 8, 9, 10, 11, 12, 13, 14]"
      ]
     },
     "execution_count": 24,
     "metadata": {},
     "output_type": "execute_result"
    }
   ],
   "source": [
    "l3"
   ]
  },
  {
   "cell_type": "code",
   "execution_count": 21,
   "id": "3126762c-28ee-468a-9d49-da4160d4ccd8",
   "metadata": {},
   "outputs": [
    {
     "data": {
      "text/plain": [
       "[0, 2, 4, 6, 8, 10, 12, 14]"
      ]
     },
     "execution_count": 21,
     "metadata": {},
     "output_type": "execute_result"
    }
   ],
   "source": [
    "# to get the even numbers from the list\n",
    "[i for i in l3 if i%2==0]"
   ]
  },
  {
   "cell_type": "code",
   "execution_count": 36,
   "id": "32eb4999-e70d-4347-aac3-153c43e64013",
   "metadata": {},
   "outputs": [],
   "source": [
    "l4 = [\"bharath\",\"akshay\",\"uday\"]"
   ]
  },
  {
   "cell_type": "code",
   "execution_count": 38,
   "id": "572758ad-c89d-4e1f-81dc-4c32998a6b84",
   "metadata": {},
   "outputs": [
    {
     "data": {
      "text/plain": [
       "'BHARATH'"
      ]
     },
     "execution_count": 38,
     "metadata": {},
     "output_type": "execute_result"
    }
   ],
   "source": [
    "l4[0].upper()"
   ]
  },
  {
   "cell_type": "code",
   "execution_count": 41,
   "id": "310a0ea3-fae7-4fa0-8986-fc37dfc3a3f3",
   "metadata": {},
   "outputs": [
    {
     "data": {
      "text/plain": [
       "['BHARATH', 'AKSHAY', 'UDAY']"
      ]
     },
     "execution_count": 41,
     "metadata": {},
     "output_type": "execute_result"
    }
   ],
   "source": [
    "[i.upper() for i in l4]"
   ]
  },
  {
   "cell_type": "code",
   "execution_count": 42,
   "id": "b9ab8080-2d55-4882-8151-6d1bd13e898c",
   "metadata": {},
   "outputs": [
    {
     "data": {
      "text/plain": [
       "[1, 2, 3, 4]"
      ]
     },
     "execution_count": 42,
     "metadata": {},
     "output_type": "execute_result"
    }
   ],
   "source": [
    "l"
   ]
  },
  {
   "cell_type": "code",
   "execution_count": 68,
   "id": "902eb3c0-a7c6-4f9b-b4a0-1a6a36178626",
   "metadata": {},
   "outputs": [],
   "source": [
    "d={\"akshay\":1 , \"bharath\":2, \"uday\":3 , \"key4\":4}"
   ]
  },
  {
   "cell_type": "code",
   "execution_count": 69,
   "id": "80c301c9-a011-470e-9d31-d7af715384c8",
   "metadata": {},
   "outputs": [
    {
     "data": {
      "text/plain": [
       "dict_items([('akshay', 1), ('bharath', 2), ('uday', 3), ('key4', 4)])"
      ]
     },
     "execution_count": 69,
     "metadata": {},
     "output_type": "execute_result"
    }
   ],
   "source": [
    "d.items()"
   ]
  },
  {
   "cell_type": "code",
   "execution_count": 70,
   "id": "875f9c91-2d9a-42a4-876a-78e534ee3adb",
   "metadata": {},
   "outputs": [
    {
     "data": {
      "text/plain": [
       "{'akshay': 1, 'bharath': 4, 'uday': 9, 'key4': 16}"
      ]
     },
     "execution_count": 70,
     "metadata": {},
     "output_type": "execute_result"
    }
   ],
   "source": [
    "{k:v**2 for k,v in d.items()}"
   ]
  },
  {
   "cell_type": "code",
   "execution_count": 74,
   "id": "4fdfa20f-872c-4c8c-9e3d-cce0dbf94868",
   "metadata": {},
   "outputs": [
    {
     "data": {
      "text/plain": [
       "{'akshay': 1, 'bharath': 2, 'uday': 3, 'key4': 4}"
      ]
     },
     "execution_count": 74,
     "metadata": {},
     "output_type": "execute_result"
    }
   ],
   "source": [
    "d"
   ]
  },
  {
   "cell_type": "code",
   "execution_count": 77,
   "id": "d4fb1931-ccd6-4d83-954a-3e98dc6bf929",
   "metadata": {},
   "outputs": [
    {
     "data": {
      "text/plain": [
       "{'bharath': 2, 'uday': 3, 'key4': 4}"
      ]
     },
     "execution_count": 77,
     "metadata": {},
     "output_type": "execute_result"
    }
   ],
   "source": [
    "{k:v for k,v in d.items() if v>1}"
   ]
  },
  {
   "cell_type": "code",
   "execution_count": null,
   "id": "6e60855c-c108-4528-af62-6f756c055f7d",
   "metadata": {},
   "outputs": [],
   "source": []
  }
 ],
 "metadata": {
  "kernelspec": {
   "display_name": "Python 3 (ipykernel)",
   "language": "python",
   "name": "python3"
  },
  "language_info": {
   "codemirror_mode": {
    "name": "ipython",
    "version": 3
   },
   "file_extension": ".py",
   "mimetype": "text/x-python",
   "name": "python",
   "nbconvert_exporter": "python",
   "pygments_lexer": "ipython3",
   "version": "3.10.8"
  }
 },
 "nbformat": 4,
 "nbformat_minor": 5
}
