{
 "cells": [
  {
   "cell_type": "code",
   "execution_count": null,
   "id": "6d61bc79-d64d-49bf-93fe-8fd866b939e6",
   "metadata": {},
   "outputs": [],
   "source": [
    "#This is used for memory optimization\n",
    "# this is used when you don't want a func to be repeated for every data you pass inside the class,\n",
    "# instead it is computed once and auto applied once.\n",
    "# like for a data of students, the list of mentor will be same for any data you enter"
   ]
  },
  {
   "cell_type": "code",
   "execution_count": 1,
   "id": "f0dfe2bd-6221-421e-86fd-04b52746d950",
   "metadata": {},
   "outputs": [],
   "source": [
    "class pwskills:\n",
    "    \n",
    "    def student_details(self , name, mail_ID, number):\n",
    "        print(name, mail_ID, number)\n",
    "        "
   ]
  },
  {
   "cell_type": "code",
   "execution_count": 2,
   "id": "7e9802ff-bf8a-4d7d-b2d4-5a0ae3e949c8",
   "metadata": {},
   "outputs": [],
   "source": [
    "pw =pwskills()"
   ]
  },
  {
   "cell_type": "code",
   "execution_count": 3,
   "id": "19c00d73-1808-4f7e-a9f6-05fc306861e0",
   "metadata": {},
   "outputs": [
    {
     "name": "stdout",
     "output_type": "stream",
     "text": [
      "bharath bharath@gmail 46846321564\n"
     ]
    }
   ],
   "source": [
    "pw.student_details(\"bharath\", \"bharath@gmail\", 46846321564)"
   ]
  },
  {
   "cell_type": "code",
   "execution_count": 4,
   "id": "46b1955d-306d-444e-a1fa-d16f24719107",
   "metadata": {},
   "outputs": [],
   "source": [
    "class pwskills:\n",
    "    \n",
    "    def student_details(self , name, mail_ID, number):\n",
    "        print(name, mail_ID, number)\n",
    "        \n",
    "    @staticmethod\n",
    "    def mentor_class(list_mentor):\n",
    "        print(list_mentor)"
   ]
  },
  {
   "cell_type": "code",
   "execution_count": null,
   "id": "6444dec8-66af-4da7-b3c1-a1728fa0d04b",
   "metadata": {},
   "outputs": [],
   "source": []
  }
 ],
 "metadata": {
  "kernelspec": {
   "display_name": "Python 3 (ipykernel)",
   "language": "python",
   "name": "python3"
  },
  "language_info": {
   "codemirror_mode": {
    "name": "ipython",
    "version": 3
   },
   "file_extension": ".py",
   "mimetype": "text/x-python",
   "name": "python",
   "nbconvert_exporter": "python",
   "pygments_lexer": "ipython3",
   "version": "3.10.8"
  }
 },
 "nbformat": 4,
 "nbformat_minor": 5
}
