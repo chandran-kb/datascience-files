{
 "cells": [
  {
   "cell_type": "code",
   "execution_count": 2,
   "id": "47f2b801-17c8-4f36-be53-1779e0d77901",
   "metadata": {},
   "outputs": [
    {
     "data": {
      "text/plain": [
       "(2, 8, 1.6666666666666667, 1, 15, 2, False, True, False, True)"
      ]
     },
     "execution_count": 2,
     "metadata": {},
     "output_type": "execute_result"
    }
   ],
   "source": [
    "5-3 , 5+3 , 5/3 , 5//3, 5*3 , 5%3 , 5==3 , 5!=3, 5<3, 5>3"
   ]
  },
  {
   "cell_type": "code",
   "execution_count": 3,
   "id": "ea3cc69e-44f7-49e6-bfe6-1a165dacb0bb",
   "metadata": {},
   "outputs": [
    {
     "data": {
      "text/plain": [
       "' types of data\\nstring(str), integer(int), float, boolean(bool), complex '"
      ]
     },
     "execution_count": 3,
     "metadata": {},
     "output_type": "execute_result"
    }
   ],
   "source": [
    "\"\"\" types of data\n",
    "string(str), integer(int), float, boolean(bool), complex \"\"\" "
   ]
  },
  {
   "cell_type": "code",
   "execution_count": 4,
   "id": "9394246e-b5aa-437d-bb11-2d0c69588054",
   "metadata": {},
   "outputs": [],
   "source": [
    "## complex number\n",
    "c= 5.2+8j"
   ]
  },
  {
   "cell_type": "code",
   "execution_count": 5,
   "id": "a259aa75-78df-4d01-a80c-adf3f313f9e5",
   "metadata": {},
   "outputs": [
    {
     "data": {
      "text/plain": [
       "(5.2+8j)"
      ]
     },
     "execution_count": 5,
     "metadata": {},
     "output_type": "execute_result"
    }
   ],
   "source": [
    "c"
   ]
  },
  {
   "cell_type": "code",
   "execution_count": 6,
   "id": "379b0268-4b5d-438a-99bb-5fbba0383c53",
   "metadata": {},
   "outputs": [
    {
     "data": {
      "text/plain": [
       "(5.2, 8.0)"
      ]
     },
     "execution_count": 6,
     "metadata": {},
     "output_type": "execute_result"
    }
   ],
   "source": [
    "c.real , c.imag"
   ]
  },
  {
   "cell_type": "code",
   "execution_count": 7,
   "id": "0ea7dd6c-3f2a-4eae-8336-c0ce81a108ec",
   "metadata": {},
   "outputs": [],
   "source": [
    "## \"shift+tab\" after a function shows the functionality of a function"
   ]
  },
  {
   "cell_type": "code",
   "execution_count": null,
   "id": "3511e444-f6ec-45e3-b8f6-9ea5a80a4275",
   "metadata": {},
   "outputs": [],
   "source": []
  }
 ],
 "metadata": {
  "kernelspec": {
   "display_name": "Python 3 (ipykernel)",
   "language": "python",
   "name": "python3"
  },
  "language_info": {
   "codemirror_mode": {
    "name": "ipython",
    "version": 3
   },
   "file_extension": ".py",
   "mimetype": "text/x-python",
   "name": "python",
   "nbconvert_exporter": "python",
   "pygments_lexer": "ipython3",
   "version": "3.10.8"
  }
 },
 "nbformat": 4,
 "nbformat_minor": 5
}
