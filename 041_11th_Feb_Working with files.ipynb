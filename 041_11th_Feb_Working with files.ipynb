{
 "cells": [
  {
   "cell_type": "code",
   "execution_count": 13,
   "id": "e91a9698-b286-4dbd-aa37-b687757144de",
   "metadata": {},
   "outputs": [],
   "source": [
    "# file operation\n",
    "# open is an inbuilt function which helps in creating the file and various operations inside the file\n"
   ]
  },
  {
   "cell_type": "code",
   "execution_count": 137,
   "id": "0bbcf5f1-a0a2-42f5-9309-725a36154276",
   "metadata": {},
   "outputs": [],
   "source": [
    "f = open(\"text.txt\" , \"w\")"
   ]
  },
  {
   "cell_type": "code",
   "execution_count": 138,
   "id": "b59cca92-d3b7-4894-88ff-4f27b15f9f4f",
   "metadata": {},
   "outputs": [],
   "source": [
    "# the file is created in pwd (present working directory)"
   ]
  },
  {
   "cell_type": "code",
   "execution_count": 139,
   "id": "30ff088c-88d1-4abc-a26d-a50309900129",
   "metadata": {},
   "outputs": [
    {
     "data": {
      "text/plain": [
       "'/home/jovyan/work/11th Feb'"
      ]
     },
     "execution_count": 139,
     "metadata": {},
     "output_type": "execute_result"
    }
   ],
   "source": [
    "pwd"
   ]
  },
  {
   "cell_type": "code",
   "execution_count": 140,
   "id": "855cfe6b-b71b-4ef4-ba13-cbba05e16097",
   "metadata": {},
   "outputs": [],
   "source": [
    "# ls gives the name of the all file inside the directory"
   ]
  },
  {
   "cell_type": "code",
   "execution_count": 141,
   "id": "661d4447-8889-4f1a-9036-47c11bea3aa2",
   "metadata": {},
   "outputs": [
    {
     "name": "stdout",
     "output_type": "stream",
     "text": [
      "'11th_Feb_Working with files.ipynb'   test2.txt   text.txt\n",
      " test1.txt                            test3.txt\n"
     ]
    }
   ],
   "source": [
    "ls"
   ]
  },
  {
   "cell_type": "code",
   "execution_count": 142,
   "id": "9b58ef61-b9a8-414a-af52-537b652d352f",
   "metadata": {},
   "outputs": [],
   "source": [
    "#cd helps in changing the directory (cd= change directory)"
   ]
  },
  {
   "cell_type": "code",
   "execution_count": 143,
   "id": "18dc7a82-ed35-494f-ac51-9e61bf2eb218",
   "metadata": {},
   "outputs": [
    {
     "name": "stdout",
     "output_type": "stream",
     "text": [
      "[Errno 2] No such file or directory: '11th Feb'\n",
      "/home/jovyan/work/11th Feb\n"
     ]
    }
   ],
   "source": [
    "cd 11th Feb"
   ]
  },
  {
   "cell_type": "code",
   "execution_count": 144,
   "id": "ee307e85-a7e6-4dec-905d-d613d67f8ec5",
   "metadata": {},
   "outputs": [
    {
     "data": {
      "text/plain": [
       "31"
      ]
     },
     "execution_count": 144,
     "metadata": {},
     "output_type": "execute_result"
    }
   ],
   "source": [
    "f.write(\"this is my first file to write!\")"
   ]
  },
  {
   "cell_type": "code",
   "execution_count": 145,
   "id": "06a1f6cb-91fd-44c5-a18a-31b448b81daa",
   "metadata": {},
   "outputs": [],
   "source": [
    "f.close()"
   ]
  },
  {
   "cell_type": "code",
   "execution_count": 146,
   "id": "9d25f9a8-6a60-4efd-a968-e1085af0ac2e",
   "metadata": {},
   "outputs": [],
   "source": [
    "f = open(\"text.txt\" , \"w\")"
   ]
  },
  {
   "cell_type": "code",
   "execution_count": 147,
   "id": "f73600d9-7762-4389-8059-0cc16936c793",
   "metadata": {},
   "outputs": [
    {
     "data": {
      "text/plain": [
       "15"
      ]
     },
     "execution_count": 147,
     "metadata": {},
     "output_type": "execute_result"
    }
   ],
   "source": [
    "# this rewrites the data in the file. old data in truncate or flushed\n",
    "f.write(\"this is my file\")"
   ]
  },
  {
   "cell_type": "code",
   "execution_count": 148,
   "id": "c6d71c8d-6a34-4525-9934-db28c17783c4",
   "metadata": {},
   "outputs": [],
   "source": [
    "f.close()"
   ]
  },
  {
   "cell_type": "code",
   "execution_count": 149,
   "id": "39c1c988-d959-4701-a7e0-ded5e4a5aea8",
   "metadata": {},
   "outputs": [],
   "source": [
    "# this opens the file to write but doesn't flush the previous data. it just appends the new data\n",
    "f = open(\"text.txt\" , \"a\")"
   ]
  },
  {
   "cell_type": "code",
   "execution_count": 150,
   "id": "e7baca08-9627-45d0-8136-73fb28524753",
   "metadata": {},
   "outputs": [
    {
     "data": {
      "text/plain": [
       "25"
      ]
     },
     "execution_count": 150,
     "metadata": {},
     "output_type": "execute_result"
    }
   ],
   "source": [
    "f.write(\"\\n Why so serious? \\n Joker\")"
   ]
  },
  {
   "cell_type": "code",
   "execution_count": 151,
   "id": "7ceb4637-52b2-44cf-b80e-b5d2a09ed04f",
   "metadata": {},
   "outputs": [],
   "source": [
    "f.close()"
   ]
  },
  {
   "cell_type": "code",
   "execution_count": 152,
   "id": "b5642864-e968-443a-8a96-d613e759e2f9",
   "metadata": {},
   "outputs": [],
   "source": [
    "# Read mode\n",
    "f = open(\"text.txt\" , \"r\")"
   ]
  },
  {
   "cell_type": "code",
   "execution_count": 153,
   "id": "a2adf11f-8f39-484a-8b58-4e19c7b0eee4",
   "metadata": {},
   "outputs": [
    {
     "data": {
      "text/plain": [
       "'this is my file\\n Why so serious? \\n Joker'"
      ]
     },
     "execution_count": 153,
     "metadata": {},
     "output_type": "execute_result"
    }
   ],
   "source": [
    "f.read()"
   ]
  },
  {
   "cell_type": "code",
   "execution_count": 154,
   "id": "45da1f65-86d0-42db-bd15-ffc1db8d056d",
   "metadata": {},
   "outputs": [
    {
     "data": {
      "text/plain": [
       "''"
      ]
     },
     "execution_count": 154,
     "metadata": {},
     "output_type": "execute_result"
    }
   ],
   "source": [
    "# gives data line by line. Here the file \n",
    "# since we have already called the read function above, the pointer has gone to the last index.\n",
    "# hence it shows blank here.\n",
    "f.readline()"
   ]
  },
  {
   "cell_type": "code",
   "execution_count": 155,
   "id": "c5f7e998-97d9-4c7e-8be7-b878cebd9880",
   "metadata": {},
   "outputs": [
    {
     "data": {
      "text/plain": [
       "0"
      ]
     },
     "execution_count": 155,
     "metadata": {},
     "output_type": "execute_result"
    }
   ],
   "source": [
    "# this bring the pointer back to 0 index\n",
    "f.seek(0)"
   ]
  },
  {
   "cell_type": "code",
   "execution_count": 156,
   "id": "0d878971-0af1-4eba-845f-8f0e16b2f016",
   "metadata": {},
   "outputs": [
    {
     "data": {
      "text/plain": [
       "'this is my file\\n'"
      ]
     },
     "execution_count": 156,
     "metadata": {},
     "output_type": "execute_result"
    }
   ],
   "source": [
    "f.readline()"
   ]
  },
  {
   "cell_type": "code",
   "execution_count": 157,
   "id": "cf5036b4-afd3-49fa-9fbd-1a46a3a7fec5",
   "metadata": {},
   "outputs": [
    {
     "data": {
      "text/plain": [
       "20"
      ]
     },
     "execution_count": 157,
     "metadata": {},
     "output_type": "execute_result"
    }
   ],
   "source": [
    "f.seek(20)"
   ]
  },
  {
   "cell_type": "code",
   "execution_count": 158,
   "id": "509e1868-1520-477e-9855-c54eee80580b",
   "metadata": {},
   "outputs": [
    {
     "data": {
      "text/plain": [
       "' so serious? \\n Joker'"
      ]
     },
     "execution_count": 158,
     "metadata": {},
     "output_type": "execute_result"
    }
   ],
   "source": [
    "f.read()"
   ]
  },
  {
   "cell_type": "code",
   "execution_count": 159,
   "id": "7575b621-f656-4e2e-b7d6-60121b2d1f14",
   "metadata": {},
   "outputs": [],
   "source": [
    "f1 = open(\"text.txt\", \"r\")"
   ]
  },
  {
   "cell_type": "code",
   "execution_count": 160,
   "id": "10c16941-8d34-4d38-b6df-55372c31b0d6",
   "metadata": {},
   "outputs": [
    {
     "name": "stdout",
     "output_type": "stream",
     "text": [
      "this is my file\n",
      "\n",
      " Why so serious? \n",
      "\n",
      " Joker\n"
     ]
    }
   ],
   "source": [
    "# using for loop \n",
    "for i in f1:\n",
    "    print(i)"
   ]
  },
  {
   "cell_type": "code",
   "execution_count": 161,
   "id": "e6729774-e486-4c8e-b936-5060777bc539",
   "metadata": {},
   "outputs": [
    {
     "data": {
      "text/plain": [
       "40"
      ]
     },
     "execution_count": 161,
     "metadata": {},
     "output_type": "execute_result"
    }
   ],
   "source": [
    "# to know the size of the file\n",
    "# importing os(operating system) module\n",
    "import os\n",
    "os.path.getsize(\"text.txt\")"
   ]
  },
  {
   "cell_type": "code",
   "execution_count": 162,
   "id": "0fa328d4-4e30-4daa-ba7f-d3feb315d92e",
   "metadata": {},
   "outputs": [],
   "source": [
    "# to delete file\n",
    "os.remove(\"text.txt\")"
   ]
  },
  {
   "cell_type": "code",
   "execution_count": 163,
   "id": "097641c1-686c-4cdc-9641-8576dc6b70ed",
   "metadata": {},
   "outputs": [],
   "source": [
    "f= open(\"test1.txt\" , \"w\")"
   ]
  },
  {
   "cell_type": "code",
   "execution_count": 164,
   "id": "c926a1be-6da3-4238-911b-cc186e531157",
   "metadata": {},
   "outputs": [
    {
     "data": {
      "text/plain": [
       "41"
      ]
     },
     "execution_count": 164,
     "metadata": {},
     "output_type": "execute_result"
    }
   ],
   "source": [
    "f.write(\"this is my file \\n Why so serious? \\n Joker\")"
   ]
  },
  {
   "cell_type": "code",
   "execution_count": 165,
   "id": "dfc6842f-b730-41f7-93ac-0556b90a1305",
   "metadata": {},
   "outputs": [],
   "source": [
    "f.close()"
   ]
  },
  {
   "cell_type": "code",
   "execution_count": 166,
   "id": "6c5b5f03-eb3c-4714-afdf-d0ea580e149d",
   "metadata": {},
   "outputs": [],
   "source": [
    "## to rename the file\n",
    "os.rename(\"test1.txt\" , \"test2.txt\")"
   ]
  },
  {
   "cell_type": "code",
   "execution_count": 167,
   "id": "bde7421d-f841-4720-ae72-123d892189e6",
   "metadata": {},
   "outputs": [
    {
     "name": "stdout",
     "output_type": "stream",
     "text": [
      "'11th_Feb_Working with files.ipynb'   test2.txt   test3.txt\n"
     ]
    }
   ],
   "source": [
    "ls"
   ]
  },
  {
   "cell_type": "code",
   "execution_count": 168,
   "id": "261fe5e0-6e31-421b-8f85-b8f810f16279",
   "metadata": {},
   "outputs": [
    {
     "data": {
      "text/plain": [
       "'test3.txt'"
      ]
     },
     "execution_count": 168,
     "metadata": {},
     "output_type": "execute_result"
    }
   ],
   "source": [
    "## to make a duplicate\n",
    "import shutil\n",
    "shutil.copy(\"test2.txt\" , \"test3.txt\")"
   ]
  },
  {
   "cell_type": "code",
   "execution_count": 169,
   "id": "889b53eb-28b8-4762-b8d3-37e9262ade24",
   "metadata": {},
   "outputs": [
    {
     "name": "stdout",
     "output_type": "stream",
     "text": [
      "'11th_Feb_Working with files.ipynb'   test2.txt   test3.txt\n"
     ]
    }
   ],
   "source": [
    "ls"
   ]
  },
  {
   "cell_type": "code",
   "execution_count": 170,
   "id": "5c406c0d-7dd4-45e8-932a-a9ab71d96e93",
   "metadata": {},
   "outputs": [
    {
     "name": "stdout",
     "output_type": "stream",
     "text": [
      "this is my file \n",
      "\n",
      " Why so serious? \n",
      "\n"
     ]
    }
   ],
   "source": [
    "## you can use this format and then give the commands in the next line\n",
    "with open(\"test3.txt\", \"r\") as f3 :\n",
    "    print(f3.readline())\n",
    "    print(f3.readline())"
   ]
  },
  {
   "cell_type": "code",
   "execution_count": 171,
   "id": "faa10cf5-9f54-4eb9-9b00-c1553054ffa2",
   "metadata": {},
   "outputs": [
    {
     "name": "stdout",
     "output_type": "stream",
     "text": [
      "this is my file \n",
      " Why so serious? \n",
      " Joker\n"
     ]
    }
   ],
   "source": [
    "with open(\"test3.txt\", \"r\") as f3 :\n",
    "    print(f3.read())"
   ]
  },
  {
   "cell_type": "code",
   "execution_count": null,
   "id": "0b0e4f6a-34e9-447c-b68b-94bd37fbb838",
   "metadata": {},
   "outputs": [],
   "source": []
  },
  {
   "cell_type": "code",
   "execution_count": null,
   "id": "b09a268b-2b6f-4a92-8422-1c92c5808065",
   "metadata": {},
   "outputs": [],
   "source": []
  }
 ],
 "metadata": {
  "kernelspec": {
   "display_name": "Python 3 (ipykernel)",
   "language": "python",
   "name": "python3"
  },
  "language_info": {
   "codemirror_mode": {
    "name": "ipython",
    "version": 3
   },
   "file_extension": ".py",
   "mimetype": "text/x-python",
   "name": "python",
   "nbconvert_exporter": "python",
   "pygments_lexer": "ipython3",
   "version": "3.10.8"
  }
 },
 "nbformat": 4,
 "nbformat_minor": 5
}
