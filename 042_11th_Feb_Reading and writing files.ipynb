{
 "cells": [
  {
   "cell_type": "code",
   "execution_count": 1,
   "id": "955a6171-386a-4a54-97d6-80ca1ab1a922",
   "metadata": {},
   "outputs": [],
   "source": [
    "d = {\n",
    "    \"name\" : \"bharath\", \"mail_id\" : \"bharath@gmail.com\",\n",
    "    \"ph_no\" : 9502556893,\n",
    "    \"course\" : [\"data science\", \"digital marketing\"]\n",
    "}"
   ]
  },
  {
   "cell_type": "code",
   "execution_count": 2,
   "id": "7ccd8a18-c51a-47d1-91ec-0e1da7aeecd7",
   "metadata": {},
   "outputs": [],
   "source": [
    "#this type of data set is also called json data set where data is stored in the form of key and value pairs\n",
    "## json = java script object notation"
   ]
  },
  {
   "cell_type": "code",
   "execution_count": 3,
   "id": "b58cbf1d-1fcf-4353-b91c-53b86816575c",
   "metadata": {},
   "outputs": [],
   "source": [
    "import json"
   ]
  },
  {
   "cell_type": "code",
   "execution_count": 11,
   "id": "9fd0be46-b422-4e03-b659-8ac089068a19",
   "metadata": {},
   "outputs": [],
   "source": [
    "# to write json data\n",
    "with open(\"d.json\" , \"w\") as f:\n",
    "    json.dump(d ,f)"
   ]
  },
  {
   "cell_type": "code",
   "execution_count": 4,
   "id": "7a99f6e4-2e00-4cdb-8a79-fe72be066675",
   "metadata": {},
   "outputs": [
    {
     "name": "stdout",
     "output_type": "stream",
     "text": [
      "{'name': 'bharath', 'mail_id': 'bharath@gmail.com', 'ph_no': 9502556893, 'course': ['data science', 'digital marketing']}\n"
     ]
    }
   ],
   "source": [
    "with open(\"d.json\" , \"r\") as f:\n",
    "    print(json.load(f))"
   ]
  },
  {
   "cell_type": "code",
   "execution_count": 5,
   "id": "ea011a62-3039-40da-b1d6-417c804698b5",
   "metadata": {},
   "outputs": [],
   "source": [
    "# to read json data\n",
    "with open(\"d.json\" , \"r\") as f:\n",
    "    f1=json.load(f)"
   ]
  },
  {
   "cell_type": "code",
   "execution_count": 6,
   "id": "81238782-9744-4e6d-8f9e-3fdb8ad427fe",
   "metadata": {},
   "outputs": [
    {
     "data": {
      "text/plain": [
       "{'name': 'bharath',\n",
       " 'mail_id': 'bharath@gmail.com',\n",
       " 'ph_no': 9502556893,\n",
       " 'course': ['data science', 'digital marketing']}"
      ]
     },
     "execution_count": 6,
     "metadata": {},
     "output_type": "execute_result"
    }
   ],
   "source": [
    "f1"
   ]
  },
  {
   "cell_type": "code",
   "execution_count": 7,
   "id": "593d8fb3-3951-486f-94a9-266ba07f76cf",
   "metadata": {},
   "outputs": [
    {
     "ename": "AttributeError",
     "evalue": "'dict' object has no attribute 'read'",
     "output_type": "error",
     "traceback": [
      "\u001b[0;31m---------------------------------------------------------------------------\u001b[0m",
      "\u001b[0;31mAttributeError\u001b[0m                            Traceback (most recent call last)",
      "Cell \u001b[0;32mIn[7], line 2\u001b[0m\n\u001b[1;32m      1\u001b[0m \u001b[38;5;66;03m## doesn't work for json file \u001b[39;00m\n\u001b[0;32m----> 2\u001b[0m \u001b[43mf1\u001b[49m\u001b[38;5;241;43m.\u001b[39;49m\u001b[43mread\u001b[49m()\n",
      "\u001b[0;31mAttributeError\u001b[0m: 'dict' object has no attribute 'read'"
     ]
    }
   ],
   "source": [
    "## doesn't work for json file \n",
    "f1.read()"
   ]
  },
  {
   "cell_type": "code",
   "execution_count": 8,
   "id": "9d602b30-8607-4e52-8a38-8e953d8d966c",
   "metadata": {},
   "outputs": [
    {
     "data": {
      "text/plain": [
       "'digital marketing'"
      ]
     },
     "execution_count": 8,
     "metadata": {},
     "output_type": "execute_result"
    }
   ],
   "source": [
    "#indexing\n",
    "d[\"course\"][1]"
   ]
  },
  {
   "cell_type": "code",
   "execution_count": 9,
   "id": "e720cbf2-1560-495e-917e-e65a94e36b5c",
   "metadata": {},
   "outputs": [
    {
     "data": {
      "text/plain": [
       "'digital marketing'"
      ]
     },
     "execution_count": 9,
     "metadata": {},
     "output_type": "execute_result"
    }
   ],
   "source": [
    "f1[\"course\"][1]"
   ]
  },
  {
   "cell_type": "code",
   "execution_count": 18,
   "id": "94264605-d9c7-488c-b06c-81568deeeaa8",
   "metadata": {},
   "outputs": [],
   "source": [
    "## comma separated value file (.csv file)\n",
    "import csv"
   ]
  },
  {
   "cell_type": "code",
   "execution_count": 19,
   "id": "1d721280-1a79-4d3b-b96a-9f1b20151806",
   "metadata": {},
   "outputs": [],
   "source": [
    "d = [[\"name\" , \"emailID\" , \"ph_no\"], [\"bharath\", \"bharath@gmail\", 98662],\n",
    "     [\"akshay\" , \"akshay@gmail.com\", 98555]\n",
    "    ]"
   ]
  },
  {
   "cell_type": "code",
   "execution_count": 25,
   "id": "3fb7c04d-affb-4029-b293-72dd7d2e5d79",
   "metadata": {},
   "outputs": [],
   "source": [
    "with open(\"d.csv\" , \"w\") as f:\n",
    "    f1 = csv.writer(f)\n",
    "    \n",
    "    for i in d:\n",
    "        f1.writerow(i)"
   ]
  },
  {
   "cell_type": "code",
   "execution_count": 29,
   "id": "41de0569-9522-4834-8fd4-3c72cd3bae83",
   "metadata": {},
   "outputs": [
    {
     "name": "stdout",
     "output_type": "stream",
     "text": [
      "['name', 'emailID', 'ph_no']\n",
      "['bharath', 'bharath@gmail', '98662']\n",
      "['akshay', 'akshay@gmail.com', '98555']\n"
     ]
    }
   ],
   "source": [
    "with open(\"d.csv\" , \"r\") as f:\n",
    "    f1 = csv.reader(f)\n",
    "    \n",
    "    for i in f1:\n",
    "        print(i)"
   ]
  },
  {
   "cell_type": "code",
   "execution_count": 30,
   "id": "e6a4556d-6247-4327-9041-f34076d28248",
   "metadata": {},
   "outputs": [],
   "source": [
    "## binary format - when we open image or video or media file in text file it shows data in binary format"
   ]
  },
  {
   "cell_type": "code",
   "execution_count": 36,
   "id": "5a46293c-bdc7-479b-a0a2-f4009179df06",
   "metadata": {},
   "outputs": [],
   "source": [
    "with open(\"test.bin\" , \"wb\") as f:\n",
    "    f.write(b\"\\x01\\x02\\x03\\x4000646\")"
   ]
  },
  {
   "cell_type": "code",
   "execution_count": 37,
   "id": "ec40208b-14e7-4718-a249-3fdd8a01a946",
   "metadata": {},
   "outputs": [
    {
     "name": "stdout",
     "output_type": "stream",
     "text": [
      "b'\\x01\\x02\\x03@00646'\n"
     ]
    }
   ],
   "source": [
    "with open(\"test.bin\" , \"rb\") as f:\n",
    "    print(f.read())"
   ]
  },
  {
   "cell_type": "code",
   "execution_count": null,
   "id": "2db50dd3-9a0c-4397-8802-33055486cdd1",
   "metadata": {},
   "outputs": [],
   "source": []
  }
 ],
 "metadata": {
  "kernelspec": {
   "display_name": "Python 3 (ipykernel)",
   "language": "python",
   "name": "python3"
  },
  "language_info": {
   "codemirror_mode": {
    "name": "ipython",
    "version": 3
   },
   "file_extension": ".py",
   "mimetype": "text/x-python",
   "name": "python",
   "nbconvert_exporter": "python",
   "pygments_lexer": "ipython3",
   "version": "3.10.8"
  }
 },
 "nbformat": 4,
 "nbformat_minor": 5
}
