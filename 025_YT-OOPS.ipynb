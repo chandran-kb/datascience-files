{
 "cells": [
  {
   "cell_type": "code",
   "execution_count": 4,
   "id": "58f331d9-e6b4-4870-b2e4-62f2b9100a68",
   "metadata": {},
   "outputs": [],
   "source": [
    "#OOPS - Object oriented Programming structure\n",
    "\n",
    "## class is a design or a blueprint or a skeleton \n",
    "## object is an instance"
   ]
  },
  {
   "cell_type": "code",
   "execution_count": 4,
   "id": "b7885835-5517-4256-bf43-0f92da223088",
   "metadata": {
    "tags": []
   },
   "outputs": [],
   "source": [
    "class computer:\n",
    "    ## class will have 2 things. Attributes (variables) and then Behaviour (Methods or Functions)\n",
    "\n",
    "    def config(self):\n",
    "        print(\"i3 , 16GH, 1TB\")\n",
    "\n",
    "        \n",
    "com1 = computer()"
   ]
  },
  {
   "cell_type": "code",
   "execution_count": 5,
   "id": "cfa1d5f2-7f8c-436b-baca-5ccb5794c3f5",
   "metadata": {},
   "outputs": [
    {
     "name": "stdout",
     "output_type": "stream",
     "text": [
      "<class '__main__.computer'>\n"
     ]
    }
   ],
   "source": [
    "print(type(com1))"
   ]
  },
  {
   "cell_type": "code",
   "execution_count": 6,
   "id": "bebf19ec-674a-432b-8299-e70ce4e3609a",
   "metadata": {},
   "outputs": [
    {
     "name": "stderr",
     "output_type": "stream",
     "text": [
      "UsageError: Invalid config statement: '()', should be `Class.trait = value`.\n"
     ]
    }
   ],
   "source": [
    "config()"
   ]
  },
  {
   "cell_type": "code",
   "execution_count": 7,
   "id": "33419376-edfe-4220-8af6-f40094e3ee3b",
   "metadata": {},
   "outputs": [
    {
     "ename": "TypeError",
     "evalue": "computer.config() missing 1 required positional argument: 'self'",
     "output_type": "error",
     "traceback": [
      "\u001b[0;31m---------------------------------------------------------------------------\u001b[0m",
      "\u001b[0;31mTypeError\u001b[0m                                 Traceback (most recent call last)",
      "Cell \u001b[0;32mIn[7], line 1\u001b[0m\n\u001b[0;32m----> 1\u001b[0m \u001b[43mcomputer\u001b[49m\u001b[38;5;241;43m.\u001b[39;49m\u001b[43mconfig\u001b[49m\u001b[43m(\u001b[49m\u001b[43m)\u001b[49m\n",
      "\u001b[0;31mTypeError\u001b[0m: computer.config() missing 1 required positional argument: 'self'"
     ]
    }
   ],
   "source": [
    "computer.config()"
   ]
  },
  {
   "cell_type": "code",
   "execution_count": 10,
   "id": "c02810ce-f0a6-4d8a-ae06-9f9ef7f62377",
   "metadata": {},
   "outputs": [
    {
     "name": "stdout",
     "output_type": "stream",
     "text": [
      "i3 , 16GH, 1TB\n"
     ]
    }
   ],
   "source": [
    "computer.config(com1)"
   ]
  },
  {
   "cell_type": "code",
   "execution_count": 11,
   "id": "ad692512-23e5-4099-b8b1-559aa1bcb857",
   "metadata": {},
   "outputs": [],
   "source": [
    "com2=computer()"
   ]
  },
  {
   "cell_type": "code",
   "execution_count": 13,
   "id": "112ff514-47ff-45c8-bb9d-1cfebff3dc1a",
   "metadata": {},
   "outputs": [
    {
     "name": "stdout",
     "output_type": "stream",
     "text": [
      "i3 , 16GH, 1TB\n"
     ]
    }
   ],
   "source": [
    "computer.config(com2)"
   ]
  },
  {
   "cell_type": "code",
   "execution_count": 9,
   "id": "edd8ba86-cabe-4ba2-a721-8353bf04d331",
   "metadata": {},
   "outputs": [
    {
     "name": "stdout",
     "output_type": "stream",
     "text": [
      "i3 , 16GH, 1TB\n"
     ]
    }
   ],
   "source": [
    "com1.config()"
   ]
  },
  {
   "cell_type": "code",
   "execution_count": 12,
   "id": "5e2beacc-711c-40ed-a9e4-7b24f5871e09",
   "metadata": {},
   "outputs": [
    {
     "name": "stdout",
     "output_type": "stream",
     "text": [
      "i3 , 16GH, 1TB\n"
     ]
    }
   ],
   "source": [
    "com2.config()"
   ]
  },
  {
   "cell_type": "code",
   "execution_count": 22,
   "id": "4188a5e0-6a10-4f48-8173-582dc8d1b7f0",
   "metadata": {},
   "outputs": [],
   "source": [
    "class computer:\n",
    "\n",
    "    def __init__(self, cpu , ram):\n",
    "        self.cpu=cpu\n",
    "        self.ram=ram\n",
    "    \n",
    "    def config(self):\n",
    "        print(\"config is\" , self.cpu, self.ram)\n",
    "\n",
    "        \n",
    "com1 = computer(\"i3\", 16)\n",
    "com2= computer(\"i5\", 32)"
   ]
  },
  {
   "cell_type": "code",
   "execution_count": 23,
   "id": "3b8bb74d-bef8-4b3f-b77a-c0ccda500b32",
   "metadata": {},
   "outputs": [
    {
     "name": "stdout",
     "output_type": "stream",
     "text": [
      "config is i3 16\n"
     ]
    }
   ],
   "source": [
    "com1.config()"
   ]
  },
  {
   "cell_type": "code",
   "execution_count": 24,
   "id": "b4efd181-63a9-43ec-9347-3d88725fe819",
   "metadata": {},
   "outputs": [
    {
     "name": "stdout",
     "output_type": "stream",
     "text": [
      "config is i5 32\n",
      "None\n"
     ]
    }
   ],
   "source": [
    "print(com2.config())"
   ]
  },
  {
   "cell_type": "code",
   "execution_count": 25,
   "id": "eb8da143-68f6-4e26-994f-a29eef9de6d7",
   "metadata": {},
   "outputs": [
    {
     "data": {
      "text/plain": [
       "'i3'"
      ]
     },
     "execution_count": 25,
     "metadata": {},
     "output_type": "execute_result"
    }
   ],
   "source": [
    "com1.cpu"
   ]
  },
  {
   "cell_type": "code",
   "execution_count": 26,
   "id": "4186d434-45a2-4862-b0fe-863b04193dfa",
   "metadata": {},
   "outputs": [
    {
     "data": {
      "text/plain": [
       "32"
      ]
     },
     "execution_count": 26,
     "metadata": {},
     "output_type": "execute_result"
    }
   ],
   "source": [
    "com2.ram"
   ]
  },
  {
   "cell_type": "code",
   "execution_count": 28,
   "id": "cf60abc8-6bcd-4fb0-91d3-bbd8ee5cc312",
   "metadata": {},
   "outputs": [],
   "source": [
    "#Types of variables - Instance Variables and Class Variables"
   ]
  },
  {
   "cell_type": "code",
   "execution_count": 29,
   "id": "fbab1866-907f-41c0-9da6-5819a60cd550",
   "metadata": {},
   "outputs": [
    {
     "name": "stdout",
     "output_type": "stream",
     "text": [
      "10\n",
      "10\n",
      "BMW\n",
      "BMW\n"
     ]
    }
   ],
   "source": [
    "#Ex of instance variable\n",
    "\n",
    "class car:\n",
    "    \n",
    "    def __init__(self):\n",
    "        self.mil = 10\n",
    "        self.com = \"BMW\"\n",
    "        \n",
    "c1 = car()\n",
    "c2 = car()\n",
    "\n",
    "print(c1.mil)\n",
    "print(c2.mil)\n",
    "\n",
    "print(c1.com)\n",
    "print(c2.com)"
   ]
  },
  {
   "cell_type": "code",
   "execution_count": 9,
   "id": "b5f9c8f1-a579-4d7a-8a5a-3822cbbe8334",
   "metadata": {},
   "outputs": [
    {
     "name": "stdout",
     "output_type": "stream",
     "text": [
      "8\n",
      "10\n",
      "BMW\n",
      "BMW\n"
     ]
    }
   ],
   "source": [
    "#Ex of instance variable\n",
    "\n",
    "class car:\n",
    "    \n",
    "    def __init__(self):\n",
    "        self.mil = 10\n",
    "        self.com = \"BMW\"\n",
    "        \n",
    "c1 = car()\n",
    "c2 = car()\n",
    "\n",
    "c1.mil = 8\n",
    "\n",
    "print(c1.mil)\n",
    "print(c2.mil)\n",
    "\n",
    "print(c1.com)\n",
    "print(c2.com)"
   ]
  },
  {
   "cell_type": "code",
   "execution_count": 10,
   "id": "ca18ef5b-4f7a-40a3-97fc-8ae06a47a3fd",
   "metadata": {},
   "outputs": [
    {
     "name": "stdout",
     "output_type": "stream",
     "text": [
      "8\n",
      "10\n",
      "BMW\n",
      "BMW\n",
      "5\n",
      "4\n"
     ]
    }
   ],
   "source": [
    "#Ex of class variable -\n",
    "\n",
    "class car:\n",
    "    \n",
    "    wheels = 4\n",
    "    \n",
    "    def __init__(self):\n",
    "        self.mil = 10\n",
    "        self.com = \"BMW\"\n",
    "        \n",
    "c1 = car()\n",
    "c2 = car()\n",
    "\n",
    "c1.mil = 8\n",
    "\n",
    "c1.wheels = 5\n",
    "\n",
    "print(c1.mil)\n",
    "print(c2.mil)\n",
    "\n",
    "print(c1.com)\n",
    "print(c2.com)\n",
    "\n",
    "print(c1.wheels)\n",
    "print(c2.wheels)"
   ]
  },
  {
   "cell_type": "code",
   "execution_count": 11,
   "id": "15a57ee1-4405-4c02-8fbc-6beea7ae8064",
   "metadata": {},
   "outputs": [
    {
     "name": "stdout",
     "output_type": "stream",
     "text": [
      "8\n",
      "10\n",
      "BMW\n",
      "BMW\n",
      "5\n",
      "5\n"
     ]
    }
   ],
   "source": [
    "#Eg of class variable - \n",
    "\n",
    "class car:\n",
    "    \n",
    "    wheels = 4\n",
    "    \n",
    "    def __init__(self):\n",
    "        self.mil = 10\n",
    "        self.com = \"BMW\"\n",
    "        \n",
    "c1 = car()\n",
    "c2 = car()\n",
    "\n",
    "c1.mil = 8\n",
    "\n",
    "car.wheels = 5\n",
    "\n",
    "print(c1.mil)\n",
    "print(c2.mil)\n",
    "\n",
    "print(c1.com)\n",
    "print(c2.com)\n",
    "\n",
    "print(c1.wheels)\n",
    "print(c2.wheels)"
   ]
  },
  {
   "cell_type": "code",
   "execution_count": null,
   "id": "03a6a9d5-9d1d-48e7-8ad1-c4c179cb8bd4",
   "metadata": {},
   "outputs": [],
   "source": []
  },
  {
   "cell_type": "code",
   "execution_count": 12,
   "id": "fc1bbb72-6482-4be6-ab7d-65d1f9945dcc",
   "metadata": {},
   "outputs": [
    {
     "name": "stdout",
     "output_type": "stream",
     "text": [
      "55.0\n",
      "53.0\n"
     ]
    },
    {
     "data": {
      "text/plain": [
       "45"
      ]
     },
     "execution_count": 12,
     "metadata": {},
     "output_type": "execute_result"
    }
   ],
   "source": [
    "#Types of Functions/Methods\n",
    "#1) Instance method - works with instance variables\n",
    "\n",
    "\n",
    "class student:\n",
    "    \n",
    "    grade = \"IV\"\n",
    "    \n",
    "    def __init__(self, m1,m2,m3):\n",
    "        self.m1 = m1\n",
    "        self.m2 = m2\n",
    "        self.m3 = m3\n",
    "     \n",
    "    def avg(self):\n",
    "        return (self.m1+self.m2+self.m3)/3\n",
    "        \n",
    "s1=student(45,55,65)\n",
    "s2=student(48,25,86)\n",
    "\n",
    "print(s1.avg())\n",
    "print(s2.avg())\n",
    "s1.m1\n"
   ]
  },
  {
   "cell_type": "code",
   "execution_count": 13,
   "id": "372c9891-b546-4a79-b0fd-1048b79529e6",
   "metadata": {},
   "outputs": [
    {
     "data": {
      "text/plain": [
       "'IV'"
      ]
     },
     "execution_count": 13,
     "metadata": {},
     "output_type": "execute_result"
    }
   ],
   "source": [
    "## class methods - works with class variables\n",
    "\n",
    "\n",
    "class student:\n",
    "    \n",
    "    grade = \"IV\"\n",
    "    \n",
    "    def __init__(self, m1,m2,m3):\n",
    "        self.m1 = m1\n",
    "        self.m2 = m2\n",
    "        self.m3 = m3\n",
    "     \n",
    "    def avg(self):\n",
    "        return (self.m1+self.m2+self.m3)/3\n",
    "    \n",
    "    @classmethod\n",
    "    def get_grade(cls):\n",
    "        return cls.grade\n",
    "        \n",
    "s1=student(45,55,65)\n",
    "s2=student(48,25,86)\n",
    "\n",
    "student.get_grade()\n"
   ]
  },
  {
   "cell_type": "code",
   "execution_count": 14,
   "id": "d13d6217-a6cd-489d-b6f0-80388477d44d",
   "metadata": {},
   "outputs": [
    {
     "name": "stdout",
     "output_type": "stream",
     "text": [
      "this is a student class in abc module\n"
     ]
    }
   ],
   "source": [
    "# static method - works on variables which are not class or instance variables\n",
    "\n",
    "class student:\n",
    "    \n",
    "    grade = \"IV\"\n",
    "    \n",
    "    def __init__(self, m1,m2,m3):\n",
    "        self.m1 = m1\n",
    "        self.m2 = m2\n",
    "        self.m3 = m3\n",
    "     \n",
    "    def avg(self):\n",
    "        return (self.m1+self.m2+self.m3)/3\n",
    "    \n",
    "    @classmethod\n",
    "    def get_grade(cls):\n",
    "        return cls.grade\n",
    "    \n",
    "    @staticmethod\n",
    "    def info():\n",
    "        print(\"this is a student class in abc module\")\n",
    "        \n",
    "s1=student(45,55,65)\n",
    "s2=student(48,25,86)\n",
    "\n",
    "student.info()"
   ]
  },
  {
   "cell_type": "code",
   "execution_count": null,
   "id": "f3339a08-f814-45f9-9776-d7d11f3a24d7",
   "metadata": {},
   "outputs": [],
   "source": []
  },
  {
   "cell_type": "code",
   "execution_count": 15,
   "id": "04970821-fba7-431c-ac3b-b7b0adc23ed4",
   "metadata": {},
   "outputs": [],
   "source": [
    "# class inside class"
   ]
  },
  {
   "cell_type": "code",
   "execution_count": 45,
   "id": "638b99e1-0dee-4aa5-93de-2df86271068c",
   "metadata": {},
   "outputs": [
    {
     "name": "stdout",
     "output_type": "stream",
     "text": [
      "Bharath 378\n",
      "Jenny 379\n",
      "ASUS\n",
      "16GB\n",
      "ASUS\n"
     ]
    },
    {
     "data": {
      "text/plain": [
       "'16GB'"
      ]
     },
     "execution_count": 45,
     "metadata": {},
     "output_type": "execute_result"
    }
   ],
   "source": [
    "class student:\n",
    "    \n",
    "    def __init__(self, name, rollno):\n",
    "        self.nam = name\n",
    "        self.rolln = rollno\n",
    "        # need to define the variables of inner class here(in the outer class)\n",
    "        self.lap = self.laptop()\n",
    "        \n",
    "    def show(self):\n",
    "        print(self.nam , self.rolln)\n",
    "        \n",
    "    ## ineer class    \n",
    "    class laptop:\n",
    "        \n",
    "        def __init__(self):\n",
    "            self.brand = \"ASUS\"\n",
    "            self.RAM = \"16GB\"\n",
    "    \n",
    "\n",
    "s1=student(\"Bharath\", 378)\n",
    "s2=student(\"Jenny\", 379)\n",
    "\n",
    "\n",
    "\n",
    "s1.show()\n",
    "s2.show()\n",
    "\n",
    "#This is creating an object for the inner class\n",
    "lap1 = s1.lap\n",
    "lap2= s2.lap\n",
    "\n",
    "print(s1.lap.brand)\n",
    "print(s2.lap.RAM)\n",
    "\n",
    "print(lap1.brand)\n",
    "lap2.RAM"
   ]
  },
  {
   "cell_type": "code",
   "execution_count": 17,
   "id": "370aceee-9e5a-4b6d-9ffc-3610bdd1fa56",
   "metadata": {},
   "outputs": [
    {
     "name": "stdout",
     "output_type": "stream",
     "text": [
      "Bharath 378\n",
      "ASUS 8GB\n",
      "Jenny 379\n",
      "ASUS 8GB\n",
      "\n",
      "ASUS 8GB\n",
      "ASUS 8GB\n",
      "ASUS 8GB\n"
     ]
    }
   ],
   "source": [
    "class student:\n",
    "    \n",
    "    def __init__(self, name, rollno):\n",
    "        self.name = name\n",
    "        self.rollno = rollno\n",
    "        self.lap = self.laptop()\n",
    "        \n",
    "    def show(self):\n",
    "        print(self.name , self.rollno)\n",
    "        self.lap.show()\n",
    "        \n",
    "    ## inner class    \n",
    "    class laptop:\n",
    "        \n",
    "        def __init__(self):\n",
    "            self.brand = \"ASUS\"\n",
    "            self.RAM = \"8GB\"\n",
    "            \n",
    "        \n",
    "        def show(self):\n",
    "            print(self.brand , self.RAM)\n",
    "\n",
    "s1=student(\"Bharath\", 378 )\n",
    "s2=student(\"Jenny\", 379)\n",
    "\n",
    "\n",
    "s1.show()\n",
    "s2.show()\n",
    "\n",
    "# creating the object of inner class outside the classes\n",
    "# can be created by either way \n",
    "lap1 = s1.lap\n",
    "lap2= student.laptop()\n",
    "lap3=s1.laptop()\n",
    "\n",
    "print()\n",
    "lap1.show()\n",
    "lap2.show()\n",
    "lap3.show()\n"
   ]
  },
  {
   "cell_type": "code",
   "execution_count": 18,
   "id": "3c745321-12a3-4d1a-ae24-ad278393da31",
   "metadata": {},
   "outputs": [
    {
     "name": "stdout",
     "output_type": "stream",
     "text": [
      "Bharath 378\n",
      "Jenny 379\n",
      "\n",
      "ASUS\n",
      "8GB\n",
      "ASUS 8GB\n"
     ]
    }
   ],
   "source": [
    "class student:\n",
    "    \n",
    "    def __init__(self, name, rollno):\n",
    "        self.name = name\n",
    "        self.rollno = rollno\n",
    "        \n",
    "    def show(self):\n",
    "        print(self.name , self.rollno)\n",
    "    \n",
    "        \n",
    "    ## inner class    \n",
    "    class laptop:\n",
    "        \n",
    "        def __init__(self):\n",
    "            self.brand = \"ASUS\"\n",
    "            self.RAM = \"8GB\"\n",
    "            \n",
    "        \n",
    "        def show(self):\n",
    "            print(self.brand , self.RAM)\n",
    "\n",
    "s1=student(\"Bharath\", 378 )\n",
    "s2=student(\"Jenny\", 379)\n",
    "\n",
    "\n",
    "s1.show()\n",
    "s2.show()\n",
    "\n",
    "# creating the object of inner class outside the classes by removing the inner variable definition\n",
    "# can be created by either way \n",
    "lap1= student.laptop()\n",
    "lap2=s2.laptop()\n",
    "\n",
    "print()\n",
    "print(lap1.brand)\n",
    "print(lap2.RAM)\n",
    "lap2.show()\n"
   ]
  },
  {
   "cell_type": "code",
   "execution_count": null,
   "id": "04d79711-e991-4e61-80b1-466dc7f70eaf",
   "metadata": {},
   "outputs": [],
   "source": []
  },
  {
   "cell_type": "code",
   "execution_count": 19,
   "id": "af203d62-9aed-4b97-98e2-7acd1e632104",
   "metadata": {},
   "outputs": [],
   "source": [
    "## inheritence"
   ]
  },
  {
   "cell_type": "code",
   "execution_count": 20,
   "id": "98f9a554-7a75-4e8d-bfd5-57a0b5a251cf",
   "metadata": {},
   "outputs": [
    {
     "name": "stdout",
     "output_type": "stream",
     "text": [
      "feature 1 working\n",
      "feature 2 working\n"
     ]
    }
   ],
   "source": [
    "class A:\n",
    "    \n",
    "    def feature1(self):\n",
    "        print(\"feature 1 working\")\n",
    "        \n",
    "    \n",
    "    def feature2(self):\n",
    "        print(\"feature 2 working\")\n",
    "        \n",
    "A1=A()\n",
    "\n",
    "A1.feature1()\n",
    "A1.feature2()"
   ]
  },
  {
   "cell_type": "code",
   "execution_count": 21,
   "id": "6b9ac592-1fed-424a-8e64-8e748604b520",
   "metadata": {},
   "outputs": [
    {
     "name": "stdout",
     "output_type": "stream",
     "text": [
      "feature 1 working\n",
      "feature 2 working\n",
      "\n",
      "feature 1 working\n",
      "feature 2 working\n",
      "feature 3 working\n",
      "feature 4 working\n"
     ]
    }
   ],
   "source": [
    "## single level inheritence\n",
    "\n",
    "class A:\n",
    "    \n",
    "    def feature1(self):\n",
    "        print(\"feature 1 working\")\n",
    "        \n",
    "    \n",
    "    def feature2(self):\n",
    "        print(\"feature 2 working\")\n",
    "        \n",
    "class B(A):\n",
    "    def feature3(self):\n",
    "        print(\"feature 3 working\")\n",
    "        \n",
    "    \n",
    "    def feature4(self):\n",
    "        print(\"feature 4 working\")\n",
    "        \n",
    "        \n",
    "A1=A()\n",
    "\n",
    "A1.feature1()\n",
    "A1.feature2()\n",
    "\n",
    "print()\n",
    "\n",
    "B1=B()\n",
    "B1.feature1()\n",
    "B1.feature2()\n",
    "B1.feature3()\n",
    "B1.feature4()\n"
   ]
  },
  {
   "cell_type": "code",
   "execution_count": 22,
   "id": "1205cd2d-7665-4cff-a579-736d3dde9560",
   "metadata": {},
   "outputs": [
    {
     "name": "stdout",
     "output_type": "stream",
     "text": [
      "feature 1 working\n",
      "feature 2 working\n",
      "\n",
      "feature 1 working\n",
      "feature 2 working\n",
      "feature 3 working\n",
      "feature 4 working\n",
      "\n",
      "feature 1 working\n",
      "feature 5 working\n"
     ]
    }
   ],
   "source": [
    "## multi level inheritence\n",
    "\n",
    "class A:\n",
    "    \n",
    "    def feature1(self):\n",
    "        print(\"feature 1 working\")\n",
    "        \n",
    "    \n",
    "    def feature2(self):\n",
    "        print(\"feature 2 working\")\n",
    "        \n",
    "class B(A):\n",
    "    def feature3(self):\n",
    "        print(\"feature 3 working\")\n",
    "        \n",
    "    \n",
    "    def feature4(self):\n",
    "        print(\"feature 4 working\")\n",
    "        \n",
    "        \n",
    "class C(B):\n",
    "    \n",
    "    def feature5(self):\n",
    "        print(\"feature 5 working\")\n",
    "        \n",
    "        \n",
    "A1=A()\n",
    "\n",
    "A1.feature1()\n",
    "A1.feature2()\n",
    "\n",
    "print()\n",
    "\n",
    "B1=B()\n",
    "B1.feature1()\n",
    "B1.feature2()\n",
    "B1.feature3()\n",
    "B1.feature4()\n",
    "\n",
    "print()\n",
    "\n",
    "C1=C()\n",
    "C1.feature1()\n",
    "C1.feature5()\n"
   ]
  },
  {
   "cell_type": "code",
   "execution_count": 47,
   "id": "39a5c462-a878-4616-8410-d790eb43a305",
   "metadata": {},
   "outputs": [
    {
     "name": "stdout",
     "output_type": "stream",
     "text": [
      "feature 1 working\n",
      "feature 2 working\n",
      "\n",
      "feature 3 working\n",
      "feature 4 working\n",
      "\n",
      "feature 1 working\n",
      "feature 3 working\n",
      "feature 5 working\n"
     ]
    }
   ],
   "source": [
    "## multiple inheritence\n",
    "\n",
    "class A:\n",
    "    \n",
    "    def feature1(self):\n",
    "        print(\"feature 1 working\")\n",
    "        \n",
    "    \n",
    "    def feature2(self):\n",
    "        print(\"feature 2 working\")\n",
    "        \n",
    "class B:\n",
    "    def feature3(self):\n",
    "        print(\"feature 3 working\")\n",
    "        \n",
    "    \n",
    "    def feature4(self):\n",
    "        print(\"feature 4 working\")\n",
    "        \n",
    "        \n",
    "class C(A,B):\n",
    "    \n",
    "    def feature5(self):\n",
    "        print(\"feature 5 working\")\n",
    "        \n",
    "        \n",
    "A1=A()\n",
    "\n",
    "A1.feature1()\n",
    "A1.feature2()\n",
    "\n",
    "print()\n",
    "\n",
    "B1=B()\n",
    "B1.feature3()\n",
    "B1.feature4()\n",
    "\n",
    "print()\n",
    "\n",
    "C1=C()\n",
    "C1.feature1()\n",
    "C1.feature3()\n",
    "C1.feature5() "
   ]
  },
  {
   "cell_type": "code",
   "execution_count": 24,
   "id": "26882c43-2316-466a-8a0a-956d21bd9679",
   "metadata": {},
   "outputs": [
    {
     "name": "stdout",
     "output_type": "stream",
     "text": [
      "In A init\n",
      "feature 1 working\n",
      "\n",
      "In A init\n",
      "feature 3 working\n",
      "feature 4 working\n",
      "\n"
     ]
    }
   ],
   "source": [
    "# constructor in inheritence\n",
    "\n",
    "##  if constructor is not defined in the child class, it takes the constructor of the parent class \n",
    "\n",
    "\n",
    "class A:\n",
    "    \n",
    "    def __init__(self):\n",
    "        print(\"In A init\")\n",
    "    \n",
    "    def feature1(self):\n",
    "        print(\"feature 1 working\")\n",
    "        \n",
    "    \n",
    "    def feature2(self):\n",
    "        print(\"feature 2 working\")\n",
    "        \n",
    "class B(A):\n",
    "    def feature3(self):\n",
    "        print(\"feature 3 working\")\n",
    "        \n",
    "    \n",
    "    def feature4(self):\n",
    "        print(\"feature 4 working\")\n",
    "        \n",
    "        \n",
    "        \n",
    "A1=A()\n",
    "\n",
    "A1.feature1()\n",
    "\n",
    "print()\n",
    "\n",
    "B1=B()\n",
    "B1.feature3()\n",
    "B1.feature4()\n",
    "\n",
    "print()\n"
   ]
  },
  {
   "cell_type": "code",
   "execution_count": 2,
   "id": "95030df1-75a6-4a58-a34f-08e60391f1ab",
   "metadata": {},
   "outputs": [
    {
     "name": "stdout",
     "output_type": "stream",
     "text": [
      "In A init\n",
      "feature 1 working\n",
      "\n",
      "In B init\n",
      "feature 3 working\n",
      "feature 4 working\n",
      "\n"
     ]
    }
   ],
   "source": [
    "# constructor in inheritence\n",
    "\n",
    "class A:\n",
    "    \n",
    "    def __init__(self):\n",
    "        print(\"In A init\")\n",
    "    \n",
    "    def feature1(self):\n",
    "        print(\"feature 1 working\")\n",
    "        \n",
    "    \n",
    "    def feature2(self):\n",
    "        print(\"feature 2 working\")\n",
    "        \n",
    "class B(A):\n",
    "    \n",
    "    def __init__(self):\n",
    "        print(\"In B init\")\n",
    "    \n",
    "    \n",
    "    def feature3(self):\n",
    "        print(\"feature 3 working\")\n",
    "        \n",
    "    \n",
    "    def feature4(self):\n",
    "        print(\"feature 4 working\")\n",
    "        \n",
    "        \n",
    "        \n",
    "A1=A()\n",
    "\n",
    "A1.feature1()\n",
    "\n",
    "print()\n",
    "\n",
    "B1=B()\n",
    "B1.feature3()\n",
    "B1.feature4()\n",
    "\n",
    "print()\n"
   ]
  },
  {
   "cell_type": "code",
   "execution_count": 26,
   "id": "bd21b39e-8c8b-46f6-9396-1596f7fa0d09",
   "metadata": {},
   "outputs": [
    {
     "name": "stdout",
     "output_type": "stream",
     "text": [
      "In A init\n",
      "feature 1 working\n",
      "\n",
      "In A init\n",
      "In B init\n",
      "feature 3 working\n",
      "feature 4 working\n",
      "\n"
     ]
    }
   ],
   "source": [
    "# constructor in inheritence\n",
    "\n",
    "\n",
    "class A:\n",
    "    \n",
    "    def __init__(self):\n",
    "        print(\"In A init\")\n",
    "    \n",
    "    def feature1(self):\n",
    "        print(\"feature 1 working\")\n",
    "        \n",
    "    \n",
    "    def feature2(self):\n",
    "        print(\"feature 2 working\")\n",
    "        \n",
    "class B(A):\n",
    "    \n",
    "    def __init__(self):\n",
    "        super().__init__()  # to call the constructor of sub and super class together\n",
    "        print(\"In B init\")\n",
    "    \n",
    "    \n",
    "    def feature3(self):\n",
    "        print(\"feature 3 working\")\n",
    "        \n",
    "    \n",
    "    def feature4(self):\n",
    "        print(\"feature 4 working\")\n",
    "        \n",
    "        \n",
    "        \n",
    "A1=A()\n",
    "\n",
    "A1.feature1()\n",
    "\n",
    "print()\n",
    "\n",
    "B1=B()\n",
    "B1.feature3()\n",
    "B1.feature4()\n",
    "\n",
    "print()\n"
   ]
  },
  {
   "cell_type": "code",
   "execution_count": 4,
   "id": "b36b2d3e-dd99-4d41-8039-0f1ce10dfd64",
   "metadata": {},
   "outputs": [
    {
     "name": "stdout",
     "output_type": "stream",
     "text": [
      "In A init\n",
      "feature 1 working\n",
      "\n",
      "In B init\n",
      "feature 3 working\n",
      "feature 4 working\n",
      "\n",
      "In A init\n",
      "In C init\n",
      "feature 5 working\n"
     ]
    }
   ],
   "source": [
    "# constructor in inheritence\n",
    "\n",
    "## multiple inheritence\n",
    "\n",
    "class A:\n",
    "    \n",
    "    def __init__(self):\n",
    "        print(\"In A init\")\n",
    "    \n",
    "    def feature1(self):\n",
    "        print(\"feature 1 working\")\n",
    "        \n",
    "    \n",
    "    def feature2(self):\n",
    "        print(\"feature 2 working\")\n",
    "        \n",
    "class B:\n",
    "    \n",
    "    def __init__(self):\n",
    "        print(\"In B init\")\n",
    "    \n",
    "    \n",
    "    def feature3(self):\n",
    "        print(\"feature 3 working\")\n",
    "        \n",
    "    \n",
    "    def feature4(self):\n",
    "        print(\"feature 4 working\")\n",
    "        \n",
    "class C(A,B):\n",
    "    \n",
    "    def __init__(self):\n",
    "        super().__init__()   \n",
    "        print(\"In C init\")\n",
    "        \n",
    "    def feature5(self):\n",
    "        print(\"feature 5 working\")\n",
    "        \n",
    " #MRO method resolution Order --> it calls the values or functions from left to right order whichever comes firtst(A,B,C)       \n",
    "        \n",
    "A1=A()\n",
    "\n",
    "A1.feature1()\n",
    "\n",
    "print()\n",
    "\n",
    "B1=B()\n",
    "B1.feature3()\n",
    "B1.feature4()\n",
    "\n",
    "print()\n",
    "\n",
    "C1=C()\n",
    "C1.feature5()\n"
   ]
  },
  {
   "cell_type": "code",
   "execution_count": 28,
   "id": "a2114ffe-8af7-4e6e-ba81-af22cb732568",
   "metadata": {},
   "outputs": [
    {
     "name": "stdout",
     "output_type": "stream",
     "text": [
      "In A init\n",
      "feature 1 working\n",
      "\n",
      "In B init\n",
      "feature 3 working\n",
      "feature 4 working\n",
      "\n",
      "In A init\n",
      "In C int\n",
      "feature 5 working\n",
      "feature 2 working\n"
     ]
    }
   ],
   "source": [
    "# constructor in inheritence\n",
    "\n",
    "## multiple inheritence\n",
    "\n",
    "class A:\n",
    "    \n",
    "    def __init__(self):\n",
    "        print(\"In A init\")\n",
    "    \n",
    "    def feature1(self):\n",
    "        print(\"feature 1 working\")\n",
    "        \n",
    "    \n",
    "    def feature2(self):\n",
    "        print(\"feature 2 working\")\n",
    "        \n",
    "class B:\n",
    "    \n",
    "    def __init__(self):\n",
    "        super().__init__()  \n",
    "        print(\"In B init\")\n",
    "    \n",
    "    \n",
    "    def feature3(self):\n",
    "        print(\"feature 3 working\")\n",
    "        \n",
    "    \n",
    "    def feature4(self):\n",
    "        print(\"feature 4 working\")\n",
    "        \n",
    "class C(A,B):\n",
    "    \n",
    "    def __init__(self):\n",
    "        super().__init__() \n",
    "        print(\"In C int\")\n",
    "        \n",
    "    def feature5(self):\n",
    "        print(\"feature 5 working\")\n",
    "        \n",
    "    \n",
    "    def feature6(self):\n",
    "        super().feature2() # you can also use \"Super\" to get the function from other class, not just the constructor\n",
    "        \n",
    "        \n",
    "        \n",
    "        \n",
    "A1=A()\n",
    "\n",
    "A1.feature1()\n",
    "\n",
    "print()\n",
    "\n",
    "B1=B()\n",
    "B1.feature3()\n",
    "B1.feature4()\n",
    "\n",
    "print()\n",
    "\n",
    "C1=C()\n",
    "C1.feature5()\n",
    "C1.feature6()\n"
   ]
  },
  {
   "cell_type": "code",
   "execution_count": null,
   "id": "b67aa5ff-6cf3-46c3-b1ee-0273409909a2",
   "metadata": {},
   "outputs": [],
   "source": []
  },
  {
   "cell_type": "code",
   "execution_count": null,
   "id": "dc47206a-3419-402e-a30e-5b186ef00335",
   "metadata": {},
   "outputs": [],
   "source": []
  },
  {
   "cell_type": "code",
   "execution_count": 29,
   "id": "5e5f8015-eb22-4671-b53e-788ff9124c88",
   "metadata": {},
   "outputs": [],
   "source": [
    "##Polymorphism"
   ]
  },
  {
   "cell_type": "code",
   "execution_count": 30,
   "id": "05c45047-6cc1-4dc8-8177-4a5fe24e09b6",
   "metadata": {},
   "outputs": [],
   "source": [
    "## 4 types of Polymorphism\n",
    "#1) Duck Typing\n",
    "#2) Operator Overloading\n",
    "#3) MEthod Overloading\n",
    "#4) MEthod Overriding "
   ]
  },
  {
   "cell_type": "code",
   "execution_count": 31,
   "id": "03ca27f5-34e3-4326-937a-2668c67739f1",
   "metadata": {},
   "outputs": [],
   "source": [
    "## 1) Duck typing"
   ]
  },
  {
   "cell_type": "code",
   "execution_count": 40,
   "id": "aef22a51-fc27-4d37-8fd1-a7a21dbc2014",
   "metadata": {},
   "outputs": [
    {
     "name": "stdout",
     "output_type": "stream",
     "text": [
      "compilinng\n",
      "runnning\n"
     ]
    }
   ],
   "source": [
    "class pycharm:\n",
    "    def execute(self):\n",
    "        print(\"compilinng\")\n",
    "        print(\"runnning\")\n",
    "        \n",
    "class laptop:\n",
    "    def code(self, ide):\n",
    "        ide.execute()\n",
    "              \n",
    "        \n",
    "ide = pycharm()\n",
    "        \n",
    "lap1=laptop()\n",
    "lap1.code(ide)"
   ]
  },
  {
   "cell_type": "code",
   "execution_count": 41,
   "id": "409077a5-f058-49e3-9b1a-330d2411f283",
   "metadata": {},
   "outputs": [
    {
     "name": "stdout",
     "output_type": "stream",
     "text": [
      "Spell check\n",
      "convention check\n",
      "compilinng\n",
      "runnning\n"
     ]
    }
   ],
   "source": [
    "class pycharm:\n",
    "    \n",
    "    def execute(self):\n",
    "        print(\"compilinng\")\n",
    "        print(\"runnning\")\n",
    "\n",
    "class jupyter:\n",
    "    \n",
    "    def execute(self):\n",
    "        print(\"Spell check\")\n",
    "        print(\"convention check\")\n",
    "        print(\"compilinng\")\n",
    "        print(\"runnning\")\n",
    "\n",
    "class laptop:\n",
    "    def code(self, ide):\n",
    "        ide.execute()\n",
    "    \n",
    "        \n",
    "ide = jupyter()\n",
    "        ## same obj ide has different output in different classes\n",
    "lap1=laptop()\n",
    "lap1.code(ide)"
   ]
  },
  {
   "cell_type": "code",
   "execution_count": null,
   "id": "ca2a4817-26ae-47ce-aca6-e9430186757b",
   "metadata": {},
   "outputs": [],
   "source": [
    "## Operator overloading"
   ]
  },
  {
   "cell_type": "code",
   "execution_count": 1,
   "id": "80f51199-42c4-4d59-939d-1e8b78832743",
   "metadata": {},
   "outputs": [
    {
     "name": "stdout",
     "output_type": "stream",
     "text": [
      "11\n"
     ]
    },
    {
     "data": {
      "text/plain": [
       "11"
      ]
     },
     "execution_count": 1,
     "metadata": {},
     "output_type": "execute_result"
    }
   ],
   "source": [
    "a=5\n",
    "b=6\n",
    "\n",
    "print(a+b)\n",
    "\n",
    "int.__add__(a,b)"
   ]
  },
  {
   "cell_type": "code",
   "execution_count": null,
   "id": "25f15d9b-569c-4307-b68c-0c0886335ebb",
   "metadata": {},
   "outputs": [],
   "source": [
    "## all these operators behind the scene works like a function/method\n",
    "# + works as __add__ method/function\n",
    "# - works as __sub__ method/function\n",
    "# * works as __mul__ method/function\n",
    "\n",
    "# Hence these operators are called Magic Methods/Magic Functions\n",
    "# you need to define the functionality of these operators in your class"
   ]
  },
  {
   "cell_type": "code",
   "execution_count": 13,
   "id": "fbb13f50-80e9-4f85-9fbb-99764a1002c2",
   "metadata": {},
   "outputs": [
    {
     "name": "stdout",
     "output_type": "stream",
     "text": [
      "103\n",
      "110\n",
      "s2 wins\n"
     ]
    }
   ],
   "source": [
    "class student:\n",
    "    \n",
    "    def __init__(self, m1,m2):\n",
    "        self.m1 = m1\n",
    "        self.m2 = m2\n",
    "        \n",
    "    def __add__(self,other):\n",
    "        m1 = self.m1 + other.m1\n",
    "        m2 = self.m2 + other.m2\n",
    "        s3 = student(m1,m2)\n",
    "        return s3\n",
    "    \n",
    "    def __gt__(self, other):\n",
    "        r1= self.m1 + self.m2\n",
    "        r2 = other.m1+other.m2\n",
    "        if r1>r2 :\n",
    "            return True\n",
    "        else :\n",
    "            return False\n",
    "            \n",
    "            \n",
    "s1 = student(45,56)\n",
    "s2 = student(58,54)\n",
    "\n",
    "s3 = s1+s2\n",
    "\n",
    "print(s3.m1)\n",
    "print(s3.m2)\n",
    "\n",
    "if s1>s2:\n",
    "    print(\"s1 wins\")\n",
    "else : print(\"s2 wins\")"
   ]
  },
  {
   "cell_type": "code",
   "execution_count": 14,
   "id": "b3a970d1-1dfb-4ee2-b164-4a5c33004565",
   "metadata": {},
   "outputs": [
    {
     "data": {
      "text/plain": [
       "<__main__.student at 0x7f99c987afb0>"
      ]
     },
     "execution_count": 14,
     "metadata": {},
     "output_type": "execute_result"
    }
   ],
   "source": [
    "# generall calling the variables will give the value of thay variable. \n",
    "# for ex, a=9, if you call a, you'll get output as 9 .\n",
    "# but here if you call s1(object), you'll get the address of s1 and not the value\n",
    "s1"
   ]
  },
  {
   "cell_type": "code",
   "execution_count": 15,
   "id": "b0b0e37a-89ce-48e2-80aa-942d7dbc5e03",
   "metadata": {},
   "outputs": [],
   "source": [
    "a=9"
   ]
  },
  {
   "cell_type": "code",
   "execution_count": 16,
   "id": "4e4181a8-b5d2-4edc-af83-3104f80f3175",
   "metadata": {},
   "outputs": [
    {
     "data": {
      "text/plain": [
       "9"
      ]
     },
     "execution_count": 16,
     "metadata": {},
     "output_type": "execute_result"
    }
   ],
   "source": [
    "a"
   ]
  },
  {
   "cell_type": "code",
   "execution_count": 20,
   "id": "d76d4b64-7479-424e-99c6-1161195a101f",
   "metadata": {},
   "outputs": [
    {
     "name": "stdout",
     "output_type": "stream",
     "text": [
      "9\n"
     ]
    }
   ],
   "source": [
    "# in the background, __str__() function is auto called\n",
    "print(a.__str__())\n"
   ]
  },
  {
   "cell_type": "code",
   "execution_count": 21,
   "id": "d29108c4-76e1-4d5b-b4e1-3316f6145eda",
   "metadata": {},
   "outputs": [
    {
     "name": "stdout",
     "output_type": "stream",
     "text": [
      "<__main__.student object at 0x7f99c987afb0>\n",
      "<__main__.student object at 0x7f99c987afb0>\n"
     ]
    }
   ],
   "source": [
    "##__str__ is  a predefine funtions \n",
    "print(s1)\n",
    "print(s1.__str__())"
   ]
  },
  {
   "cell_type": "code",
   "execution_count": 6,
   "id": "02b3310f-cc1a-4700-a622-0ecd4706b53e",
   "metadata": {},
   "outputs": [
    {
     "name": "stdout",
     "output_type": "stream",
     "text": [
      "103\n",
      "110\n",
      "s2 wins\n",
      "45 , 56\n",
      "58 , 54\n"
     ]
    }
   ],
   "source": [
    "class student:\n",
    "    \n",
    "    def __init__(self, m1,m2):\n",
    "        self.m1 = m1\n",
    "        self.m2 = m2\n",
    "        \n",
    "    def __add__(self,other):\n",
    "        m1 = self.m1 + other.m1\n",
    "        m2 = self.m2 + other.m2\n",
    "        s3 = student(m1,m2)\n",
    "        return s3\n",
    "    \n",
    "    def __gt__(self, other):\n",
    "        r1= self.m1 + self.m2\n",
    "        r2 = other.m1+other.m2\n",
    "        if r1>r2 :\n",
    "            return True\n",
    "        else :\n",
    "            return False\n",
    "    \n",
    "    def __str__(self):\n",
    "        return \"{} , {}\" .format(self.m1 , self.m2)\n",
    "            \n",
    "            \n",
    "s1 = student(45,56)\n",
    "s2 = student(58,54)\n",
    "\n",
    "s3 = s1+s2\n",
    "\n",
    "print(s3.m1)\n",
    "print(s3.m2)\n",
    "\n",
    "if s1>s2:\n",
    "    print(\"s1 wins\")\n",
    "else : print(\"s2 wins\")\n",
    "\n",
    "print(s1)\n",
    "print(s2)"
   ]
  },
  {
   "cell_type": "code",
   "execution_count": 30,
   "id": "40af0ce0-47fd-426f-ad99-d94bf9b10a66",
   "metadata": {},
   "outputs": [],
   "source": [
    "### Method Overloading\n",
    "## 2 methods with same name but different parameters is called method overloading"
   ]
  },
  {
   "cell_type": "code",
   "execution_count": 32,
   "id": "89c97fd2-ecd6-493b-b52b-8df0afafa915",
   "metadata": {},
   "outputs": [
    {
     "data": {
      "text/plain": [
       "14"
      ]
     },
     "execution_count": 32,
     "metadata": {},
     "output_type": "execute_result"
    }
   ],
   "source": [
    "class student:\n",
    "    \n",
    "    def __init__(self, m1,m2):\n",
    "        self.m1 = m1\n",
    "        self.m2 = m2\n",
    "        \n",
    "    def sum(self, a,b):\n",
    "        s=a+b\n",
    "        return s\n",
    "    \n",
    "s1 = student(58,69)\n",
    "\n",
    "s1.sum(5,9)"
   ]
  },
  {
   "cell_type": "code",
   "execution_count": 35,
   "id": "016636b9-f1eb-4f13-82ae-83ed1b68465e",
   "metadata": {},
   "outputs": [
    {
     "ename": "TypeError",
     "evalue": "student.sum() missing 1 required positional argument: 'c'",
     "output_type": "error",
     "traceback": [
      "\u001b[0;31m---------------------------------------------------------------------------\u001b[0m",
      "\u001b[0;31mTypeError\u001b[0m                                 Traceback (most recent call last)",
      "Cell \u001b[0;32mIn[35], line 13\u001b[0m\n\u001b[1;32m      9\u001b[0m         \u001b[38;5;28;01mreturn\u001b[39;00m s\n\u001b[1;32m     11\u001b[0m s1 \u001b[38;5;241m=\u001b[39m student(\u001b[38;5;241m58\u001b[39m,\u001b[38;5;241m69\u001b[39m)\n\u001b[0;32m---> 13\u001b[0m \u001b[43ms1\u001b[49m\u001b[38;5;241;43m.\u001b[39;49m\u001b[43msum\u001b[49m\u001b[43m(\u001b[49m\u001b[38;5;241;43m5\u001b[39;49m\u001b[43m,\u001b[49m\u001b[38;5;241;43m9\u001b[39;49m\u001b[43m)\u001b[49m\n",
      "\u001b[0;31mTypeError\u001b[0m: student.sum() missing 1 required positional argument: 'c'"
     ]
    }
   ],
   "source": [
    "class student:\n",
    "    \n",
    "    def __init__(self, m1,m2):\n",
    "        self.m1 = m1\n",
    "        self.m2 = m2\n",
    "        \n",
    "    def sum(self, a,b,c):\n",
    "        s=a+b+c\n",
    "        return s\n",
    "    \n",
    "s1 = student(58,69)\n",
    "\n",
    "s1.sum(5,9)"
   ]
  },
  {
   "cell_type": "code",
   "execution_count": 37,
   "id": "56f0e950-38d1-4fc2-9f9c-cbf87cfb1cfa",
   "metadata": {},
   "outputs": [
    {
     "data": {
      "text/plain": [
       "20"
      ]
     },
     "execution_count": 37,
     "metadata": {},
     "output_type": "execute_result"
    }
   ],
   "source": [
    "class student:\n",
    "    \n",
    "    def __init__(self, m1,m2):\n",
    "        self.m1 = m1\n",
    "        self.m2 = m2\n",
    "        \n",
    "    def sum(self, a=None,b= None,c=None):\n",
    "        s=a+b+c\n",
    "        return s\n",
    "    \n",
    "s1 = student(58,69)\n",
    "\n",
    "s1.sum(5,9,6)"
   ]
  },
  {
   "cell_type": "code",
   "execution_count": 49,
   "id": "922ba70c-5b66-4808-9795-cdac63684509",
   "metadata": {},
   "outputs": [
    {
     "data": {
      "text/plain": [
       "24"
      ]
     },
     "execution_count": 49,
     "metadata": {},
     "output_type": "execute_result"
    }
   ],
   "source": [
    "class student:\n",
    "    \n",
    "    def __init__(self, m1,m2):\n",
    "        self.m1 = m1\n",
    "        self.m2 = m2\n",
    "        \n",
    "    def sum(self, a=None,b= None,c=None):\n",
    "\n",
    "        if a!=None and b!=None and c!=None:\n",
    "            s=a+b+c\n",
    "        elif a!=None and b!=None:\n",
    "            s=a+b\n",
    "        return s\n",
    "    \n",
    "s1 = student(58,69)\n",
    "\n",
    "s1.sum(5,9,10)"
   ]
  },
  {
   "cell_type": "code",
   "execution_count": 50,
   "id": "3b64947a-1b5e-4cf0-9491-4ac092053ba5",
   "metadata": {},
   "outputs": [],
   "source": [
    "## Method Overriding - important concept\n",
    "## 2 methods with same name and same parameters in 2 different classes but functions differently as per their object."
   ]
  },
  {
   "cell_type": "code",
   "execution_count": 51,
   "id": "1b99e439-2d32-4964-8932-cfa384931745",
   "metadata": {},
   "outputs": [
    {
     "name": "stdout",
     "output_type": "stream",
     "text": [
      "in A Show\n"
     ]
    }
   ],
   "source": [
    "class A:\n",
    "    def show(self):\n",
    "        print(\"in A Show\")\n",
    "        \n",
    "        \n",
    "a1=A()\n",
    "a1.show()"
   ]
  },
  {
   "cell_type": "code",
   "execution_count": 56,
   "id": "d58f6045-1ead-4963-bbe0-8eea1528954e",
   "metadata": {},
   "outputs": [
    {
     "name": "stdout",
     "output_type": "stream",
     "text": [
      "in A Show\n",
      "in A Show\n"
     ]
    }
   ],
   "source": [
    "class A:\n",
    "    def show(self):\n",
    "        print(\"in A Show\")\n",
    "        \n",
    "class B(A):\n",
    "    pass\n",
    "        \n",
    "        \n",
    "a1=A()\n",
    "a1.show()\n",
    "\n",
    "b1=B()\n",
    "b1.show()"
   ]
  },
  {
   "cell_type": "code",
   "execution_count": 57,
   "id": "1a93fa25-8fba-466a-bbe3-43e9e3a4c86f",
   "metadata": {},
   "outputs": [
    {
     "name": "stdout",
     "output_type": "stream",
     "text": [
      "in A Show\n",
      "in B show\n"
     ]
    }
   ],
   "source": [
    "class A:\n",
    "    def show(self):\n",
    "        print(\"in A Show\")\n",
    "        \n",
    "class B(A):\n",
    "    def show(self):\n",
    "        print(\"in B show\")\n",
    "        \n",
    "        \n",
    "a1=A()\n",
    "a1.show()\n",
    "\n",
    "b1=B()\n",
    "b1.show()"
   ]
  },
  {
   "cell_type": "code",
   "execution_count": 1,
   "id": "3edcb0e6-31b2-44b5-9b21-5d31bce92171",
   "metadata": {},
   "outputs": [],
   "source": [
    "# creating a class and object(instances)\n",
    "\n",
    "# classes has variables(attributes) and methods(functions) \n",
    "\n",
    "# Types of Varaibles\n",
    "#### Instance Varaible and Class Varaible\n",
    "\n",
    "# types of methods\n",
    "##### Instance method , Class Methods, Static Methods\n",
    "\n",
    "# Inheritence\n",
    "#### Multiple level and Mutiple \n",
    "\n",
    "# Constructors in Inheritence \n",
    "#### MRO - Method Resolution Order\n",
    "\n",
    "#Polymorphism\n",
    "##### Duck typing, operator overloading, method overloading, method overriding. "
   ]
  },
  {
   "cell_type": "code",
   "execution_count": null,
   "id": "32a58e21-1b40-4861-ab64-d45f0b98a646",
   "metadata": {},
   "outputs": [],
   "source": []
  }
 ],
 "metadata": {
  "kernelspec": {
   "display_name": "Python 3 (ipykernel)",
   "language": "python",
   "name": "python3"
  },
  "language_info": {
   "codemirror_mode": {
    "name": "ipython",
    "version": 3
   },
   "file_extension": ".py",
   "mimetype": "text/x-python",
   "name": "python",
   "nbconvert_exporter": "python",
   "pygments_lexer": "ipython3",
   "version": "3.10.8"
  }
 },
 "nbformat": 4,
 "nbformat_minor": 5
}
