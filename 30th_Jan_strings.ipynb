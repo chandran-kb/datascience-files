{
 "cells": [
  {
   "cell_type": "code",
   "execution_count": 6,
   "id": "b522499e-6428-4d00-a797-83fd01d61116",
   "metadata": {},
   "outputs": [],
   "source": [
    "s=\"bharath\""
   ]
  },
  {
   "cell_type": "code",
   "execution_count": 7,
   "id": "8439121b-6043-413b-b03a-de04d2144629",
   "metadata": {},
   "outputs": [
    {
     "data": {
      "text/plain": [
       "'bharath'"
      ]
     },
     "execution_count": 7,
     "metadata": {},
     "output_type": "execute_result"
    }
   ],
   "source": [
    "s"
   ]
  },
  {
   "cell_type": "code",
   "execution_count": 8,
   "id": "b5c9182c-a267-4976-a337-1969748b366e",
   "metadata": {},
   "outputs": [],
   "source": [
    "# each character in the string is assigned an index\n",
    "## forward indexing starts from 0 to n \n",
    "## backward indexing starts from end -1 to -n "
   ]
  },
  {
   "cell_type": "code",
   "execution_count": 9,
   "id": "182a2b2e-34ab-4ae0-a520-134f43b78516",
   "metadata": {},
   "outputs": [
    {
     "data": {
      "text/plain": [
       "'b'"
      ]
     },
     "execution_count": 9,
     "metadata": {},
     "output_type": "execute_result"
    }
   ],
   "source": [
    "s[0]"
   ]
  },
  {
   "cell_type": "code",
   "execution_count": 10,
   "id": "195f301d-c9fa-4e28-98bc-52b382b8614a",
   "metadata": {},
   "outputs": [
    {
     "data": {
      "text/plain": [
       "'h'"
      ]
     },
     "execution_count": 10,
     "metadata": {},
     "output_type": "execute_result"
    }
   ],
   "source": [
    "s[-1]"
   ]
  },
  {
   "cell_type": "code",
   "execution_count": 11,
   "id": "d21da71a-3b7a-4536-9dd1-398345b103c6",
   "metadata": {},
   "outputs": [
    {
     "data": {
      "text/plain": [
       "'bha'"
      ]
     },
     "execution_count": 11,
     "metadata": {},
     "output_type": "execute_result"
    }
   ],
   "source": [
    "### extracting part of a string \n",
    "### s[starting point:end point:skipping level] (bydefault skipping point is +1)\n",
    "## the end range wouldn't be a part of the slicing\n",
    "s[0:3]"
   ]
  },
  {
   "cell_type": "code",
   "execution_count": 12,
   "id": "c1487a42-57bf-48c4-b7b7-aea3c1f9bff9",
   "metadata": {},
   "outputs": [
    {
     "data": {
      "text/plain": [
       "'ht'"
      ]
     },
     "execution_count": 12,
     "metadata": {},
     "output_type": "execute_result"
    }
   ],
   "source": [
    "s[-1:-3:-1]"
   ]
  },
  {
   "cell_type": "code",
   "execution_count": 13,
   "id": "27b8e978-3c33-40d2-9191-7390a10c2d7f",
   "metadata": {},
   "outputs": [
    {
     "data": {
      "text/plain": [
       "'baah'"
      ]
     },
     "execution_count": 13,
     "metadata": {},
     "output_type": "execute_result"
    }
   ],
   "source": [
    "s[::2]"
   ]
  },
  {
   "cell_type": "code",
   "execution_count": 14,
   "id": "93095ccc-374a-4c81-8e8e-c82039ff89f4",
   "metadata": {},
   "outputs": [
    {
     "data": {
      "text/plain": [
       "'haab'"
      ]
     },
     "execution_count": 14,
     "metadata": {},
     "output_type": "execute_result"
    }
   ],
   "source": [
    "s[::-2]"
   ]
  },
  {
   "cell_type": "code",
   "execution_count": 15,
   "id": "53a3e227-a0d9-456b-96a7-19817ae301f9",
   "metadata": {},
   "outputs": [
    {
     "data": {
      "text/plain": [
       "('htarahb', 'htarahb')"
      ]
     },
     "execution_count": 15,
     "metadata": {},
     "output_type": "execute_result"
    }
   ],
   "source": [
    "s[-1:-8:-1] , s[::-1]"
   ]
  },
  {
   "cell_type": "code",
   "execution_count": 16,
   "id": "dc7d946a-5dcd-49e9-b819-4545bfa5bf60",
   "metadata": {},
   "outputs": [],
   "source": [
    "t=\"oxygenator\""
   ]
  },
  {
   "cell_type": "code",
   "execution_count": 17,
   "id": "797e121e-ef42-4756-8b13-d3702c76a394",
   "metadata": {},
   "outputs": [
    {
     "data": {
      "text/plain": [
       "'rotanegyxo'"
      ]
     },
     "execution_count": 17,
     "metadata": {},
     "output_type": "execute_result"
    }
   ],
   "source": [
    "#reversing the word \n",
    "t[::-1]"
   ]
  },
  {
   "cell_type": "code",
   "execution_count": 18,
   "id": "9feadacd-4bbb-4fba-9d75-8fa1103a1d8f",
   "metadata": {},
   "outputs": [
    {
     "data": {
      "text/plain": [
       "'n'"
      ]
     },
     "execution_count": 18,
     "metadata": {},
     "output_type": "execute_result"
    }
   ],
   "source": [
    "##indexing (or) picking up a letter from between \n",
    "t[5]"
   ]
  },
  {
   "cell_type": "code",
   "execution_count": 19,
   "id": "596f6f81-cd18-4f35-84cd-91f5811f109e",
   "metadata": {},
   "outputs": [
    {
     "data": {
      "text/plain": [
       "'xyge'"
      ]
     },
     "execution_count": 19,
     "metadata": {},
     "output_type": "execute_result"
    }
   ],
   "source": [
    "##slicing a porting from between\n",
    "t[1:5]"
   ]
  },
  {
   "cell_type": "code",
   "execution_count": 23,
   "id": "b27b8495-3ac4-4246-b379-1329c8229dc2",
   "metadata": {},
   "outputs": [
    {
     "data": {
      "text/plain": [
       "'rota'"
      ]
     },
     "execution_count": 23,
     "metadata": {},
     "output_type": "execute_result"
    }
   ],
   "source": [
    "##slicing from backwards\n",
    "t[:-5:-1]"
   ]
  },
  {
   "cell_type": "code",
   "execution_count": 49,
   "id": "59f52f6a-9ad1-4c3f-a956-a78f2d15aea6",
   "metadata": {},
   "outputs": [],
   "source": [
    "s1 = \"This is my string class\""
   ]
  },
  {
   "cell_type": "code",
   "execution_count": 50,
   "id": "8bf5a5ff-14a1-41e7-9410-db82b9bcf986",
   "metadata": {},
   "outputs": [
    {
     "data": {
      "text/plain": [
       "23"
      ]
     },
     "execution_count": 50,
     "metadata": {},
     "output_type": "execute_result"
    }
   ],
   "source": [
    "## to find the lenght or no of characters in a string\n",
    "len(s1)"
   ]
  },
  {
   "cell_type": "code",
   "execution_count": 51,
   "id": "91b97356-f307-46b4-8fd0-ea7bffc3d3ab",
   "metadata": {},
   "outputs": [
    {
     "data": {
      "text/plain": [
       "3"
      ]
     },
     "execution_count": 51,
     "metadata": {},
     "output_type": "execute_result"
    }
   ],
   "source": [
    "## to find a first occurance of a character in a string\n",
    "s1.find(\"s\")"
   ]
  },
  {
   "cell_type": "code",
   "execution_count": 59,
   "id": "af89511f-e75e-4fac-9ae0-651e01039710",
   "metadata": {},
   "outputs": [
    {
     "data": {
      "text/plain": [
       "2"
      ]
     },
     "execution_count": 59,
     "metadata": {},
     "output_type": "execute_result"
    }
   ],
   "source": [
    "s1.find(\"is\")"
   ]
  },
  {
   "cell_type": "code",
   "execution_count": 62,
   "id": "a82bec1d-0076-426e-9134-5f34e7d36643",
   "metadata": {},
   "outputs": [
    {
     "data": {
      "text/plain": [
       "-1"
      ]
     },
     "execution_count": 62,
     "metadata": {},
     "output_type": "execute_result"
    }
   ],
   "source": [
    "## if it can't find any characters, it returns -1 value\n",
    "s1.find(\"zz\")"
   ]
  },
  {
   "cell_type": "code",
   "execution_count": 53,
   "id": "c89a06c4-c515-4a44-8587-0a71fe3ac6f4",
   "metadata": {},
   "outputs": [
    {
     "data": {
      "text/plain": [
       "'THIS IS MY STRING CLASS'"
      ]
     },
     "execution_count": 53,
     "metadata": {},
     "output_type": "execute_result"
    }
   ],
   "source": [
    "#to capitalize the letters\n",
    "s1.upper()"
   ]
  },
  {
   "cell_type": "code",
   "execution_count": 54,
   "id": "aebab177-8319-4a77-bbae-9c1342cb512f",
   "metadata": {},
   "outputs": [
    {
     "data": {
      "text/plain": [
       "'this is my string class'"
      ]
     },
     "execution_count": 54,
     "metadata": {},
     "output_type": "execute_result"
    }
   ],
   "source": [
    "s1.lower()"
   ]
  },
  {
   "cell_type": "code",
   "execution_count": 57,
   "id": "c978bc44-4069-428e-9302-e5db37f9c6cd",
   "metadata": {},
   "outputs": [
    {
     "data": {
      "text/plain": [
       "5"
      ]
     },
     "execution_count": 57,
     "metadata": {},
     "output_type": "execute_result"
    }
   ],
   "source": [
    "## to count the number of characters in a string\n",
    "s1.count(\"s\")"
   ]
  },
  {
   "cell_type": "code",
   "execution_count": 65,
   "id": "cdb30239-db75-41d7-a8c8-c1777bdda82a",
   "metadata": {},
   "outputs": [
    {
     "data": {
      "text/plain": [
       "False"
      ]
     },
     "execution_count": 65,
     "metadata": {},
     "output_type": "execute_result"
    }
   ],
   "source": [
    "s1.isalpha()"
   ]
  },
  {
   "cell_type": "code",
   "execution_count": 67,
   "id": "d1b620f7-fa61-4dab-8cf4-c7e9586e2383",
   "metadata": {},
   "outputs": [
    {
     "data": {
      "text/plain": [
       "False"
      ]
     },
     "execution_count": 67,
     "metadata": {},
     "output_type": "execute_result"
    }
   ],
   "source": [
    "s1.isalnum()"
   ]
  },
  {
   "cell_type": "code",
   "execution_count": 74,
   "id": "95a638ba-9294-4271-b12a-f88589f47508",
   "metadata": {},
   "outputs": [
    {
     "data": {
      "text/plain": [
       "True"
      ]
     },
     "execution_count": 74,
     "metadata": {},
     "output_type": "execute_result"
    }
   ],
   "source": [
    "s1.isascii()"
   ]
  },
  {
   "cell_type": "code",
   "execution_count": 72,
   "id": "85d07b13-4dfa-44c7-a7bb-fbb510d2e1ef",
   "metadata": {},
   "outputs": [
    {
     "data": {
      "text/plain": [
       "'This Is My String Class'"
      ]
     },
     "execution_count": 72,
     "metadata": {},
     "output_type": "execute_result"
    }
   ],
   "source": [
    "s1.title()"
   ]
  },
  {
   "cell_type": "code",
   "execution_count": 73,
   "id": "f876e367-6916-44ed-8f5f-c74c8bb45a56",
   "metadata": {},
   "outputs": [
    {
     "data": {
      "text/plain": [
       "'This is my string class'"
      ]
     },
     "execution_count": 73,
     "metadata": {},
     "output_type": "execute_result"
    }
   ],
   "source": [
    "s1.capitalize()"
   ]
  },
  {
   "cell_type": "code",
   "execution_count": 75,
   "id": "53fbfb05-b523-48a9-8413-0b1aa0ad63c4",
   "metadata": {},
   "outputs": [
    {
     "data": {
      "text/plain": [
       "'bharath'"
      ]
     },
     "execution_count": 75,
     "metadata": {},
     "output_type": "execute_result"
    }
   ],
   "source": [
    "s"
   ]
  },
  {
   "cell_type": "code",
   "execution_count": 76,
   "id": "dba0d3f2-df0c-45b4-8ffb-8e7bbb6cd6de",
   "metadata": {},
   "outputs": [
    {
     "data": {
      "text/plain": [
       "'bharathxxx'"
      ]
     },
     "execution_count": 76,
     "metadata": {},
     "output_type": "execute_result"
    }
   ],
   "source": [
    "## concatenation of stringss\n",
    "s+\"xxx\""
   ]
  },
  {
   "cell_type": "code",
   "execution_count": 77,
   "id": "222bc3c9-9dd7-489f-8f83-8e556faaa02c",
   "metadata": {},
   "outputs": [
    {
     "data": {
      "text/plain": [
       "'bharath1'"
      ]
     },
     "execution_count": 77,
     "metadata": {},
     "output_type": "execute_result"
    }
   ],
   "source": [
    "s+\"1\""
   ]
  },
  {
   "cell_type": "code",
   "execution_count": 80,
   "id": "c483d692-e15e-4683-a8b7-21d0bdeba8c9",
   "metadata": {},
   "outputs": [
    {
     "data": {
      "text/plain": [
       "'bharathbharath'"
      ]
     },
     "execution_count": 80,
     "metadata": {},
     "output_type": "execute_result"
    }
   ],
   "source": [
    "s*2"
   ]
  },
  {
   "cell_type": "code",
   "execution_count": null,
   "id": "13eca300-e57b-4a0c-ae3a-abd76a07a767",
   "metadata": {},
   "outputs": [],
   "source": []
  }
 ],
 "metadata": {
  "kernelspec": {
   "display_name": "Python 3 (ipykernel)",
   "language": "python",
   "name": "python3"
  },
  "language_info": {
   "codemirror_mode": {
    "name": "ipython",
    "version": 3
   },
   "file_extension": ".py",
   "mimetype": "text/x-python",
   "name": "python",
   "nbconvert_exporter": "python",
   "pygments_lexer": "ipython3",
   "version": "3.10.8"
  }
 },
 "nbformat": 4,
 "nbformat_minor": 5
}
