{
 "cells": [
  {
   "cell_type": "code",
   "execution_count": 1,
   "id": "aa9c1ce1-3c10-4bc0-ac5f-3b1c816b4656",
   "metadata": {},
   "outputs": [],
   "source": [
    "## it is used to create a skeleton or a blueprint or an outline for the module or program to follow\n",
    "## it's done by importing \"abc\""
   ]
  },
  {
   "cell_type": "code",
   "execution_count": 2,
   "id": "1b47c7ac-cdff-4918-baea-a5542c3d4c64",
   "metadata": {},
   "outputs": [],
   "source": [
    "import abc\n",
    "class pwskills:\n",
    "    @abc.abstractmethod\n",
    "    def student_details(self):\n",
    "        pass\n",
    "    \n",
    "    @abc.abstractmethod\n",
    "    def student_assignment(self):\n",
    "        pass\n",
    "    \n",
    "    @abc.abstractmethod\n",
    "    def student_marks(self):\n",
    "        pass"
   ]
  },
  {
   "cell_type": "code",
   "execution_count": 13,
   "id": "a2de0031-986b-44a3-86a2-864e3d76f702",
   "metadata": {},
   "outputs": [],
   "source": [
    "class student_details(pwskills):\n",
    "    \n",
    "    def student_details(self):\n",
    "        return \"this is a method for taking student details\"\n",
    "    \n",
    "    def student_assignment(self):\n",
    "        return \"this is a method for taking student assignment\"\n",
    "    "
   ]
  },
  {
   "cell_type": "code",
   "execution_count": 9,
   "id": "55becc90-bad9-4216-a532-15005a6ee1c8",
   "metadata": {},
   "outputs": [],
   "source": [
    "class data_science_masters(pwskills):\n",
    "    def student_details(self):\n",
    "        return \"this will return a student details for data science masters\"\n",
    "    def student_assignment(self):\n",
    "        return \"this will return student assignemt for data science masters\""
   ]
  },
  {
   "cell_type": "code",
   "execution_count": 10,
   "id": "5c7d7b56-93f3-4dba-9c1f-4359e85a581f",
   "metadata": {},
   "outputs": [
    {
     "data": {
      "text/plain": [
       "'this will return a student details for data science masters'"
      ]
     },
     "execution_count": 10,
     "metadata": {},
     "output_type": "execute_result"
    }
   ],
   "source": [
    "dsm_obj = data_science_masters()\n",
    "dsm_obj.student_details()"
   ]
  },
  {
   "cell_type": "code",
   "execution_count": 14,
   "id": "7bcbc7b7-1c0e-40ba-be9d-c622abf93131",
   "metadata": {},
   "outputs": [
    {
     "data": {
      "text/plain": [
       "'this is a method for taking student details'"
      ]
     },
     "execution_count": 14,
     "metadata": {},
     "output_type": "execute_result"
    }
   ],
   "source": [
    "sd_obj = student_details()\n",
    "sd_obj.student_details()"
   ]
  },
  {
   "cell_type": "code",
   "execution_count": null,
   "id": "b28742f2-7d2a-47cf-8939-84340235eddd",
   "metadata": {},
   "outputs": [],
   "source": []
  },
  {
   "cell_type": "code",
   "execution_count": null,
   "id": "54a4c75a-ecb0-4e22-82e4-c9d7a3bde3a6",
   "metadata": {},
   "outputs": [],
   "source": []
  },
  {
   "cell_type": "code",
   "execution_count": null,
   "id": "6a651d27-07c8-43ea-83b3-f4d4d1e6aaca",
   "metadata": {},
   "outputs": [],
   "source": []
  }
 ],
 "metadata": {
  "kernelspec": {
   "display_name": "Python 3 (ipykernel)",
   "language": "python",
   "name": "python3"
  },
  "language_info": {
   "codemirror_mode": {
    "name": "ipython",
    "version": 3
   },
   "file_extension": ".py",
   "mimetype": "text/x-python",
   "name": "python",
   "nbconvert_exporter": "python",
   "pygments_lexer": "ipython3",
   "version": "3.10.8"
  }
 },
 "nbformat": 4,
 "nbformat_minor": 5
}
