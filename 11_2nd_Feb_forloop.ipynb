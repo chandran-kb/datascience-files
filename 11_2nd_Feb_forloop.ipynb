{
 "cells": [
  {
   "cell_type": "code",
   "execution_count": 2,
   "id": "95daba2d-35d1-4827-8349-1b7328621fa4",
   "metadata": {},
   "outputs": [],
   "source": [
    "l=list(range(11))"
   ]
  },
  {
   "cell_type": "code",
   "execution_count": 3,
   "id": "558be28a-15b2-4b2d-baeb-6ab6a1545d6d",
   "metadata": {},
   "outputs": [
    {
     "data": {
      "text/plain": [
       "[0, 1, 2, 3, 4, 5, 6, 7, 8, 9, 10]"
      ]
     },
     "execution_count": 3,
     "metadata": {},
     "output_type": "execute_result"
    }
   ],
   "source": [
    "l"
   ]
  },
  {
   "cell_type": "code",
   "execution_count": 4,
   "id": "0fe101ea-652c-471f-b80b-d8d377fc7984",
   "metadata": {},
   "outputs": [
    {
     "name": "stdout",
     "output_type": "stream",
     "text": [
      "0\n",
      "1\n",
      "2\n",
      "3\n",
      "4\n",
      "5\n",
      "6\n",
      "7\n",
      "8\n",
      "9\n",
      "10\n"
     ]
    }
   ],
   "source": [
    "for i in l:\n",
    "    print(i)"
   ]
  },
  {
   "cell_type": "code",
   "execution_count": 5,
   "id": "39ff9ed4-b3a3-4543-9122-84eed481305f",
   "metadata": {},
   "outputs": [
    {
     "data": {
      "text/plain": [
       "[0, 1, 2, 3, 4, 5, 6, 7, 8, 9, 10]"
      ]
     },
     "execution_count": 5,
     "metadata": {},
     "output_type": "execute_result"
    }
   ],
   "source": [
    "l"
   ]
  },
  {
   "cell_type": "code",
   "execution_count": 6,
   "id": "26f0effc-aa16-4893-954e-870b93182c65",
   "metadata": {},
   "outputs": [],
   "source": [
    "l2=[\"bharath\", \"akshay\", \"uday\"]"
   ]
  },
  {
   "cell_type": "code",
   "execution_count": 7,
   "id": "9d2a40a2-1cce-4630-ae28-0c326df4591c",
   "metadata": {},
   "outputs": [
    {
     "name": "stdout",
     "output_type": "stream",
     "text": [
      "BHARATH\n",
      "AKSHAY\n",
      "UDAY\n"
     ]
    }
   ],
   "source": [
    "for i in l2:\n",
    "    print(i.upper())"
   ]
  },
  {
   "cell_type": "code",
   "execution_count": 8,
   "id": "553de666-09e7-40c9-a38a-00c734650676",
   "metadata": {},
   "outputs": [
    {
     "data": {
      "text/plain": [
       "['bharath', 'akshay', 'uday']"
      ]
     },
     "execution_count": 8,
     "metadata": {},
     "output_type": "execute_result"
    }
   ],
   "source": [
    "l2"
   ]
  },
  {
   "cell_type": "code",
   "execution_count": 9,
   "id": "260bb3a5-5653-40bd-810b-10550b2fc3ea",
   "metadata": {},
   "outputs": [
    {
     "data": {
      "text/plain": [
       "['UDAY', 'AKSHAY', 'BHARATH']"
      ]
     },
     "execution_count": 9,
     "metadata": {},
     "output_type": "execute_result"
    }
   ],
   "source": [
    "l3=[]\n",
    "n=len(l2)\n",
    "for i in l2:\n",
    "    l3.append(l2[n-1].upper())\n",
    "    n=n-1\n",
    "l3   "
   ]
  },
  {
   "cell_type": "code",
   "execution_count": 10,
   "id": "8b4993c5-4919-4f46-951d-205e445c0d70",
   "metadata": {},
   "outputs": [],
   "source": [
    "## you can also use for-else or for&if-else in FOR"
   ]
  },
  {
   "cell_type": "code",
   "execution_count": 11,
   "id": "c9bab08d-6549-411b-a0ba-84fe01a3976c",
   "metadata": {},
   "outputs": [
    {
     "name": "stdout",
     "output_type": "stream",
     "text": [
      "bharath\n",
      "akshay\n",
      "uday\n",
      "whyy\n"
     ]
    }
   ],
   "source": [
    "## else only executes only if the for loop is completed\n",
    "for i in l2:\n",
    "    print(i)\n",
    "else : print(\"whyy\")"
   ]
  },
  {
   "cell_type": "code",
   "execution_count": 12,
   "id": "b42c3498-2ef3-4058-a452-343d2a03f2d6",
   "metadata": {},
   "outputs": [
    {
     "name": "stdout",
     "output_type": "stream",
     "text": [
      "bhai\n",
      "bhai bhai\n",
      "bhai bhai\n"
     ]
    }
   ],
   "source": [
    "for i in l2:\n",
    "    if i == \"bharath\":\n",
    "        print(\"bhai\")\n",
    "    else : print(\"bhai bhai\")"
   ]
  },
  {
   "cell_type": "code",
   "execution_count": 13,
   "id": "586dc9a5-5c61-4b7b-86cb-468243559694",
   "metadata": {},
   "outputs": [
    {
     "name": "stdout",
     "output_type": "stream",
     "text": [
      "bhai\n",
      "bhai bhai\n"
     ]
    }
   ],
   "source": [
    "for i in l2:\n",
    "    if i == \"bharath\":\n",
    "        print(\"bhai\")\n",
    "else : print(\"bhai bhai\")"
   ]
  },
  {
   "cell_type": "code",
   "execution_count": 14,
   "id": "1d9136e8-217f-41a0-960a-b9fe189ec0cb",
   "metadata": {},
   "outputs": [
    {
     "name": "stdout",
     "output_type": "stream",
     "text": [
      "bharath\n"
     ]
    }
   ],
   "source": [
    "## break function breaks the loop and exits the for blocks\n",
    "for i in l2:\n",
    "    if i==\"akshay\":\n",
    "        break\n",
    "    print(i)\n",
    "else : print(\"whyy\")"
   ]
  },
  {
   "cell_type": "code",
   "execution_count": 15,
   "id": "4f09a74a-3870-402a-be77-ddba59d9d278",
   "metadata": {},
   "outputs": [
    {
     "data": {
      "text/plain": [
       "'akshay'"
      ]
     },
     "execution_count": 15,
     "metadata": {},
     "output_type": "execute_result"
    }
   ],
   "source": [
    "i"
   ]
  },
  {
   "cell_type": "code",
   "execution_count": 16,
   "id": "7b5347bb-5a03-4cee-bb6c-0eb8f28181b2",
   "metadata": {},
   "outputs": [
    {
     "name": "stdout",
     "output_type": "stream",
     "text": [
      "bharath\n",
      "uday\n",
      "whyy\n"
     ]
    }
   ],
   "source": [
    "## continue function contiunes the loop without processing that particular data\n",
    "for i in l2:\n",
    "    if i==\"akshay\":\n",
    "        continue\n",
    "    print(i)\n",
    "else : print(\"whyy\")"
   ]
  },
  {
   "cell_type": "code",
   "execution_count": 17,
   "id": "3d3ae46a-46d8-4eb9-9247-097c488d6b38",
   "metadata": {},
   "outputs": [],
   "source": [
    "l2=l2+[\"whyyy\",\"so\",\"serious\"]"
   ]
  },
  {
   "cell_type": "code",
   "execution_count": 18,
   "id": "d18221c1-930a-4450-a2ad-444c63cac2b8",
   "metadata": {},
   "outputs": [
    {
     "data": {
      "text/plain": [
       "['bharath', 'akshay', 'uday', 'whyyy', 'so', 'serious']"
      ]
     },
     "execution_count": 18,
     "metadata": {},
     "output_type": "execute_result"
    }
   ],
   "source": [
    "l2"
   ]
  },
  {
   "cell_type": "code",
   "execution_count": 19,
   "id": "50bb66ee-8357-45ea-b804-9df34cf7becd",
   "metadata": {},
   "outputs": [
    {
     "data": {
      "text/plain": [
       "6"
      ]
     },
     "execution_count": 19,
     "metadata": {},
     "output_type": "execute_result"
    }
   ],
   "source": [
    "len(l2)"
   ]
  },
  {
   "cell_type": "code",
   "execution_count": 20,
   "id": "c4e36a16-1a2b-44c9-8286-a6f42ac6844a",
   "metadata": {},
   "outputs": [
    {
     "data": {
      "text/plain": [
       "range(0, 6)"
      ]
     },
     "execution_count": 20,
     "metadata": {},
     "output_type": "execute_result"
    }
   ],
   "source": [
    "range(len(l2))"
   ]
  },
  {
   "cell_type": "code",
   "execution_count": 21,
   "id": "b364ec81-ee3d-4c67-a90a-b6466dfa79c7",
   "metadata": {},
   "outputs": [
    {
     "data": {
      "text/plain": [
       "[0, 1, 2, 3, 4, 5]"
      ]
     },
     "execution_count": 21,
     "metadata": {},
     "output_type": "execute_result"
    }
   ],
   "source": [
    "list(range(len(l2)))"
   ]
  },
  {
   "cell_type": "code",
   "execution_count": 22,
   "id": "ce0cde4f-22a1-4f60-9135-6549bfa08479",
   "metadata": {},
   "outputs": [
    {
     "data": {
      "text/plain": [
       "['bharath', 'akshay', 'uday', 'whyyy', 'so', 'serious']"
      ]
     },
     "execution_count": 22,
     "metadata": {},
     "output_type": "execute_result"
    }
   ],
   "source": [
    "l2"
   ]
  },
  {
   "cell_type": "code",
   "execution_count": 27,
   "id": "2c4a7b65-02f0-4a63-a60a-a92e24edaa9a",
   "metadata": {},
   "outputs": [
    {
     "name": "stdout",
     "output_type": "stream",
     "text": [
      "serious\n",
      "so\n",
      "whyyy\n",
      "uday\n",
      "akshay\n",
      "bharath\n"
     ]
    }
   ],
   "source": [
    "for i in range(len(l2)-1,-1,-1):\n",
    "    print(l2[i])"
   ]
  },
  {
   "cell_type": "code",
   "execution_count": 28,
   "id": "02f503b5-1785-4aa2-af00-e99cc66b516d",
   "metadata": {},
   "outputs": [
    {
     "name": "stdout",
     "output_type": "stream",
     "text": [
      "serious\n",
      "so\n",
      "whyyy\n",
      "uday\n",
      "akshay\n",
      "bharath\n"
     ]
    }
   ],
   "source": [
    "for i in range(-1,-len(l2)-1,-1):\n",
    "    print(l2[i])"
   ]
  },
  {
   "cell_type": "code",
   "execution_count": 25,
   "id": "ca5d63be-68d9-4fba-b827-7a2df62b319b",
   "metadata": {},
   "outputs": [
    {
     "data": {
      "text/plain": [
       "['serious', 'so', 'whyyy', 'uday', 'akshay', 'bharath']"
      ]
     },
     "execution_count": 25,
     "metadata": {},
     "output_type": "execute_result"
    }
   ],
   "source": [
    "##own\n",
    "l4=[]\n",
    "n=len(l2)\n",
    "for i in l2:\n",
    "    l4.append(l2[n-1])\n",
    "    n=n-1\n",
    "l4"
   ]
  },
  {
   "cell_type": "code",
   "execution_count": 31,
   "id": "58e6b3ed-0f4a-4153-9bf5-ed078a7f6ac5",
   "metadata": {},
   "outputs": [],
   "source": [
    "l0=list(range(0,15))"
   ]
  },
  {
   "cell_type": "code",
   "execution_count": null,
   "id": "21fc8a9c-2e67-44ad-a771-e543fa420898",
   "metadata": {},
   "outputs": [],
   "source": []
  },
  {
   "cell_type": "code",
   "execution_count": 32,
   "id": "84918861-7ce5-4112-9f08-ae640b2487b1",
   "metadata": {},
   "outputs": [
    {
     "data": {
      "text/plain": [
       "[0, 1, 2, 3, 4, 5, 6, 7, 8, 9, 10, 11, 12, 13, 14]"
      ]
     },
     "execution_count": 32,
     "metadata": {},
     "output_type": "execute_result"
    }
   ],
   "source": [
    "## to get number on even indexes\n",
    "l0"
   ]
  },
  {
   "cell_type": "code",
   "execution_count": 60,
   "id": "46ecf4ca-2975-4ce9-bc7d-431e01c9f618",
   "metadata": {},
   "outputs": [
    {
     "name": "stdout",
     "output_type": "stream",
     "text": [
      "0\n",
      "2\n",
      "4\n",
      "6\n",
      "8\n",
      "10\n",
      "12\n",
      "14\n"
     ]
    }
   ],
   "source": [
    "## own code\n",
    "for i in range(len(l0)):\n",
    "    if i%2==0:\n",
    "        print(l0[i])"
   ]
  },
  {
   "cell_type": "code",
   "execution_count": 61,
   "id": "5317b134-1da2-4d04-a6a2-61a4f6ac1355",
   "metadata": {},
   "outputs": [
    {
     "name": "stdout",
     "output_type": "stream",
     "text": [
      "0\n",
      "2\n",
      "4\n",
      "6\n",
      "8\n",
      "10\n",
      "12\n",
      "14\n"
     ]
    }
   ],
   "source": [
    "## or \n",
    "for i in range(0,len(l0),2):\n",
    "    print(l0[i])"
   ]
  },
  {
   "cell_type": "code",
   "execution_count": 63,
   "id": "4b245403-d0b1-4128-a6b9-c50fd80400ff",
   "metadata": {},
   "outputs": [
    {
     "data": {
      "text/plain": [
       "[0, 1, 2, 3, 4, 5, 6, 7, 8, 9, 10, 11, 12, 13, 14]"
      ]
     },
     "execution_count": 63,
     "metadata": {},
     "output_type": "execute_result"
    }
   ],
   "source": [
    "l0"
   ]
  },
  {
   "cell_type": "code",
   "execution_count": 71,
   "id": "3da71adb-b575-46e9-9250-a90bbef77ab5",
   "metadata": {},
   "outputs": [
    {
     "data": {
      "text/plain": [
       "105"
      ]
     },
     "execution_count": 71,
     "metadata": {},
     "output_type": "execute_result"
    }
   ],
   "source": [
    "## for summation of the numbers in the list\n",
    "sum(l0)"
   ]
  },
  {
   "cell_type": "code",
   "execution_count": 72,
   "id": "2d676a9a-a09e-45a7-b1e5-9b24c08fac98",
   "metadata": {},
   "outputs": [
    {
     "data": {
      "text/plain": [
       "105"
      ]
     },
     "execution_count": 72,
     "metadata": {},
     "output_type": "execute_result"
    }
   ],
   "source": [
    "## using for loop\n",
    "total=0\n",
    "for i in l0:\n",
    "    total=total+i\n",
    "total"
   ]
  },
  {
   "cell_type": "code",
   "execution_count": 75,
   "id": "bc8fff17-57a3-41ed-a26a-a6e3cea62c81",
   "metadata": {},
   "outputs": [
    {
     "data": {
      "text/plain": [
       "15"
      ]
     },
     "execution_count": 75,
     "metadata": {},
     "output_type": "execute_result"
    }
   ],
   "source": [
    "t=(1,2,3,4,5)\n",
    "total=0\n",
    "for i in t:\n",
    "    total=total+i\n",
    "total"
   ]
  },
  {
   "cell_type": "code",
   "execution_count": 78,
   "id": "7b0fb82c-d25f-4d65-9657-1f9e7696c399",
   "metadata": {},
   "outputs": [
    {
     "name": "stdout",
     "output_type": "stream",
     "text": [
      "bu\n",
      "hu\n",
      "au\n",
      "ru\n",
      "au\n",
      "tu\n",
      "hu\n"
     ]
    }
   ],
   "source": [
    "s=\"bharath\"\n",
    "for i in s:\n",
    "    print(i+\"u\")"
   ]
  },
  {
   "cell_type": "code",
   "execution_count": 82,
   "id": "6fbf1293-c66e-4b8e-8483-252f968647e3",
   "metadata": {},
   "outputs": [],
   "source": [
    "d={\"name\" : \"bharath\" , \"class\" : \"pwskills\" ,\n",
    "  \"courses\" : [\"ML\",\"AI\",\"NLP\"]}"
   ]
  },
  {
   "cell_type": "code",
   "execution_count": 83,
   "id": "06efdf2e-5779-4ca9-b1a3-b8a46a93aea2",
   "metadata": {},
   "outputs": [
    {
     "name": "stdout",
     "output_type": "stream",
     "text": [
      "bharath\n",
      "pwskills\n",
      "['ML', 'AI', 'NLP']\n"
     ]
    }
   ],
   "source": [
    "for i in d.keys():\n",
    "    print(d[i])"
   ]
  },
  {
   "cell_type": "code",
   "execution_count": 86,
   "id": "a95bf0d0-ef81-48b6-9915-76647bf75d4a",
   "metadata": {},
   "outputs": [
    {
     "name": "stdout",
     "output_type": "stream",
     "text": [
      "('name', 'bharath')\n",
      "('class', 'pwskills')\n",
      "('courses', ['ML', 'AI', 'NLP'])\n"
     ]
    }
   ],
   "source": [
    "for i in d.items():\n",
    "    print(i)"
   ]
  },
  {
   "cell_type": "code",
   "execution_count": null,
   "id": "6a95068d-13da-4231-bd13-d60cd87ecec5",
   "metadata": {},
   "outputs": [],
   "source": []
  }
 ],
 "metadata": {
  "kernelspec": {
   "display_name": "Python 3 (ipykernel)",
   "language": "python",
   "name": "python3"
  },
  "language_info": {
   "codemirror_mode": {
    "name": "ipython",
    "version": 3
   },
   "file_extension": ".py",
   "mimetype": "text/x-python",
   "name": "python",
   "nbconvert_exporter": "python",
   "pygments_lexer": "ipython3",
   "version": "3.10.8"
  }
 },
 "nbformat": 4,
 "nbformat_minor": 5
}
