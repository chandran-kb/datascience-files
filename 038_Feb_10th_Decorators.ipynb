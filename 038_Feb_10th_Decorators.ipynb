{
 "cells": [
  {
   "cell_type": "code",
   "execution_count": 1,
   "id": "b953998c-2d28-4c59-bf5c-a8f35e77a92f",
   "metadata": {},
   "outputs": [],
   "source": [
    "def test():\n",
    "    print(\"this is my function to test\")"
   ]
  },
  {
   "cell_type": "code",
   "execution_count": 2,
   "id": "3fc1cc6d-f9c3-4907-a852-3b3c8f71134a",
   "metadata": {},
   "outputs": [
    {
     "name": "stdout",
     "output_type": "stream",
     "text": [
      "this is my function to test\n"
     ]
    }
   ],
   "source": [
    "test()"
   ]
  },
  {
   "cell_type": "code",
   "execution_count": 3,
   "id": "43846720-9313-4327-bb7b-ee25c2aa5b75",
   "metadata": {},
   "outputs": [],
   "source": [
    "def test():\n",
    "    print(\"this is the start of my function\")\n",
    "    print(\"this is my function to test\")\n",
    "    print(4+9)\n",
    "    print(\"this is the end of my function\")"
   ]
  },
  {
   "cell_type": "code",
   "execution_count": 4,
   "id": "8a2cbea6-0a10-47ce-8f2b-e3209dc1c716",
   "metadata": {},
   "outputs": [
    {
     "name": "stdout",
     "output_type": "stream",
     "text": [
      "this is the start of my function\n",
      "this is my function to test\n",
      "13\n",
      "this is the end of my function\n"
     ]
    }
   ],
   "source": [
    "test()"
   ]
  },
  {
   "cell_type": "code",
   "execution_count": 8,
   "id": "1edb1eab-091b-41cf-863d-ffad51dcf917",
   "metadata": {},
   "outputs": [],
   "source": [
    "## Alternatively \n",
    "\n",
    "def dec1(func):\n",
    "    def inner_dec1():\n",
    "            print(\"this is the start of my function\")\n",
    "            func()\n",
    "            print(\"this is the end of my function\")\n",
    "    return inner_dec1"
   ]
  },
  {
   "cell_type": "code",
   "execution_count": 9,
   "id": "761f36f1-a0f2-4a2f-b78b-09a7a4c13c15",
   "metadata": {},
   "outputs": [],
   "source": [
    "def test1():\n",
    "    print(6+7)"
   ]
  },
  {
   "cell_type": "code",
   "execution_count": 10,
   "id": "783a52dc-3490-42f3-b9c8-359781432d44",
   "metadata": {},
   "outputs": [
    {
     "name": "stdout",
     "output_type": "stream",
     "text": [
      "13\n"
     ]
    }
   ],
   "source": [
    "test1()"
   ]
  },
  {
   "cell_type": "code",
   "execution_count": 11,
   "id": "481f5d92-627c-4ff3-b753-d9946a3ad6a0",
   "metadata": {},
   "outputs": [],
   "source": [
    "@dec1\n",
    "def test1():\n",
    "    print(6+7)"
   ]
  },
  {
   "cell_type": "code",
   "execution_count": 12,
   "id": "3ba45a4d-ff71-4c6b-8089-6055be88f984",
   "metadata": {},
   "outputs": [
    {
     "name": "stdout",
     "output_type": "stream",
     "text": [
      "this is the start of my function\n",
      "13\n",
      "this is the end of my function\n"
     ]
    }
   ],
   "source": [
    "test1()"
   ]
  },
  {
   "cell_type": "code",
   "execution_count": 13,
   "id": "9b50d95d-ce73-42e6-98ff-83774761af46",
   "metadata": {},
   "outputs": [],
   "source": [
    "@dec1\n",
    "def test1():\n",
    "    print(6+7)\n",
    "\n",
    "@dec1\n",
    "def test2():\n",
    "    print(4+13)"
   ]
  },
  {
   "cell_type": "code",
   "execution_count": 14,
   "id": "88c558ab-ae90-4e54-833d-92cfb81d92de",
   "metadata": {},
   "outputs": [
    {
     "name": "stdout",
     "output_type": "stream",
     "text": [
      "this is the start of my function\n",
      "17\n",
      "this is the end of my function\n"
     ]
    }
   ],
   "source": [
    "test2()"
   ]
  },
  {
   "cell_type": "code",
   "execution_count": 15,
   "id": "5a47bafb-2f7f-4a2b-8c83-6673424cfcfd",
   "metadata": {},
   "outputs": [],
   "source": [
    "## to check the time taken to execute the program\n",
    "## time decorator\n",
    "\n",
    "import time\n",
    "\n",
    "def timer_test(func):\n",
    "    def inner_timer_test():\n",
    "        start = time.time()\n",
    "        func()\n",
    "        end = time.time()\n",
    "        print (end - start)\n",
    "    return inner_timer_test"
   ]
  },
  {
   "cell_type": "code",
   "execution_count": 16,
   "id": "32d970d1-62ab-42e8-85d5-926c412900ae",
   "metadata": {},
   "outputs": [],
   "source": [
    "@timer_test\n",
    "def test3():\n",
    "    print (55+99)"
   ]
  },
  {
   "cell_type": "code",
   "execution_count": 17,
   "id": "773e1f94-c430-4584-8a65-282de172ea25",
   "metadata": {},
   "outputs": [
    {
     "name": "stdout",
     "output_type": "stream",
     "text": [
      "154\n",
      "7.128715515136719e-05\n"
     ]
    }
   ],
   "source": [
    "test3()"
   ]
  },
  {
   "cell_type": "code",
   "execution_count": 20,
   "id": "36f46d61-b834-4d7e-b624-934d2127e91b",
   "metadata": {},
   "outputs": [],
   "source": [
    "@timer_test\n",
    "def test4():\n",
    "    for i in range(10**8):\n",
    "        pass"
   ]
  },
  {
   "cell_type": "code",
   "execution_count": 21,
   "id": "eb28f7a5-5ed1-4ec3-bfeb-e3502316e2e5",
   "metadata": {},
   "outputs": [
    {
     "name": "stdout",
     "output_type": "stream",
     "text": [
      "2.394186496734619\n"
     ]
    }
   ],
   "source": [
    "test4()"
   ]
  },
  {
   "cell_type": "code",
   "execution_count": null,
   "id": "b47e1a91-c493-4628-b969-9ee50b07a58b",
   "metadata": {},
   "outputs": [],
   "source": []
  }
 ],
 "metadata": {
  "kernelspec": {
   "display_name": "Python 3 (ipykernel)",
   "language": "python",
   "name": "python3"
  },
  "language_info": {
   "codemirror_mode": {
    "name": "ipython",
    "version": 3
   },
   "file_extension": ".py",
   "mimetype": "text/x-python",
   "name": "python",
   "nbconvert_exporter": "python",
   "pygments_lexer": "ipython3",
   "version": "3.10.8"
  }
 },
 "nbformat": 4,
 "nbformat_minor": 5
}
