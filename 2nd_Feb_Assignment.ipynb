{
 "cells": [
  {
   "cell_type": "code",
   "execution_count": 1,
   "id": "83ab8856-a375-425f-8419-06d781303c4e",
   "metadata": {},
   "outputs": [
    {
     "data": {
      "text/plain": [
       "False"
      ]
     },
     "execution_count": 1,
     "metadata": {},
     "output_type": "execute_result"
    }
   ],
   "source": [
    "1==5"
   ]
  },
  {
   "cell_type": "code",
   "execution_count": 2,
   "id": "0a158a7c-802f-448c-b0f6-d9566673c69c",
   "metadata": {},
   "outputs": [
    {
     "data": {
      "text/plain": [
       "6"
      ]
     },
     "execution_count": 2,
     "metadata": {},
     "output_type": "execute_result"
    }
   ],
   "source": [
    "1+5"
   ]
  },
  {
   "cell_type": "code",
   "execution_count": 3,
   "id": "ee5ed358-a901-4b7d-8ea3-6ebb35f33dcd",
   "metadata": {},
   "outputs": [],
   "source": [
    "\"\"\" difference between for and while loop\n",
    "\n",
    "for loop is used when an iteration is done for know set of limited items\n",
    "while loop is used when an iteration is done for a set of unkown number of data\"\"\"\n",
    "\n"
   ]
  },
  {
   "cell_type": "code",
   "execution_count": null,
   "id": "b7c229df-18df-439c-8e81-d763de4172d0",
   "metadata": {},
   "outputs": [],
   "source": [
    "## example of for loop for addition of data in a set"
   ]
  },
  {
   "cell_type": "code",
   "execution_count": 5,
   "id": "354a0fca-6f5d-45b0-9cec-078a6e62d655",
   "metadata": {},
   "outputs": [],
   "source": [
    "l=list(range(1,11))"
   ]
  },
  {
   "cell_type": "code",
   "execution_count": 7,
   "id": "b8773311-6fed-4f44-b0f3-644c4bb6de81",
   "metadata": {},
   "outputs": [
    {
     "data": {
      "text/plain": [
       "55"
      ]
     },
     "execution_count": 7,
     "metadata": {},
     "output_type": "execute_result"
    }
   ],
   "source": [
    "total=0\n",
    "for i in l:\n",
    "    total = total +i\n",
    "total"
   ]
  },
  {
   "cell_type": "code",
   "execution_count": 8,
   "id": "b9a0a49b-4a6a-4127-8dab-14e26d5b784b",
   "metadata": {},
   "outputs": [],
   "source": [
    "## example of for loop for addition of data in a set"
   ]
  },
  {
   "cell_type": "code",
   "execution_count": 14,
   "id": "79d347af-4ea2-45f8-8b6b-f07e0acaa454",
   "metadata": {},
   "outputs": [
    {
     "data": {
      "text/plain": [
       "55"
      ]
     },
     "execution_count": 14,
     "metadata": {},
     "output_type": "execute_result"
    }
   ],
   "source": [
    "summ=0\n",
    "counter=0\n",
    "while counter<=len(l):\n",
    "    summ=summ+counter\n",
    "    counter=counter+1\n",
    "summ"
   ]
  },
  {
   "cell_type": "code",
   "execution_count": 1,
   "id": "11c76d7c-e195-4dae-ae77-36c874cec74a",
   "metadata": {},
   "outputs": [],
   "source": [
    "### 2.Write a python program to print the sum and product of the first 10 natural numbers using for and while loop."
   ]
  },
  {
   "cell_type": "code",
   "execution_count": 2,
   "id": "126e9bb2-c420-4c02-a10a-1e943f475d5b",
   "metadata": {},
   "outputs": [
    {
     "data": {
      "text/plain": [
       "55"
      ]
     },
     "execution_count": 2,
     "metadata": {},
     "output_type": "execute_result"
    }
   ],
   "source": [
    "## for loop\n",
    "total=0\n",
    "for i in range(1,11):\n",
    "    total=total+i\n",
    "total"
   ]
  },
  {
   "cell_type": "code",
   "execution_count": 6,
   "id": "9a7bb327-85fa-42f2-ba39-64a45c09420d",
   "metadata": {},
   "outputs": [
    {
     "data": {
      "text/plain": [
       "3628800"
      ]
     },
     "execution_count": 6,
     "metadata": {},
     "output_type": "execute_result"
    }
   ],
   "source": [
    "## for loop\n",
    "total=1\n",
    "for i in range(1,11):\n",
    "    total=total*i\n",
    "total"
   ]
  },
  {
   "cell_type": "code",
   "execution_count": 4,
   "id": "b76a8b13-9339-49e6-a709-9fe56e5753a1",
   "metadata": {},
   "outputs": [
    {
     "name": "stdin",
     "output_type": "stream",
     "text": [
      "enter your number 10\n"
     ]
    },
    {
     "data": {
      "text/plain": [
       "55"
      ]
     },
     "execution_count": 4,
     "metadata": {},
     "output_type": "execute_result"
    }
   ],
   "source": [
    "## while loop\n",
    "n=int(input(\"enter your number\"))\n",
    "total = 0\n",
    "counter =0\n",
    "while counter<=n:\n",
    "      total=total+counter\n",
    "      counter=counter+1\n",
    "total\n",
    "      "
   ]
  },
  {
   "cell_type": "code",
   "execution_count": 7,
   "id": "b34ce9ab-76b6-45dc-890c-9e7a42852275",
   "metadata": {},
   "outputs": [
    {
     "name": "stdin",
     "output_type": "stream",
     "text": [
      "enter your number 10\n"
     ]
    },
    {
     "data": {
      "text/plain": [
       "3628800"
      ]
     },
     "execution_count": 7,
     "metadata": {},
     "output_type": "execute_result"
    }
   ],
   "source": [
    "## while loop\n",
    "n=int(input(\"enter your number\"))\n",
    "total = 1\n",
    "counter =1\n",
    "while counter<=n:\n",
    "      total=total*counter\n",
    "      counter=counter+1\n",
    "total\n",
    "      "
   ]
  },
  {
   "cell_type": "code",
   "execution_count": 8,
   "id": "a30d6e76-6391-44f5-860c-8235b43b569d",
   "metadata": {},
   "outputs": [
    {
     "data": {
      "text/plain": [
       "'Q3. Create a python program to compute the electricity bill for a household.\\n\\nThe per-unit charges in rupees are as follows: For the first 100 units, the user will be charged Rs. 4.5 per\\nunit, for the next 100 units, the user will be charged Rs. 6 per unit, and for the next 100 units, the user will\\nbe charged Rs. 10 per unit, After 300 units and above the user will be charged Rs. 20 per unit.\\nYou are required to take the units of electricity consumed in a month from the user as input.'"
      ]
     },
     "execution_count": 8,
     "metadata": {},
     "output_type": "execute_result"
    }
   ],
   "source": [
    "\"\"\"Q3. Create a python program to compute the electricity bill for a household.\n",
    "\n",
    "The per-unit charges in rupees are as follows: For the first 100 units, the user will be charged Rs. 4.5 per\n",
    "unit, for the next 100 units, the user will be charged Rs. 6 per unit, and for the next 100 units, the user will\n",
    "be charged Rs. 10 per unit, After 300 units and above the user will be charged Rs. 20 per unit.\n",
    "You are required to take the units of electricity consumed in a month from the user as input.\"\"\"\n"
   ]
  },
  {
   "cell_type": "code",
   "execution_count": 17,
   "id": "2f7a0cf2-a6b0-4720-8d2f-d1ae5503c60f",
   "metadata": {},
   "outputs": [
    {
     "name": "stdin",
     "output_type": "stream",
     "text": [
      "enter the units of electricity 310\n"
     ]
    },
    {
     "name": "stdout",
     "output_type": "stream",
     "text": [
      "The electricity bill is 2250.0 Rupees\n"
     ]
    }
   ],
   "source": [
    "n=int(input(\"enter the units of electricity\"))\n",
    "if n<=100:\n",
    "    print(\"The electricity bill is {} Rupees\".format(n*4.5))\n",
    "elif n>100 and n<=200:\n",
    "    print(\"The electricity bill is {} Rupees\".format(100*4.5+(n-100)*6))\n",
    "elif n>200 and n<=300:\n",
    "    print(\"The electricity bill is {} Rupees\".format(100*4.5+100*6+(n-200)*10))\n",
    "else : print(\"The electricity bill is {} Rupees\".format(100*4.5+100*6+100*10+(n-300)*20))"
   ]
  },
  {
   "cell_type": "code",
   "execution_count": null,
   "id": "a4a34c71-5f47-479f-b041-25233abc8bd7",
   "metadata": {},
   "outputs": [],
   "source": [
    "\"\"\"Create a list of numbers from 1 to 100. Use for loop and while loop to calculate the cube of each\n",
    "number and if the cube of that number is divisible by 4 or 5 then append that number in a list and print\n",
    "that list.\"\"\""
   ]
  },
  {
   "cell_type": "code",
   "execution_count": 19,
   "id": "5479fa93-ffcf-4547-bd89-31ab6901be5f",
   "metadata": {},
   "outputs": [],
   "source": [
    "b=list(range(1,101))"
   ]
  },
  {
   "cell_type": "code",
   "execution_count": 49,
   "id": "0ea60ea6-0d85-4831-96dd-4687da71671d",
   "metadata": {},
   "outputs": [],
   "source": [
    "### for loop\n",
    "b1=[]\n",
    "for i in b:\n",
    "    if i**3%4==0 or i**3%5==0:\n",
    "        b1.append(i)"
   ]
  },
  {
   "cell_type": "code",
   "execution_count": 50,
   "id": "9d6d3137-e076-474f-b017-e018ef42798c",
   "metadata": {},
   "outputs": [
    {
     "name": "stdin",
     "output_type": "stream",
     "text": [
      "enter the number 5\n"
     ]
    }
   ],
   "source": [
    "### while loop\n",
    "n=int(input(\"enter the number\"))\n",
    "b1=[]\n",
    "n=1\n",
    "while n<=100:\n",
    "    if n**3%4==0 or n**3%5==0:\n",
    "          b1.append(n)\n",
    "    n=n+1"
   ]
  },
  {
   "cell_type": "code",
   "execution_count": null,
   "id": "cd5e7710-f8bd-4161-a764-0e2ce0415810",
   "metadata": {},
   "outputs": [],
   "source": []
  },
  {
   "cell_type": "code",
   "execution_count": null,
   "id": "0255863c-4d67-47c8-be5f-553d87a446f8",
   "metadata": {},
   "outputs": [],
   "source": [
    "\"\"\" Write a program to filter count vowels in the below-given string.\n",
    "string = \"I want to become a data scientist\"\"\""
   ]
  },
  {
   "cell_type": "code",
   "execution_count": 62,
   "id": "3a732a3d-6a0b-492f-b9af-1ed19102130c",
   "metadata": {},
   "outputs": [
    {
     "data": {
      "text/plain": [
       "['I', 'a', 'o', 'e', 'o', 'e', 'a', 'a', 'a', 'i', 'e', 'i']"
      ]
     },
     "execution_count": 62,
     "metadata": {},
     "output_type": "execute_result"
    }
   ],
   "source": [
    "s=\"I want to become a data scientist\"\n",
    "b2=[]\n",
    "for i in range(len(s)):\n",
    "    if s[i].lower()==\"a\" or s[i].lower()==\"e\" or s[i].lower()==\"i\" or s[i].lower()==\"o\" or s[i].lower()==\"u\":\n",
    "        b2.append(s[i])\n",
    "b2"
   ]
  },
  {
   "cell_type": "code",
   "execution_count": null,
   "id": "9c926d4a-0145-483c-a473-239a83aa0b44",
   "metadata": {},
   "outputs": [],
   "source": []
  }
 ],
 "metadata": {
  "kernelspec": {
   "display_name": "Python 3 (ipykernel)",
   "language": "python",
   "name": "python3"
  },
  "language_info": {
   "codemirror_mode": {
    "name": "ipython",
    "version": 3
   },
   "file_extension": ".py",
   "mimetype": "text/x-python",
   "name": "python",
   "nbconvert_exporter": "python",
   "pygments_lexer": "ipython3",
   "version": "3.10.8"
  }
 },
 "nbformat": 4,
 "nbformat_minor": 5
}
