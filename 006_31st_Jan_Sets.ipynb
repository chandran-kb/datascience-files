{
 "cells": [
  {
   "cell_type": "code",
   "execution_count": null,
   "id": "47e5b065-de2f-4b37-9ab8-710e21eb137f",
   "metadata": {},
   "outputs": [],
   "source": [
    "#set is also a collection, but it takes only immutable data \n",
    "## set does not have any index"
   ]
  },
  {
   "cell_type": "code",
   "execution_count": 8,
   "id": "b1a13fac-6646-4d56-bed5-5432c807694e",
   "metadata": {},
   "outputs": [],
   "source": [
    "s={1,5,35.4, \"bharath\", (5,6,7)}"
   ]
  },
  {
   "cell_type": "code",
   "execution_count": 9,
   "id": "f5a9345d-48f9-4276-9614-67b53e3df744",
   "metadata": {},
   "outputs": [
    {
     "data": {
      "text/plain": [
       "{(5, 6, 7), 1, 35.4, 5, 'bharath'}"
      ]
     },
     "execution_count": 9,
     "metadata": {},
     "output_type": "execute_result"
    }
   ],
   "source": [
    "s"
   ]
  },
  {
   "cell_type": "code",
   "execution_count": 5,
   "id": "5379c775-6e73-4316-93ce-21a59ced5cd2",
   "metadata": {},
   "outputs": [
    {
     "ename": "TypeError",
     "evalue": "unhashable type: 'list'",
     "output_type": "error",
     "traceback": [
      "\u001b[0;31m---------------------------------------------------------------------------\u001b[0m",
      "\u001b[0;31mTypeError\u001b[0m                                 Traceback (most recent call last)",
      "Cell \u001b[0;32mIn[5], line 1\u001b[0m\n\u001b[0;32m----> 1\u001b[0m s1\u001b[38;5;241m=\u001b[39m{\u001b[38;5;241m1\u001b[39m,\u001b[38;5;241m5\u001b[39m,\u001b[38;5;241m35.4\u001b[39m, \u001b[38;5;124m\"\u001b[39m\u001b[38;5;124mbharath\u001b[39m\u001b[38;5;124m\"\u001b[39m, (\u001b[38;5;241m5\u001b[39m,\u001b[38;5;241m6\u001b[39m,\u001b[38;5;241m7\u001b[39m),[\u001b[38;5;241m5\u001b[39m,\u001b[38;5;241m6\u001b[39m,\u001b[38;5;241m7\u001b[39m]}\n",
      "\u001b[0;31mTypeError\u001b[0m: unhashable type: 'list'"
     ]
    }
   ],
   "source": [
    "s1={1,5,35.4, \"bharath\", (5,6,7),[5,6,7]}"
   ]
  },
  {
   "cell_type": "code",
   "execution_count": 7,
   "id": "4ecd437d-6195-4591-9215-3d7231d1e00a",
   "metadata": {},
   "outputs": [
    {
     "data": {
      "text/plain": [
       "{(5, 6, 7), 1, 35.4, 5, 'bharath'}"
      ]
     },
     "execution_count": 7,
     "metadata": {},
     "output_type": "execute_result"
    }
   ],
   "source": [
    "s"
   ]
  },
  {
   "cell_type": "code",
   "execution_count": 27,
   "id": "49cd97e5-e96a-4601-b7cc-67978004d3b2",
   "metadata": {},
   "outputs": [],
   "source": [
    "### set removes duplicay. whereas list doesn't. \n",
    "## set is a collection of unique data. and it an unordered collection. hence it doesn't support indexing\n",
    "s1=[1,1,1,1,1,2,2,3,4,4,5,\"bharath\",\"bharath\"]"
   ]
  },
  {
   "cell_type": "code",
   "execution_count": 20,
   "id": "9c8fef02-161f-4339-8c3f-9ba9d4876101",
   "metadata": {},
   "outputs": [
    {
     "data": {
      "text/plain": [
       "[1, 1, 1, 1, 1, 2, 2, 3, 4, 4, 5, 'bharath', 'bharath']"
      ]
     },
     "execution_count": 20,
     "metadata": {},
     "output_type": "execute_result"
    }
   ],
   "source": [
    "s1"
   ]
  },
  {
   "cell_type": "code",
   "execution_count": 21,
   "id": "c7a1c291-090d-4a1b-97a9-fa56f939ce15",
   "metadata": {},
   "outputs": [],
   "source": [
    "s2={1,1,1,1,1,2,2,3,4,4,5,\"bharath\",\"bharath\"}"
   ]
  },
  {
   "cell_type": "code",
   "execution_count": 24,
   "id": "b8720f7b-8101-4802-a976-2a589e3e7ae4",
   "metadata": {},
   "outputs": [
    {
     "data": {
      "text/plain": [
       "{1, 2, 3, 4, 5, 'bharath'}"
      ]
     },
     "execution_count": 24,
     "metadata": {},
     "output_type": "execute_result"
    }
   ],
   "source": [
    "s2"
   ]
  },
  {
   "cell_type": "code",
   "execution_count": 25,
   "id": "39930a8e-ce2f-458d-ab62-ca3f7c924972",
   "metadata": {},
   "outputs": [
    {
     "data": {
      "text/plain": [
       "{1, 2, 3, 4, 5, 'bharath'}"
      ]
     },
     "execution_count": 25,
     "metadata": {},
     "output_type": "execute_result"
    }
   ],
   "source": [
    "#converting list to set\n",
    "set(s1)"
   ]
  },
  {
   "cell_type": "code",
   "execution_count": 29,
   "id": "f8f219c8-61b7-4f2b-b498-e862f71445a1",
   "metadata": {},
   "outputs": [
    {
     "ename": "TypeError",
     "evalue": "'set' object is not subscriptable",
     "output_type": "error",
     "traceback": [
      "\u001b[0;31m---------------------------------------------------------------------------\u001b[0m",
      "\u001b[0;31mTypeError\u001b[0m                                 Traceback (most recent call last)",
      "Cell \u001b[0;32mIn[29], line 1\u001b[0m\n\u001b[0;32m----> 1\u001b[0m \u001b[43ms2\u001b[49m\u001b[43m[\u001b[49m\u001b[38;5;241;43m0\u001b[39;49m\u001b[43m]\u001b[49m\n",
      "\u001b[0;31mTypeError\u001b[0m: 'set' object is not subscriptable"
     ]
    }
   ],
   "source": [
    "s2[0]"
   ]
  },
  {
   "cell_type": "code",
   "execution_count": 30,
   "id": "0c17b44c-889f-4223-9eef-47183318fbec",
   "metadata": {},
   "outputs": [
    {
     "data": {
      "text/plain": [
       "{(5, 6, 7), 1, 35.4, 5, 'bharath'}"
      ]
     },
     "execution_count": 30,
     "metadata": {},
     "output_type": "execute_result"
    }
   ],
   "source": [
    "s"
   ]
  },
  {
   "cell_type": "code",
   "execution_count": 31,
   "id": "9ff72a15-0129-445e-abe9-5099d8a34c95",
   "metadata": {},
   "outputs": [],
   "source": [
    "s.add(55)"
   ]
  },
  {
   "cell_type": "code",
   "execution_count": 32,
   "id": "e4f1f0f6-fa23-495d-86ea-d16763a052d4",
   "metadata": {},
   "outputs": [
    {
     "data": {
      "text/plain": [
       "{(5, 6, 7), 1, 35.4, 5, 55, 'bharath'}"
      ]
     },
     "execution_count": 32,
     "metadata": {},
     "output_type": "execute_result"
    }
   ],
   "source": [
    "s"
   ]
  },
  {
   "cell_type": "code",
   "execution_count": 33,
   "id": "af28efc1-f9ea-4b52-aa45-0921ce2cd37b",
   "metadata": {},
   "outputs": [],
   "source": [
    "s.remove(1)"
   ]
  },
  {
   "cell_type": "code",
   "execution_count": 34,
   "id": "96232a31-c1d6-470f-9179-c39baeed3289",
   "metadata": {},
   "outputs": [
    {
     "data": {
      "text/plain": [
       "{(5, 6, 7), 35.4, 5, 55, 'bharath'}"
      ]
     },
     "execution_count": 34,
     "metadata": {},
     "output_type": "execute_result"
    }
   ],
   "source": [
    "s"
   ]
  },
  {
   "cell_type": "code",
   "execution_count": 35,
   "id": "5811180c-c624-4d38-ad2d-2ee6cea351d0",
   "metadata": {},
   "outputs": [
    {
     "data": {
      "text/plain": [
       "(5, 6, 7)"
      ]
     },
     "execution_count": 35,
     "metadata": {},
     "output_type": "execute_result"
    }
   ],
   "source": [
    "s.pop()"
   ]
  },
  {
   "cell_type": "code",
   "execution_count": 36,
   "id": "f5f1785d-3eb5-4a51-be6e-fa7172bf0c7f",
   "metadata": {},
   "outputs": [],
   "source": [
    "s.add((5, 6, 7))"
   ]
  },
  {
   "cell_type": "code",
   "execution_count": 37,
   "id": "cd099425-fec6-411d-8316-7a6de2c45666",
   "metadata": {},
   "outputs": [
    {
     "data": {
      "text/plain": [
       "{(5, 6, 7), 35.4, 5, 55, 'bharath'}"
      ]
     },
     "execution_count": 37,
     "metadata": {},
     "output_type": "execute_result"
    }
   ],
   "source": [
    "s"
   ]
  },
  {
   "cell_type": "code",
   "execution_count": null,
   "id": "1b4f6ccf-0a07-431f-bdde-ba37ae925a74",
   "metadata": {},
   "outputs": [],
   "source": []
  }
 ],
 "metadata": {
  "kernelspec": {
   "display_name": "Python 3 (ipykernel)",
   "language": "python",
   "name": "python3"
  },
  "language_info": {
   "codemirror_mode": {
    "name": "ipython",
    "version": 3
   },
   "file_extension": ".py",
   "mimetype": "text/x-python",
   "name": "python",
   "nbconvert_exporter": "python",
   "pygments_lexer": "ipython3",
   "version": "3.10.8"
  }
 },
 "nbformat": 4,
 "nbformat_minor": 5
}
