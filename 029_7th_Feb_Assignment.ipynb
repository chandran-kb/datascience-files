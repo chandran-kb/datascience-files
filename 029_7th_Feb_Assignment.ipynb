{
 "cells": [
  {
   "cell_type": "code",
   "execution_count": 2,
   "id": "1fe40c8d-7189-40cc-8e47-e77843f48121",
   "metadata": {},
   "outputs": [
    {
     "data": {
      "text/plain": [
       "'Q1. You are writing code for a company. The requirement of the company is that you create a python\\nfunction that will check whether the password entered by the user is correct or not. The function should\\ntake the password as input and return the string “Valid Password” if the entered password follows the\\nbelow-given password guidelines else it should return “Invalid Password”.\\nNote: 1. The Password should contain at least two uppercase letters and at least two lowercase letters.\\n2. The Password should contain at least a number and three special characters.\\n3. The length of the password should be 10 characters long.'"
      ]
     },
     "execution_count": 2,
     "metadata": {},
     "output_type": "execute_result"
    }
   ],
   "source": [
    "\"\"\"Q1. You are writing code for a company. The requirement of the company is that you create a python\n",
    "function that will check whether the password entered by the user is correct or not. The function should\n",
    "take the password as input and return the string “Valid Password” if the entered password follows the\n",
    "below-given password guidelines else it should return “Invalid Password”.\n",
    "Note: 1. The Password should contain at least two uppercase letters and at least two lowercase letters.\n",
    "2. The Password should contain at least a number and three special characters.\n",
    "3. The length of the password should be 10 characters long.\"\"\""
   ]
  },
  {
   "cell_type": "code",
   "execution_count": 33,
   "id": "6a7c4701-d1ab-4a23-8ab6-7e9b78164671",
   "metadata": {},
   "outputs": [
    {
     "name": "stdin",
     "output_type": "stream",
     "text": [
      "Type your password AAaa1@@@sd\n"
     ]
    },
    {
     "name": "stdout",
     "output_type": "stream",
     "text": [
      "valid password\n"
     ]
    }
   ],
   "source": [
    "import string\n",
    "z = list(string.punctuation)\n",
    "\n",
    "s = input(\"Type your password\")\n",
    "k=0\n",
    "l=0\n",
    "m=0\n",
    "n=0\n",
    "for i in s:\n",
    "    if i.islower()==True:\n",
    "        k+=1\n",
    "    elif i.isupper()==True:\n",
    "        l+=1     \n",
    "    elif i.isnumeric()==True:\n",
    "        m+=1  \n",
    "    elif i in z:\n",
    "        n+=1\n",
    "        \n",
    "if k<2 or l<2 or m<1 or n<3 or len(s)!=10:\n",
    "    print(\"invalid passowrd\")\n",
    "else : print (\"valid password\") "
   ]
  },
  {
   "cell_type": "code",
   "execution_count": 36,
   "id": "daba9442-b9ed-4977-978d-f6111a54a2d7",
   "metadata": {},
   "outputs": [],
   "source": [
    "def create_password():\n",
    "    import string\n",
    "    z = list(string.punctuation)\n",
    "\n",
    "    s = input(\"Type your password\")\n",
    "    k=0\n",
    "    l=0\n",
    "    m=0\n",
    "    n=0\n",
    "    for i in s:\n",
    "        if i.islower()==True:\n",
    "            k+=1\n",
    "        elif i.isupper()==True:\n",
    "            l+=1     \n",
    "        elif i.isnumeric()==True:\n",
    "            m+=1  \n",
    "        elif i in z:\n",
    "            n+=1\n",
    "\n",
    "    if k<2 or l<2 or m<1 or n<3 or len(s)!=10:\n",
    "        print(\"invalid passowrd\")\n",
    "    else : print (\"valid password\") "
   ]
  },
  {
   "cell_type": "code",
   "execution_count": 37,
   "id": "5f493e56-f32b-4c08-a901-dff1e951cc65",
   "metadata": {},
   "outputs": [
    {
     "name": "stdin",
     "output_type": "stream",
     "text": [
      "Type your password AAaa1@@@sd\n"
     ]
    },
    {
     "name": "stdout",
     "output_type": "stream",
     "text": [
      "valid password\n"
     ]
    }
   ],
   "source": [
    "create_password()"
   ]
  },
  {
   "cell_type": "code",
   "execution_count": 148,
   "id": "b2b8f4e8-dca4-41fa-bacb-380e483b489b",
   "metadata": {},
   "outputs": [
    {
     "data": {
      "text/plain": [
       "'Q2. Solve the below-given questions using at least one of the following:\\n1. Lambda functioJ\\n2. Filter functioJ\\n3. Zap functioJ\\n4. List ComprehensioI\\nB Check if the string starts with a particular letterY\\nB Check if the string is numericY\\nB Sort a list of tuples having fruit names and their quantity. [(\"mango\",99),(\"orange\",80), (\"grapes\", 1000)-\\nB Find the squares of numbers from 1 to 10Y\\nB Find the cube root of numbers from 1 to 10Y\\nB Check if a given number is evenY\\nB Filter odd numbers from the given list.\\n[1,2,3,4,5,6,7,8,9,10-\\nB Sort a list of integers into positive and negative integers lists.\\n[1,2,3,4,5,6,-1,-2,-3,-4,-5,0]'"
      ]
     },
     "execution_count": 148,
     "metadata": {},
     "output_type": "execute_result"
    }
   ],
   "source": [
    "\"\"\"Q2. Solve the below-given questions using at least one of the following:\n",
    "1. Lambda function\n",
    "2. Filter function\n",
    "3. Map function\n",
    "4. List Comprehension\n",
    "\n",
    "B Check if the string starts with a particular letterY\n",
    "B Check if the string is numericY\n",
    "B Sort a list of tuples having fruit names and their quantity. [(\"mango\",99),(\"orange\",80), (\"grapes\", 1000)]\n",
    "B Find the squares of numbers from 1 to 10\n",
    "B Find the cube root of numbers from 1 to 10\n",
    "B Check if a given number is even\n",
    "B Filter odd numbers from the given list.\n",
    "[1,2,3,4,5,6,7,8,9,10]\n",
    "B Sort a list of integers into positive and negative integers lists.\n",
    "[1,2,3,4,5,6,-1,-2,-3,-4,-5,0]\"\"\""
   ]
  },
  {
   "cell_type": "code",
   "execution_count": 187,
   "id": "b049a9d3-226e-41e4-92cf-97fd43de0021",
   "metadata": {},
   "outputs": [
    {
     "name": "stdin",
     "output_type": "stream",
     "text": [
      "enter the word Bharath\n"
     ]
    },
    {
     "name": "stdout",
     "output_type": "stream",
     "text": [
      "Valid\n"
     ]
    }
   ],
   "source": [
    "#Check if the string starts with a particular letterY\n",
    "n= input(\"enter the word\")\n",
    "\n",
    "l = lambda n : print(\"Valid\") if n[0]==\"B\" else print(\"invalid\")\n",
    "    \n",
    "l(n)"
   ]
  },
  {
   "cell_type": "code",
   "execution_count": 200,
   "id": "af1867a8-6771-4c8c-8ad0-b4ca589d33b2",
   "metadata": {},
   "outputs": [
    {
     "name": "stdin",
     "output_type": "stream",
     "text": [
      "enter the word 55555\n"
     ]
    },
    {
     "name": "stdout",
     "output_type": "stream",
     "text": [
      "Numberic\n"
     ]
    }
   ],
   "source": [
    "# Check if the string is numericY\n",
    "\n",
    "n= input(\"enter the word\")\n",
    "\n",
    "l = lambda n : print(\"Numberic\") if n.isnumeric()==True else print(\"Not_Numberic\")\n",
    "\n",
    "l(n)"
   ]
  },
  {
   "cell_type": "code",
   "execution_count": 46,
   "id": "9d507d66-9886-4069-b51b-5ca965bac5d5",
   "metadata": {},
   "outputs": [
    {
     "name": "stdin",
     "output_type": "stream",
     "text": [
      "enter the word ads5\n"
     ]
    },
    {
     "name": "stdout",
     "output_type": "stream",
     "text": [
      "Not_Numberic\n"
     ]
    }
   ],
   "source": [
    "# Check if the string is numericY\n",
    "\n",
    "n= input(\"enter the word\")\n",
    "\n",
    "c= [print(\"Num\") if n.isnumeric()==True else print(\"Not_Numberic\")]"
   ]
  },
  {
   "cell_type": "code",
   "execution_count": 6,
   "id": "b55328f2-c42a-4cf8-b947-4e2a68036b9d",
   "metadata": {},
   "outputs": [],
   "source": [
    "# Sort a list of tuples having fruit names and their quantity. [(\"mango\",99),(\"orange\",80), (\"grapes\", 1000)]\n",
    "\n",
    "l = [(\"mango\",99),(\"orange\",80), (\"grapes\", 1000)]\n"
   ]
  },
  {
   "cell_type": "code",
   "execution_count": 30,
   "id": "63d208f9-6c80-405b-87ff-727fa3be9cb0",
   "metadata": {},
   "outputs": [],
   "source": [
    "l.sort(key = lambda i : i[1])"
   ]
  },
  {
   "cell_type": "code",
   "execution_count": 31,
   "id": "a9dd10d2-edda-482c-b0ed-b52c7a60d427",
   "metadata": {},
   "outputs": [
    {
     "data": {
      "text/plain": [
       "[('orange', 80), ('mango', 99), ('grapes', 1000)]"
      ]
     },
     "execution_count": 31,
     "metadata": {},
     "output_type": "execute_result"
    }
   ],
   "source": [
    "l"
   ]
  },
  {
   "cell_type": "code",
   "execution_count": 42,
   "id": "c0b7259d-d9f4-47f8-92e7-c7114a51d546",
   "metadata": {},
   "outputs": [
    {
     "data": {
      "text/plain": [
       "[1, 4, 9, 16, 25, 36, 49, 64, 81, 100]"
      ]
     },
     "execution_count": 42,
     "metadata": {},
     "output_type": "execute_result"
    }
   ],
   "source": [
    "## Find the squares of numbers from 1 to 10\n",
    "\n",
    "l= range(1,11)\n",
    "\n",
    "s= map(lambda x : x*x , l)\n",
    "\n",
    "list(s)"
   ]
  },
  {
   "cell_type": "code",
   "execution_count": 55,
   "id": "67ce8fa6-d38f-49f7-8d9f-93e7b87e06f8",
   "metadata": {},
   "outputs": [
    {
     "data": {
      "text/plain": [
       "[1.0,\n",
       " 1.2599210498948734,\n",
       " 1.4422495703074083,\n",
       " 1.5874010519681996,\n",
       " 1.7099759466766968,\n",
       " 1.8171205928321394,\n",
       " 1.9129311827723894,\n",
       " 2.0,\n",
       " 2.080083823051904,\n",
       " 2.1544346900318834]"
      ]
     },
     "execution_count": 55,
     "metadata": {},
     "output_type": "execute_result"
    }
   ],
   "source": [
    "# Find the cube root of numbers from 1 to 10\n",
    "import numpy as np\n",
    "\n",
    "l = range(1,11)\n",
    "\n",
    "c = map(lambda x : np.cbrt(x),l)\n",
    "\n",
    "list(c)"
   ]
  },
  {
   "cell_type": "code",
   "execution_count": 61,
   "id": "6e6a9492-521a-48b1-bbb6-39290c991273",
   "metadata": {},
   "outputs": [
    {
     "name": "stdin",
     "output_type": "stream",
     "text": [
      "enter your number 58665\n"
     ]
    },
    {
     "name": "stdout",
     "output_type": "stream",
     "text": [
      "Odd\n"
     ]
    }
   ],
   "source": [
    "# Check if a given number is even\n",
    "n= int(input(\"enter your number\"))\n",
    "c = lambda x : print(\"Even\") if x%2==0 else print(\"Odd\")\n",
    "c(n)"
   ]
  },
  {
   "cell_type": "code",
   "execution_count": 62,
   "id": "d327b140-360e-4250-9356-492f42733cf0",
   "metadata": {},
   "outputs": [
    {
     "data": {
      "text/plain": [
       "[1, 3, 5, 7, 9]"
      ]
     },
     "execution_count": 62,
     "metadata": {},
     "output_type": "execute_result"
    }
   ],
   "source": [
    "## Filter odd numbers from the given list.\n",
    "l = [1,2,3,4,5,6,7,8,9,10]\n",
    "c= filter(lambda x : x%2==1, l)\n",
    "list(c)"
   ]
  },
  {
   "cell_type": "code",
   "execution_count": 48,
   "id": "4ad67052-9b67-41ec-89bd-146e748e7d1f",
   "metadata": {},
   "outputs": [
    {
     "data": {
      "text/plain": [
       "[-1, -2, -3, -4, -5]"
      ]
     },
     "execution_count": 48,
     "metadata": {},
     "output_type": "execute_result"
    }
   ],
   "source": [
    "# Sort a list of integers into positive and negative integers lists.\n",
    "l=[1,2,3,4,5,6,-1,-2,-3,-4,-5,0]\n",
    "l1 = []\n",
    "l2=[]\n",
    "[l1.append(i) if i>=0 else l2.append(i) for i in l]\n",
    "l2"
   ]
  },
  {
   "cell_type": "code",
   "execution_count": 49,
   "id": "9d262c5d-9785-4d7b-8f96-8cad1f8156fa",
   "metadata": {},
   "outputs": [
    {
     "data": {
      "text/plain": [
       "[1, 2, 3, 4, 5, 6, 0]"
      ]
     },
     "execution_count": 49,
     "metadata": {},
     "output_type": "execute_result"
    }
   ],
   "source": [
    "l1"
   ]
  },
  {
   "cell_type": "code",
   "execution_count": null,
   "id": "d5ca8d95-595b-4ed0-adfc-7529985cbf98",
   "metadata": {},
   "outputs": [],
   "source": []
  }
 ],
 "metadata": {
  "kernelspec": {
   "display_name": "Python 3 (ipykernel)",
   "language": "python",
   "name": "python3"
  },
  "language_info": {
   "codemirror_mode": {
    "name": "ipython",
    "version": 3
   },
   "file_extension": ".py",
   "mimetype": "text/x-python",
   "name": "python",
   "nbconvert_exporter": "python",
   "pygments_lexer": "ipython3",
   "version": "3.10.8"
  }
 },
 "nbformat": 4,
 "nbformat_minor": 5
}
