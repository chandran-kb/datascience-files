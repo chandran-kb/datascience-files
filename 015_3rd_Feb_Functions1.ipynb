{
 "cells": [
  {
   "cell_type": "code",
   "execution_count": 1,
   "id": "769e8cbd-4cd3-4660-80a6-438a999705bc",
   "metadata": {},
   "outputs": [],
   "source": [
    "l=[464,6456,646]"
   ]
  },
  {
   "cell_type": "code",
   "execution_count": 2,
   "id": "fd858430-84a3-45d7-ac1f-bf17793ce5f4",
   "metadata": {},
   "outputs": [],
   "source": [
    "## ## functions are used to create your own functions and keywords\n",
    "## fucntions starts with \"def\" keyword "
   ]
  },
  {
   "cell_type": "code",
   "execution_count": 8,
   "id": "bac9b19b-adc5-43ad-98a7-acf544a06e7e",
   "metadata": {},
   "outputs": [],
   "source": [
    "def test():\n",
    "    print(\"this is my first function\")"
   ]
  },
  {
   "cell_type": "code",
   "execution_count": 11,
   "id": "734e24e1-e899-4f29-9bc3-ea6613b39276",
   "metadata": {},
   "outputs": [
    {
     "name": "stdout",
     "output_type": "stream",
     "text": [
      "this is my first function\n"
     ]
    },
    {
     "ename": "TypeError",
     "evalue": "unsupported operand type(s) for +: 'NoneType' and 'str'",
     "output_type": "error",
     "traceback": [
      "\u001b[0;31m---------------------------------------------------------------------------\u001b[0m",
      "\u001b[0;31mTypeError\u001b[0m                                 Traceback (most recent call last)",
      "Cell \u001b[0;32mIn[11], line 1\u001b[0m\n\u001b[0;32m----> 1\u001b[0m \u001b[43mtest\u001b[49m\u001b[43m(\u001b[49m\u001b[43m)\u001b[49m\u001b[38;5;241;43m+\u001b[39;49m\u001b[38;5;124;43m\"\u001b[39;49m\u001b[38;5;124;43mbharath\u001b[39;49m\u001b[38;5;124;43m\"\u001b[39;49m\n",
      "\u001b[0;31mTypeError\u001b[0m: unsupported operand type(s) for +: 'NoneType' and 'str'"
     ]
    }
   ],
   "source": [
    "test()+\"bharath\""
   ]
  },
  {
   "cell_type": "code",
   "execution_count": 12,
   "id": "e9ede640-5fe8-4125-8630-2496f3a87e4d",
   "metadata": {},
   "outputs": [],
   "source": [
    "## created function i a NoneType"
   ]
  },
  {
   "cell_type": "code",
   "execution_count": 13,
   "id": "7ae7ced9-4c66-4116-8ee9-ebf0dd5b9fd1",
   "metadata": {},
   "outputs": [
    {
     "name": "stdout",
     "output_type": "stream",
     "text": [
      "this is my first function\n"
     ]
    },
    {
     "data": {
      "text/plain": [
       "'Nonebharath'"
      ]
     },
     "execution_count": 13,
     "metadata": {},
     "output_type": "execute_result"
    }
   ],
   "source": [
    "str(test())+\"bharath\""
   ]
  },
  {
   "cell_type": "code",
   "execution_count": 19,
   "id": "58b0d617-3128-476d-8f0a-b6e605c8386e",
   "metadata": {},
   "outputs": [],
   "source": [
    "## print gives the output as None.\n",
    "## instead used return. Return gives the output as same type as entered\n",
    "def test1():\n",
    "    return\"this is my second fucntion\""
   ]
  },
  {
   "cell_type": "code",
   "execution_count": 15,
   "id": "33e249c0-ea4e-4615-bab8-f90936b564a3",
   "metadata": {},
   "outputs": [
    {
     "data": {
      "text/plain": [
       "'this is my second fucntion'"
      ]
     },
     "execution_count": 15,
     "metadata": {},
     "output_type": "execute_result"
    }
   ],
   "source": [
    "test1()"
   ]
  },
  {
   "cell_type": "code",
   "execution_count": 18,
   "id": "d859e9a0-aa08-4de1-b28b-d5b2510b4a9b",
   "metadata": {},
   "outputs": [
    {
     "data": {
      "text/plain": [
       "'this is my second fucntion. by bharath'"
      ]
     },
     "execution_count": 18,
     "metadata": {},
     "output_type": "execute_result"
    }
   ],
   "source": [
    "test1()+\". by bharath\""
   ]
  },
  {
   "cell_type": "code",
   "execution_count": 26,
   "id": "4326f75c-62af-48e0-b1f9-13b7e6a43656",
   "metadata": {},
   "outputs": [],
   "source": [
    "## it also returns multiple data types.\n",
    "## multiple data is auto returned wihtin tuples\n",
    "def test2():\n",
    "    return \"bharath\",1, 2 , 25.55, True , [1,2,3]"
   ]
  },
  {
   "cell_type": "code",
   "execution_count": 27,
   "id": "0a355e7c-91e4-4abf-ad86-9f3facb973c3",
   "metadata": {},
   "outputs": [
    {
     "data": {
      "text/plain": [
       "('bharath', 1, 2, 25.55, True, [1, 2, 3])"
      ]
     },
     "execution_count": 27,
     "metadata": {},
     "output_type": "execute_result"
    }
   ],
   "source": [
    "test2()"
   ]
  },
  {
   "cell_type": "code",
   "execution_count": 31,
   "id": "fd866f76-0d78-4406-b3a5-ee01cb4fbb66",
   "metadata": {},
   "outputs": [],
   "source": [
    "##variable declaration in functions\n",
    "a,b,c,d,e,f = test2()"
   ]
  },
  {
   "cell_type": "code",
   "execution_count": 29,
   "id": "e0f3d324-3308-4401-b827-3e4463355a00",
   "metadata": {},
   "outputs": [
    {
     "data": {
      "text/plain": [
       "'bharath'"
      ]
     },
     "execution_count": 29,
     "metadata": {},
     "output_type": "execute_result"
    }
   ],
   "source": [
    "a"
   ]
  },
  {
   "cell_type": "code",
   "execution_count": 30,
   "id": "a5cc3a16-3703-4c1e-a611-38e98be17e7e",
   "metadata": {},
   "outputs": [
    {
     "data": {
      "text/plain": [
       "[1, 2, 3]"
      ]
     },
     "execution_count": 30,
     "metadata": {},
     "output_type": "execute_result"
    }
   ],
   "source": [
    "f"
   ]
  },
  {
   "cell_type": "code",
   "execution_count": 32,
   "id": "e48118d1-f522-49dd-a129-dc082cd0feb0",
   "metadata": {},
   "outputs": [],
   "source": [
    "def test3():\n",
    "    a=5+6/7\n",
    "    return a"
   ]
  },
  {
   "cell_type": "code",
   "execution_count": 34,
   "id": "a520b7a5-710a-43f8-9a9e-6403db26674e",
   "metadata": {},
   "outputs": [
    {
     "data": {
      "text/plain": [
       "5.857142857142857"
      ]
     },
     "execution_count": 34,
     "metadata": {},
     "output_type": "execute_result"
    }
   ],
   "source": [
    "test3()"
   ]
  },
  {
   "cell_type": "code",
   "execution_count": 35,
   "id": "094dc329-a49d-485c-a392-a2f480e51632",
   "metadata": {},
   "outputs": [],
   "source": [
    "def test5(a,b,c):\n",
    "    d=a+b/c\n",
    "    return d"
   ]
  },
  {
   "cell_type": "code",
   "execution_count": 36,
   "id": "294589b7-4303-4234-8a76-96ff4cd23ca5",
   "metadata": {},
   "outputs": [
    {
     "ename": "TypeError",
     "evalue": "test5() missing 3 required positional arguments: 'a', 'b', and 'c'",
     "output_type": "error",
     "traceback": [
      "\u001b[0;31m---------------------------------------------------------------------------\u001b[0m",
      "\u001b[0;31mTypeError\u001b[0m                                 Traceback (most recent call last)",
      "Cell \u001b[0;32mIn[36], line 1\u001b[0m\n\u001b[0;32m----> 1\u001b[0m \u001b[43mtest5\u001b[49m\u001b[43m(\u001b[49m\u001b[43m)\u001b[49m\n",
      "\u001b[0;31mTypeError\u001b[0m: test5() missing 3 required positional arguments: 'a', 'b', and 'c'"
     ]
    }
   ],
   "source": [
    "test5()"
   ]
  },
  {
   "cell_type": "code",
   "execution_count": 37,
   "id": "af969eb7-0c75-46b1-870d-25f819bc907c",
   "metadata": {},
   "outputs": [
    {
     "data": {
      "text/plain": [
       "3.625"
      ]
     },
     "execution_count": 37,
     "metadata": {},
     "output_type": "execute_result"
    }
   ],
   "source": [
    "test5(3,5,8)"
   ]
  },
  {
   "cell_type": "code",
   "execution_count": 38,
   "id": "3da377c5-ad29-45a4-941d-2c302800d9b5",
   "metadata": {},
   "outputs": [],
   "source": [
    "def test6(a,b):\n",
    "    return a+b"
   ]
  },
  {
   "cell_type": "code",
   "execution_count": 39,
   "id": "e383fe8c-b1d9-468a-a02f-7efdc403384b",
   "metadata": {},
   "outputs": [
    {
     "data": {
      "text/plain": [
       "7"
      ]
     },
     "execution_count": 39,
     "metadata": {},
     "output_type": "execute_result"
    }
   ],
   "source": [
    "test6(3,4)"
   ]
  },
  {
   "cell_type": "code",
   "execution_count": 40,
   "id": "a0947e4c-2c40-47af-9105-5f92d2dbd29d",
   "metadata": {},
   "outputs": [
    {
     "data": {
      "text/plain": [
       "'bharath chandran'"
      ]
     },
     "execution_count": 40,
     "metadata": {},
     "output_type": "execute_result"
    }
   ],
   "source": [
    "test6(\"bharath\", \" chandran\")"
   ]
  },
  {
   "cell_type": "code",
   "execution_count": 41,
   "id": "8999e401-e184-4b4c-b6b1-750fe4783432",
   "metadata": {},
   "outputs": [
    {
     "data": {
      "text/plain": [
       "[1, 2]"
      ]
     },
     "execution_count": 41,
     "metadata": {},
     "output_type": "execute_result"
    }
   ],
   "source": [
    "test6([1],[2])"
   ]
  },
  {
   "cell_type": "code",
   "execution_count": 3,
   "id": "16028795-ed96-471f-a412-118974439625",
   "metadata": {},
   "outputs": [],
   "source": [
    "## to get the integers in the list\n",
    "l=[1,2,3,5, \"bharath\", \"Chandran\", [7,8,9,\"sudh\"]]"
   ]
  },
  {
   "cell_type": "code",
   "execution_count": 44,
   "id": "b0899ec8-d9f9-4011-bbe4-25d2d1db653d",
   "metadata": {},
   "outputs": [
    {
     "data": {
      "text/plain": [
       "[1, 2, 3, 5]"
      ]
     },
     "execution_count": 44,
     "metadata": {},
     "output_type": "execute_result"
    }
   ],
   "source": [
    "[i for i in l if type(i)==int]"
   ]
  },
  {
   "cell_type": "code",
   "execution_count": 23,
   "id": "385b2b3f-47e2-48f7-85b0-71b670241a12",
   "metadata": {},
   "outputs": [],
   "source": [
    "def test7():\n",
    "    l1=[]\n",
    "    for i in l:\n",
    "        if type(i)==int:\n",
    "            l1.append(i)\n",
    "    return (l1)"
   ]
  },
  {
   "cell_type": "code",
   "execution_count": 24,
   "id": "adc7a89a-2dc5-4257-a824-90f02feff603",
   "metadata": {},
   "outputs": [
    {
     "data": {
      "text/plain": [
       "[1, 2, 3, 5]"
      ]
     },
     "execution_count": 24,
     "metadata": {},
     "output_type": "execute_result"
    }
   ],
   "source": [
    "test7()"
   ]
  },
  {
   "cell_type": "code",
   "execution_count": 7,
   "id": "fe183d4b-c179-4e28-9634-a86b7bf0d25d",
   "metadata": {},
   "outputs": [],
   "source": [
    "def test7():\n",
    "    l1=[]\n",
    "    for i in l:\n",
    "        if type(i)==int:\n",
    "            print (i)"
   ]
  },
  {
   "cell_type": "code",
   "execution_count": 8,
   "id": "6fee5b05-b131-41a2-8d98-5884eea2f4ef",
   "metadata": {},
   "outputs": [
    {
     "name": "stdout",
     "output_type": "stream",
     "text": [
      "1\n",
      "2\n",
      "3\n",
      "5\n"
     ]
    }
   ],
   "source": [
    "test7()"
   ]
  },
  {
   "cell_type": "code",
   "execution_count": 71,
   "id": "7a28cbc6-ead7-4360-abf1-b593cbee4ee6",
   "metadata": {},
   "outputs": [],
   "source": [
    "def test8():\n",
    "    l1=[]\n",
    "    for i in l:\n",
    "        if type(i)==int:\n",
    "            l1.append(i)\n",
    "        else : \n",
    "            if type(i)==list:\n",
    "                for j in i:\n",
    "                    if type(j)==int:\n",
    "                        l1.append(j)\n",
    "    return l1"
   ]
  },
  {
   "cell_type": "code",
   "execution_count": 72,
   "id": "e118f666-e9b3-45d6-980d-f29e6e4cb8e0",
   "metadata": {},
   "outputs": [
    {
     "data": {
      "text/plain": [
       "[1, 2, 3, 5, 7, 8, 9]"
      ]
     },
     "execution_count": 72,
     "metadata": {},
     "output_type": "execute_result"
    }
   ],
   "source": [
    "test8()"
   ]
  },
  {
   "cell_type": "code",
   "execution_count": 73,
   "id": "58a473ee-c5e4-4dc7-9aca-2fdf2c270378",
   "metadata": {},
   "outputs": [],
   "source": [
    "### giving a docstring to a function for others to understand\n",
    "\n",
    "def test8():\n",
    "    \"\"\"this is my functions to extract int from a list\"\"\"\n",
    "    \n",
    "    l1=[]\n",
    "    for i in l:\n",
    "        if type(i)==int:\n",
    "            l1.append(i)\n",
    "        else : \n",
    "            if type(i)==list:\n",
    "                for j in i:\n",
    "                    if type(j)==int:\n",
    "                        l1.append(j)\n",
    "    return l1"
   ]
  },
  {
   "cell_type": "code",
   "execution_count": 74,
   "id": "7749eecc-e234-45ad-bcab-28075d81fc15",
   "metadata": {},
   "outputs": [
    {
     "data": {
      "text/plain": [
       "[1, 2, 3, 5, 7, 8, 9]"
      ]
     },
     "execution_count": 74,
     "metadata": {},
     "output_type": "execute_result"
    }
   ],
   "source": [
    "test8()"
   ]
  },
  {
   "cell_type": "code",
   "execution_count": 82,
   "id": "4c85cfd2-29d2-4ee9-aa49-6d3392ff33c7",
   "metadata": {},
   "outputs": [],
   "source": [
    "### * symbol is used to pass any number of variables inside a function\n",
    "def test9(*n):\n",
    "    return n"
   ]
  },
  {
   "cell_type": "code",
   "execution_count": 83,
   "id": "addf0245-d156-48b7-a43c-4af09a872ada",
   "metadata": {},
   "outputs": [
    {
     "data": {
      "text/plain": [
       "()"
      ]
     },
     "execution_count": 83,
     "metadata": {},
     "output_type": "execute_result"
    }
   ],
   "source": [
    "test9()"
   ]
  },
  {
   "cell_type": "code",
   "execution_count": 84,
   "id": "15caf427-097e-4813-8902-9add11fbd30e",
   "metadata": {},
   "outputs": [
    {
     "data": {
      "text/plain": [
       "(1, 2, 5, 9)"
      ]
     },
     "execution_count": 84,
     "metadata": {},
     "output_type": "execute_result"
    }
   ],
   "source": [
    "test9(1,2,5,9)"
   ]
  },
  {
   "cell_type": "code",
   "execution_count": 85,
   "id": "7ac5f6ba-633c-4a71-a92c-1ef153e026ea",
   "metadata": {},
   "outputs": [],
   "source": [
    "def test10(*n, a):\n",
    "    return n , a"
   ]
  },
  {
   "cell_type": "code",
   "execution_count": 87,
   "id": "07317100-b7d5-412c-8f15-3d6f7947403d",
   "metadata": {},
   "outputs": [
    {
     "ename": "TypeError",
     "evalue": "test10() missing 1 required keyword-only argument: 'a'",
     "output_type": "error",
     "traceback": [
      "\u001b[0;31m---------------------------------------------------------------------------\u001b[0m",
      "\u001b[0;31mTypeError\u001b[0m                                 Traceback (most recent call last)",
      "Cell \u001b[0;32mIn[87], line 1\u001b[0m\n\u001b[0;32m----> 1\u001b[0m \u001b[43mtest10\u001b[49m\u001b[43m(\u001b[49m\u001b[38;5;241;43m1\u001b[39;49m\u001b[43m,\u001b[49m\u001b[38;5;241;43m2\u001b[39;49m\u001b[43m,\u001b[49m\u001b[38;5;241;43m3\u001b[39;49m\u001b[43m)\u001b[49m\n",
      "\u001b[0;31mTypeError\u001b[0m: test10() missing 1 required keyword-only argument: 'a'"
     ]
    }
   ],
   "source": [
    "test10(1,2,3)"
   ]
  },
  {
   "cell_type": "code",
   "execution_count": 89,
   "id": "55e8363e-0607-41d8-bc0d-4e7b1909daba",
   "metadata": {},
   "outputs": [
    {
     "data": {
      "text/plain": [
       "((1, 2, 3), 23)"
      ]
     },
     "execution_count": 89,
     "metadata": {},
     "output_type": "execute_result"
    }
   ],
   "source": [
    "test10(1,2,3,a=23)"
   ]
  },
  {
   "cell_type": "code",
   "execution_count": 95,
   "id": "430ca294-8366-490a-b909-9e81055c98ae",
   "metadata": {},
   "outputs": [],
   "source": [
    "def test11(c,d,a=23,b=4):\n",
    "    return a,b,c,d"
   ]
  },
  {
   "cell_type": "code",
   "execution_count": 91,
   "id": "a493f60c-35eb-4182-89a7-bef94366f7a3",
   "metadata": {},
   "outputs": [
    {
     "ename": "TypeError",
     "evalue": "test11() missing 2 required positional arguments: 'c' and 'd'",
     "output_type": "error",
     "traceback": [
      "\u001b[0;31m---------------------------------------------------------------------------\u001b[0m",
      "\u001b[0;31mTypeError\u001b[0m                                 Traceback (most recent call last)",
      "Cell \u001b[0;32mIn[91], line 1\u001b[0m\n\u001b[0;32m----> 1\u001b[0m \u001b[43mtest11\u001b[49m\u001b[43m(\u001b[49m\u001b[43m)\u001b[49m\n",
      "\u001b[0;31mTypeError\u001b[0m: test11() missing 2 required positional arguments: 'c' and 'd'"
     ]
    }
   ],
   "source": [
    "test11()"
   ]
  },
  {
   "cell_type": "code",
   "execution_count": 94,
   "id": "da37afa7-45c0-4e96-a8b7-91bb1ccdeb66",
   "metadata": {},
   "outputs": [
    {
     "data": {
      "text/plain": [
       "(23, 4, 2, 3)"
      ]
     },
     "execution_count": 94,
     "metadata": {},
     "output_type": "execute_result"
    }
   ],
   "source": [
    "test11(2,3)"
   ]
  },
  {
   "cell_type": "code",
   "execution_count": 97,
   "id": "75faf4f0-c7e6-4133-ae6d-98be2dc5f678",
   "metadata": {},
   "outputs": [
    {
     "data": {
      "text/plain": [
       "(32, 4, 2, 3)"
      ]
     },
     "execution_count": 97,
     "metadata": {},
     "output_type": "execute_result"
    }
   ],
   "source": [
    "test11(2,3,a=32)"
   ]
  },
  {
   "cell_type": "code",
   "execution_count": 25,
   "id": "91e90712-bacb-488c-bffe-7b40802d7bb4",
   "metadata": {},
   "outputs": [],
   "source": [
    "## for return as key:value pair for a dic, use double ** \n",
    "def test12(**n):\n",
    "    return n"
   ]
  },
  {
   "cell_type": "code",
   "execution_count": 26,
   "id": "d93d42b1-59ac-474d-a104-fd2d6cf02e97",
   "metadata": {},
   "outputs": [
    {
     "data": {
      "text/plain": [
       "{}"
      ]
     },
     "execution_count": 26,
     "metadata": {},
     "output_type": "execute_result"
    }
   ],
   "source": [
    "test12()"
   ]
  },
  {
   "cell_type": "code",
   "execution_count": 27,
   "id": "5263d02b-fa49-4ee4-adce-f0be71d6e3da",
   "metadata": {},
   "outputs": [
    {
     "data": {
      "text/plain": [
       "{'a': 'value1', 'b': 'value2', 'c': 'value3'}"
      ]
     },
     "execution_count": 27,
     "metadata": {},
     "output_type": "execute_result"
    }
   ],
   "source": [
    "test12(a=\"value1\",b=\"value2\", c=\"value3\")"
   ]
  },
  {
   "cell_type": "code",
   "execution_count": null,
   "id": "0de76e2e-1dc0-46df-b8e7-ab2282747f21",
   "metadata": {},
   "outputs": [],
   "source": []
  }
 ],
 "metadata": {
  "kernelspec": {
   "display_name": "Python 3 (ipykernel)",
   "language": "python",
   "name": "python3"
  },
  "language_info": {
   "codemirror_mode": {
    "name": "ipython",
    "version": 3
   },
   "file_extension": ".py",
   "mimetype": "text/x-python",
   "name": "python",
   "nbconvert_exporter": "python",
   "pygments_lexer": "ipython3",
   "version": "3.10.8"
  }
 },
 "nbformat": 4,
 "nbformat_minor": 5
}
