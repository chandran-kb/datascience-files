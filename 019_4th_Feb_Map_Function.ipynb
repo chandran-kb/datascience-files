{
 "cells": [
  {
   "cell_type": "code",
   "execution_count": null,
   "id": "4865a59c-17c8-4017-acca-702422c474cb",
   "metadata": {},
   "outputs": [],
   "source": [
    "## Map functions applies a function cumulatively to elements of an iterable, from left to right"
   ]
  },
  {
   "cell_type": "code",
   "execution_count": 24,
   "id": "0fdb3086-0d4d-48e6-8853-d6c1df83c251",
   "metadata": {},
   "outputs": [],
   "source": [
    "l=range(2,9)"
   ]
  },
  {
   "cell_type": "code",
   "execution_count": 45,
   "id": "6e67e4ef-2d39-4ab7-8e1c-6dd9bdea677e",
   "metadata": {},
   "outputs": [],
   "source": [
    "# to get the squares of numbers in l\n",
    "\n",
    "def sq():\n",
    "    l1=[]\n",
    "    for i in l:\n",
    "        l1.append(i**2)\n",
    "    return l1"
   ]
  },
  {
   "cell_type": "code",
   "execution_count": 47,
   "id": "1473b157-7347-4544-a6a6-92cd6c455529",
   "metadata": {},
   "outputs": [
    {
     "data": {
      "text/plain": [
       "[4, 9, 16, 25, 36, 49, 64]"
      ]
     },
     "execution_count": 47,
     "metadata": {},
     "output_type": "execute_result"
    }
   ],
   "source": [
    "sq()"
   ]
  },
  {
   "cell_type": "code",
   "execution_count": 55,
   "id": "faab4da7-899b-4501-8f0f-608db1a3cbf6",
   "metadata": {},
   "outputs": [],
   "source": [
    "\n",
    "def sq():\n",
    "    for i in l:\n",
    "        print (i**2)"
   ]
  },
  {
   "cell_type": "code",
   "execution_count": 56,
   "id": "380fa0a3-2300-421c-8db6-dac70bdfddb7",
   "metadata": {},
   "outputs": [
    {
     "name": "stdout",
     "output_type": "stream",
     "text": [
      "4\n",
      "9\n",
      "16\n",
      "25\n",
      "36\n",
      "49\n",
      "64\n"
     ]
    }
   ],
   "source": [
    "sq()"
   ]
  },
  {
   "cell_type": "code",
   "execution_count": 57,
   "id": "78988223-34bc-4aa8-bbe0-433f9e021d89",
   "metadata": {},
   "outputs": [
    {
     "data": {
      "text/plain": [
       "[4, 9, 16, 25, 36, 49, 64]"
      ]
     },
     "execution_count": 57,
     "metadata": {},
     "output_type": "execute_result"
    }
   ],
   "source": [
    "[i**2 for i in l]"
   ]
  },
  {
   "cell_type": "code",
   "execution_count": 37,
   "id": "b581ab42-a385-4271-9d5d-8ad6680aac40",
   "metadata": {},
   "outputs": [],
   "source": [
    "## map function is used to map a function to a list or data\n",
    "## map is used when you want to perform a function on all the items in a list"
   ]
  },
  {
   "cell_type": "code",
   "execution_count": 30,
   "id": "342e7952-16f4-4066-affc-d2c7063f364a",
   "metadata": {},
   "outputs": [],
   "source": [
    "## let's create a function first\n",
    "\n",
    "def sq2(x):\n",
    "    return x**2 "
   ]
  },
  {
   "cell_type": "code",
   "execution_count": 33,
   "id": "c3df3154-3a95-4e06-a2ef-8c9efee058c2",
   "metadata": {},
   "outputs": [
    {
     "data": {
      "text/plain": [
       "<map at 0x7f685c0a3b50>"
      ]
     },
     "execution_count": 33,
     "metadata": {},
     "output_type": "execute_result"
    }
   ],
   "source": [
    "## now map this function with the list l\n",
    "map(sq2,l)"
   ]
  },
  {
   "cell_type": "code",
   "execution_count": 34,
   "id": "d4d45bca-a0de-4101-8986-0eedcf61a60c",
   "metadata": {},
   "outputs": [],
   "source": [
    "l5=map(sq2,l)"
   ]
  },
  {
   "cell_type": "code",
   "execution_count": 35,
   "id": "dd325d5c-5ab9-4263-93fd-aa9b21269e2b",
   "metadata": {},
   "outputs": [
    {
     "data": {
      "text/plain": [
       "<map at 0x7f685c045ff0>"
      ]
     },
     "execution_count": 35,
     "metadata": {},
     "output_type": "execute_result"
    }
   ],
   "source": [
    "l5"
   ]
  },
  {
   "cell_type": "code",
   "execution_count": 36,
   "id": "056a9c91-7422-4465-95d8-85cc9222dec5",
   "metadata": {},
   "outputs": [
    {
     "data": {
      "text/plain": [
       "[4, 9, 16, 25, 36, 49, 64]"
      ]
     },
     "execution_count": 36,
     "metadata": {},
     "output_type": "execute_result"
    }
   ],
   "source": [
    "list(l5)"
   ]
  },
  {
   "cell_type": "code",
   "execution_count": 59,
   "id": "55321041-fe5d-4155-9940-dae93c703c1b",
   "metadata": {},
   "outputs": [
    {
     "data": {
      "text/plain": [
       "[8, 27, 64, 125, 216, 343, 512]"
      ]
     },
     "execution_count": 59,
     "metadata": {},
     "output_type": "execute_result"
    }
   ],
   "source": [
    "## mapping using lambda\n",
    "list(map(lambda x : x**3 , l))"
   ]
  },
  {
   "cell_type": "code",
   "execution_count": 4,
   "id": "45f8b6c2-7964-4eeb-bc30-8859e7db5c65",
   "metadata": {},
   "outputs": [],
   "source": [
    "## adding numbers from each list using map and lambda\n",
    "l1=range(1,7)\n",
    "l2=range(6,13)\n",
    "l3=map(lambda x,y : x+y, l1,l2)"
   ]
  },
  {
   "cell_type": "code",
   "execution_count": 5,
   "id": "201db679-ee1c-493a-9d7b-c3752fce1f9d",
   "metadata": {},
   "outputs": [
    {
     "data": {
      "text/plain": [
       "[7, 9, 11, 13, 15, 17]"
      ]
     },
     "execution_count": 5,
     "metadata": {},
     "output_type": "execute_result"
    }
   ],
   "source": [
    "list(l3)"
   ]
  },
  {
   "cell_type": "code",
   "execution_count": 6,
   "id": "c43b5126-3d56-4321-8719-edd6e762ecdc",
   "metadata": {},
   "outputs": [],
   "source": [
    "## adding numbers from each list using map and external function\n",
    "def addd(x,y):\n",
    "    return x+y\n"
   ]
  },
  {
   "cell_type": "code",
   "execution_count": 72,
   "id": "04688b61-8163-4f03-b4d0-7a7c6602a212",
   "metadata": {},
   "outputs": [
    {
     "data": {
      "text/plain": [
       "[7, 9, 11, 13, 15, 17]"
      ]
     },
     "execution_count": 72,
     "metadata": {},
     "output_type": "execute_result"
    }
   ],
   "source": [
    "list(map(addd, l1,l2))"
   ]
  },
  {
   "cell_type": "code",
   "execution_count": 73,
   "id": "e50d8e3d-d12f-4517-b021-238fd3fd6815",
   "metadata": {},
   "outputs": [],
   "source": [
    "## convert to upper case\n",
    "s=\"pwskills\""
   ]
  },
  {
   "cell_type": "code",
   "execution_count": 74,
   "id": "d27146f7-1f54-444f-800e-03fe1767f538",
   "metadata": {},
   "outputs": [
    {
     "data": {
      "text/plain": [
       "'PWSKILLS'"
      ]
     },
     "execution_count": 74,
     "metadata": {},
     "output_type": "execute_result"
    }
   ],
   "source": [
    "s.upper()"
   ]
  },
  {
   "cell_type": "code",
   "execution_count": 75,
   "id": "93e68f49-2ef6-4944-8c28-14d854d342f4",
   "metadata": {},
   "outputs": [],
   "source": [
    "## converting using external function and map\n",
    "def up(x):\n",
    "    return x.upper()"
   ]
  },
  {
   "cell_type": "code",
   "execution_count": 81,
   "id": "8bda2bec-19c6-4a65-9907-c7af9d813f3b",
   "metadata": {},
   "outputs": [
    {
     "data": {
      "text/plain": [
       "['P', 'W', 'S', 'K', 'I', 'L', 'L', 'S']"
      ]
     },
     "execution_count": 81,
     "metadata": {},
     "output_type": "execute_result"
    }
   ],
   "source": [
    "list(map(up, s))"
   ]
  },
  {
   "cell_type": "code",
   "execution_count": 82,
   "id": "3811661c-4c65-458a-8db6-332ebc2c5a52",
   "metadata": {},
   "outputs": [
    {
     "data": {
      "text/plain": [
       "['P', 'W', 'S', 'K', 'I', 'L', 'L', 'S']"
      ]
     },
     "execution_count": 82,
     "metadata": {},
     "output_type": "execute_result"
    }
   ],
   "source": [
    "## converting using lambda and map\n",
    "list(map(lambda x : x.upper(),s))"
   ]
  },
  {
   "cell_type": "code",
   "execution_count": null,
   "id": "1ab5ee9e-a5f0-44e7-9311-0c2a96780452",
   "metadata": {},
   "outputs": [],
   "source": []
  },
  {
   "cell_type": "code",
   "execution_count": null,
   "id": "1c969df1-59d6-4b01-9c69-48684dbe1db1",
   "metadata": {},
   "outputs": [],
   "source": []
  }
 ],
 "metadata": {
  "kernelspec": {
   "display_name": "Python 3 (ipykernel)",
   "language": "python",
   "name": "python3"
  },
  "language_info": {
   "codemirror_mode": {
    "name": "ipython",
    "version": 3
   },
   "file_extension": ".py",
   "mimetype": "text/x-python",
   "name": "python",
   "nbconvert_exporter": "python",
   "pygments_lexer": "ipython3",
   "version": "3.10.8"
  }
 },
 "nbformat": 4,
 "nbformat_minor": 5
}
