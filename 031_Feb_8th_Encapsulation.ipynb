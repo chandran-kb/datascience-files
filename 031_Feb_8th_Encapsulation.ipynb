{
 "cells": [
  {
   "cell_type": "code",
   "execution_count": 6,
   "id": "6e8a0c00-9516-4494-9934-57b9dd9cdf30",
   "metadata": {},
   "outputs": [],
   "source": [
    "#It is used when you want to protect some data or varialble from the user \n",
    "# or prevent the user from seeing the data. This will not allow the user to modify the data"
   ]
  },
  {
   "cell_type": "code",
   "execution_count": 5,
   "id": "a18928e9-dc89-4ebb-a5e7-e6cd97316e0e",
   "metadata": {},
   "outputs": [],
   "source": [
    "class test:\n",
    "    \n",
    "    def __init__(self, a,b):\n",
    "        self.a =a\n",
    "        self.b =b"
   ]
  },
  {
   "cell_type": "code",
   "execution_count": 41,
   "id": "48fc10ea-329c-4526-beb8-6091b7182bab",
   "metadata": {},
   "outputs": [],
   "source": [
    "t=test(6,35)"
   ]
  },
  {
   "cell_type": "code",
   "execution_count": 47,
   "id": "b8c8c336-e75f-4556-9dd2-24e9160b7575",
   "metadata": {},
   "outputs": [],
   "source": [
    "t.a =244455"
   ]
  },
  {
   "cell_type": "code",
   "execution_count": 48,
   "id": "834403b0-7afe-4010-aefd-63119f5dae3d",
   "metadata": {},
   "outputs": [
    {
     "data": {
      "text/plain": [
       "244455"
      ]
     },
     "execution_count": 48,
     "metadata": {},
     "output_type": "execute_result"
    }
   ],
   "source": [
    "t.a"
   ]
  },
  {
   "cell_type": "code",
   "execution_count": 49,
   "id": "ff627ae1-1a41-4206-b024-06151338d3fa",
   "metadata": {},
   "outputs": [],
   "source": [
    "t.b =5545"
   ]
  },
  {
   "cell_type": "code",
   "execution_count": 50,
   "id": "04ff256b-c0c9-421b-84a1-032c1700bd32",
   "metadata": {},
   "outputs": [
    {
     "data": {
      "text/plain": [
       "5545"
      ]
     },
     "execution_count": 50,
     "metadata": {},
     "output_type": "execute_result"
    }
   ],
   "source": [
    "t.b"
   ]
  },
  {
   "cell_type": "code",
   "execution_count": 51,
   "id": "cf309407-c312-4a03-a177-58b1cda75d6f",
   "metadata": {},
   "outputs": [],
   "source": [
    "# in the above example, we are able to change the value or a and b"
   ]
  },
  {
   "cell_type": "code",
   "execution_count": 56,
   "id": "20aed9d0-216a-4dd2-a425-4afcc3594f29",
   "metadata": {},
   "outputs": [],
   "source": [
    "class car:\n",
    "    def __init__(self, year, make, model, speed):\n",
    "        self.__year = year\n",
    "## __ here hides the data/variable from the user\n",
    "        self.__make =make\n",
    "        self.__model = model\n",
    "        self.__speed = speed\n",
    "        "
   ]
  },
  {
   "cell_type": "code",
   "execution_count": 57,
   "id": "372acde0-ef8d-43fc-895e-4389f72b86cb",
   "metadata": {},
   "outputs": [],
   "source": [
    "c=car(2021, \"toyota\", \"innova\" , 12)"
   ]
  },
  {
   "cell_type": "code",
   "execution_count": 60,
   "id": "d22defc3-f093-407b-bf30-7fd32094c9d2",
   "metadata": {},
   "outputs": [
    {
     "data": {
      "text/plain": [
       "2021"
      ]
     },
     "execution_count": 60,
     "metadata": {},
     "output_type": "execute_result"
    }
   ],
   "source": [
    "## Generally you would have called the vairable as c.year\n",
    "## but here, since the variable is hidden, you need to call as c._car__year\n",
    "c._car__year"
   ]
  },
  {
   "cell_type": "code",
   "execution_count": 61,
   "id": "2bca83b7-5aae-4193-94d6-a81772b2aed4",
   "metadata": {},
   "outputs": [
    {
     "data": {
      "text/plain": [
       "'toyota'"
      ]
     },
     "execution_count": 61,
     "metadata": {},
     "output_type": "execute_result"
    }
   ],
   "source": [
    "c._car__make"
   ]
  },
  {
   "cell_type": "code",
   "execution_count": 79,
   "id": "c22c098a-2ca0-4963-9b01-3c1fed1b79a1",
   "metadata": {},
   "outputs": [],
   "source": [
    "## if you want the user to get the data/variable under condition\n",
    "\n",
    "class car:\n",
    "    def __init__(self, year, make, model, speed):\n",
    "        self.__year = year\n",
    "## __ here hides the data/variable from the user\n",
    "        self.__make =make\n",
    "        self.__model = model\n",
    "        self.__speed = speed\n",
    "    \n",
    "    def set_speed(self, speed ):\n",
    "        self.__speed = 0 if speed <0 else speed\n",
    "    def get_speed(self):\n",
    "        return self.__speed"
   ]
  },
  {
   "cell_type": "code",
   "execution_count": 80,
   "id": "63cbd365-9e6f-4bb5-a86c-02556f4d798b",
   "metadata": {},
   "outputs": [],
   "source": [
    "cc=car(2021, \"toyota\", \"innova\" , 12)"
   ]
  },
  {
   "cell_type": "code",
   "execution_count": 81,
   "id": "dae460c1-0735-4512-aaa6-b8de5b9b96ec",
   "metadata": {},
   "outputs": [],
   "source": [
    "cc.set_speed(65)"
   ]
  },
  {
   "cell_type": "code",
   "execution_count": 82,
   "id": "e02af217-ebc4-45c3-a0fa-edd757cf87f2",
   "metadata": {},
   "outputs": [
    {
     "data": {
      "text/plain": [
       "65"
      ]
     },
     "execution_count": 82,
     "metadata": {},
     "output_type": "execute_result"
    }
   ],
   "source": [
    "cc.get_speed()"
   ]
  },
  {
   "cell_type": "code",
   "execution_count": 72,
   "id": "9a726f60-dece-48b2-bf51-986fd2f721c7",
   "metadata": {},
   "outputs": [
    {
     "data": {
      "text/plain": [
       "<__main__.car at 0x7ff204551ba0>"
      ]
     },
     "execution_count": 72,
     "metadata": {},
     "output_type": "execute_result"
    }
   ],
   "source": [
    "cc"
   ]
  },
  {
   "cell_type": "code",
   "execution_count": 83,
   "id": "bdd321d1-8520-4fcd-904c-1278ee777c80",
   "metadata": {},
   "outputs": [
    {
     "data": {
      "text/plain": [
       "65"
      ]
     },
     "execution_count": 83,
     "metadata": {},
     "output_type": "execute_result"
    }
   ],
   "source": [
    "cc._car__speed"
   ]
  },
  {
   "cell_type": "code",
   "execution_count": null,
   "id": "930a3a5b-7098-4425-94ad-d61b4c76319a",
   "metadata": {},
   "outputs": [],
   "source": []
  },
  {
   "cell_type": "code",
   "execution_count": 115,
   "id": "f040cf02-a846-4049-80e4-c12f8cc079a0",
   "metadata": {},
   "outputs": [],
   "source": [
    "class bank_account:\n",
    "    def __init__(self, balance):\n",
    "        self.__balance = balance\n",
    "    def deposit(self, amount):\n",
    "        self.__balance =self.__balance + amount\n",
    "        self.amount= amount\n",
    "        \n",
    "    def withdrawal(self , amount):\n",
    "        if self.__balance >= amount :\n",
    "            self.__balance = self.__balance - amount\n",
    "            self.amount= amount\n",
    "        else : \n",
    "            return \"Insufficient Balance\"\n",
    "        \n",
    "    def get_balance(self):\n",
    "        return self.__balance\n",
    "        "
   ]
  },
  {
   "cell_type": "code",
   "execution_count": 116,
   "id": "16b3a2a1-8b26-4e49-857f-1924b3b6beb5",
   "metadata": {},
   "outputs": [],
   "source": [
    "bharath = bank_account(5000)"
   ]
  },
  {
   "cell_type": "code",
   "execution_count": 117,
   "id": "8a65d530-837c-441e-9b19-b37b0869461c",
   "metadata": {},
   "outputs": [
    {
     "data": {
      "text/plain": [
       "5000"
      ]
     },
     "execution_count": 117,
     "metadata": {},
     "output_type": "execute_result"
    }
   ],
   "source": [
    "bharath.get_balance()"
   ]
  },
  {
   "cell_type": "code",
   "execution_count": 118,
   "id": "3d490c80-895b-41de-9dd6-8cce59cbd284",
   "metadata": {},
   "outputs": [],
   "source": [
    "bharath.deposit(2000)"
   ]
  },
  {
   "cell_type": "code",
   "execution_count": 119,
   "id": "219c471f-db4d-4e7c-89bf-8b23b25809be",
   "metadata": {},
   "outputs": [
    {
     "data": {
      "text/plain": [
       "7000"
      ]
     },
     "execution_count": 119,
     "metadata": {},
     "output_type": "execute_result"
    }
   ],
   "source": [
    "bharath.get_balance()"
   ]
  },
  {
   "cell_type": "code",
   "execution_count": 120,
   "id": "5447eb66-04bf-4e30-a17c-a1214dfb5c2b",
   "metadata": {},
   "outputs": [],
   "source": [
    "bharath.withdrawal(5000)"
   ]
  },
  {
   "cell_type": "code",
   "execution_count": 121,
   "id": "a8709d0f-74e2-4234-be5d-0d8e47bf931d",
   "metadata": {},
   "outputs": [
    {
     "data": {
      "text/plain": [
       "2000"
      ]
     },
     "execution_count": 121,
     "metadata": {},
     "output_type": "execute_result"
    }
   ],
   "source": [
    "bharath.get_balance()"
   ]
  },
  {
   "cell_type": "code",
   "execution_count": 123,
   "id": "2ce461b1-8894-4fe6-9bfd-6850a572df0d",
   "metadata": {},
   "outputs": [],
   "source": [
    "bharath.withdrawal(1)"
   ]
  },
  {
   "cell_type": "code",
   "execution_count": 124,
   "id": "51daa16a-36a3-40dc-be3a-8916d5a6cfc9",
   "metadata": {},
   "outputs": [
    {
     "data": {
      "text/plain": [
       "1999"
      ]
     },
     "execution_count": 124,
     "metadata": {},
     "output_type": "execute_result"
    }
   ],
   "source": [
    "bharath.get_balance()"
   ]
  },
  {
   "cell_type": "code",
   "execution_count": null,
   "id": "a433cdb6-366b-4ac0-a01a-daaf9a77dfc7",
   "metadata": {},
   "outputs": [],
   "source": []
  }
 ],
 "metadata": {
  "kernelspec": {
   "display_name": "Python 3 (ipykernel)",
   "language": "python",
   "name": "python3"
  },
  "language_info": {
   "codemirror_mode": {
    "name": "ipython",
    "version": 3
   },
   "file_extension": ".py",
   "mimetype": "text/x-python",
   "name": "python",
   "nbconvert_exporter": "python",
   "pygments_lexer": "ipython3",
   "version": "3.10.8"
  }
 },
 "nbformat": 4,
 "nbformat_minor": 5
}
