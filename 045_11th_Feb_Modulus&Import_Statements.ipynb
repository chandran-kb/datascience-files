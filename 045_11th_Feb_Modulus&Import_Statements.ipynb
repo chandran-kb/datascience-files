{
 "cells": [
  {
   "cell_type": "code",
   "execution_count": 1,
   "id": "b7738574-c20a-4c0b-a161-32d391c1f1cd",
   "metadata": {},
   "outputs": [],
   "source": [
    "# in python module in PWlab"
   ]
  },
  {
   "cell_type": "code",
   "execution_count": null,
   "id": "39502d8b-1b83-4a80-a8c3-5d63e0c07399",
   "metadata": {},
   "outputs": [],
   "source": []
  }
 ],
 "metadata": {
  "kernelspec": {
   "display_name": "Python 3 (ipykernel)",
   "language": "python",
   "name": "python3"
  },
  "language_info": {
   "codemirror_mode": {
    "name": "ipython",
    "version": 3
   },
   "file_extension": ".py",
   "mimetype": "text/x-python",
   "name": "python",
   "nbconvert_exporter": "python",
   "pygments_lexer": "ipython3",
   "version": "3.10.8"
  }
 },
 "nbformat": 4,
 "nbformat_minor": 5
}
