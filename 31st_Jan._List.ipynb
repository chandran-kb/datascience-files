{
 "cells": [
  {
   "cell_type": "code",
   "execution_count": 1,
   "id": "df7fa2ae-a846-4150-822e-d0fda8388489",
   "metadata": {},
   "outputs": [],
   "source": [
    "l=[44, 636, 8, 7956 , \"bharath\", True, 54.5]"
   ]
  },
  {
   "cell_type": "code",
   "execution_count": 22,
   "id": "ea91a0f2-f31b-427c-b012-4bc81789ca76",
   "metadata": {},
   "outputs": [
    {
     "data": {
      "text/plain": [
       "[44, 636, 8, 7956, 'bharath', True, 54.5]"
      ]
     },
     "execution_count": 22,
     "metadata": {},
     "output_type": "execute_result"
    }
   ],
   "source": [
    "l"
   ]
  },
  {
   "cell_type": "code",
   "execution_count": 31,
   "id": "f1c17cc0-4e71-4ce4-a0bd-dfc90156e940",
   "metadata": {},
   "outputs": [
    {
     "data": {
      "text/plain": [
       "7"
      ]
     },
     "execution_count": 31,
     "metadata": {},
     "output_type": "execute_result"
    }
   ],
   "source": [
    "len(l)"
   ]
  },
  {
   "cell_type": "code",
   "execution_count": null,
   "id": "ca5d06ed-8613-482c-af6b-0c6b0d82db59",
   "metadata": {},
   "outputs": [],
   "source": [
    "## indexing and slicing and reversing of strings works same in List as well\n"
   ]
  },
  {
   "cell_type": "code",
   "execution_count": 27,
   "id": "0af05803-3d98-4559-903c-2a5a28de6c96",
   "metadata": {},
   "outputs": [
    {
     "data": {
      "text/plain": [
       "'bharath'"
      ]
     },
     "execution_count": 27,
     "metadata": {},
     "output_type": "execute_result"
    }
   ],
   "source": [
    "##indexing\n",
    "l[4] "
   ]
  },
  {
   "cell_type": "code",
   "execution_count": 32,
   "id": "1618c891-ff46-4e4c-ac16-b5d9b24a804d",
   "metadata": {},
   "outputs": [
    {
     "data": {
      "text/plain": [
       "54.5"
      ]
     },
     "execution_count": 32,
     "metadata": {},
     "output_type": "execute_result"
    }
   ],
   "source": [
    "#negative indexing \n",
    "l[-1]"
   ]
  },
  {
   "cell_type": "code",
   "execution_count": 29,
   "id": "4d372943-5794-4c16-beaf-79304d467fee",
   "metadata": {},
   "outputs": [
    {
     "data": {
      "text/plain": [
       "[44, 636, 8, 7956, 'bharath']"
      ]
     },
     "execution_count": 29,
     "metadata": {},
     "output_type": "execute_result"
    }
   ],
   "source": [
    "#slicing\n",
    "l[0:5] "
   ]
  },
  {
   "cell_type": "code",
   "execution_count": 24,
   "id": "1a8d5187-c0f3-4468-bdf6-298744b2a1ae",
   "metadata": {},
   "outputs": [
    {
     "data": {
      "text/plain": [
       "[54.5, True, 'bharath', 7956]"
      ]
     },
     "execution_count": 24,
     "metadata": {},
     "output_type": "execute_result"
    }
   ],
   "source": [
    "#negative slicing\n",
    "l[-1:-5:-1]"
   ]
  },
  {
   "cell_type": "code",
   "execution_count": 51,
   "id": "4a6b2141-3716-4cad-8e87-72c0b1def947",
   "metadata": {},
   "outputs": [
    {
     "data": {
      "text/plain": [
       "[44, 8, 'bharath', 54.5]"
      ]
     },
     "execution_count": 51,
     "metadata": {},
     "output_type": "execute_result"
    }
   ],
   "source": [
    "##slicing using jump\n",
    "l[::2]"
   ]
  },
  {
   "cell_type": "code",
   "execution_count": 52,
   "id": "0d67de93-5433-4285-b26f-94eb0e4aa42c",
   "metadata": {},
   "outputs": [
    {
     "data": {
      "text/plain": [
       "'bh'"
      ]
     },
     "execution_count": 52,
     "metadata": {},
     "output_type": "execute_result"
    }
   ],
   "source": [
    "## slicing a string inside the list\n",
    "l[4][0:2]"
   ]
  },
  {
   "cell_type": "code",
   "execution_count": 35,
   "id": "607fb9f4-7d99-4e81-a5d5-bdd91854df1c",
   "metadata": {},
   "outputs": [
    {
     "data": {
      "text/plain": [
       "[54.5, True, 'bharath', 7956, 8, 636, 44]"
      ]
     },
     "execution_count": 35,
     "metadata": {},
     "output_type": "execute_result"
    }
   ],
   "source": [
    "#reversing\n",
    "l[::-1]"
   ]
  },
  {
   "cell_type": "code",
   "execution_count": 33,
   "id": "a6c11f75-ec53-40ca-bbd9-cb5f1c63d370",
   "metadata": {},
   "outputs": [
    {
     "data": {
      "text/plain": [
       "[54.5, True, 'bharath', 7956, 8, 636, 44]"
      ]
     },
     "execution_count": 33,
     "metadata": {},
     "output_type": "execute_result"
    }
   ],
   "source": [
    "#reversing using alternate method\n",
    "l[-1:-len(l)-1:-1]"
   ]
  },
  {
   "cell_type": "code",
   "execution_count": 44,
   "id": "181acd29-79c5-4d38-bb22-1a5271494105",
   "metadata": {},
   "outputs": [
    {
     "data": {
      "text/plain": [
       "[44, 636, 8, 7956, 'bharath', True, 54.5]"
      ]
     },
     "execution_count": 44,
     "metadata": {},
     "output_type": "execute_result"
    }
   ],
   "source": [
    "l"
   ]
  },
  {
   "cell_type": "code",
   "execution_count": 87,
   "id": "042f56cb-3c8b-449c-91e4-9eeea291cf28",
   "metadata": {},
   "outputs": [],
   "source": [
    "## concatenation works when you have 2 lists. otherwise it wont work\n",
    "## append and insert also has similar functionality but it updates the list unlike concatenation \n",
    "### append adds the data at the end, insert adds the data based on index"
   ]
  },
  {
   "cell_type": "code",
   "execution_count": 88,
   "id": "4d8bbf3b-0409-480e-a54d-189119736ca2",
   "metadata": {},
   "outputs": [],
   "source": [
    "### similary pop and remove are used to delete the data\n",
    "### pop deletes the data based on index (bydefault it takes the last index) and remove deletes the data which is entered"
   ]
  },
  {
   "cell_type": "code",
   "execution_count": 57,
   "id": "ad74178a-55ae-4947-b874-80ebd5dae6e5",
   "metadata": {},
   "outputs": [
    {
     "data": {
      "text/plain": [
       "[44, 636, 8, 7956, 'bharath', True, 54.5, 5]"
      ]
     },
     "execution_count": 57,
     "metadata": {},
     "output_type": "execute_result"
    }
   ],
   "source": [
    "l+[5]"
   ]
  },
  {
   "cell_type": "code",
   "execution_count": 60,
   "id": "df64ef71-9396-4781-8a9a-da6d7e1e4672",
   "metadata": {},
   "outputs": [
    {
     "data": {
      "text/plain": [
       "[44, 636, 8, 7956, 'bharath', True, 54.5, 3]"
      ]
     },
     "execution_count": 60,
     "metadata": {},
     "output_type": "execute_result"
    }
   ],
   "source": [
    "s=[3]\n",
    "l+s"
   ]
  },
  {
   "cell_type": "code",
   "execution_count": 64,
   "id": "663c53f9-5409-441c-bd27-dfb810bd0c4c",
   "metadata": {},
   "outputs": [
    {
     "data": {
      "text/plain": [
       "[44, 636, 8, 7956, 'bharath', True, 54.5]"
      ]
     },
     "execution_count": 64,
     "metadata": {},
     "output_type": "execute_result"
    }
   ],
   "source": [
    "l"
   ]
  },
  {
   "cell_type": "code",
   "execution_count": 67,
   "id": "fd6ccad9-e8a0-4327-94ab-c2809186fa5b",
   "metadata": {},
   "outputs": [],
   "source": [
    "l.append(False)"
   ]
  },
  {
   "cell_type": "code",
   "execution_count": 68,
   "id": "617f8b01-e2ea-47fb-be35-125720114460",
   "metadata": {},
   "outputs": [
    {
     "data": {
      "text/plain": [
       "[44, 636, 8, 7956, 'bharath', True, 54.5, False]"
      ]
     },
     "execution_count": 68,
     "metadata": {},
     "output_type": "execute_result"
    }
   ],
   "source": [
    "l"
   ]
  },
  {
   "cell_type": "code",
   "execution_count": 69,
   "id": "b2e47aa8-7a4b-466d-92ad-1a7d712f25b5",
   "metadata": {},
   "outputs": [],
   "source": [
    "l.append(\"whysds\")"
   ]
  },
  {
   "cell_type": "code",
   "execution_count": 70,
   "id": "565885ad-c810-4384-b811-dd21b9825ef0",
   "metadata": {},
   "outputs": [
    {
     "data": {
      "text/plain": [
       "[44, 636, 8, 7956, 'bharath', True, 54.5, False, 'whysds']"
      ]
     },
     "execution_count": 70,
     "metadata": {},
     "output_type": "execute_result"
    }
   ],
   "source": [
    "l"
   ]
  },
  {
   "cell_type": "code",
   "execution_count": 82,
   "id": "b6a4a081-6d56-44c7-b3c8-e8a1c6333408",
   "metadata": {},
   "outputs": [],
   "source": [
    "l.insert(5,\"akshay\")"
   ]
  },
  {
   "cell_type": "code",
   "execution_count": 85,
   "id": "3cd66125-8102-483a-9470-f79f67f0e043",
   "metadata": {},
   "outputs": [
    {
     "data": {
      "text/plain": [
       "[44, 636, 8, 7956, 'bharath', 'akshay', True, 54.5, False, 'whysds']"
      ]
     },
     "execution_count": 85,
     "metadata": {},
     "output_type": "execute_result"
    }
   ],
   "source": [
    "l"
   ]
  },
  {
   "cell_type": "code",
   "execution_count": 89,
   "id": "f2dff39e-2143-4738-8126-e51afd856bdd",
   "metadata": {},
   "outputs": [
    {
     "data": {
      "text/plain": [
       "'whysds'"
      ]
     },
     "execution_count": 89,
     "metadata": {},
     "output_type": "execute_result"
    }
   ],
   "source": [
    "l.pop()"
   ]
  },
  {
   "cell_type": "code",
   "execution_count": 90,
   "id": "7f9faabb-992c-46bd-94f8-72f4822dd29e",
   "metadata": {},
   "outputs": [
    {
     "data": {
      "text/plain": [
       "[44, 636, 8, 7956, 'bharath', 'akshay', True, 54.5, False]"
      ]
     },
     "execution_count": 90,
     "metadata": {},
     "output_type": "execute_result"
    }
   ],
   "source": [
    "l"
   ]
  },
  {
   "cell_type": "code",
   "execution_count": 92,
   "id": "ff016659-433d-4f53-86b2-899192c0d611",
   "metadata": {},
   "outputs": [],
   "source": [
    "l.remove(False)"
   ]
  },
  {
   "cell_type": "code",
   "execution_count": 101,
   "id": "00fdfac0-44e2-4773-b8af-6d6866d89bd0",
   "metadata": {},
   "outputs": [
    {
     "data": {
      "text/plain": [
       "[44, 636, 8, 7956, [1, 2, 'bharath'], 'bharath', 'akshay', True, 54.5]"
      ]
     },
     "execution_count": 101,
     "metadata": {},
     "output_type": "execute_result"
    }
   ],
   "source": [
    "l"
   ]
  },
  {
   "cell_type": "code",
   "execution_count": 111,
   "id": "932d41b6-8080-46bf-9c94-f9f2d69b952f",
   "metadata": {},
   "outputs": [],
   "source": [
    "## extend is a function whcih splits the string and then adds it to the list\n",
    "## extend only takes iterable data (data which can be further broken data or unwraped)"
   ]
  },
  {
   "cell_type": "code",
   "execution_count": 105,
   "id": "5453a9b7-96c6-4295-8f30-038910c9ab95",
   "metadata": {},
   "outputs": [],
   "source": [
    "l.extend(\"bh\")"
   ]
  },
  {
   "cell_type": "code",
   "execution_count": 109,
   "id": "f95c5f23-1e88-4704-a938-d455ba970020",
   "metadata": {},
   "outputs": [
    {
     "data": {
      "text/plain": [
       "[44,\n",
       " 636,\n",
       " 8,\n",
       " 7956,\n",
       " [1, 2, 'bharath'],\n",
       " 'bharath',\n",
       " 'akshay',\n",
       " True,\n",
       " 54.5,\n",
       " 'b',\n",
       " 'h']"
      ]
     },
     "execution_count": 109,
     "metadata": {},
     "output_type": "execute_result"
    }
   ],
   "source": [
    "l"
   ]
  },
  {
   "cell_type": "code",
   "execution_count": 94,
   "id": "82531433-2103-4055-b008-b190ec98332b",
   "metadata": {},
   "outputs": [],
   "source": [
    "## list within list"
   ]
  },
  {
   "cell_type": "code",
   "execution_count": 153,
   "id": "af7b878d-e5df-4663-9bca-d57017a54580",
   "metadata": {},
   "outputs": [],
   "source": [
    "l.insert(4,[1,2,\"bharath\"])"
   ]
  },
  {
   "cell_type": "code",
   "execution_count": 154,
   "id": "941cfad8-3145-4b93-bef7-ecb7bd2a737b",
   "metadata": {},
   "outputs": [
    {
     "data": {
      "text/plain": [
       "[44,\n",
       " 636,\n",
       " 8,\n",
       " 7956,\n",
       " [1, 2, 'bharath'],\n",
       " [],\n",
       " 'bharath',\n",
       " 'akshay',\n",
       " True,\n",
       " 54.5,\n",
       " 'b',\n",
       " [888, 586],\n",
       " 'h']"
      ]
     },
     "execution_count": 154,
     "metadata": {},
     "output_type": "execute_result"
    }
   ],
   "source": [
    "l"
   ]
  },
  {
   "cell_type": "code",
   "execution_count": 135,
   "id": "830c9d9e-9ee3-4920-b0ee-3b9867376c98",
   "metadata": {},
   "outputs": [],
   "source": [
    "l.insert(-1,[888,586])"
   ]
  },
  {
   "cell_type": "code",
   "execution_count": 162,
   "id": "61adbb00-df32-4e37-b17b-98b8ffc65839",
   "metadata": {},
   "outputs": [
    {
     "data": {
      "text/plain": [
       "[44,\n",
       " 636,\n",
       " 8,\n",
       " 7956,\n",
       " [2, 'bharath'],\n",
       " 'bharath',\n",
       " 'akshay',\n",
       " True,\n",
       " 54.5,\n",
       " 'b',\n",
       " [888, 586],\n",
       " 'h']"
      ]
     },
     "execution_count": 162,
     "metadata": {},
     "output_type": "execute_result"
    }
   ],
   "source": [
    "l"
   ]
  },
  {
   "cell_type": "code",
   "execution_count": 157,
   "id": "ed3bd2b5-a539-4152-81d5-882e178f7627",
   "metadata": {},
   "outputs": [
    {
     "data": {
      "text/plain": [
       "1"
      ]
     },
     "execution_count": 157,
     "metadata": {},
     "output_type": "execute_result"
    }
   ],
   "source": [
    "###removing data within the list of list\n",
    "l[4].pop(0)"
   ]
  },
  {
   "cell_type": "code",
   "execution_count": 161,
   "id": "92588f28-19b7-4a35-aee6-483d1bc56b6d",
   "metadata": {},
   "outputs": [
    {
     "data": {
      "text/plain": [
       "[44,\n",
       " 636,\n",
       " 8,\n",
       " 7956,\n",
       " [2, 'bharath'],\n",
       " 'bharath',\n",
       " 'akshay',\n",
       " True,\n",
       " 54.5,\n",
       " 'b',\n",
       " [888, 586],\n",
       " 'h']"
      ]
     },
     "execution_count": 161,
     "metadata": {},
     "output_type": "execute_result"
    }
   ],
   "source": [
    "l"
   ]
  },
  {
   "cell_type": "code",
   "execution_count": 113,
   "id": "a5dec460-ee21-4b15-a394-4f25cac87d06",
   "metadata": {},
   "outputs": [
    {
     "data": {
      "text/plain": [
       "'r'"
      ]
     },
     "execution_count": 113,
     "metadata": {},
     "output_type": "execute_result"
    }
   ],
   "source": [
    "##indexing data within the list of list\n",
    "l[4][2][3]"
   ]
  },
  {
   "cell_type": "code",
   "execution_count": 114,
   "id": "e0be6021-10c4-4246-8c30-9a85d19b4e3d",
   "metadata": {},
   "outputs": [
    {
     "data": {
      "text/plain": [
       "'rYYYYYYYY'"
      ]
     },
     "execution_count": 114,
     "metadata": {},
     "output_type": "execute_result"
    }
   ],
   "source": [
    "l[4][2][3]+\"YYYYYYYY\""
   ]
  },
  {
   "cell_type": "code",
   "execution_count": 152,
   "id": "53a7c5b3-4480-45ba-a59d-63dc7bba0b34",
   "metadata": {},
   "outputs": [
    {
     "data": {
      "text/plain": [
       "[44, 636, 8, 7956, [], 'bharath', 'akshay', True, 54.5, 'b', [888, 586], 'h']"
      ]
     },
     "execution_count": 152,
     "metadata": {},
     "output_type": "execute_result"
    }
   ],
   "source": [
    "l"
   ]
  }
 ],
 "metadata": {
  "kernelspec": {
   "display_name": "Python 3 (ipykernel)",
   "language": "python",
   "name": "python3"
  },
  "language_info": {
   "codemirror_mode": {
    "name": "ipython",
    "version": 3
   },
   "file_extension": ".py",
   "mimetype": "text/x-python",
   "name": "python",
   "nbconvert_exporter": "python",
   "pygments_lexer": "ipython3",
   "version": "3.10.8"
  }
 },
 "nbformat": 4,
 "nbformat_minor": 5
}
