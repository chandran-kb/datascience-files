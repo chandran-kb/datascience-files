{
 "cells": [
  {
   "cell_type": "code",
   "execution_count": 3,
   "id": "b3a4b353-d990-41df-8be2-3c869875d97e",
   "metadata": {},
   "outputs": [
    {
     "name": "stdout",
     "output_type": "stream",
     "text": [
      "Error:  division by zero\n"
     ]
    }
   ],
   "source": [
    "try :\n",
    "    a=1/0\n",
    "except ZeroDivisionError as e:\n",
    "    print(\"Error: \" , e)"
   ]
  },
  {
   "cell_type": "code",
   "execution_count": 4,
   "id": "6b8ff019-0e70-4a50-861b-a8c10bf59d45",
   "metadata": {},
   "outputs": [
    {
     "name": "stdout",
     "output_type": "stream",
     "text": [
      "Error:  invalid literal for int() with base 10: 'bharath'\n"
     ]
    }
   ],
   "source": [
    "try :\n",
    "    int(\"bharath\")\n",
    "except (ValueError, TypeError) as e:\n",
    "    print(\"Error: \" , e)"
   ]
  },
  {
   "cell_type": "code",
   "execution_count": 5,
   "id": "bef12563-370b-4c5f-90c9-d65f901365de",
   "metadata": {},
   "outputs": [
    {
     "name": "stdout",
     "output_type": "stream",
     "text": [
      "There's an error\n"
     ]
    }
   ],
   "source": [
    "try : \n",
    "    int(\"bharath\")\n",
    "except :\n",
    "    print(\"There's an error\")"
   ]
  },
  {
   "cell_type": "code",
   "execution_count": 9,
   "id": "19e5877e-a5fd-4fd4-9650-760b7d4875c2",
   "metadata": {},
   "outputs": [
    {
     "name": "stdout",
     "output_type": "stream",
     "text": [
      "Error:  No module named 'bharath'\n"
     ]
    },
    {
     "data": {
      "text/plain": [
       "2.0"
      ]
     },
     "execution_count": 9,
     "metadata": {},
     "output_type": "execute_result"
    }
   ],
   "source": [
    "try : \n",
    "    import bharath\n",
    "except ImportError as e:\n",
    "    print(\"Error: \" ,e)\n",
    "10/5"
   ]
  },
  {
   "cell_type": "code",
   "execution_count": 18,
   "id": "9e41e263-aec9-4fce-a89a-3a09796620ea",
   "metadata": {},
   "outputs": [
    {
     "name": "stdout",
     "output_type": "stream",
     "text": [
      "Error :  'key3'\n"
     ]
    }
   ],
   "source": [
    "try : \n",
    "    d = {\"key1\" : 1 , \"key2\" : 2}\n",
    "    print(d[\"key3\"])\n",
    "except KeyError as e:\n",
    "    print(\"Error : \", e)"
   ]
  },
  {
   "cell_type": "code",
   "execution_count": 21,
   "id": "38c9274d-1cca-4c98-863f-29166fed531e",
   "metadata": {},
   "outputs": [
    {
     "name": "stdout",
     "output_type": "stream",
     "text": [
      "Error :  'str' object has no attribute 'test'\n"
     ]
    },
    {
     "data": {
      "text/plain": [
       "2.0"
      ]
     },
     "execution_count": 21,
     "metadata": {},
     "output_type": "execute_result"
    }
   ],
   "source": [
    "try :\n",
    "    \"bharath\".test()\n",
    "except AttributeError as e:\n",
    "    print(\"Error : \" , e)\n",
    "10/5"
   ]
  },
  {
   "cell_type": "code",
   "execution_count": 22,
   "id": "85d76095-e0eb-4373-98ab-3a5573a8834f",
   "metadata": {},
   "outputs": [
    {
     "name": "stdout",
     "output_type": "stream",
     "text": [
      "Error :  list index out of range\n"
     ]
    }
   ],
   "source": [
    "try :\n",
    "    l= [1,2,3]\n",
    "    l[6]\n",
    "except IndexError as e:\n",
    "    print(\"Error : \", e)"
   ]
  },
  {
   "cell_type": "code",
   "execution_count": 23,
   "id": "b20018b8-7ed2-4852-b83b-9d0ed2f0ca43",
   "metadata": {},
   "outputs": [
    {
     "name": "stdout",
     "output_type": "stream",
     "text": [
      "Error : unsupported operand type(s) for +: 'int' and 'str'\n"
     ]
    }
   ],
   "source": [
    "try :\n",
    "    123 + \"sudh\"\n",
    "except TypeError as e :\n",
    "    print(\"Error :\" , e)"
   ]
  },
  {
   "cell_type": "code",
   "execution_count": 24,
   "id": "f9379764-60dc-41d4-b59a-2f721d418c31",
   "metadata": {},
   "outputs": [
    {
     "name": "stdout",
     "output_type": "stream",
     "text": [
      "Error :  [Errno 2] No such file or directory: 'test'\n"
     ]
    }
   ],
   "source": [
    "try :\n",
    "    with open(\"test\", \"r\") as f:\n",
    "        test = f.read()\n",
    "except FileNotFoundError as e:\n",
    "    print(\"Error : \", e)"
   ]
  },
  {
   "cell_type": "code",
   "execution_count": 25,
   "id": "51d0fe3c-0bcf-4711-93f9-9fcf5daef1c6",
   "metadata": {},
   "outputs": [
    {
     "data": {
      "text/plain": [
       "['__cause__',\n",
       " '__class__',\n",
       " '__context__',\n",
       " '__delattr__',\n",
       " '__dict__',\n",
       " '__dir__',\n",
       " '__doc__',\n",
       " '__eq__',\n",
       " '__format__',\n",
       " '__ge__',\n",
       " '__getattribute__',\n",
       " '__gt__',\n",
       " '__hash__',\n",
       " '__init__',\n",
       " '__init_subclass__',\n",
       " '__le__',\n",
       " '__lt__',\n",
       " '__ne__',\n",
       " '__new__',\n",
       " '__reduce__',\n",
       " '__reduce_ex__',\n",
       " '__repr__',\n",
       " '__setattr__',\n",
       " '__setstate__',\n",
       " '__sizeof__',\n",
       " '__str__',\n",
       " '__subclasshook__',\n",
       " '__suppress_context__',\n",
       " '__traceback__',\n",
       " 'args',\n",
       " 'with_traceback']"
      ]
     },
     "execution_count": 25,
     "metadata": {},
     "output_type": "execute_result"
    }
   ],
   "source": [
    "dir(Exception)"
   ]
  },
  {
   "cell_type": "code",
   "execution_count": 27,
   "id": "757acd11-784e-4672-b194-6780fed74caf",
   "metadata": {},
   "outputs": [
    {
     "name": "stdout",
     "output_type": "stream",
     "text": [
      "Error1 : [Errno 2] No such file or directory: 'test'\n"
     ]
    }
   ],
   "source": [
    "try :\n",
    "    with open(\"test\", \"r\") as f:\n",
    "        test = f.read()\n",
    "except Exception as e :\n",
    "    print(\"Error1 :\" , e)\n",
    "except FileNotFoundError as e:\n",
    "    print(\"Error2 : \", e)"
   ]
  },
  {
   "cell_type": "code",
   "execution_count": 28,
   "id": "533ed438-08c0-48fe-8e3e-6f899ba366d5",
   "metadata": {},
   "outputs": [
    {
     "name": "stdout",
     "output_type": "stream",
     "text": [
      "Error2 :  [Errno 2] No such file or directory: 'test'\n"
     ]
    }
   ],
   "source": [
    "try :\n",
    "    with open(\"test\", \"r\") as f:\n",
    "        test = f.read()\n",
    "except FileNotFoundError as e:\n",
    "    print(\"Error2 : \", e)\n",
    "except Exception as e :\n",
    "    print(\"Error1 :\" , e)"
   ]
  },
  {
   "cell_type": "code",
   "execution_count": null,
   "id": "ae91c189-dd1b-44ac-9341-13fef77a7477",
   "metadata": {},
   "outputs": [],
   "source": []
  }
 ],
 "metadata": {
  "kernelspec": {
   "display_name": "Python 3 (ipykernel)",
   "language": "python",
   "name": "python3"
  },
  "language_info": {
   "codemirror_mode": {
    "name": "ipython",
    "version": 3
   },
   "file_extension": ".py",
   "mimetype": "text/x-python",
   "name": "python",
   "nbconvert_exporter": "python",
   "pygments_lexer": "ipython3",
   "version": "3.10.8"
  }
 },
 "nbformat": 4,
 "nbformat_minor": 5
}
