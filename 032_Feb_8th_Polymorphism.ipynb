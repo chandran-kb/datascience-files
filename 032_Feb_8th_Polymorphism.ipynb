{
 "cells": [
  {
   "cell_type": "code",
   "execution_count": 1,
   "id": "4908bd63-1c4c-46fc-b437-57d533b7a799",
   "metadata": {},
   "outputs": [],
   "source": [
    "## different behaviour of a same entity in different environment or conditions"
   ]
  },
  {
   "cell_type": "code",
   "execution_count": 2,
   "id": "e9924385-f16c-4619-9061-5a49c10213e6",
   "metadata": {},
   "outputs": [],
   "source": [
    "def test(a,b):\n",
    "    return a+b"
   ]
  },
  {
   "cell_type": "code",
   "execution_count": 4,
   "id": "4348cae2-c9ad-4571-a710-c53b39fe7a74",
   "metadata": {},
   "outputs": [
    {
     "data": {
      "text/plain": [
       "8"
      ]
     },
     "execution_count": 4,
     "metadata": {},
     "output_type": "execute_result"
    }
   ],
   "source": [
    "test (5,3)"
   ]
  },
  {
   "cell_type": "code",
   "execution_count": 7,
   "id": "46483ce7-3f49-4105-934a-a0d615d32049",
   "metadata": {},
   "outputs": [
    {
     "data": {
      "text/plain": [
       "'bh'"
      ]
     },
     "execution_count": 7,
     "metadata": {},
     "output_type": "execute_result"
    }
   ],
   "source": [
    "test (\"b\",\"h\")"
   ]
  },
  {
   "cell_type": "code",
   "execution_count": 8,
   "id": "aaa89c1c-ee0e-4d8a-8f88-ad38c3d8d2c2",
   "metadata": {},
   "outputs": [
    {
     "data": {
      "text/plain": [
       "[1, 3, 3, 4]"
      ]
     },
     "execution_count": 8,
     "metadata": {},
     "output_type": "execute_result"
    }
   ],
   "source": [
    "test([1,3],[3,4])"
   ]
  },
  {
   "cell_type": "code",
   "execution_count": 6,
   "id": "bb8262b4-0013-4053-a082-9d945cb55a25",
   "metadata": {},
   "outputs": [],
   "source": [
    "# for the above function, the result is additon when you enter integers\n",
    "# and the result is concatenation when you pass strings or lists as input\n",
    "# so the same functions show multiple behaviour with different data type"
   ]
  },
  {
   "cell_type": "code",
   "execution_count": 33,
   "id": "fe566bcc-46b2-49b4-866e-8eaf5851b002",
   "metadata": {},
   "outputs": [],
   "source": [
    "class data_science():\n",
    "    def syllabus(self):\n",
    "        print(\"this is my syllabus for data science masters\")"
   ]
  },
  {
   "cell_type": "code",
   "execution_count": 34,
   "id": "417f36e8-1f95-4c0f-8d85-2018ba94a45a",
   "metadata": {},
   "outputs": [],
   "source": [
    "class web_dev():\n",
    "    def syllabus(self):\n",
    "        print(\"this is my syllabus for web dev\")"
   ]
  },
  {
   "cell_type": "code",
   "execution_count": 35,
   "id": "721d6420-a5e5-4712-a3b4-658ba3511ff7",
   "metadata": {},
   "outputs": [],
   "source": [
    "## and external function \n",
    "def class_parcer(topics):\n",
    "    for i in topics:\n",
    "        i.syllabus()"
   ]
  },
  {
   "cell_type": "code",
   "execution_count": 36,
   "id": "9757934f-675a-4ee3-ba87-fc01fcf85566",
   "metadata": {},
   "outputs": [],
   "source": [
    "data_science = data_science()"
   ]
  },
  {
   "cell_type": "code",
   "execution_count": 37,
   "id": "8d9e45e6-e2c6-419a-b74d-7255e239ad16",
   "metadata": {},
   "outputs": [],
   "source": [
    "web_dev = web_dev()"
   ]
  },
  {
   "cell_type": "code",
   "execution_count": 38,
   "id": "67bd6c9b-1a83-474c-9c6f-6eff9e6bb505",
   "metadata": {},
   "outputs": [],
   "source": [
    "class_obj = [data_science, web_dev]"
   ]
  },
  {
   "cell_type": "code",
   "execution_count": 39,
   "id": "d5ed53e5-cd6a-472d-b64e-026a0002e588",
   "metadata": {},
   "outputs": [
    {
     "name": "stdout",
     "output_type": "stream",
     "text": [
      "this is my syllabus for data science masters\n",
      "this is my syllabus for web dev\n"
     ]
    }
   ],
   "source": [
    "class_parcer(class_obj)"
   ]
  },
  {
   "cell_type": "code",
   "execution_count": null,
   "id": "501a1b28-0dcd-4e9f-8995-4819f398e6e2",
   "metadata": {},
   "outputs": [],
   "source": []
  }
 ],
 "metadata": {
  "kernelspec": {
   "display_name": "Python 3 (ipykernel)",
   "language": "python",
   "name": "python3"
  },
  "language_info": {
   "codemirror_mode": {
    "name": "ipython",
    "version": 3
   },
   "file_extension": ".py",
   "mimetype": "text/x-python",
   "name": "python",
   "nbconvert_exporter": "python",
   "pygments_lexer": "ipython3",
   "version": "3.10.8"
  }
 },
 "nbformat": 4,
 "nbformat_minor": 5
}
