{
 "cells": [
  {
   "cell_type": "code",
   "execution_count": 2,
   "id": "66c7e1c9-9d31-4326-bae6-d347f5c31d2a",
   "metadata": {},
   "outputs": [],
   "source": [
    "l=list(range(0,11))"
   ]
  },
  {
   "cell_type": "code",
   "execution_count": 3,
   "id": "091c0c87-c192-443e-9f69-75c2f930b9f9",
   "metadata": {},
   "outputs": [
    {
     "data": {
      "text/plain": [
       "[0, 1, 2, 3, 4, 5, 6, 7, 8, 9, 10]"
      ]
     },
     "execution_count": 3,
     "metadata": {},
     "output_type": "execute_result"
    }
   ],
   "source": [
    "l"
   ]
  },
  {
   "cell_type": "code",
   "execution_count": 10,
   "id": "632c24f4-b0f1-4365-84ad-8561334f0a2a",
   "metadata": {},
   "outputs": [
    {
     "data": {
      "text/plain": [
       "0"
      ]
     },
     "execution_count": 10,
     "metadata": {},
     "output_type": "execute_result"
    }
   ],
   "source": [
    "l[0]"
   ]
  },
  {
   "cell_type": "code",
   "execution_count": 18,
   "id": "b02cce75-6b4b-4e96-847c-e8ca175e5f58",
   "metadata": {},
   "outputs": [
    {
     "name": "stdout",
     "output_type": "stream",
     "text": [
      "None\n",
      "None\n",
      "None\n",
      "None\n",
      "None\n",
      "None\n",
      "None\n",
      "None\n",
      "None\n",
      "None\n",
      "None\n"
     ]
    }
   ],
   "source": [
    "l1=[]\n",
    "for i in l:\n",
    "    print(l1.append(i+1))"
   ]
  },
  {
   "cell_type": "code",
   "execution_count": 19,
   "id": "a5df704f-e28c-4025-87c8-c13463523784",
   "metadata": {},
   "outputs": [
    {
     "data": {
      "text/plain": [
       "[1, 2, 3, 4, 5, 6, 7, 8, 9, 10, 11]"
      ]
     },
     "execution_count": 19,
     "metadata": {},
     "output_type": "execute_result"
    }
   ],
   "source": [
    "l1"
   ]
  },
  {
   "cell_type": "code",
   "execution_count": 23,
   "id": "c8681568-75a3-4baa-9764-38d34e07a7a6",
   "metadata": {},
   "outputs": [
    {
     "data": {
      "text/plain": [
       "[1, 2, 3, 4, 5, 6, 7, 8, 9, 10, 11]"
      ]
     },
     "execution_count": 23,
     "metadata": {},
     "output_type": "execute_result"
    }
   ],
   "source": [
    "## OR\n",
    "l1=[]\n",
    "for i in l:\n",
    "    l1.append(i+1)\n",
    "l1"
   ]
  },
  {
   "cell_type": "code",
   "execution_count": 24,
   "id": "1f98d640-0bd8-4aaa-a8ac-1f7e61a0f355",
   "metadata": {},
   "outputs": [],
   "source": [
    "l2=[\"bharath\",\"chandran\",\"akshay\",\"kandi\"]"
   ]
  },
  {
   "cell_type": "code",
   "execution_count": 28,
   "id": "8a3e27fe-8c44-4912-9a20-8dfdd74a647a",
   "metadata": {},
   "outputs": [
    {
     "data": {
      "text/plain": [
       "['BHARATH', 'CHANDRAN', 'AKSHAY', 'KANDI']"
      ]
     },
     "execution_count": 28,
     "metadata": {},
     "output_type": "execute_result"
    }
   ],
   "source": [
    "l3=[]\n",
    "for i in l2:\n",
    "    l3.append(i.upper())\n",
    "l3"
   ]
  },
  {
   "cell_type": "code",
   "execution_count": 29,
   "id": "99b4d6b8-110e-4b90-9d80-b6bcb5e774a3",
   "metadata": {},
   "outputs": [
    {
     "data": {
      "text/plain": [
       "['bharath', 'chandran', 'akshay', 'kandi']"
      ]
     },
     "execution_count": 29,
     "metadata": {},
     "output_type": "execute_result"
    }
   ],
   "source": [
    "l2"
   ]
  },
  {
   "cell_type": "code",
   "execution_count": 31,
   "id": "71a76c7b-5235-4024-b67f-9ae055a7c2f4",
   "metadata": {},
   "outputs": [],
   "source": [
    "## make a separate list of the below one\n",
    "l=[1,2,3,4,\"abc\",\"xyz\",325.45]"
   ]
  },
  {
   "cell_type": "code",
   "execution_count": 40,
   "id": "5e28fd27-424a-4376-a26d-ffec7cc48dfd",
   "metadata": {},
   "outputs": [
    {
     "data": {
      "text/plain": [
       "([1, 2, 3, 4, 325.45], ['abc', 'xyz'])"
      ]
     },
     "execution_count": 40,
     "metadata": {},
     "output_type": "execute_result"
    }
   ],
   "source": [
    "l1=[]\n",
    "l2=[]\n",
    "for i in l:\n",
    "    if type(i)==float or type(i)==int:\n",
    "        l1.append(i)\n",
    "    else : l2.append(i)\n",
    "l1,l2"
   ]
  },
  {
   "cell_type": "code",
   "execution_count": null,
   "id": "2d57ace9-aca5-4d57-9322-5897f312be05",
   "metadata": {},
   "outputs": [],
   "source": []
  }
 ],
 "metadata": {
  "kernelspec": {
   "display_name": "Python 3 (ipykernel)",
   "language": "python",
   "name": "python3"
  },
  "language_info": {
   "codemirror_mode": {
    "name": "ipython",
    "version": 3
   },
   "file_extension": ".py",
   "mimetype": "text/x-python",
   "name": "python",
   "nbconvert_exporter": "python",
   "pygments_lexer": "ipython3",
   "version": "3.10.8"
  }
 },
 "nbformat": 4,
 "nbformat_minor": 5
}
