{
 "cells": [
  {
   "cell_type": "code",
   "execution_count": 38,
   "id": "6af93d39-97ac-454f-886b-fe6f23ecf832",
   "metadata": {},
   "outputs": [],
   "source": [
    "## able to use a function of one  class in an other class\n",
    "## or able to use a function of parent class to child class "
   ]
  },
  {
   "cell_type": "code",
   "execution_count": 39,
   "id": "375e19f4-df06-443c-acb6-2bee96f86ded",
   "metadata": {},
   "outputs": [],
   "source": [
    "class parent_test:\n",
    "    \n",
    "    def test(self):\n",
    "        return \"this is my first class\""
   ]
  },
  {
   "cell_type": "code",
   "execution_count": 40,
   "id": "6d07147c-a99d-4276-9429-bddf5754b496",
   "metadata": {},
   "outputs": [],
   "source": [
    "class child_test(parent_test):\n",
    "    pass"
   ]
  },
  {
   "cell_type": "code",
   "execution_count": 41,
   "id": "fad2fe17-e298-4b98-a50a-ae110fe811d8",
   "metadata": {},
   "outputs": [],
   "source": [
    "parent_test_object = parent_test()"
   ]
  },
  {
   "cell_type": "code",
   "execution_count": 42,
   "id": "aa4c1cb1-9c73-4006-b3fc-75d81775b515",
   "metadata": {},
   "outputs": [
    {
     "data": {
      "text/plain": [
       "'this is my first class'"
      ]
     },
     "execution_count": 42,
     "metadata": {},
     "output_type": "execute_result"
    }
   ],
   "source": [
    "parent_test_object.test()"
   ]
  },
  {
   "cell_type": "code",
   "execution_count": 43,
   "id": "21f50481-738e-40a2-8fc4-3367d651d4e5",
   "metadata": {},
   "outputs": [],
   "source": [
    "child_test_object = child_test()"
   ]
  },
  {
   "cell_type": "code",
   "execution_count": 44,
   "id": "7159935b-222f-4b0b-8f53-08132ef93d0c",
   "metadata": {},
   "outputs": [
    {
     "data": {
      "text/plain": [
       "'this is my first class'"
      ]
     },
     "execution_count": 44,
     "metadata": {},
     "output_type": "execute_result"
    }
   ],
   "source": [
    "child_test_object.test()"
   ]
  },
  {
   "cell_type": "code",
   "execution_count": 45,
   "id": "9834a2e1-d082-4ca7-af07-62c41a1cafb4",
   "metadata": {},
   "outputs": [],
   "source": [
    "class child_test2(parent_test):\n",
    "    def test2(self):\n",
    "        return \"this is my second class\""
   ]
  },
  {
   "cell_type": "code",
   "execution_count": 46,
   "id": "5a020876-980f-4657-ac2e-606143da6bcf",
   "metadata": {},
   "outputs": [],
   "source": [
    "parent_test_object2 = parent_test()"
   ]
  },
  {
   "cell_type": "code",
   "execution_count": 47,
   "id": "e587743f-0235-42f7-8c57-e4effe52373d",
   "metadata": {},
   "outputs": [
    {
     "data": {
      "text/plain": [
       "'this is my first class'"
      ]
     },
     "execution_count": 47,
     "metadata": {},
     "output_type": "execute_result"
    }
   ],
   "source": [
    "parent_test_object2.test()"
   ]
  },
  {
   "cell_type": "code",
   "execution_count": 48,
   "id": "31303bce-815f-4ee7-8910-a90278e124d9",
   "metadata": {},
   "outputs": [
    {
     "ename": "AttributeError",
     "evalue": "'parent_test' object has no attribute 'test1'",
     "output_type": "error",
     "traceback": [
      "\u001b[0;31m---------------------------------------------------------------------------\u001b[0m",
      "\u001b[0;31mAttributeError\u001b[0m                            Traceback (most recent call last)",
      "Cell \u001b[0;32mIn[48], line 1\u001b[0m\n\u001b[0;32m----> 1\u001b[0m \u001b[43mparent_test_object2\u001b[49m\u001b[38;5;241;43m.\u001b[39;49m\u001b[43mtest1\u001b[49m()\n",
      "\u001b[0;31mAttributeError\u001b[0m: 'parent_test' object has no attribute 'test1'"
     ]
    }
   ],
   "source": [
    "parent_test_object2.test1()"
   ]
  },
  {
   "cell_type": "code",
   "execution_count": 53,
   "id": "014d3ed2-1b92-47a8-967a-b6d5c520793d",
   "metadata": {},
   "outputs": [],
   "source": [
    "child_test2_object2 = child_test2()"
   ]
  },
  {
   "cell_type": "code",
   "execution_count": 54,
   "id": "6e2587f1-bbe6-4faf-bbdc-00f0a371c0f5",
   "metadata": {},
   "outputs": [
    {
     "data": {
      "text/plain": [
       "'this is my first class'"
      ]
     },
     "execution_count": 54,
     "metadata": {},
     "output_type": "execute_result"
    }
   ],
   "source": [
    "child_test2_object2.test()"
   ]
  },
  {
   "cell_type": "code",
   "execution_count": 55,
   "id": "04ec9eec-cc24-40d4-b4d2-ece6653c1d06",
   "metadata": {},
   "outputs": [
    {
     "data": {
      "text/plain": [
       "'this is my second class'"
      ]
     },
     "execution_count": 55,
     "metadata": {},
     "output_type": "execute_result"
    }
   ],
   "source": [
    "child_test2_object2.test2()"
   ]
  },
  {
   "cell_type": "code",
   "execution_count": 57,
   "id": "38d55ac0-c54a-48c5-b0d3-0e070c647b04",
   "metadata": {},
   "outputs": [],
   "source": [
    "## multilevel inheretence\n",
    "class class1():\n",
    "    \n",
    "    def test_class1(self):\n",
    "        return \"this is a math from class1\""
   ]
  },
  {
   "cell_type": "code",
   "execution_count": 58,
   "id": "5449bddb-9f04-4d2d-8259-64306ee73b60",
   "metadata": {},
   "outputs": [],
   "source": [
    "class class2(class1):\n",
    "    def test_class2(self):\n",
    "        return \"this is a math from class2\""
   ]
  },
  {
   "cell_type": "code",
   "execution_count": 59,
   "id": "71fcc157-14fc-410b-b87a-52ae4e5055c8",
   "metadata": {},
   "outputs": [],
   "source": [
    "class class3(class2):\n",
    "    pass"
   ]
  },
  {
   "cell_type": "code",
   "execution_count": 60,
   "id": "1abbc644-53ed-42e6-9dbf-a746e3035538",
   "metadata": {},
   "outputs": [],
   "source": [
    "c3obj = class3()"
   ]
  },
  {
   "cell_type": "code",
   "execution_count": 61,
   "id": "45c59587-2b07-4c22-ad0a-22e0e7780090",
   "metadata": {},
   "outputs": [
    {
     "data": {
      "text/plain": [
       "'this is a math from class1'"
      ]
     },
     "execution_count": 61,
     "metadata": {},
     "output_type": "execute_result"
    }
   ],
   "source": [
    "c3obj.test_class1()"
   ]
  },
  {
   "cell_type": "code",
   "execution_count": 62,
   "id": "c9591dce-0f11-4f43-86d8-970824739ba3",
   "metadata": {},
   "outputs": [
    {
     "data": {
      "text/plain": [
       "'this is a math from class2'"
      ]
     },
     "execution_count": 62,
     "metadata": {},
     "output_type": "execute_result"
    }
   ],
   "source": [
    "c3obj.test_class2()"
   ]
  },
  {
   "cell_type": "code",
   "execution_count": 63,
   "id": "c2340d9e-0815-4cd8-8f44-4d2e7f55a789",
   "metadata": {},
   "outputs": [],
   "source": [
    "## multiple inheritence\n",
    "class classa:\n",
    "    def test_classa(self):\n",
    "        return \"this is from classa\""
   ]
  },
  {
   "cell_type": "code",
   "execution_count": 64,
   "id": "59373be5-c16c-4d1f-9111-0914c2adb662",
   "metadata": {},
   "outputs": [],
   "source": [
    "class classb:\n",
    "    def test_classb(self):\n",
    "        return \"this is from classb\""
   ]
  },
  {
   "cell_type": "code",
   "execution_count": 66,
   "id": "3028610c-844a-4268-9ea8-d3c849fe1c5a",
   "metadata": {},
   "outputs": [],
   "source": [
    "class classc(classa, classb):\n",
    "    def test_class(self):\n",
    "        pass"
   ]
  },
  {
   "cell_type": "code",
   "execution_count": 67,
   "id": "a45db69d-3aa5-4bae-bc7d-18fb1e9bf2a6",
   "metadata": {},
   "outputs": [],
   "source": [
    "clCobj = classc()"
   ]
  },
  {
   "cell_type": "code",
   "execution_count": 69,
   "id": "c6fdb770-4690-4cc9-8fc6-07d0d69d1f9c",
   "metadata": {},
   "outputs": [
    {
     "data": {
      "text/plain": [
       "'this is from classb'"
      ]
     },
     "execution_count": 69,
     "metadata": {},
     "output_type": "execute_result"
    }
   ],
   "source": [
    "clCobj.test_classb()"
   ]
  },
  {
   "cell_type": "code",
   "execution_count": 70,
   "id": "17963017-338d-49e2-a181-2db48ccbca7f",
   "metadata": {},
   "outputs": [
    {
     "data": {
      "text/plain": [
       "'this is from classa'"
      ]
     },
     "execution_count": 70,
     "metadata": {},
     "output_type": "execute_result"
    }
   ],
   "source": [
    "clCobj.test_classa()"
   ]
  },
  {
   "cell_type": "code",
   "execution_count": null,
   "id": "be5bd2b8-46b1-424d-b53f-b60a6a637989",
   "metadata": {},
   "outputs": [],
   "source": []
  }
 ],
 "metadata": {
  "kernelspec": {
   "display_name": "Python 3 (ipykernel)",
   "language": "python",
   "name": "python3"
  },
  "language_info": {
   "codemirror_mode": {
    "name": "ipython",
    "version": 3
   },
   "file_extension": ".py",
   "mimetype": "text/x-python",
   "name": "python",
   "nbconvert_exporter": "python",
   "pygments_lexer": "ipython3",
   "version": "3.10.8"
  }
 },
 "nbformat": 4,
 "nbformat_minor": 5
}
