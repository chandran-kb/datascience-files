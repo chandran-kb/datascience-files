{
 "cells": [
  {
   "cell_type": "code",
   "execution_count": null,
   "id": "1c7a4e54-f356-4e75-a0ea-758283397fa2",
   "metadata": {},
   "outputs": [],
   "source": [
    "## \\ is used before a special operator like \"\" or \\n when you don't want the fnction \n",
    "# of that operator to be performed"
   ]
  },
  {
   "cell_type": "code",
   "execution_count": 1,
   "id": "74614e0f-95c4-4d9e-8067-cafe51483cbd",
   "metadata": {},
   "outputs": [
    {
     "name": "stdout",
     "output_type": "stream",
     "text": [
      "c:\\docs\n",
      "aveen\n"
     ]
    }
   ],
   "source": [
    "print(\"c:\\docs\\naveen\")"
   ]
  },
  {
   "cell_type": "code",
   "execution_count": 2,
   "id": "67320ebd-c22e-4fa2-9efc-992fd261fc93",
   "metadata": {},
   "outputs": [
    {
     "name": "stdout",
     "output_type": "stream",
     "text": [
      "c:\\docs\\naveen\n"
     ]
    }
   ],
   "source": [
    "print(\"c:\\docs\\\\naveen\")"
   ]
  },
  {
   "cell_type": "code",
   "execution_count": 4,
   "id": "bab608ae-4f86-4ff3-93fc-2b685f2f37bc",
   "metadata": {},
   "outputs": [],
   "source": [
    "## You can use _ to use the output of the previous function in the new one"
   ]
  },
  {
   "cell_type": "code",
   "execution_count": 9,
   "id": "3e28a8eb-d788-4a7f-9ada-902809fbaaa0",
   "metadata": {},
   "outputs": [
    {
     "data": {
      "text/plain": [
       "15"
      ]
     },
     "execution_count": 9,
     "metadata": {},
     "output_type": "execute_result"
    }
   ],
   "source": [
    "x=5 \n",
    "y=10\n",
    "x+y"
   ]
  },
  {
   "cell_type": "code",
   "execution_count": 10,
   "id": "446f8b95-1e7f-48e8-9da8-5e7081133436",
   "metadata": {},
   "outputs": [
    {
     "data": {
      "text/plain": [
       "25"
      ]
     },
     "execution_count": 10,
     "metadata": {},
     "output_type": "execute_result"
    }
   ],
   "source": [
    "_ + y"
   ]
  },
  {
   "cell_type": "code",
   "execution_count": 11,
   "id": "4fa6d6bb-be81-4ac6-bc4d-b000c277a940",
   "metadata": {},
   "outputs": [
    {
     "data": {
      "text/plain": [
       "50"
      ]
     },
     "execution_count": 11,
     "metadata": {},
     "output_type": "execute_result"
    }
   ],
   "source": [
    "_+_"
   ]
  },
  {
   "cell_type": "code",
   "execution_count": 24,
   "id": "cd0f1582-dad9-4ecd-9b28-e732cb88b8d5",
   "metadata": {},
   "outputs": [],
   "source": [
    "## id() function to get the address of an object"
   ]
  },
  {
   "cell_type": "code",
   "execution_count": 19,
   "id": "20fc239b-8ac2-4d04-8138-ed6b9234f4a2",
   "metadata": {},
   "outputs": [],
   "source": [
    "a=10"
   ]
  },
  {
   "cell_type": "code",
   "execution_count": 20,
   "id": "2ee88711-8f58-4e16-9f61-81a3594594f5",
   "metadata": {},
   "outputs": [
    {
     "data": {
      "text/plain": [
       "139701629141520"
      ]
     },
     "execution_count": 20,
     "metadata": {},
     "output_type": "execute_result"
    }
   ],
   "source": [
    "id(a)"
   ]
  },
  {
   "cell_type": "code",
   "execution_count": 21,
   "id": "21046f5b-e369-472e-b800-064f4ebd4817",
   "metadata": {},
   "outputs": [],
   "source": [
    "c=10\n",
    "b=10"
   ]
  },
  {
   "cell_type": "code",
   "execution_count": 22,
   "id": "fb08d96e-c83c-4ba1-b5fe-0695d878262b",
   "metadata": {},
   "outputs": [
    {
     "data": {
      "text/plain": [
       "139701629141520"
      ]
     },
     "execution_count": 22,
     "metadata": {},
     "output_type": "execute_result"
    }
   ],
   "source": [
    "id(c)"
   ]
  },
  {
   "cell_type": "code",
   "execution_count": 18,
   "id": "2caa2061-673c-48d5-a45d-4f637cae2a5b",
   "metadata": {},
   "outputs": [
    {
     "data": {
      "text/plain": [
       "139701629141520"
      ]
     },
     "execution_count": 18,
     "metadata": {},
     "output_type": "execute_result"
    }
   ],
   "source": [
    "id(b)"
   ]
  },
  {
   "cell_type": "code",
   "execution_count": 23,
   "id": "6dd0525e-1f47-4058-ada0-fbbb5603a7ef",
   "metadata": {},
   "outputs": [
    {
     "data": {
      "text/plain": [
       "139701629141520"
      ]
     },
     "execution_count": 23,
     "metadata": {},
     "output_type": "execute_result"
    }
   ],
   "source": [
    "id(10)"
   ]
  },
  {
   "cell_type": "code",
   "execution_count": 26,
   "id": "6bfc5727-6db5-48f7-81f7-9218331f6d12",
   "metadata": {},
   "outputs": [
    {
     "ename": "NameError",
     "evalue": "name 'z' is not defined",
     "output_type": "error",
     "traceback": [
      "\u001b[0;31m---------------------------------------------------------------------------\u001b[0m",
      "\u001b[0;31mNameError\u001b[0m                                 Traceback (most recent call last)",
      "Cell \u001b[0;32mIn[26], line 1\u001b[0m\n\u001b[0;32m----> 1\u001b[0m \u001b[38;5;28mtype\u001b[39m(\u001b[43mz\u001b[49m)\n",
      "\u001b[0;31mNameError\u001b[0m: name 'z' is not defined"
     ]
    }
   ],
   "source": [
    "type(z)"
   ]
  },
  {
   "cell_type": "code",
   "execution_count": 27,
   "id": "5506aa4e-ee80-4d5f-b25f-e329ae2f1ef2",
   "metadata": {},
   "outputs": [],
   "source": [
    "## converting to binary format"
   ]
  },
  {
   "cell_type": "code",
   "execution_count": 28,
   "id": "b53b156d-db1b-44a9-92d0-30ebf5612d55",
   "metadata": {},
   "outputs": [
    {
     "data": {
      "text/plain": [
       "'0b11001'"
      ]
     },
     "execution_count": 28,
     "metadata": {},
     "output_type": "execute_result"
    }
   ],
   "source": [
    "bin(25)"
   ]
  },
  {
   "cell_type": "code",
   "execution_count": 32,
   "id": "4cbb8557-8511-4c46-9c66-3007df98c287",
   "metadata": {},
   "outputs": [
    {
     "data": {
      "text/plain": [
       "51"
      ]
     },
     "execution_count": 32,
     "metadata": {},
     "output_type": "execute_result"
    }
   ],
   "source": [
    "0b110011"
   ]
  },
  {
   "cell_type": "code",
   "execution_count": 48,
   "id": "334eaa79-af5f-4e24-9372-4c6b06fd4745",
   "metadata": {},
   "outputs": [
    {
     "data": {
      "text/plain": [
       "'0o31'"
      ]
     },
     "execution_count": 48,
     "metadata": {},
     "output_type": "execute_result"
    }
   ],
   "source": [
    "oct(25)"
   ]
  },
  {
   "cell_type": "code",
   "execution_count": 34,
   "id": "91996755-ed65-4844-be73-10cf8d8e8612",
   "metadata": {},
   "outputs": [
    {
     "data": {
      "text/plain": [
       "'0x19'"
      ]
     },
     "execution_count": 34,
     "metadata": {},
     "output_type": "execute_result"
    }
   ],
   "source": [
    "hex(25)"
   ]
  },
  {
   "cell_type": "code",
   "execution_count": 46,
   "id": "ef892592-6fd1-4698-a9d6-7694afc4331f",
   "metadata": {},
   "outputs": [
    {
     "data": {
      "text/plain": [
       "'0x10'"
      ]
     },
     "execution_count": 46,
     "metadata": {},
     "output_type": "execute_result"
    }
   ],
   "source": [
    "hex(16)"
   ]
  },
  {
   "cell_type": "code",
   "execution_count": 43,
   "id": "2c7ef987-e59e-4305-a957-328c461579f2",
   "metadata": {},
   "outputs": [
    {
     "data": {
      "text/plain": [
       "15"
      ]
     },
     "execution_count": 43,
     "metadata": {},
     "output_type": "execute_result"
    }
   ],
   "source": [
    "0xf"
   ]
  },
  {
   "cell_type": "code",
   "execution_count": 49,
   "id": "bca01a3f-78e2-40e5-b594-da51a16d67d8",
   "metadata": {},
   "outputs": [
    {
     "data": {
      "text/plain": [
       "True"
      ]
     },
     "execution_count": 49,
     "metadata": {},
     "output_type": "execute_result"
    }
   ],
   "source": [
    "1==1"
   ]
  },
  {
   "cell_type": "markdown",
   "id": "e17ea11c-6527-48aa-bff1-e28718ce817a",
   "metadata": {},
   "source": [
    "## type of operators\n",
    "1) Assignment operator\n",
    "2) Arithmatic operator\n",
    "3) Relational Operator\n",
    "4) Logical Operatorss\n",
    "5) Bitwise operator\n",
    "    a) Compliment (~)\n",
    "    b) And (&)\n",
    "    c) Or (|)\n",
    "    d) XOR ()\n",
    "    c) Left shift (<<)\n",
    "    d) right shift (>>)"
   ]
  },
  {
   "cell_type": "code",
   "execution_count": 3,
   "id": "42161c4e-b241-469c-8ad5-974be850c588",
   "metadata": {},
   "outputs": [
    {
     "data": {
      "text/plain": [
       "-2"
      ]
     },
     "execution_count": 3,
     "metadata": {},
     "output_type": "execute_result"
    }
   ],
   "source": [
    "#Commpliment operator - reverses the binary format of the number and gives output\n",
    "~1"
   ]
  },
  {
   "cell_type": "code",
   "execution_count": 2,
   "id": "ed7a6a8b-c416-4793-832e-b2e551c99257",
   "metadata": {},
   "outputs": [
    {
     "data": {
      "text/plain": [
       "-16"
      ]
     },
     "execution_count": 2,
     "metadata": {},
     "output_type": "execute_result"
    }
   ],
   "source": [
    "~15"
   ]
  },
  {
   "cell_type": "code",
   "execution_count": 3,
   "id": "dccaf74a-b7ed-4d3f-b29f-8ae3369750e8",
   "metadata": {},
   "outputs": [
    {
     "data": {
      "text/plain": [
       "4"
      ]
     },
     "execution_count": 3,
     "metadata": {},
     "output_type": "execute_result"
    }
   ],
   "source": [
    "~-5"
   ]
  },
  {
   "cell_type": "code",
   "execution_count": 4,
   "id": "7823456d-1228-4d7e-adfa-6fa9b5d0b5de",
   "metadata": {},
   "outputs": [
    {
     "data": {
      "text/plain": [
       "-1"
      ]
     },
     "execution_count": 4,
     "metadata": {},
     "output_type": "execute_result"
    }
   ],
   "source": [
    "~0"
   ]
  },
  {
   "cell_type": "code",
   "execution_count": 5,
   "id": "1d87628d-9906-49c9-95e8-e3e743af195b",
   "metadata": {},
   "outputs": [
    {
     "data": {
      "text/plain": [
       "0"
      ]
     },
     "execution_count": 5,
     "metadata": {},
     "output_type": "execute_result"
    }
   ],
   "source": [
    "~-1"
   ]
  },
  {
   "cell_type": "code",
   "execution_count": 8,
   "id": "0f11a8ed-0636-48db-9ef0-ade084287a01",
   "metadata": {},
   "outputs": [
    {
     "data": {
      "text/plain": [
       "12"
      ]
     },
     "execution_count": 8,
     "metadata": {},
     "output_type": "execute_result"
    }
   ],
   "source": [
    "## And operator --> converts the number into bits and then applies the AND operator\n",
    "12 & 13"
   ]
  },
  {
   "cell_type": "code",
   "execution_count": 12,
   "id": "081fbd60-f772-46b3-9daf-0c0fc47cdafb",
   "metadata": {},
   "outputs": [
    {
     "data": {
      "text/plain": [
       "12"
      ]
     },
     "execution_count": 12,
     "metadata": {},
     "output_type": "execute_result"
    }
   ],
   "source": [
    "13 & 12"
   ]
  },
  {
   "cell_type": "code",
   "execution_count": 9,
   "id": "03fbc226-66dd-4d3c-9d26-597e883286fe",
   "metadata": {},
   "outputs": [
    {
     "data": {
      "text/plain": [
       "56"
      ]
     },
     "execution_count": 9,
     "metadata": {},
     "output_type": "execute_result"
    }
   ],
   "source": [
    "58 & 125"
   ]
  },
  {
   "cell_type": "code",
   "execution_count": 11,
   "id": "e0e25e83-402d-4cf9-8e50-fb30a6a36711",
   "metadata": {},
   "outputs": [
    {
     "data": {
      "text/plain": [
       "56"
      ]
     },
     "execution_count": 11,
     "metadata": {},
     "output_type": "execute_result"
    }
   ],
   "source": [
    "125 & 58"
   ]
  },
  {
   "cell_type": "code",
   "execution_count": 13,
   "id": "75fe3f47-2152-4040-a5f3-aba3d7c48a04",
   "metadata": {},
   "outputs": [
    {
     "data": {
      "text/plain": [
       "13"
      ]
     },
     "execution_count": 13,
     "metadata": {},
     "output_type": "execute_result"
    }
   ],
   "source": [
    "##OR Operator - converts the number into bits and then applies the OR operator\n",
    "12 | 13"
   ]
  },
  {
   "cell_type": "code",
   "execution_count": 14,
   "id": "259c4e59-df1b-4444-bb44-dfeefcf848f2",
   "metadata": {},
   "outputs": [
    {
     "data": {
      "text/plain": [
       "13"
      ]
     },
     "execution_count": 14,
     "metadata": {},
     "output_type": "execute_result"
    }
   ],
   "source": [
    "13|12"
   ]
  },
  {
   "cell_type": "code",
   "execution_count": 15,
   "id": "dda40cf8-6831-4f01-bfb9-38692ef87d41",
   "metadata": {},
   "outputs": [
    {
     "data": {
      "text/plain": [
       "127"
      ]
     },
     "execution_count": 15,
     "metadata": {},
     "output_type": "execute_result"
    }
   ],
   "source": [
    "58|125\n"
   ]
  },
  {
   "cell_type": "code",
   "execution_count": 16,
   "id": "a527597e-400d-45c9-9d40-4479de15f05a",
   "metadata": {},
   "outputs": [
    {
     "data": {
      "text/plain": [
       "127"
      ]
     },
     "execution_count": 16,
     "metadata": {},
     "output_type": "execute_result"
    }
   ],
   "source": [
    "125|58"
   ]
  },
  {
   "cell_type": "markdown",
   "id": "3ac224f5-dad9-4b73-ba7d-7299083c7286",
   "metadata": {},
   "source": [
    "##XOR operator - converts the number into bits and then applies the XOR operator\n",
    "0^0=0\n",
    "0^1=1\n",
    "1^0=1\n",
    "1^1=0\n"
   ]
  },
  {
   "cell_type": "code",
   "execution_count": 18,
   "id": "14ee5589-b27a-4c66-b64d-1912bfc46c5c",
   "metadata": {},
   "outputs": [
    {
     "data": {
      "text/plain": [
       "1"
      ]
     },
     "execution_count": 18,
     "metadata": {},
     "output_type": "execute_result"
    }
   ],
   "source": [
    "12^13"
   ]
  },
  {
   "cell_type": "code",
   "execution_count": 21,
   "id": "09c0afa1-739c-4e94-80ff-d24f63916bab",
   "metadata": {},
   "outputs": [
    {
     "data": {
      "text/plain": [
       "58"
      ]
     },
     "execution_count": 21,
     "metadata": {},
     "output_type": "execute_result"
    }
   ],
   "source": [
    "25^35"
   ]
  },
  {
   "cell_type": "code",
   "execution_count": 25,
   "id": "ccee555d-20bd-40d6-bf17-6464e6096191",
   "metadata": {},
   "outputs": [],
   "source": [
    "# left shift - increasses the binary code by adding zeros on the right side .\n",
    "# the number of zeroes added is equal to the number on the right side"
   ]
  },
  {
   "cell_type": "code",
   "execution_count": 2,
   "id": "4f5db3ad-8145-4167-b555-def3d5b84e58",
   "metadata": {},
   "outputs": [
    {
     "data": {
      "text/plain": [
       "40"
      ]
     },
     "execution_count": 2,
     "metadata": {},
     "output_type": "execute_result"
    }
   ],
   "source": [
    "# in this case 2 zeros are added on the right side of binary code of 10\n",
    "10<<2"
   ]
  },
  {
   "cell_type": "code",
   "execution_count": 10,
   "id": "cbf5ba32-91e1-4d84-8a83-6576dd7543e0",
   "metadata": {},
   "outputs": [
    {
     "data": {
      "text/plain": [
       "15"
      ]
     },
     "execution_count": 10,
     "metadata": {},
     "output_type": "execute_result"
    }
   ],
   "source": [
    "## right shift - removes number of digits from the right side of the binary code\n",
    "# in this case, 5 digits are removed from the right fromt the binary code of 500\n",
    "500>>5"
   ]
  },
  {
   "cell_type": "code",
   "execution_count": null,
   "id": "9be46493-e7dc-4405-a893-d9825c36f54f",
   "metadata": {},
   "outputs": [],
   "source": []
  },
  {
   "cell_type": "code",
   "execution_count": null,
   "id": "d23a27cb-f138-458b-b745-4b7d3c1c6b1c",
   "metadata": {},
   "outputs": [],
   "source": []
  },
  {
   "cell_type": "code",
   "execution_count": null,
   "id": "fe9e7330-68f3-43bd-85e1-499d2384e0e1",
   "metadata": {},
   "outputs": [],
   "source": []
  },
  {
   "cell_type": "code",
   "execution_count": 37,
   "id": "3a7eadfd-94f2-4e5d-bcb7-0ccded216a17",
   "metadata": {},
   "outputs": [],
   "source": [
    "#Imp Math functions in python"
   ]
  },
  {
   "cell_type": "code",
   "execution_count": 39,
   "id": "e6d1271d-7d21-4ced-b821-de75342c543b",
   "metadata": {},
   "outputs": [
    {
     "ename": "NameError",
     "evalue": "name 'sqrt' is not defined",
     "output_type": "error",
     "traceback": [
      "\u001b[0;31m---------------------------------------------------------------------------\u001b[0m",
      "\u001b[0;31mNameError\u001b[0m                                 Traceback (most recent call last)",
      "Cell \u001b[0;32mIn[39], line 1\u001b[0m\n\u001b[0;32m----> 1\u001b[0m \u001b[43msqrt\u001b[49m(\u001b[38;5;241m25\u001b[39m)\n",
      "\u001b[0;31mNameError\u001b[0m: name 'sqrt' is not defined"
     ]
    }
   ],
   "source": [
    "sqrt(25)"
   ]
  },
  {
   "cell_type": "code",
   "execution_count": 40,
   "id": "b7926952-1b4f-4899-99bf-44de7de74a2b",
   "metadata": {},
   "outputs": [],
   "source": [
    "import math"
   ]
  },
  {
   "cell_type": "code",
   "execution_count": 41,
   "id": "d2ade8e7-057d-45cd-a1b0-cf1d7b74511e",
   "metadata": {},
   "outputs": [
    {
     "data": {
      "text/plain": [
       "5.0"
      ]
     },
     "execution_count": 41,
     "metadata": {},
     "output_type": "execute_result"
    }
   ],
   "source": [
    "math.sqrt(25)"
   ]
  },
  {
   "cell_type": "code",
   "execution_count": 44,
   "id": "775004d7-5100-4670-8573-7bc60271efc6",
   "metadata": {},
   "outputs": [
    {
     "name": "stdout",
     "output_type": "stream",
     "text": [
      "2\n"
     ]
    }
   ],
   "source": [
    "print(math.floor(2.9))"
   ]
  },
  {
   "cell_type": "code",
   "execution_count": 45,
   "id": "d388ff07-37e6-4256-8d94-b08ff8402733",
   "metadata": {},
   "outputs": [
    {
     "name": "stdout",
     "output_type": "stream",
     "text": [
      "3\n"
     ]
    }
   ],
   "source": [
    "print(math.ceil(2.1))"
   ]
  },
  {
   "cell_type": "code",
   "execution_count": 47,
   "id": "a57a2ea0-adf9-4f82-b1a8-7b7224911ee5",
   "metadata": {},
   "outputs": [
    {
     "name": "stdout",
     "output_type": "stream",
     "text": [
      "3.141592653589793\n"
     ]
    }
   ],
   "source": [
    "print(math.pi)"
   ]
  },
  {
   "cell_type": "code",
   "execution_count": 48,
   "id": "6581b8fe-6fe6-4019-9c52-a01e00c742fb",
   "metadata": {},
   "outputs": [
    {
     "name": "stdout",
     "output_type": "stream",
     "text": [
      "2.718281828459045\n"
     ]
    }
   ],
   "source": [
    "print(math.e)"
   ]
  },
  {
   "cell_type": "code",
   "execution_count": 50,
   "id": "67b3c752-75b2-4cf6-85d7-46cb35d4cb1b",
   "metadata": {},
   "outputs": [],
   "source": [
    "import math as m"
   ]
  },
  {
   "cell_type": "code",
   "execution_count": 51,
   "id": "d6458454-e45b-40a5-a8a0-b6597c94ed55",
   "metadata": {},
   "outputs": [
    {
     "data": {
      "text/plain": [
       "11.0"
      ]
     },
     "execution_count": 51,
     "metadata": {},
     "output_type": "execute_result"
    }
   ],
   "source": [
    "m.sqrt(121)"
   ]
  },
  {
   "cell_type": "code",
   "execution_count": 52,
   "id": "3d685e6c-dc4b-412d-8a56-e3c48a10ad49",
   "metadata": {},
   "outputs": [],
   "source": [
    "## for specific import\n",
    "from math import sqrt ,pi"
   ]
  },
  {
   "cell_type": "code",
   "execution_count": 53,
   "id": "0626830d-1c3a-47e6-96eb-4fd920a2b919",
   "metadata": {},
   "outputs": [
    {
     "data": {
      "text/plain": [
       "11.0"
      ]
     },
     "execution_count": 53,
     "metadata": {},
     "output_type": "execute_result"
    }
   ],
   "source": [
    "sqrt(121)"
   ]
  },
  {
   "cell_type": "code",
   "execution_count": 54,
   "id": "71ebdd81-ce50-4a27-8cfa-430956d3bc01",
   "metadata": {},
   "outputs": [
    {
     "data": {
      "text/plain": [
       "3.141592653589793"
      ]
     },
     "execution_count": 54,
     "metadata": {},
     "output_type": "execute_result"
    }
   ],
   "source": [
    "pi"
   ]
  },
  {
   "cell_type": "code",
   "execution_count": null,
   "id": "2c60311f-9fe3-4eaf-9d2f-b017b9aa6176",
   "metadata": {},
   "outputs": [],
   "source": []
  },
  {
   "cell_type": "code",
   "execution_count": 61,
   "id": "7f1c1bf5-6aaa-4cf8-8a61-d7384586c944",
   "metadata": {},
   "outputs": [
    {
     "name": "stdin",
     "output_type": "stream",
     "text": [
      " 5*8\n"
     ]
    },
    {
     "data": {
      "text/plain": [
       "40"
      ]
     },
     "execution_count": 61,
     "metadata": {},
     "output_type": "execute_result"
    }
   ],
   "source": [
    "n=eval(input())\n",
    "n"
   ]
  },
  {
   "cell_type": "code",
   "execution_count": 59,
   "id": "17d8006e-d6c9-4262-bd51-c437990b4eaa",
   "metadata": {},
   "outputs": [
    {
     "name": "stdout",
     "output_type": "stream",
     "text": [
      "42\n"
     ]
    }
   ],
   "source": [
    "print(_+1)"
   ]
  },
  {
   "cell_type": "code",
   "execution_count": 60,
   "id": "8c67ad2d-d1c1-4fc3-bb12-3cc34b2803fe",
   "metadata": {},
   "outputs": [
    {
     "data": {
      "text/plain": [
       "46"
      ]
     },
     "execution_count": 60,
     "metadata": {},
     "output_type": "execute_result"
    }
   ],
   "source": [
    "_+5"
   ]
  },
  {
   "cell_type": "code",
   "execution_count": 62,
   "id": "543e8c85-c5fb-402a-be1f-8c1d81bedcd2",
   "metadata": {},
   "outputs": [
    {
     "ename": "NameError",
     "evalue": "name 'spell' is not defined",
     "output_type": "error",
     "traceback": [
      "\u001b[0;31m---------------------------------------------------------------------------\u001b[0m",
      "\u001b[0;31mNameError\u001b[0m                                 Traceback (most recent call last)",
      "Cell \u001b[0;32mIn[62], line 1\u001b[0m\n\u001b[0;32m----> 1\u001b[0m \u001b[43mspell\u001b[49m(\u001b[38;5;241m5\u001b[39m)\n",
      "\u001b[0;31mNameError\u001b[0m: name 'spell' is not defined"
     ]
    }
   ],
   "source": []
  },
  {
   "cell_type": "code",
   "execution_count": 64,
   "id": "eeebfeaa-2637-4a8b-8b7b-8fa7cc08fa1b",
   "metadata": {},
   "outputs": [
    {
     "name": "stdout",
     "output_type": "stream",
     "text": [
      "****\n"
     ]
    }
   ],
   "source": [
    "print (\"****\")"
   ]
  },
  {
   "cell_type": "code",
   "execution_count": 70,
   "id": "e051980f-27fb-4e86-a134-1bc311bdbc31",
   "metadata": {},
   "outputs": [
    {
     "name": "stdout",
     "output_type": "stream",
     "text": [
      "  * ***\n",
      "*****\n"
     ]
    }
   ],
   "source": [
    "print(\"  *\" , end=\"\")\n",
    "print(\" ***\")\n",
    "print(\"*****\")"
   ]
  },
  {
   "cell_type": "code",
   "execution_count": 17,
   "id": "ff8d627b-5bca-44ce-91d9-61d179603892",
   "metadata": {},
   "outputs": [
    {
     "name": "stdout",
     "output_type": "stream",
     "text": [
      "# # # # # \n",
      "# # # # # \n",
      "# # # # # \n",
      "# # # # # \n"
     ]
    }
   ],
   "source": [
    "for i in range(4):\n",
    "    for j in range(4):\n",
    "        print(\"#\" , end=\" \")\n",
    "    print(\"#\" , end=\" \")\n",
    "    \n",
    "    ## print() is for new line\n",
    "    print()"
   ]
  },
  {
   "cell_type": "code",
   "execution_count": 14,
   "id": "957a09b0-ed1e-419a-a94a-b35201e1be5c",
   "metadata": {},
   "outputs": [
    {
     "name": "stdout",
     "output_type": "stream",
     "text": [
      "# # # # \n",
      "# # # # \n",
      "# # # # \n",
      "# # # # \n"
     ]
    }
   ],
   "source": [
    "for i in range(4):\n",
    "    for j in range(4):\n",
    "        print(\"#\" , end=\" \")\n",
    "        \n",
    "    print()"
   ]
  },
  {
   "cell_type": "code",
   "execution_count": 45,
   "id": "f7c792ed-4564-489c-86ef-b304a70c5cbf",
   "metadata": {},
   "outputs": [
    {
     "name": "stdout",
     "output_type": "stream",
     "text": [
      "\n",
      "# \n",
      "# # \n",
      "# # # \n"
     ]
    }
   ],
   "source": [
    "for i in range(4):\n",
    "    for j in range(i):\n",
    "        print(\"#\", end=\" \")\n",
    "        \n",
    "    print()"
   ]
  },
  {
   "cell_type": "code",
   "execution_count": 43,
   "id": "50c6d54f-1201-4268-a01f-3474e554ecff",
   "metadata": {},
   "outputs": [
    {
     "name": "stdout",
     "output_type": "stream",
     "text": [
      "# \n",
      "# # \n",
      "# # # \n",
      "# # # # \n"
     ]
    }
   ],
   "source": [
    "for i in range(1,5):\n",
    "    for j in range(i):\n",
    "        print(\"#\", end=\" \")\n",
    "        \n",
    "    print()"
   ]
  },
  {
   "cell_type": "code",
   "execution_count": 44,
   "id": "f6aca2b8-3249-4447-aca1-8ce90bd95160",
   "metadata": {},
   "outputs": [
    {
     "name": "stdout",
     "output_type": "stream",
     "text": [
      "# # # # \n",
      "# # # \n",
      "# # \n",
      "# \n"
     ]
    }
   ],
   "source": [
    "for i in range(1,5):\n",
    "    for j in range(5-i):\n",
    "        print(\"#\", end=\" \")\n",
    "        \n",
    "    print()"
   ]
  },
  {
   "cell_type": "code",
   "execution_count": 26,
   "id": "f58fd0a6-fb0f-40c9-9735-1de61ba2a606",
   "metadata": {},
   "outputs": [
    {
     "name": "stdin",
     "output_type": "stream",
     "text": [
      "Enter Numbers Pyramid Pattern Rows =  5\n"
     ]
    },
    {
     "name": "stdout",
     "output_type": "stream",
     "text": [
      "====The Pyramid of Numbers Pattern====\n",
      "    * \n",
      "   * * \n",
      "  * * * \n",
      " * * * * \n",
      "* * * * * \n"
     ]
    }
   ],
   "source": [
    "rows = int(input(\"Enter Numbers Pyramid Pattern Rows = \"))\n",
    "\n",
    "print(\"====The Pyramid of Numbers Pattern====\")\n",
    "\n",
    "for i in range(1, rows + 1):\n",
    "    for j in range(rows, i, -1):\n",
    "        print(end = ' ')\n",
    "    for k in range(1, i + 1):\n",
    "        print(\"*\", end = ' ')\n",
    "    print()"
   ]
  },
  {
   "cell_type": "code",
   "execution_count": 63,
   "id": "596d32fa-cfd7-45f6-948a-d632e0375c84",
   "metadata": {},
   "outputs": [
    {
     "name": "stdout",
     "output_type": "stream",
     "text": [
      "   * \n",
      "  * * \n",
      " * * * \n",
      "* * * * \n"
     ]
    }
   ],
   "source": [
    "for i in range(1,5):\n",
    "    \n",
    "    for k in range(4,i,-1):\n",
    "        print(end = \" \")\n",
    "    for j in range(i):\n",
    "        print(\"*\", end=\" \")\n",
    " \n",
    "    print()"
   ]
  },
  {
   "cell_type": "code",
   "execution_count": null,
   "id": "6957c603-ff59-4397-b194-44c2d5b5c7d5",
   "metadata": {},
   "outputs": [],
   "source": []
  },
  {
   "cell_type": "code",
   "execution_count": 68,
   "id": "3f74ee91-277a-472c-8d4d-b4bbf689b3b0",
   "metadata": {},
   "outputs": [
    {
     "name": "stdin",
     "output_type": "stream",
     "text": [
      "enter the number of rows 5\n"
     ]
    },
    {
     "name": "stdout",
     "output_type": "stream",
     "text": [
      "    * \n",
      "   * * \n",
      "  * * * \n",
      " * * * * \n",
      "* * * * * \n"
     ]
    }
   ],
   "source": [
    "r = int(input(\"enter the number of rows\"))\n",
    "\n",
    "for i in range (1,r+1):\n",
    "    for j in range(r,i,-1):\n",
    "        print(end = \" \")\n",
    "    for k in range(i):\n",
    "        print(\"*\", end=\" \")\n",
    "    print()"
   ]
  },
  {
   "cell_type": "code",
   "execution_count": 71,
   "id": "0f1901d5-ede5-4a5d-8905-b01b275fe8df",
   "metadata": {},
   "outputs": [
    {
     "name": "stdin",
     "output_type": "stream",
     "text": [
      "enter the number of rows 5\n"
     ]
    },
    {
     "name": "stdout",
     "output_type": "stream",
     "text": [
      " * * * * * \n",
      "  * * * * \n",
      "   * * * \n",
      "    * * \n",
      "     * \n"
     ]
    }
   ],
   "source": [
    "r = int(input(\"enter the number of rows\"))\n",
    "\n",
    "for i in range(1,r+1):\n",
    "    for j in range(i):\n",
    "        print(end = \" \")\n",
    "    for k in range(r-i+1):\n",
    "        print(\"*\", end = \" \")\n",
    "    print()"
   ]
  },
  {
   "cell_type": "code",
   "execution_count": 73,
   "id": "3a91ba32-d2cb-4ee7-9021-121ccf3d2a4a",
   "metadata": {},
   "outputs": [
    {
     "name": "stdin",
     "output_type": "stream",
     "text": [
      "enter the number of rows 5\n"
     ]
    },
    {
     "name": "stdout",
     "output_type": "stream",
     "text": [
      "    * \n",
      "   * * \n",
      "  * * * \n",
      " * * * * \n",
      "* * * * * \n",
      "* * * * * \n",
      " * * * * \n",
      "  * * * \n",
      "   * * \n",
      "    * \n"
     ]
    }
   ],
   "source": [
    "r = int(input(\"enter the number of rows\"))\n",
    "\n",
    "for i in range (1,r+1):\n",
    "    for j in range(r,i,-1):\n",
    "        print(end = \" \")\n",
    "    for k in range(i):\n",
    "        print(\"*\", end=\" \")\n",
    "    print()\n",
    "for i in range(1,r+1):\n",
    "    for j in range(i-1):\n",
    "        print(end = \" \")\n",
    "    for k in range(r-i+1):\n",
    "        print(\"*\", end = \" \")\n",
    "    print()"
   ]
  },
  {
   "cell_type": "code",
   "execution_count": 83,
   "id": "8ce5f553-9339-48ed-a480-97ca0c72e0ee",
   "metadata": {},
   "outputs": [
    {
     "name": "stdin",
     "output_type": "stream",
     "text": [
      "enter the number of rows 5\n"
     ]
    },
    {
     "name": "stdout",
     "output_type": "stream",
     "text": [
      "* * * * * \n",
      " * * * * \n",
      "  * * * \n",
      "   * * \n",
      "    * \n",
      "    * \n",
      "   * * \n",
      "  * * * \n",
      " * * * * \n",
      "* * * * * \n"
     ]
    }
   ],
   "source": [
    "r = int(input(\"enter the number of rows\"))\n",
    "\n",
    "for i in range(1,r+1):\n",
    "    for j in range(i-1):\n",
    "        print(end = \" \")\n",
    "    for k in range(r-i+1):\n",
    "        print(\"*\", end = \" \")\n",
    "    print()\n",
    "        \n",
    "for i in range (1,r+1):\n",
    "    for j in range(r,i,-1):\n",
    "        print(end = \" \")\n",
    "    for k in range(i):\n",
    "        print(\"*\", end = \" \")\n",
    "   \n",
    "    print()"
   ]
  },
  {
   "cell_type": "code",
   "execution_count": 82,
   "id": "0d8631d8-3650-4082-86ac-8125d551ab2b",
   "metadata": {},
   "outputs": [
    {
     "data": {
      "text/plain": [
       "2"
      ]
     },
     "execution_count": 82,
     "metadata": {},
     "output_type": "execute_result"
    }
   ],
   "source": [
    "1+1"
   ]
  },
  {
   "cell_type": "code",
   "execution_count": null,
   "id": "6ed737a7-8558-4d43-bb42-064c0ba5f4e4",
   "metadata": {},
   "outputs": [],
   "source": []
  }
 ],
 "metadata": {
  "kernelspec": {
   "display_name": "Python 3 (ipykernel)",
   "language": "python",
   "name": "python3"
  },
  "language_info": {
   "codemirror_mode": {
    "name": "ipython",
    "version": 3
   },
   "file_extension": ".py",
   "mimetype": "text/x-python",
   "name": "python",
   "nbconvert_exporter": "python",
   "pygments_lexer": "ipython3",
   "version": "3.10.8"
  }
 },
 "nbformat": 4,
 "nbformat_minor": 5
}
