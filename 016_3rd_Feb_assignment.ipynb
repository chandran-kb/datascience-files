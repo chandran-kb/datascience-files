{
 "cells": [
  {
   "cell_type": "code",
   "execution_count": null,
   "id": "3ef59ba4-4602-4934-8a48-403b36088dc5",
   "metadata": {
    "tags": []
   },
   "outputs": [],
   "source": [
    "\"\"\"Q1.Which keyword is used to create a function? Create a function to return a list of odd numbers in the\n",
    "range of 1 to 25.\"\"\""
   ]
  },
  {
   "cell_type": "code",
   "execution_count": 1,
   "id": "38b0a72b-64fb-45ca-b809-dca2c31cbd6e",
   "metadata": {},
   "outputs": [],
   "source": [
    "### def name() keyword is used to create a function"
   ]
  },
  {
   "cell_type": "code",
   "execution_count": 8,
   "id": "062a4294-5291-4437-bc34-a0125f06c3cf",
   "metadata": {},
   "outputs": [],
   "source": [
    "def odd():\n",
    "    for i in range(26):\n",
    "        if i==1 or i%2==1:\n",
    "            yield (i)"
   ]
  },
  {
   "cell_type": "code",
   "execution_count": 10,
   "id": "e66f4c80-58aa-4f22-9d9c-043566d66e39",
   "metadata": {},
   "outputs": [],
   "source": [
    "l1=list(odd())"
   ]
  },
  {
   "cell_type": "code",
   "execution_count": 11,
   "id": "c8db1065-cdf1-4b6d-96ca-44e259bb9849",
   "metadata": {},
   "outputs": [
    {
     "data": {
      "text/plain": [
       "[1, 3, 5, 7, 9, 11, 13, 15, 17, 19, 21, 23, 25]"
      ]
     },
     "execution_count": 11,
     "metadata": {},
     "output_type": "execute_result"
    }
   ],
   "source": [
    "l1"
   ]
  },
  {
   "cell_type": "code",
   "execution_count": null,
   "id": "9ef65fe8-e181-4748-a60f-b2892a7be162",
   "metadata": {},
   "outputs": [],
   "source": [
    "\"\"\"Q2.Why *args and **kwargs is used in some functions? Create a function each for *args and **kwargs\n",
    "to demonstrate their use.\"\"\""
   ]
  },
  {
   "cell_type": "code",
   "execution_count": 27,
   "id": "1f6ae9b4-aa1a-4626-8728-33421110a3c6",
   "metadata": {},
   "outputs": [],
   "source": [
    "def args(*n):\n",
    "    l=n\n",
    "    return l"
   ]
  },
  {
   "cell_type": "code",
   "execution_count": 30,
   "id": "2a8cddf4-8500-49bd-9cff-125ca72f6534",
   "metadata": {},
   "outputs": [],
   "source": [
    "t=args(5,6,7)"
   ]
  },
  {
   "cell_type": "code",
   "execution_count": 31,
   "id": "9f0d20fe-0805-453d-b0f7-1a6c1d7f1270",
   "metadata": {},
   "outputs": [
    {
     "data": {
      "text/plain": [
       "tuple"
      ]
     },
     "execution_count": 31,
     "metadata": {},
     "output_type": "execute_result"
    }
   ],
   "source": [
    "type(t)"
   ]
  },
  {
   "cell_type": "code",
   "execution_count": 32,
   "id": "e2f6601f-5b6b-418e-b8cb-ff23ab50ea84",
   "metadata": {},
   "outputs": [
    {
     "data": {
      "text/plain": [
       "(5, 6, 7)"
      ]
     },
     "execution_count": 32,
     "metadata": {},
     "output_type": "execute_result"
    }
   ],
   "source": [
    "t"
   ]
  },
  {
   "cell_type": "code",
   "execution_count": 41,
   "id": "0336ae07-cb29-431d-9b6f-60546b28915c",
   "metadata": {},
   "outputs": [],
   "source": [
    "def wvargs(**n):\n",
    "    return n"
   ]
  },
  {
   "cell_type": "code",
   "execution_count": 42,
   "id": "78a71bfb-a83e-4115-b7a2-cd10125dd068",
   "metadata": {},
   "outputs": [
    {
     "data": {
      "text/plain": [
       "{}"
      ]
     },
     "execution_count": 42,
     "metadata": {},
     "output_type": "execute_result"
    }
   ],
   "source": [
    "wvargs()"
   ]
  },
  {
   "cell_type": "code",
   "execution_count": 52,
   "id": "0834ca61-15f5-4b04-9945-a4a5d3bf517b",
   "metadata": {},
   "outputs": [
    {
     "data": {
      "text/plain": [
       "{'key1': '1a', 'key2': '2b', 'key3': '3c'}"
      ]
     },
     "execution_count": 52,
     "metadata": {},
     "output_type": "execute_result"
    }
   ],
   "source": [
    "wvargs(key1=\"1a\",key2=\"2b\",key3=\"3c\")"
   ]
  },
  {
   "cell_type": "code",
   "execution_count": null,
   "id": "be2a39d7-8511-42a7-acf1-29854cd84fec",
   "metadata": {},
   "outputs": [],
   "source": [
    "\"\"\"Q.3 What is an iterator in python? Name the method used to initialise the iterator object and the method\n",
    "used for iteration. Use these methods to print the first five elements of the given list [2, 4, 6, 8, 10, 12, 14,\n",
    "16, 18, 20]\"\"\""
   ]
  },
  {
   "cell_type": "code",
   "execution_count": 104,
   "id": "91a5d2a8-0383-4657-9635-029b7c3a4b34",
   "metadata": {},
   "outputs": [],
   "source": [
    "# iterator is an element inside the iterables on which iterations are done.\n",
    "# iter() is the method to initialise the iterator object\n",
    "# next() is the method used for iterations of iterators"
   ]
  },
  {
   "cell_type": "code",
   "execution_count": 116,
   "id": "04d5e22d-33a8-4c9a-a3fe-c14ea91ea338",
   "metadata": {},
   "outputs": [],
   "source": [
    "c=[2, 4, 6, 8, 10, 12, 14, 16, 18, 20]\n",
    "c1=iter(c)"
   ]
  },
  {
   "cell_type": "code",
   "execution_count": 117,
   "id": "7d2feaa1-de39-413f-ab68-f653f098b63b",
   "metadata": {},
   "outputs": [
    {
     "name": "stdout",
     "output_type": "stream",
     "text": [
      "2\n",
      "4\n",
      "6\n",
      "8\n",
      "10\n"
     ]
    }
   ],
   "source": [
    "for i in range(5):\n",
    "    print(next(c1))"
   ]
  },
  {
   "cell_type": "code",
   "execution_count": null,
   "id": "6d99068d-20e0-4591-9ebe-5271e5959e06",
   "metadata": {},
   "outputs": [],
   "source": [
    "\"\"\" Q4. What is a generator function in python? Why yield keyword is used? Give an example of a generator\n",
    "function.\n",
    "\n",
    "Q5. Create a generator function for prime numbers less than 1000. Use the next() method to print the\n",
    "first 20 prime numbers.\"\"\""
   ]
  },
  {
   "cell_type": "code",
   "execution_count": 119,
   "id": "463b4dbf-431d-4979-9551-bdd4e82cc298",
   "metadata": {},
   "outputs": [],
   "source": [
    "def PN():\n",
    "    l1=range(1,1001) \n",
    "    for i in l1:\n",
    "        for j in range(2,i):\n",
    "            if i%j==0:\n",
    "                break\n",
    "        else : yield i"
   ]
  },
  {
   "cell_type": "code",
   "execution_count": 120,
   "id": "91458e6b-bbca-40d6-aa35-a744990a6a49",
   "metadata": {},
   "outputs": [
    {
     "data": {
      "text/plain": [
       "<generator object PN at 0x7f99525b8ac0>"
      ]
     },
     "execution_count": 120,
     "metadata": {},
     "output_type": "execute_result"
    }
   ],
   "source": [
    "PN()"
   ]
  },
  {
   "cell_type": "code",
   "execution_count": 121,
   "id": "91760c23-5920-4dfc-9e6a-84dfde56ffbe",
   "metadata": {},
   "outputs": [
    {
     "data": {
      "text/plain": [
       "generator"
      ]
     },
     "execution_count": 121,
     "metadata": {},
     "output_type": "execute_result"
    }
   ],
   "source": [
    "type(PN())"
   ]
  },
  {
   "cell_type": "code",
   "execution_count": 129,
   "id": "d9d14e9c-875d-4d7b-a96c-4eae578e864c",
   "metadata": {},
   "outputs": [],
   "source": [
    "x=PN()"
   ]
  },
  {
   "cell_type": "code",
   "execution_count": 130,
   "id": "a649756d-5a7b-4980-89be-7495d90798ef",
   "metadata": {},
   "outputs": [
    {
     "name": "stdout",
     "output_type": "stream",
     "text": [
      "1\n",
      "2\n",
      "3\n",
      "5\n",
      "7\n",
      "11\n",
      "13\n",
      "17\n",
      "19\n",
      "23\n",
      "29\n",
      "31\n",
      "37\n",
      "41\n",
      "43\n",
      "47\n",
      "53\n",
      "59\n",
      "61\n",
      "67\n"
     ]
    }
   ],
   "source": [
    "for i in range(20):\n",
    "    print(next(x))"
   ]
  },
  {
   "cell_type": "code",
   "execution_count": null,
   "id": "fc6d9cdc-675d-40b9-86a1-13a967602cd2",
   "metadata": {},
   "outputs": [],
   "source": [
    "\"\"\"Q6. Write a python program to print the first 10 Fibonacci numbers using a while loop.\"\"\""
   ]
  },
  {
   "cell_type": "code",
   "execution_count": 3,
   "id": "5f100616-ff88-4e96-9e5f-0820bd0cefbb",
   "metadata": {},
   "outputs": [
    {
     "name": "stdin",
     "output_type": "stream",
     "text": [
      "enter the lenght of series 10\n"
     ]
    },
    {
     "name": "stdout",
     "output_type": "stream",
     "text": [
      "0\n",
      "1\n",
      "1\n",
      "2\n",
      "3\n",
      "5\n",
      "8\n",
      "13\n",
      "21\n",
      "34\n"
     ]
    }
   ],
   "source": [
    "n=int(input(\"enter the lenght of series\"))\n",
    "n1,n2=0,1\n",
    "counter=1\n",
    "while counter<=n:\n",
    "    print(n1)\n",
    "    n1,n2=n2,n1+n2\n",
    "    counter=counter+1"
   ]
  },
  {
   "cell_type": "code",
   "execution_count": null,
   "id": "68dcc4f2-3232-4092-847c-9da192f2f02a",
   "metadata": {},
   "outputs": [],
   "source": [
    "\"\"\" Q7. Write a List Comprehension to iterate through the given string: ‘pwskills’.\n",
    "Expected output: ['p', 'w', 's', 'k', 'i', 'l', 'l', 's']\"\"\""
   ]
  },
  {
   "cell_type": "code",
   "execution_count": 61,
   "id": "e168b5d7-8253-406d-ad30-aa3608f17c4c",
   "metadata": {},
   "outputs": [
    {
     "data": {
      "text/plain": [
       "['p', 'w', 's', 'k', 'i', 'l', 'l', 's']"
      ]
     },
     "execution_count": 61,
     "metadata": {},
     "output_type": "execute_result"
    }
   ],
   "source": [
    "s=\"pwskills\"\n",
    "l=[]\n",
    "for i in s:\n",
    "    l.append(i)\n",
    "l"
   ]
  },
  {
   "cell_type": "code",
   "execution_count": 125,
   "id": "ceeed142-c0c2-46c4-90d0-944216ba0cde",
   "metadata": {},
   "outputs": [
    {
     "data": {
      "text/plain": [
       "['p', 'w', 's', 'k', 'i', 'l', 'l', 's']"
      ]
     },
     "execution_count": 125,
     "metadata": {},
     "output_type": "execute_result"
    }
   ],
   "source": [
    "## using list comprehension\n",
    "s=\"pwskills\"\n",
    "l=[i for i in s]\n",
    "l"
   ]
  },
  {
   "cell_type": "code",
   "execution_count": null,
   "id": "44b866a0-51eb-422c-bf9c-25dbe8affd4a",
   "metadata": {},
   "outputs": [],
   "source": [
    "\"\"\" Q8. Write a python program to check whether a given number is Palindrome or not using a while loop.\"\"\""
   ]
  },
  {
   "cell_type": "code",
   "execution_count": 51,
   "id": "deeac247-e06c-4c5a-9be4-c01285637242",
   "metadata": {},
   "outputs": [
    {
     "name": "stdin",
     "output_type": "stream",
     "text": [
      "enter the word Radar\n"
     ]
    },
    {
     "name": "stdout",
     "output_type": "stream",
     "text": [
      "palindrome\n"
     ]
    }
   ],
   "source": [
    "s=input(\"enter the word\")\n",
    "if s.lower()==s[::-1].lower():\n",
    "    print(\"palindrome\")    \n",
    "else : print (\"Not a palindrome\")\n",
    "        "
   ]
  },
  {
   "cell_type": "code",
   "execution_count": 55,
   "id": "416f2cb0-bd52-47ee-abff-ded600c1f83d",
   "metadata": {},
   "outputs": [
    {
     "name": "stdin",
     "output_type": "stream",
     "text": [
      "enter the sentence Mr Owl ate my metal worm\n"
     ]
    },
    {
     "name": "stdout",
     "output_type": "stream",
     "text": [
      "Mr Owl ate my metal worm is palindrome\n"
     ]
    }
   ],
   "source": [
    "s=input(\"enter the sentence\")\n",
    "if s.lower().replace(\" \",\"\")==s[::-1].lower().replace(\" \",\"\"):\n",
    "    print(s,\"is palindrome\")\n",
    "else : print (\"Not a palindrome\")"
   ]
  },
  {
   "cell_type": "code",
   "execution_count": null,
   "id": "ad0209e8-0c68-4b00-a800-3aa3d47f3124",
   "metadata": {},
   "outputs": [],
   "source": [
    "\"\"\"Q9.Write a code to print odd numbers from 1 to 100 using list comprehension.\"\"\""
   ]
  },
  {
   "cell_type": "code",
   "execution_count": 65,
   "id": "409ccaf2-e2b2-4182-9b00-9fd812bc7702",
   "metadata": {},
   "outputs": [],
   "source": [
    "o1=range(1,101)\n",
    "o2=[]\n",
    "for i in o1:\n",
    "    if i%2==1:\n",
    "        o2.append(i)"
   ]
  },
  {
   "cell_type": "code",
   "execution_count": 68,
   "id": "feb162dc-2c04-4a93-a467-c5d853b34e69",
   "metadata": {},
   "outputs": [],
   "source": [
    "## using list comprehension way\n",
    "o1=range(1,101)\n",
    "o2=[i for i in o1 if i%2==1]"
   ]
  },
  {
   "cell_type": "code",
   "execution_count": null,
   "id": "a3664c7d-90ef-496f-9de2-51260ff4063b",
   "metadata": {},
   "outputs": [],
   "source": []
  }
 ],
 "metadata": {
  "kernelspec": {
   "display_name": "Python 3 (ipykernel)",
   "language": "python",
   "name": "python3"
  },
  "language_info": {
   "codemirror_mode": {
    "name": "ipython",
    "version": 3
   },
   "file_extension": ".py",
   "mimetype": "text/x-python",
   "name": "python",
   "nbconvert_exporter": "python",
   "pygments_lexer": "ipython3",
   "version": "3.10.8"
  }
 },
 "nbformat": 4,
 "nbformat_minor": 5
}
