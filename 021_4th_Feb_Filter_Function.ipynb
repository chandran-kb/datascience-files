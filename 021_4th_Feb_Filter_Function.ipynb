{
 "cells": [
  {
   "cell_type": "code",
   "execution_count": 1,
   "id": "9524fc97-c2cd-4b8e-b7df-ce1da7c41211",
   "metadata": {},
   "outputs": [],
   "source": [
    "# fiilter function returns a filtered list of elements that satisfy a condition"
   ]
  },
  {
   "cell_type": "code",
   "execution_count": 3,
   "id": "d9bd8a1a-7f0c-483f-a02e-da7fc4f36fb2",
   "metadata": {},
   "outputs": [],
   "source": [
    "## filter fucntions filters a list and gives the result\n",
    "## filter also takes input same as map or reduce  function(external or internal(lambda)) and iterable"
   ]
  },
  {
   "cell_type": "code",
   "execution_count": 2,
   "id": "eb6cdc6c-fc40-477d-a807-dc23bdc5fe85",
   "metadata": {},
   "outputs": [],
   "source": [
    "l=range(1,15)"
   ]
  },
  {
   "cell_type": "code",
   "execution_count": 6,
   "id": "e354a239-d0d4-47c6-adb1-1aea25e4c93d",
   "metadata": {},
   "outputs": [],
   "source": [
    "## to filter the even numbers in list\n",
    "f=filter (lambda x :x%2==0,l)"
   ]
  },
  {
   "cell_type": "code",
   "execution_count": 7,
   "id": "d0c9f39d-4952-4208-86c3-ee123936f35a",
   "metadata": {},
   "outputs": [
    {
     "data": {
      "text/plain": [
       "[2, 4, 6, 8, 10, 12, 14]"
      ]
     },
     "execution_count": 7,
     "metadata": {},
     "output_type": "execute_result"
    }
   ],
   "source": [
    "list(f)"
   ]
  },
  {
   "cell_type": "code",
   "execution_count": 8,
   "id": "20e5837d-c61d-4c97-b3c3-4edb6330281d",
   "metadata": {},
   "outputs": [],
   "source": [
    "## to filter the odd numbers in list\n",
    "f=filter (lambda x :x%2==1,l)"
   ]
  },
  {
   "cell_type": "code",
   "execution_count": 9,
   "id": "90c9c5ec-ab4f-4e03-8fe2-a5c726405dc2",
   "metadata": {},
   "outputs": [
    {
     "data": {
      "text/plain": [
       "[1, 3, 5, 7, 9, 11, 13]"
      ]
     },
     "execution_count": 9,
     "metadata": {},
     "output_type": "execute_result"
    }
   ],
   "source": [
    "list(f)"
   ]
  },
  {
   "cell_type": "code",
   "execution_count": 10,
   "id": "067be292-63b0-43e7-b9c1-545294582db9",
   "metadata": {},
   "outputs": [],
   "source": [
    "l1=range(-5,5)"
   ]
  },
  {
   "cell_type": "code",
   "execution_count": 12,
   "id": "256ef59a-e4ae-48ff-b66b-f699d59ce610",
   "metadata": {},
   "outputs": [
    {
     "data": {
      "text/plain": [
       "[-5, -4, -3, -2, -1]"
      ]
     },
     "execution_count": 12,
     "metadata": {},
     "output_type": "execute_result"
    }
   ],
   "source": [
    "list(filter(lambda x : x<0 , l1))"
   ]
  },
  {
   "cell_type": "code",
   "execution_count": 18,
   "id": "b17e3d8f-a74a-44ff-92bf-12ac09dc43f6",
   "metadata": {},
   "outputs": [],
   "source": [
    "l2=[\"barath\", \"chandran\", \"akshay\", \"kandi\",\"www\", \"is\" ,\"as\"]"
   ]
  },
  {
   "cell_type": "code",
   "execution_count": 19,
   "id": "90755e9a-9dbb-4d35-8c8f-df0145a8caaf",
   "metadata": {},
   "outputs": [
    {
     "data": {
      "text/plain": [
       "['barath', 'chandran', 'akshay', 'kandi']"
      ]
     },
     "execution_count": 19,
     "metadata": {},
     "output_type": "execute_result"
    }
   ],
   "source": [
    "## filter strings with  >=5\n",
    "list(filter(lambda x : len(x)>=5  ,l2))"
   ]
  },
  {
   "cell_type": "code",
   "execution_count": 20,
   "id": "ab46fb72-7aba-493d-b482-a85e28b62b34",
   "metadata": {},
   "outputs": [
    {
     "data": {
      "text/plain": [
       "['kandi', 'www', 'is', 'as']"
      ]
     },
     "execution_count": 20,
     "metadata": {},
     "output_type": "execute_result"
    }
   ],
   "source": [
    "list(filter(lambda x : len(x)<=5  ,l2))"
   ]
  },
  {
   "cell_type": "code",
   "execution_count": null,
   "id": "8903d47a-7bcb-40d6-8959-b8b7dc41a741",
   "metadata": {},
   "outputs": [],
   "source": []
  }
 ],
 "metadata": {
  "kernelspec": {
   "display_name": "Python 3 (ipykernel)",
   "language": "python",
   "name": "python3"
  },
  "language_info": {
   "codemirror_mode": {
    "name": "ipython",
    "version": 3
   },
   "file_extension": ".py",
   "mimetype": "text/x-python",
   "name": "python",
   "nbconvert_exporter": "python",
   "pygments_lexer": "ipython3",
   "version": "3.10.8"
  }
 },
 "nbformat": 4,
 "nbformat_minor": 5
}
