{
 "cells": [
  {
   "cell_type": "code",
   "execution_count": 35,
   "id": "2cfa70d5-49c1-4088-a54b-a8ed05bfc7b6",
   "metadata": {},
   "outputs": [],
   "source": [
    "## Q1, Create a vehicle class with an init method having instance variables as name_of_vehicle, max_speed and average_of_vehicle."
   ]
  },
  {
   "cell_type": "code",
   "execution_count": 36,
   "id": "aeefc19b-26ae-41c3-bc3d-2264dfc5e7e8",
   "metadata": {},
   "outputs": [],
   "source": [
    "class vehicle:\n",
    "    \n",
    "    def __init__ (self, name_of_vehicle, max_speed , average_of_vehicle):\n",
    "        self.name_of_vehicle = name_of_vehicle\n",
    "        self.max_speed = max_speed\n",
    "        self.average_of_vehicle = average_of_vehicle       "
   ]
  },
  {
   "cell_type": "code",
   "execution_count": 16,
   "id": "e6d541e4-fd80-4d77-89c2-dff0918be0b5",
   "metadata": {},
   "outputs": [
    {
     "data": {
      "text/plain": [
       "'Q2. Create a child class car from the vehicle class created in Que 1, which will inherit the vehicle class.\\nCreate a method named seating_capacity which takes capacity as an argument and returns the name of\\nthe vehicle and its seating capacity.'"
      ]
     },
     "execution_count": 16,
     "metadata": {},
     "output_type": "execute_result"
    }
   ],
   "source": [
    "\"\"\"Q2. Create a child class car from the vehicle class created in Que 1, which will inherit the vehicle class.\n",
    "Create a method named seating_capacity which takes capacity as an argument and returns the name of\n",
    "the vehicle and its seating capacity.\"\"\""
   ]
  },
  {
   "cell_type": "code",
   "execution_count": 37,
   "id": "3f3ef17a-e422-4b77-8d26-507ae2654e8d",
   "metadata": {},
   "outputs": [
    {
     "data": {
      "text/plain": [
       "(5, 'nexon')"
      ]
     },
     "execution_count": 37,
     "metadata": {},
     "output_type": "execute_result"
    }
   ],
   "source": [
    "class car(vehicle):\n",
    "    \n",
    "    def seating_capacity(self, seating_capacity):\n",
    "        self.seating_capacity = seating_capacity\n",
    "        return self.seating_capacity , self.name_of_vehicle\n",
    "\n",
    "a1 = car('nexon', '180kmph', '18kmpl')\n",
    "a1.seating_capacity(5)"
   ]
  },
  {
   "cell_type": "code",
   "execution_count": 38,
   "id": "38972468-17f4-4ce0-979f-f5d15dd21220",
   "metadata": {},
   "outputs": [],
   "source": [
    "### Q3. What is multiple inheritance? Write a python code to demonstrate multiple inheritance."
   ]
  },
  {
   "cell_type": "code",
   "execution_count": 43,
   "id": "f2dfa2cb-7ce4-4a23-aa45-4295253cdd94",
   "metadata": {},
   "outputs": [
    {
     "name": "stdout",
     "output_type": "stream",
     "text": [
      "feature1 working\n",
      "feature2 working\n",
      "feature3 working\n",
      "feature2 working\n",
      "feature1 working\n"
     ]
    }
   ],
   "source": [
    "class A():\n",
    "    def feature1():\n",
    "        print(\"feature1 working\")\n",
    "    \n",
    "class B():\n",
    "    def feature2():\n",
    "        print(\"feature2 working\")\n",
    "        \n",
    "class C(A,B):\n",
    "    def feature3():\n",
    "        print(\"feature3 working\")\n",
    "        \n",
    "a=A\n",
    "b=B\n",
    "c=C\n",
    "\n",
    "a.feature1()\n",
    "b.feature2()\n",
    "c.feature3()\n",
    "c.feature2()\n",
    "c.feature1()"
   ]
  },
  {
   "cell_type": "code",
   "execution_count": 71,
   "id": "5330979e-5017-4158-b271-e0f94c13a020",
   "metadata": {},
   "outputs": [],
   "source": [
    "## Q4. What are getter and setter in python? Create a class and create a getter and a setter method in this class.\n",
    "## getter and setter methods are used when you've used an encapsulation to protect a data variable and you want to give accesss of viewing or editing that data variable to client"
   ]
  },
  {
   "cell_type": "code",
   "execution_count": 67,
   "id": "f6e34b90-e3ae-43de-a9b8-686ca3adaad5",
   "metadata": {},
   "outputs": [],
   "source": [
    "class bank_account():\n",
    "        \n",
    "    def get_pin(self):\n",
    "        return self.__pin\n",
    "        \n",
    "    def set_pin(self, npin):\n",
    "        self.__pin = npin\n",
    "        return \"new pin set\""
   ]
  },
  {
   "cell_type": "code",
   "execution_count": 68,
   "id": "d99311fb-5d75-420e-bde5-5e790be0c884",
   "metadata": {},
   "outputs": [],
   "source": [
    "b = bank_account()"
   ]
  },
  {
   "cell_type": "code",
   "execution_count": 69,
   "id": "b8597b00-af8f-4b1b-afae-c1a7ae83adfe",
   "metadata": {},
   "outputs": [
    {
     "data": {
      "text/plain": [
       "'new pin set'"
      ]
     },
     "execution_count": 69,
     "metadata": {},
     "output_type": "execute_result"
    }
   ],
   "source": [
    "b.set_pin(1112)"
   ]
  },
  {
   "cell_type": "code",
   "execution_count": 70,
   "id": "dee0b2df-c704-4ab9-aa4a-4ec805d71c13",
   "metadata": {},
   "outputs": [
    {
     "data": {
      "text/plain": [
       "1112"
      ]
     },
     "execution_count": 70,
     "metadata": {},
     "output_type": "execute_result"
    }
   ],
   "source": [
    "b.get_pin()"
   ]
  },
  {
   "cell_type": "code",
   "execution_count": 72,
   "id": "739bfa5a-f153-4782-b4b6-832b184befac",
   "metadata": {},
   "outputs": [],
   "source": [
    "## Q5.What is method overriding in python? Write a python code to demonstrate method overriding."
   ]
  },
  {
   "cell_type": "code",
   "execution_count": 74,
   "id": "0e6ce801-38e2-47bc-b43c-404d48b5e7e0",
   "metadata": {},
   "outputs": [],
   "source": [
    "## method overriding is when you have same methods with same parameters in different class but they behave differently under those classes"
   ]
  },
  {
   "cell_type": "code",
   "execution_count": 76,
   "id": "fe265a8e-2813-4565-b33d-6da98056f5ce",
   "metadata": {},
   "outputs": [],
   "source": [
    "class customer_1():\n",
    "    \n",
    "    def bank_name(self):\n",
    "        self.bank_name = \"ICICI\"\n",
    "        return self.bank_name\n",
    "    \n",
    "class customer_2(customer_1):\n",
    "    \n",
    "    def bank_name(self):\n",
    "        self.bank_name = \"HDFC\"\n",
    "        return self.bank_name\n",
    "    \n",
    "    \n",
    "bharath = customer_1()\n",
    "akshay = customer_2()"
   ]
  },
  {
   "cell_type": "code",
   "execution_count": 77,
   "id": "26bc85d0-fc5d-4b91-b66a-7fc72df9d4e6",
   "metadata": {},
   "outputs": [
    {
     "data": {
      "text/plain": [
       "'ICICI'"
      ]
     },
     "execution_count": 77,
     "metadata": {},
     "output_type": "execute_result"
    }
   ],
   "source": [
    "bharath.bank_name()"
   ]
  },
  {
   "cell_type": "code",
   "execution_count": 78,
   "id": "fca25b97-589f-45e6-a485-62f61cc1e8d0",
   "metadata": {},
   "outputs": [
    {
     "data": {
      "text/plain": [
       "'HDFC'"
      ]
     },
     "execution_count": 78,
     "metadata": {},
     "output_type": "execute_result"
    }
   ],
   "source": [
    "akshay.bank_name()"
   ]
  },
  {
   "cell_type": "code",
   "execution_count": null,
   "id": "97cf8fdf-65b3-4f5f-b726-d94a4f9559d0",
   "metadata": {},
   "outputs": [],
   "source": []
  }
 ],
 "metadata": {
  "kernelspec": {
   "display_name": "Python 3 (ipykernel)",
   "language": "python",
   "name": "python3"
  },
  "language_info": {
   "codemirror_mode": {
    "name": "ipython",
    "version": 3
   },
   "file_extension": ".py",
   "mimetype": "text/x-python",
   "name": "python",
   "nbconvert_exporter": "python",
   "pygments_lexer": "ipython3",
   "version": "3.10.8"
  }
 },
 "nbformat": 4,
 "nbformat_minor": 5
}
