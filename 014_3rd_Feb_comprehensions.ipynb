{
 "cells": [
  {
   "cell_type": "code",
   "execution_count": 25,
   "id": "31bd99c7-c607-44f8-bff0-bbd103612348",
   "metadata": {},
   "outputs": [],
   "source": [
    "### comprehensions are way to use for loop in short form"
   ]
  },
  {
   "cell_type": "code",
   "execution_count": 26,
   "id": "fb0c13ab-235d-42f2-9672-56e249c94f5a",
   "metadata": {},
   "outputs": [],
   "source": [
    "l=list(range(5,15,2))"
   ]
  },
  {
   "cell_type": "code",
   "execution_count": 27,
   "id": "f7af41b4-28ba-4b0e-b9d4-bb301d59416b",
   "metadata": {},
   "outputs": [
    {
     "data": {
      "text/plain": [
       "[5, 7, 9, 11, 13]"
      ]
     },
     "execution_count": 27,
     "metadata": {},
     "output_type": "execute_result"
    }
   ],
   "source": [
    "l"
   ]
  },
  {
   "cell_type": "code",
   "execution_count": 28,
   "id": "60bc5d3e-ff2f-4629-aaa4-d00421e7d246",
   "metadata": {},
   "outputs": [
    {
     "data": {
      "text/plain": [
       "[125, 343, 729, 1331, 2197]"
      ]
     },
     "execution_count": 28,
     "metadata": {},
     "output_type": "execute_result"
    }
   ],
   "source": [
    "[i**3 for i in l]"
   ]
  },
  {
   "cell_type": "code",
   "execution_count": 29,
   "id": "caee1253-e350-4979-93ce-702302b7110b",
   "metadata": {},
   "outputs": [
    {
     "data": {
      "text/plain": [
       "[9]"
      ]
     },
     "execution_count": 29,
     "metadata": {},
     "output_type": "execute_result"
    }
   ],
   "source": [
    "[i for i in l if i%3==0]"
   ]
  },
  {
   "cell_type": "code",
   "execution_count": 30,
   "id": "e5194541-d458-469b-825d-dfb4b2ed6d50",
   "metadata": {},
   "outputs": [
    {
     "data": {
      "text/plain": [
       "[5]"
      ]
     },
     "execution_count": 30,
     "metadata": {},
     "output_type": "execute_result"
    }
   ],
   "source": [
    "[l[i] for i in range(len(l)) if i%5==0]"
   ]
  },
  {
   "cell_type": "code",
   "execution_count": 31,
   "id": "19d47bef-53b1-4bc7-b6c0-b205084d81b1",
   "metadata": {},
   "outputs": [
    {
     "data": {
      "text/plain": [
       "[13, 11, 9, 7, 5]"
      ]
     },
     "execution_count": 31,
     "metadata": {},
     "output_type": "execute_result"
    }
   ],
   "source": [
    "[l[i] for i in range(len(l)-1,-1,-1)]"
   ]
  },
  {
   "cell_type": "code",
   "execution_count": 32,
   "id": "016b670d-c2b8-4e46-942c-b9c0d421a92c",
   "metadata": {},
   "outputs": [
    {
     "data": {
      "text/plain": [
       "[5, 7, 9, 11, 13]"
      ]
     },
     "execution_count": 32,
     "metadata": {},
     "output_type": "execute_result"
    }
   ],
   "source": [
    "[l[i] for i in range(len(l))]"
   ]
  },
  {
   "cell_type": "code",
   "execution_count": 33,
   "id": "842185d4-b489-41d4-9b1e-bd05a5123515",
   "metadata": {},
   "outputs": [
    {
     "data": {
      "text/plain": [
       "[5, 7, 9, 11, 13]"
      ]
     },
     "execution_count": 33,
     "metadata": {},
     "output_type": "execute_result"
    }
   ],
   "source": [
    "l"
   ]
  },
  {
   "cell_type": "code",
   "execution_count": 35,
   "id": "9f5a41b3-0b6e-4761-9c84-54ef107be66d",
   "metadata": {},
   "outputs": [
    {
     "data": {
      "text/plain": [
       "[5, 9, 13]"
      ]
     },
     "execution_count": 35,
     "metadata": {},
     "output_type": "execute_result"
    }
   ],
   "source": [
    "[l[i] for i in range(len(l)) if i%2==0]"
   ]
  },
  {
   "cell_type": "code",
   "execution_count": 36,
   "id": "a97184fb-ead1-4410-9a84-7fc762b20aef",
   "metadata": {},
   "outputs": [],
   "source": [
    "l1=[\"bharath\",\"chandran\"]"
   ]
  },
  {
   "cell_type": "code",
   "execution_count": 38,
   "id": "f891f6d0-3cc9-460c-9de6-2b6b8f2a12bd",
   "metadata": {},
   "outputs": [
    {
     "data": {
      "text/plain": [
       "['BHARATH', 'CHANDRAN']"
      ]
     },
     "execution_count": 38,
     "metadata": {},
     "output_type": "execute_result"
    }
   ],
   "source": [
    "[i.upper() for i in l1]"
   ]
  },
  {
   "cell_type": "code",
   "execution_count": 39,
   "id": "07700ad1-87a7-4081-b65b-ac829158ef96",
   "metadata": {},
   "outputs": [
    {
     "data": {
      "text/plain": [
       "[5, 7, 9, 11, 13]"
      ]
     },
     "execution_count": 39,
     "metadata": {},
     "output_type": "execute_result"
    }
   ],
   "source": [
    "l"
   ]
  },
  {
   "cell_type": "code",
   "execution_count": 40,
   "id": "e389ca46-72b9-41eb-8263-6244428a6e6b",
   "metadata": {},
   "outputs": [
    {
     "data": {
      "text/plain": [
       "{5, 7, 9, 11, 13}"
      ]
     },
     "execution_count": 40,
     "metadata": {},
     "output_type": "execute_result"
    }
   ],
   "source": [
    "{i for i in l}"
   ]
  },
  {
   "cell_type": "code",
   "execution_count": 45,
   "id": "12711ecc-38b5-4ad4-841b-9aace900048b",
   "metadata": {},
   "outputs": [],
   "source": [
    "d = {\"key1\" : 1 , \"key2\" : 2 , \"key3\" : 3}"
   ]
  },
  {
   "cell_type": "code",
   "execution_count": 46,
   "id": "a8413050-375a-401b-b31c-b4a86602f329",
   "metadata": {},
   "outputs": [
    {
     "data": {
      "text/plain": [
       "[1, 4, 9]"
      ]
     },
     "execution_count": 46,
     "metadata": {},
     "output_type": "execute_result"
    }
   ],
   "source": [
    "[i**2 for i in d.values()]"
   ]
  },
  {
   "cell_type": "code",
   "execution_count": 53,
   "id": "87625c3a-29c4-4ed9-ad34-e0907e68b4f9",
   "metadata": {},
   "outputs": [
    {
     "data": {
      "text/plain": [
       "{'key1': 1, 'key2': 4, 'key3': 9}"
      ]
     },
     "execution_count": 53,
     "metadata": {},
     "output_type": "execute_result"
    }
   ],
   "source": [
    "{i : j**2 for i,j in d.items()}"
   ]
  },
  {
   "cell_type": "code",
   "execution_count": 54,
   "id": "86b5f68c-2202-4209-9d14-5a30d86c8d97",
   "metadata": {},
   "outputs": [
    {
     "data": {
      "text/plain": [
       "{'key2': 2, 'key3': 3}"
      ]
     },
     "execution_count": 54,
     "metadata": {},
     "output_type": "execute_result"
    }
   ],
   "source": [
    "{i:j for i,j in d.items() if j>=2}"
   ]
  },
  {
   "cell_type": "code",
   "execution_count": null,
   "id": "20384233-401d-4864-9ed3-b5593e57935c",
   "metadata": {},
   "outputs": [],
   "source": []
  }
 ],
 "metadata": {
  "kernelspec": {
   "display_name": "Python 3 (ipykernel)",
   "language": "python",
   "name": "python3"
  },
  "language_info": {
   "codemirror_mode": {
    "name": "ipython",
    "version": 3
   },
   "file_extension": ".py",
   "mimetype": "text/x-python",
   "name": "python",
   "nbconvert_exporter": "python",
   "pygments_lexer": "ipython3",
   "version": "3.10.8"
  }
 },
 "nbformat": 4,
 "nbformat_minor": 5
}
