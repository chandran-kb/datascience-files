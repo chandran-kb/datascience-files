{
 "cells": [
  {
   "cell_type": "code",
   "execution_count": 7,
   "id": "8b4e1f45-ac0b-4a06-a1c4-c2e166591fa3",
   "metadata": {},
   "outputs": [
    {
     "data": {
      "text/plain": [
       "'\\nDifference between DATA SCIENCE and DATA ANALYTICS and BIG DATA\\n\\n\\nData Science --> predication, forcasting or generating data \\n                    eg : weather forcasting, text recommendation in gmail, speech to text and then the outcome in google assistance, recommendations \\n                    in netflix, fair estimation in ola or uber.\\n            \\n            Things to know for DS\\n            --> computer language ==> Python (easiest) \\n            --> Maths ==> Statistics\\n            --> Machine Learing(ML) (can apply for ML Engineer after you learn till this course)\\n            --> Deep Learning(DL)\\n            --> Computer vision\\n            --> Natural Language Programming (NLP)\\n            \\n\\nData/Busines Analytics--> dashboarding\\n\\n            Things to know for DA\\n            --> basics of python\\n            --> basics of statistics\\n            --> dashboarding tool (like PowerBI, Tableau)\\n            --> Advance Excel\\n            --> SQL in depth\\n            \\n\\nBig Data or Data Engineering --> whenever data volume is too high and too frequent, big data is used to process such data\\n            Things to know for BD\\n            --> hadoop\\n            --> hive\\n            --> Hbase\\n            --> kafka\\n            --> oozie\\n            --> azure data factory \\n            --> spark\\n\\n\\nData goes from Big Data ==> Data Science ==> Data Analytics\\n\\ndata churned from DS is sent to DA who then uses it for dashboarding\\n\\nThe \"final product\" of all these would be AI (Artificial Intelligence)\\nAI is the whole eco-system which takes and churns data & does the predication or forcasting or dashboarding and \\'then take a decision by itself\\'\\nLike ChatGPT or Sophia or Google Assitant. \\n\\n'"
      ]
     },
     "execution_count": 7,
     "metadata": {},
     "output_type": "execute_result"
    }
   ],
   "source": [
    "\"\"\"\n",
    "Difference between DATA SCIENCE and DATA ANALYTICS and BIG DATA\n",
    "\n",
    "\n",
    "Data Science --> predication, forcasting or generating data \n",
    "                    eg : weather forcasting, text recommendation in gmail, speech to text and then the outcome in google assistance, recommendations \n",
    "                    in netflix, fair estimation in ola or uber.\n",
    "            \n",
    "            Things to know for DS\n",
    "            --> computer language ==> Python (easiest) \n",
    "            --> Maths ==> Statistics\n",
    "            --> Machine Learing(ML) (can apply for ML Engineer after you learn till this course)\n",
    "            --> Deep Learning(DL)\n",
    "            --> Computer vision\n",
    "            --> Natural Language Programming (NLP)\n",
    "            \n",
    "\n",
    "Data/Busines Analytics--> dashboarding\n",
    "\n",
    "            Things to know for DA\n",
    "            --> basics of python\n",
    "            --> basics of statistics\n",
    "            --> dashboarding tool (like PowerBI, Tableau)\n",
    "            --> Advance Excel\n",
    "            --> SQL in depth\n",
    "            \n",
    "\n",
    "Big Data or Data Engineering --> whenever data volume is too high and too frequent, big data is used to process such data\n",
    "            Things to know for BD\n",
    "            --> hadoop\n",
    "            --> hive\n",
    "            --> Hbase\n",
    "            --> kafka\n",
    "            --> oozie\n",
    "            --> azure data factory \n",
    "            --> spark\n",
    "\n",
    "\n",
    "Data goes from Big Data ==> Data Science ==> Data Analytics\n",
    "\n",
    "data churned from DS is sent to DA who then uses it for dashboarding\n",
    "\n",
    "The \"final product\" of all these would be AI (Artificial Intelligence)\n",
    "AI is the whole eco-system which takes and churns data & does the predication or forcasting or dashboarding and 'then take a decision by itself'\n",
    "Like ChatGPT or Sophia or Google Assitant. \n",
    "\n",
    "\"\"\"\n",
    "\n",
    "\n",
    "\n",
    "\n"
   ]
  },
  {
   "cell_type": "code",
   "execution_count": null,
   "id": "ec1cebca-62ce-46b0-b5f2-031846178b2c",
   "metadata": {},
   "outputs": [],
   "source": []
  }
 ],
 "metadata": {
  "kernelspec": {
   "display_name": "Python 3 (ipykernel)",
   "language": "python",
   "name": "python3"
  },
  "language_info": {
   "codemirror_mode": {
    "name": "ipython",
    "version": 3
   },
   "file_extension": ".py",
   "mimetype": "text/x-python",
   "name": "python",
   "nbconvert_exporter": "python",
   "pygments_lexer": "ipython3",
   "version": "3.10.8"
  }
 },
 "nbformat": 4,
 "nbformat_minor": 5
}
