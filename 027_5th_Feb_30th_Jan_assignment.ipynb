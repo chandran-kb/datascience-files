{
 "cells": [
  {
   "cell_type": "code",
   "execution_count": 1,
   "id": "d36c4489-da29-4dd6-bf4b-d34795540c55",
   "metadata": {},
   "outputs": [],
   "source": [
    "## https://drive.google.com/file/d/1hyD9pv5dlwP2dnIkvfvyw2CHSECrJw2x/view"
   ]
  },
  {
   "cell_type": "code",
   "execution_count": 2,
   "id": "c6030d4c-f463-422c-b3b8-0c89ca47f8a7",
   "metadata": {},
   "outputs": [
    {
     "name": "stdin",
     "output_type": "stream",
     "text": [
      "enter the percentage 85\n"
     ]
    },
    {
     "name": "stdout",
     "output_type": "stream",
     "text": [
      "Grade B\n"
     ]
    }
   ],
   "source": [
    "n=int(input(\"enter the percentage\"))\n",
    "\n",
    "if n >90: \n",
    "    print (\"Grade A\")\n",
    "elif n>80 and n<=90:\n",
    "    print (\"Grade B\")\n",
    "elif n>=60 and n<=80:\n",
    "    print(\"Grade C\")\n",
    "elif n<60 and n>0:\n",
    "    print(\"Grade D\")"
   ]
  },
  {
   "cell_type": "code",
   "execution_count": 7,
   "id": "31d05d01-714d-473f-b923-5fbe0022eb99",
   "metadata": {},
   "outputs": [
    {
     "name": "stdin",
     "output_type": "stream",
     "text": [
      "enter the cost price of the bike 200000\n"
     ]
    },
    {
     "name": "stdout",
     "output_type": "stream",
     "text": [
      "Tax is 30000.0\n"
     ]
    }
   ],
   "source": [
    "n = int(input(\"enter the cost price of the bike\"))\n",
    "\n",
    "if n > 100000 :\n",
    "    print (f\"Tax is {15*n/100}\")\n",
    "elif n >50000 and n<=100000:\n",
    "    print(f\"Tax is {10*n/100}\")\n",
    "elif n<=50000 and n>0:\n",
    "    print(f\"Tax is {5*n/100}\")"
   ]
  },
  {
   "cell_type": "code",
   "execution_count": 10,
   "id": "7cd0ebe9-7130-47b7-8f69-ea415d75c5e1",
   "metadata": {},
   "outputs": [
    {
     "name": "stdin",
     "output_type": "stream",
     "text": [
      "Enter the name of the city Delhi\n"
     ]
    },
    {
     "name": "stdout",
     "output_type": "stream",
     "text": [
      "Monument is Red Fort\n"
     ]
    }
   ],
   "source": [
    "n = input(\"Enter the name of the city\")\n",
    "\n",
    "if n.lower()== \"delhi\" :\n",
    "    print(\"Monument is Red Fort\")\n",
    "elif n.lower()==\"agra\":\n",
    "    print(\"Monument is Taj Mahal\")\n",
    "elif n.lower()==\"jaipur\":\n",
    "    print(\"Monument is Jal Mahal\")"
   ]
  },
  {
   "cell_type": "code",
   "execution_count": 9,
   "id": "0c2786c7-27dd-411f-b11d-caaa2c98bc5f",
   "metadata": {},
   "outputs": [
    {
     "name": "stdin",
     "output_type": "stream",
     "text": [
      "enter the number 111\n"
     ]
    },
    {
     "name": "stdout",
     "output_type": "stream",
     "text": [
      "The given number is divisible by '3' 2 times\n"
     ]
    }
   ],
   "source": [
    "n = int(input(\"enter the number\"))\n",
    "t=0\n",
    "while True :\n",
    "    if n/3<=10:\n",
    "        break\n",
    "    n=n/3\n",
    "    t=t+1\n",
    "print(f\"The given number is divisible by '3' {t} times\")"
   ]
  },
  {
   "cell_type": "code",
   "execution_count": 7,
   "id": "d651e146-34e3-4bf2-bc36-917329cde7bc",
   "metadata": {},
   "outputs": [
    {
     "name": "stdin",
     "output_type": "stream",
     "text": [
      "enter the number of rows 5\n",
      "enter the number of columns 5\n"
     ]
    },
    {
     "name": "stdout",
     "output_type": "stream",
     "text": [
      "* * * * * \n",
      "* * * * * \n",
      "* * * * * \n",
      "* * * * * \n",
      "* * * * * \n"
     ]
    }
   ],
   "source": [
    "r = int(input(\"enter the number of rows\"))\n",
    "c= int(input(\"enter the number of columns\"))\n",
    "counter1=1\n",
    "counter2=1\n",
    "while counter1<=r:\n",
    "    while counter2<=c:\n",
    "        print(\"*\" , end = \" \")\n",
    "        counter2+=1\n",
    "    counter2=1\n",
    "    counter1+=1\n",
    "    print()"
   ]
  },
  {
   "cell_type": "code",
   "execution_count": 2,
   "id": "b87f8fe8-d4e6-4d49-a83c-06ed97adf3be",
   "metadata": {},
   "outputs": [
    {
     "name": "stdin",
     "output_type": "stream",
     "text": [
      "enter the number of rows 5\n",
      "enter the number of columns 5\n"
     ]
    },
    {
     "name": "stdout",
     "output_type": "stream",
     "text": [
      "    *\n",
      "   **\n",
      "  ***\n",
      " ****\n",
      "*****\n"
     ]
    }
   ],
   "source": [
    "r = int(input(\"enter the number of rows\"))\n",
    "c= int(input(\"enter the number of columns\"))\n",
    "counter1=1\n",
    "counter2=1\n",
    "n=1\n",
    "while counter1<=r:\n",
    "    while counter2<=c-1:\n",
    "        print(end = \" \")\n",
    "        counter2+=1\n",
    "    counter2=1\n",
    "    while counter2<=n:\n",
    "        print(\"*\", end = \"\")\n",
    "        counter2+=1\n",
    "    c=c-1\n",
    "    counter2=1\n",
    "    n=n+1\n",
    "    counter1+=1\n",
    "    print()"
   ]
  },
  {
   "cell_type": "code",
   "execution_count": 5,
   "id": "dcc77593-7e68-4298-9c56-90d6734ab23f",
   "metadata": {},
   "outputs": [
    {
     "name": "stdin",
     "output_type": "stream",
     "text": [
      "enter the number of rows 5\n",
      "enter the number of columns 5\n"
     ]
    },
    {
     "name": "stdout",
     "output_type": "stream",
     "text": [
      "        * \n",
      "      * * \n",
      "    * * * \n",
      "  * * * * \n",
      "* * * * * \n"
     ]
    }
   ],
   "source": [
    "r = int(input(\"enter the number of rows\"))\n",
    "c= int(input(\"enter the number of columns\"))\n",
    "counter1=1\n",
    "counter2=1\n",
    "n=1\n",
    "while counter1<=r:\n",
    "    while counter2<=2*(c-1):\n",
    "        print(end = \" \")\n",
    "        counter2+=1\n",
    "    counter2=1\n",
    "    while counter2<=n:\n",
    "        print(\"*\", end = \" \")\n",
    "        counter2+=1\n",
    "    c=c-1\n",
    "    counter2=1\n",
    "    n=n+1\n",
    "    counter1+=1\n",
    "    print()"
   ]
  },
  {
   "cell_type": "code",
   "execution_count": 6,
   "id": "06a383fe-5956-4fd2-93f6-64dfb6784c19",
   "metadata": {},
   "outputs": [
    {
     "name": "stdin",
     "output_type": "stream",
     "text": [
      "enter the number of rows 5\n",
      "enter the number of columns 5\n"
     ]
    },
    {
     "name": "stdout",
     "output_type": "stream",
     "text": [
      "    * \n",
      "   * * \n",
      "  * * * \n",
      " * * * * \n",
      "* * * * * \n"
     ]
    }
   ],
   "source": [
    "r = int(input(\"enter the number of rows\"))\n",
    "c= int(input(\"enter the number of columns\"))\n",
    "counter1=1\n",
    "counter2=1\n",
    "n=1\n",
    "while counter1<=r:\n",
    "    while counter2<=c-1:\n",
    "        print(end = \" \")\n",
    "        counter2+=1\n",
    "    counter2=1\n",
    "    while counter2<=n:\n",
    "        print(\"*\", end = \" \")\n",
    "        counter2+=1\n",
    "    c=c-1\n",
    "    counter2=1\n",
    "    n=n+1\n",
    "    counter1+=1\n",
    "    print()"
   ]
  },
  {
   "cell_type": "code",
   "execution_count": 3,
   "id": "97c154c8-6e5a-4167-8157-b82d771f98a8",
   "metadata": {},
   "outputs": [
    {
     "name": "stdout",
     "output_type": "stream",
     "text": [
      "10\n",
      "9\n",
      "8\n",
      "7\n",
      "6\n",
      "5\n",
      "4\n",
      "3\n",
      "2\n",
      "1\n"
     ]
    }
   ],
   "source": [
    "n = 10\n",
    "while n<=10:\n",
    "    print(n)\n",
    "    if n == 1:\n",
    "        break\n",
    "    n-=1\n",
    "    "
   ]
  },
  {
   "cell_type": "code",
   "execution_count": null,
   "id": "06643383-fe26-406f-a7b7-5fb8b1e872d2",
   "metadata": {},
   "outputs": [],
   "source": []
  }
 ],
 "metadata": {
  "kernelspec": {
   "display_name": "Python 3 (ipykernel)",
   "language": "python",
   "name": "python3"
  },
  "language_info": {
   "codemirror_mode": {
    "name": "ipython",
    "version": 3
   },
   "file_extension": ".py",
   "mimetype": "text/x-python",
   "name": "python",
   "nbconvert_exporter": "python",
   "pygments_lexer": "ipython3",
   "version": "3.10.8"
  }
 },
 "nbformat": 4,
 "nbformat_minor": 5
}
