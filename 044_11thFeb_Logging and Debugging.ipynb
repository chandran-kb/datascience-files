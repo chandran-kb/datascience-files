{
 "cells": [
  {
   "cell_type": "code",
   "execution_count": 1,
   "id": "1e54c7ad-2862-4ef4-b661-fa0f9597843d",
   "metadata": {},
   "outputs": [],
   "source": [
    "\n",
    "import logging\n",
    "logging.basicConfig(filename = \"bhararth.log\" , level = logging.INFO )\n",
    "logging.info(\"log this line of execution1\") \n",
    "logging.info(\"this is my print\")"
   ]
  },
  {
   "cell_type": "code",
   "execution_count": 2,
   "id": "b6474de0-4899-4d57-acc4-324616dd8493",
   "metadata": {},
   "outputs": [],
   "source": [
    "## levels in logging\n",
    "#1 NOTSET\n",
    "#2 DEBUG\n",
    "#3 INFO\n",
    "#4 WARNING\n",
    "#5 ERROR\n",
    "#6 CRITICAL\n",
    "## if you called one level while initiating logging, then you can use levels below that\n",
    "## you cannot use levels above those levels\n",
    "## as in, since we have called INFO, we can use level 3, 4,5 and 6 but cannot use 1 and 2."
   ]
  },
  {
   "cell_type": "code",
   "execution_count": 3,
   "id": "d70c391c-8b65-44fd-83e2-b0a54e01cddb",
   "metadata": {},
   "outputs": [],
   "source": [
    "## this will not be logged as it is level above INFO which we have called above.\n",
    "logging.debug(\"this is my debug\")"
   ]
  },
  {
   "cell_type": "code",
   "execution_count": 4,
   "id": "71520622-f8f4-4c15-b111-fc9a7b2cb425",
   "metadata": {},
   "outputs": [],
   "source": [
    "logging.warning(\"this is my warning\")"
   ]
  },
  {
   "cell_type": "code",
   "execution_count": 5,
   "id": "6f00a207-1abc-4481-834b-7259a8abf408",
   "metadata": {},
   "outputs": [],
   "source": [
    "logging.error(\"this is my error\") "
   ]
  },
  {
   "cell_type": "code",
   "execution_count": 6,
   "id": "363a649a-4e8a-45a3-8856-10abc2d23c8f",
   "metadata": {},
   "outputs": [],
   "source": [
    "logging.critical(\"this is my critical message\")"
   ]
  },
  {
   "cell_type": "code",
   "execution_count": 14,
   "id": "2b7912f5-9a27-4e07-b7e2-037393206967",
   "metadata": {},
   "outputs": [],
   "source": [
    "# we need to shut down the log before creating a new one\n",
    "logging.shutdown()"
   ]
  },
  {
   "cell_type": "code",
   "execution_count": 3,
   "id": "e490744c-878d-44a0-bdca-d48e283147a9",
   "metadata": {},
   "outputs": [],
   "source": [
    "import logging\n",
    "logging.basicConfig(filename = \"bharath3.log\" , level = logging.DEBUG , format = '%(asctime)s %(message)s')\n",
    "\n",
    "logging.info(\"this is my info logging\")\n",
    "logging.error(\"this is my error message\")\n",
    "logging.critical(\"this is my critical message\")"
   ]
  },
  {
   "cell_type": "code",
   "execution_count": 4,
   "id": "e2a63f56-8ddb-4310-a1aa-5b168bee0d31",
   "metadata": {},
   "outputs": [],
   "source": [
    "logging.shutdown()"
   ]
  },
  {
   "cell_type": "code",
   "execution_count": 1,
   "id": "d9fea439-476b-4a9a-9d20-671a9b08a5ec",
   "metadata": {},
   "outputs": [],
   "source": [
    "import logging\n",
    "logging.basicConfig(filename = \"bharath4.log\" , level = logging.DEBUG , format = '%(asctime)s %(name)s %(levelname)s %(message)s')\n",
    "logging.info(\"this is my info logging\")\n",
    "logging.error(\"this is my error message\")\n",
    "logging.critical(\"this is my critical message\")"
   ]
  },
  {
   "cell_type": "code",
   "execution_count": null,
   "id": "27ddc707-6fa1-4bac-8c6a-cb720fd55c12",
   "metadata": {},
   "outputs": [],
   "source": []
  },
  {
   "cell_type": "code",
   "execution_count": 2,
   "id": "9aec1e30-03f5-49aa-a1e1-c4c40d11c44d",
   "metadata": {},
   "outputs": [],
   "source": [
    "l = [1,2,3,4, [1,2,3], \"bharath\" , \"chandran\"]"
   ]
  },
  {
   "cell_type": "code",
   "execution_count": 5,
   "id": "61d14eb3-6272-42ae-a7f1-6a9767189ec0",
   "metadata": {},
   "outputs": [],
   "source": [
    "l1=[]\n",
    "l2=[]\n",
    "for i in l:\n",
    "    logging.info(\"we are iterating through our list and local variable is i\")\n",
    "    if type(i) == list:\n",
    "        logging.info(\"I'm inside if statement and I'm trying to check list type\")\n",
    "        for j in i: \n",
    "            logging.info(\"I'm inside another list to check for int in list\")\n",
    "            if type(j)== int :\n",
    "                logging.info(\"I'm inside if statment\")\n",
    "                l1.append(j)\n",
    "    elif type(i) == int:\n",
    "        l1.append(i)\n",
    "    else : l2.append(i)\n",
    "logging.info(\"my final reult is {} and {}\".format (l1,l2))\n"
   ]
  },
  {
   "cell_type": "code",
   "execution_count": null,
   "id": "f303a61a-4973-4df1-b5a8-c5ff33781057",
   "metadata": {},
   "outputs": [],
   "source": []
  },
  {
   "cell_type": "code",
   "execution_count": null,
   "id": "45a651fd-2db0-4c17-9bf1-abbb1e1c068e",
   "metadata": {},
   "outputs": [],
   "source": []
  }
 ],
 "metadata": {
  "kernelspec": {
   "display_name": "Python 3 (ipykernel)",
   "language": "python",
   "name": "python3"
  },
  "language_info": {
   "codemirror_mode": {
    "name": "ipython",
    "version": 3
   },
   "file_extension": ".py",
   "mimetype": "text/x-python",
   "name": "python",
   "nbconvert_exporter": "python",
   "pygments_lexer": "ipython3",
   "version": "3.10.8"
  }
 },
 "nbformat": 4,
 "nbformat_minor": 5
}
