{
 "cells": [
  {
   "cell_type": "code",
   "execution_count": null,
   "id": "f7a7756e-78ec-44be-9549-1229f156cf75",
   "metadata": {},
   "outputs": [],
   "source": [
    "\"\"\"Q1. Create a python program to sort the given list of tuples based on integer value using a\n",
    "lambda function.\"\"\""
   ]
  },
  {
   "cell_type": "code",
   "execution_count": 3,
   "id": "225e36ec-0298-45f1-b373-fe96a8382b04",
   "metadata": {},
   "outputs": [],
   "source": [
    "t=[(4,1),(6,5,64),(5,5,7446),(5.5,0)]"
   ]
  },
  {
   "cell_type": "code",
   "execution_count": 4,
   "id": "98c0d6c3-741c-4e3d-a7fb-04f564d7617c",
   "metadata": {},
   "outputs": [
    {
     "data": {
      "text/plain": [
       "list"
      ]
     },
     "execution_count": 4,
     "metadata": {},
     "output_type": "execute_result"
    }
   ],
   "source": [
    "type(t)"
   ]
  },
  {
   "cell_type": "code",
   "execution_count": 5,
   "id": "2391cda4-816e-4ba2-85ba-280b09b8d7b3",
   "metadata": {},
   "outputs": [],
   "source": [
    "t1=lambda t : t.sort()"
   ]
  },
  {
   "cell_type": "code",
   "execution_count": 6,
   "id": "0f3c1c72-9f4b-4ceb-83c3-376463555481",
   "metadata": {},
   "outputs": [],
   "source": [
    "t1(t)"
   ]
  },
  {
   "cell_type": "code",
   "execution_count": 7,
   "id": "0b4fa640-9970-429c-9a10-a6cbdfbb0273",
   "metadata": {},
   "outputs": [
    {
     "data": {
      "text/plain": [
       "[(4, 1), (5, 5, 7446), (5.5, 0), (6, 5, 64)]"
      ]
     },
     "execution_count": 7,
     "metadata": {},
     "output_type": "execute_result"
    }
   ],
   "source": [
    "t"
   ]
  },
  {
   "cell_type": "code",
   "execution_count": 42,
   "id": "4b347f55-affb-41d5-b5a9-64a5135f854f",
   "metadata": {},
   "outputs": [],
   "source": [
    "t2=lambda t : t.sort()"
   ]
  },
  {
   "cell_type": "code",
   "execution_count": 34,
   "id": "844fdfd2-7012-4bde-9970-765b175f09b6",
   "metadata": {},
   "outputs": [],
   "source": [
    "t3=[('Sachin Tendulkar', 34357), ('Ricky Ponting', 27483), ('Jack Kallis', 25534), ('Virat Kohli', 24936)]"
   ]
  },
  {
   "cell_type": "code",
   "execution_count": 44,
   "id": "16248f2c-a5cc-4827-ba1c-b918eef4e352",
   "metadata": {},
   "outputs": [],
   "source": [
    "t2(t3)"
   ]
  },
  {
   "cell_type": "code",
   "execution_count": 45,
   "id": "61b5f64f-c5cf-4d09-922b-01f2b943c034",
   "metadata": {},
   "outputs": [
    {
     "data": {
      "text/plain": [
       "[('Jack Kallis', 25534),\n",
       " ('Ricky Ponting', 27483),\n",
       " ('Sachin Tendulkar', 34357),\n",
       " ('Virat Kohli', 24936)]"
      ]
     },
     "execution_count": 45,
     "metadata": {},
     "output_type": "execute_result"
    }
   ],
   "source": [
    "t3"
   ]
  },
  {
   "cell_type": "code",
   "execution_count": 53,
   "id": "baafbf7b-3cda-41e4-b20c-a57b6125fa79",
   "metadata": {},
   "outputs": [],
   "source": [
    "l=[(\"a\",3),(\"b\",2),(\"c\",1)]"
   ]
  },
  {
   "cell_type": "code",
   "execution_count": 58,
   "id": "3585c68a-a432-4f66-aea3-17c1f02a4bae",
   "metadata": {},
   "outputs": [],
   "source": [
    "l.sort(key= lambda x : x[1])"
   ]
  },
  {
   "cell_type": "code",
   "execution_count": 57,
   "id": "f6f5eae6-eab3-48c4-989c-f94a825e131a",
   "metadata": {},
   "outputs": [
    {
     "data": {
      "text/plain": [
       "[('a', 3), ('b', 2), ('c', 1)]"
      ]
     },
     "execution_count": 57,
     "metadata": {},
     "output_type": "execute_result"
    }
   ],
   "source": [
    "l"
   ]
  },
  {
   "cell_type": "code",
   "execution_count": 65,
   "id": "44c9a52c-0d5b-40b3-b92a-88d4d08cadbe",
   "metadata": {},
   "outputs": [
    {
     "data": {
      "text/plain": [
       "[('Jack Kallis', 25534),\n",
       " ('Ricky Ponting', 27483),\n",
       " ('Sachin Tendulkar', 34357),\n",
       " ('Virat Kohli', 24936)]"
      ]
     },
     "execution_count": 65,
     "metadata": {},
     "output_type": "execute_result"
    }
   ],
   "source": [
    "t3"
   ]
  },
  {
   "cell_type": "code",
   "execution_count": 66,
   "id": "55ea1721-bf27-45c8-9c62-873f8469e32f",
   "metadata": {},
   "outputs": [],
   "source": [
    "t3.sort(key=lambda x : x[1])"
   ]
  },
  {
   "cell_type": "code",
   "execution_count": 73,
   "id": "85ac7d5c-82db-4001-b7ce-ce3a2127fc12",
   "metadata": {},
   "outputs": [
    {
     "data": {
      "text/plain": [
       "[('Virat Kohli', 24936),\n",
       " ('Jack Kallis', 25534),\n",
       " ('Ricky Ponting', 27483),\n",
       " ('Sachin Tendulkar', 34357)]"
      ]
     },
     "execution_count": 73,
     "metadata": {},
     "output_type": "execute_result"
    }
   ],
   "source": [
    "t3"
   ]
  },
  {
   "cell_type": "code",
   "execution_count": 74,
   "id": "6c1cb8f9-48ec-49e1-9d8b-38a1200c50a3",
   "metadata": {},
   "outputs": [
    {
     "data": {
      "text/plain": [
       "'Q2. Write a Python Program to find the squares of all the numbers in the given list of integers using\\nlambda and map functions.\\n[1, 2, 3, 4, 5, 6, 7, 8, 9, 10]'"
      ]
     },
     "execution_count": 74,
     "metadata": {},
     "output_type": "execute_result"
    }
   ],
   "source": [
    "\"\"\"Q2. Write a Python Program to find the squares of all the numbers in the given list of integers using\n",
    "lambda and map functions.\n",
    "[1, 2, 3, 4, 5, 6, 7, 8, 9, 10]\"\"\""
   ]
  },
  {
   "cell_type": "code",
   "execution_count": 80,
   "id": "72b6486f-7347-4b3b-b038-0ce089bbf547",
   "metadata": {},
   "outputs": [],
   "source": [
    "m=list(range(1,11))"
   ]
  },
  {
   "cell_type": "code",
   "execution_count": 84,
   "id": "17920532-472b-471d-b101-88de95dc2f67",
   "metadata": {},
   "outputs": [],
   "source": [
    "m1=list(map(lambda x : x**2 , m))"
   ]
  },
  {
   "cell_type": "code",
   "execution_count": 85,
   "id": "4791e1b7-7efc-43a2-b48a-65cf8300e1bf",
   "metadata": {},
   "outputs": [
    {
     "data": {
      "text/plain": [
       "[1, 4, 9, 16, 25, 36, 49, 64, 81, 100]"
      ]
     },
     "execution_count": 85,
     "metadata": {},
     "output_type": "execute_result"
    }
   ],
   "source": [
    "m1"
   ]
  },
  {
   "cell_type": "code",
   "execution_count": 86,
   "id": "0f33499b-54a4-45a7-b40d-3b8308210571",
   "metadata": {},
   "outputs": [
    {
     "data": {
      "text/plain": [
       "'Q3. Write a python program to convert the given list of integers into a tuple of strings. Use map and\\nlambda functions\\nGiven String: [1, 2, 3, 4, 5, 6, 7, 8, 9, 10]'"
      ]
     },
     "execution_count": 86,
     "metadata": {},
     "output_type": "execute_result"
    }
   ],
   "source": [
    "\"\"\"Q3. Write a python program to convert the given list of integers into a tuple of strings. Use map and\n",
    "lambda functions\n",
    "Given String: [1, 2, 3, 4, 5, 6, 7, 8, 9, 10]\"\"\""
   ]
  },
  {
   "cell_type": "code",
   "execution_count": 87,
   "id": "b5b1d90a-2dab-4147-9802-078edeacb107",
   "metadata": {},
   "outputs": [
    {
     "data": {
      "text/plain": [
       "[1, 2, 3, 4, 5, 6, 7, 8, 9, 10]"
      ]
     },
     "execution_count": 87,
     "metadata": {},
     "output_type": "execute_result"
    }
   ],
   "source": [
    "m"
   ]
  },
  {
   "cell_type": "code",
   "execution_count": 91,
   "id": "439bc16e-ead6-428d-bf89-e64fe699bd88",
   "metadata": {},
   "outputs": [],
   "source": [
    "m2=list(map(lambda x : str(x) , m))"
   ]
  },
  {
   "cell_type": "code",
   "execution_count": 92,
   "id": "47913a58-f6f3-42b2-b54e-2f9b36aad9c7",
   "metadata": {},
   "outputs": [
    {
     "data": {
      "text/plain": [
       "['1', '2', '3', '4', '5', '6', '7', '8', '9', '10']"
      ]
     },
     "execution_count": 92,
     "metadata": {},
     "output_type": "execute_result"
    }
   ],
   "source": [
    "m2"
   ]
  },
  {
   "cell_type": "code",
   "execution_count": 93,
   "id": "6e9f2e09-fb3f-482f-a00b-a266781ee9bb",
   "metadata": {},
   "outputs": [
    {
     "data": {
      "text/plain": [
       "'Q4. Write a python program using reduce function to compute the product of a list containing numbers\\nfrom 1 to 25.'"
      ]
     },
     "execution_count": 93,
     "metadata": {},
     "output_type": "execute_result"
    }
   ],
   "source": [
    "\"\"\"Q4. Write a python program using reduce function to compute the product of a list containing numbers\n",
    "from 1 to 25.\"\"\""
   ]
  },
  {
   "cell_type": "code",
   "execution_count": 95,
   "id": "23c2cfc9-a1b1-4a3e-bffe-333b1d1d8115",
   "metadata": {},
   "outputs": [],
   "source": [
    "m3=list(range(1,26))"
   ]
  },
  {
   "cell_type": "code",
   "execution_count": 101,
   "id": "b0f39501-e524-447e-9ad6-74fb295d921f",
   "metadata": {},
   "outputs": [],
   "source": [
    "from functools import reduce"
   ]
  },
  {
   "cell_type": "code",
   "execution_count": 102,
   "id": "b1b7d96b-3045-409f-928e-59809ddbead8",
   "metadata": {},
   "outputs": [
    {
     "data": {
      "text/plain": [
       "15511210043330985984000000"
      ]
     },
     "execution_count": 102,
     "metadata": {},
     "output_type": "execute_result"
    }
   ],
   "source": [
    "reduce(lambda x,y : x*y, m3)"
   ]
  },
  {
   "cell_type": "code",
   "execution_count": null,
   "id": "108c19cd-cac3-4c5e-9a01-2ab95488496c",
   "metadata": {},
   "outputs": [],
   "source": [
    "\"\"\"Q5. Write a python program to filter the numbers in a given list that are divisible by 2 and 3 using the\n",
    "filter function.\n",
    "[2, 3, 6, 9, 27, 60, 90, 120, 55, 46]\"\"\""
   ]
  },
  {
   "cell_type": "code",
   "execution_count": 103,
   "id": "232c4458-2df2-4fe5-9aaf-93a59c7fb413",
   "metadata": {},
   "outputs": [],
   "source": [
    "m4=[2, 3, 6, 9, 27, 60, 90, 120, 55, 46]"
   ]
  },
  {
   "cell_type": "code",
   "execution_count": 105,
   "id": "981c2df2-ffe8-4ace-9d8a-7729116dd483",
   "metadata": {},
   "outputs": [
    {
     "data": {
      "text/plain": [
       "[6, 60, 90, 120]"
      ]
     },
     "execution_count": 105,
     "metadata": {},
     "output_type": "execute_result"
    }
   ],
   "source": [
    "list(filter(lambda x : x%2==0 and x%3==0 , m4))"
   ]
  },
  {
   "cell_type": "code",
   "execution_count": 106,
   "id": "2bdec135-c9ff-44c0-b519-dffe4b8c288b",
   "metadata": {},
   "outputs": [
    {
     "data": {
      "text/plain": [
       "\"Q6. Write a python program to find palindromes in the given list of strings using lambda and filter\\nfunction.\\n['python', 'php', 'aba', 'radar', 'level']\""
      ]
     },
     "execution_count": 106,
     "metadata": {},
     "output_type": "execute_result"
    }
   ],
   "source": [
    "\"\"\"Q6. Write a python program to find palindromes in the given list of strings using lambda and filter\n",
    "function.\n",
    "['python', 'php', 'aba', 'radar', 'level']\"\"\""
   ]
  },
  {
   "cell_type": "code",
   "execution_count": 107,
   "id": "390abb83-9955-4a61-92e9-bc04a6cbe3c7",
   "metadata": {},
   "outputs": [],
   "source": [
    "m5=['python', 'php', 'aba', 'radar', 'level']"
   ]
  },
  {
   "cell_type": "code",
   "execution_count": 109,
   "id": "5f768f66-d093-4b64-8511-ea70edf01fc4",
   "metadata": {},
   "outputs": [
    {
     "data": {
      "text/plain": [
       "['php', 'aba', 'radar', 'level']"
      ]
     },
     "execution_count": 109,
     "metadata": {},
     "output_type": "execute_result"
    }
   ],
   "source": [
    "list(filter(lambda x : x==x[::-1] , m5))"
   ]
  },
  {
   "cell_type": "code",
   "execution_count": null,
   "id": "8d22f4bb-95a9-409d-b105-73314a9e407e",
   "metadata": {},
   "outputs": [],
   "source": []
  }
 ],
 "metadata": {
  "kernelspec": {
   "display_name": "Python 3 (ipykernel)",
   "language": "python",
   "name": "python3"
  },
  "language_info": {
   "codemirror_mode": {
    "name": "ipython",
    "version": 3
   },
   "file_extension": ".py",
   "mimetype": "text/x-python",
   "name": "python",
   "nbconvert_exporter": "python",
   "pygments_lexer": "ipython3",
   "version": "3.10.8"
  }
 },
 "nbformat": 4,
 "nbformat_minor": 5
}
