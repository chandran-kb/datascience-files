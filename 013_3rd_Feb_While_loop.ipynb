{
 "cells": [
  {
   "cell_type": "code",
   "execution_count": 2,
   "id": "52faeda8-10de-405d-9798-4eaaeb35e3fc",
   "metadata": {},
   "outputs": [
    {
     "name": "stdout",
     "output_type": "stream",
     "text": [
      "1\n",
      "2\n",
      "3\n",
      "4\n",
      "5\n",
      "6\n",
      "7\n",
      "8\n",
      "9\n",
      "10\n"
     ]
    }
   ],
   "source": [
    "counter=1\n",
    "while counter<=10:\n",
    "    print(counter)\n",
    "    counter=counter+1"
   ]
  },
  {
   "cell_type": "code",
   "execution_count": 3,
   "id": "6c855ae9-6ef2-402b-a77d-ba51db2daf8d",
   "metadata": {},
   "outputs": [
    {
     "name": "stdin",
     "output_type": "stream",
     "text": [
      "enter the limit of numbers 10\n"
     ]
    },
    {
     "data": {
      "text/plain": [
       "55"
      ]
     },
     "execution_count": 3,
     "metadata": {},
     "output_type": "execute_result"
    }
   ],
   "source": [
    "### sum of numbers till some point\n",
    "n=int(input(\"enter the limit of numbers\"))\n",
    "total=0\n",
    "counter=1\n",
    "while counter<=n:\n",
    "    total=total+counter\n",
    "    counter=counter+1\n",
    "total"
   ]
  },
  {
   "cell_type": "code",
   "execution_count": 4,
   "id": "a5faef04-fe8c-43ba-b0bb-b5aa2aba0ab1",
   "metadata": {},
   "outputs": [
    {
     "name": "stdin",
     "output_type": "stream",
     "text": [
      "enter the limit of numbers 10\n"
     ]
    },
    {
     "data": {
      "text/plain": [
       "3628800"
      ]
     },
     "execution_count": 4,
     "metadata": {},
     "output_type": "execute_result"
    }
   ],
   "source": [
    "#### factorial of numbers\n",
    "n=int(input(\"enter the limit of numbers\"))\n",
    "factorial=1\n",
    "counter=1\n",
    "while counter<=n:\n",
    "    factorial=factorial*counter\n",
    "    counter=counter+1\n",
    "factorial"
   ]
  },
  {
   "cell_type": "code",
   "execution_count": 5,
   "id": "d91fff83-7999-42b2-9040-a654e18215f9",
   "metadata": {},
   "outputs": [
    {
     "name": "stdin",
     "output_type": "stream",
     "text": [
      "enter the limit of numbers 10\n"
     ]
    },
    {
     "data": {
      "text/plain": [
       "3628800"
      ]
     },
     "execution_count": 5,
     "metadata": {},
     "output_type": "execute_result"
    }
   ],
   "source": [
    "#### OR\n",
    "number=int(input(\"enter the limit of numbers\"))\n",
    "factorial=1\n",
    "while number>0:\n",
    "    factorial=factorial*number\n",
    "    number=number-1\n",
    "factorial"
   ]
  },
  {
   "cell_type": "code",
   "execution_count": 6,
   "id": "5a52e660-7478-41aa-be72-7f3a7c11860f",
   "metadata": {},
   "outputs": [],
   "source": [
    "## fibonacci series"
   ]
  },
  {
   "cell_type": "code",
   "execution_count": 6,
   "id": "a4a1a708-6692-45dd-9915-34d525f5497b",
   "metadata": {},
   "outputs": [
    {
     "name": "stdin",
     "output_type": "stream",
     "text": [
      "enter the limit of numbers 10\n"
     ]
    },
    {
     "name": "stdout",
     "output_type": "stream",
     "text": [
      "0\n",
      "1\n",
      "1\n",
      "2\n",
      "3\n",
      "5\n",
      "8\n",
      "13\n",
      "21\n",
      "34\n"
     ]
    }
   ],
   "source": [
    "number=int(input(\"enter the limit of numbers\"))\n",
    "counter=0\n",
    "n1=0 \n",
    "n2=1\n",
    "while counter<number:\n",
    "    print(n1)\n",
    "    n3=n2+n1\n",
    "    n1=n2\n",
    "    n2=n3\n",
    "    counter=counter+1"
   ]
  },
  {
   "cell_type": "code",
   "execution_count": 6,
   "id": "e3f674fd-da30-4f79-9718-72bfae461fe8",
   "metadata": {},
   "outputs": [
    {
     "name": "stdin",
     "output_type": "stream",
     "text": [
      "enter the limit of numbers 10\n"
     ]
    },
    {
     "name": "stdout",
     "output_type": "stream",
     "text": [
      "0\n",
      "1\n",
      "1\n",
      "2\n",
      "3\n",
      "5\n",
      "8\n",
      "13\n",
      "21\n",
      "34\n"
     ]
    }
   ],
   "source": [
    "### using for loop\n",
    "number=int(input(\"enter the limit of numbers\"))\n",
    "n1,n2= 0,1\n",
    "for i in range(number):\n",
    "    print(n1)\n",
    "    n3=n1+n2\n",
    "    n1=n2\n",
    "    n2=n3"
   ]
  },
  {
   "cell_type": "code",
   "execution_count": 7,
   "id": "61d76164-1898-4fdb-a0ed-5483c4ac62c2",
   "metadata": {},
   "outputs": [],
   "source": [
    "## reversing\n",
    "s=\"bharath\""
   ]
  },
  {
   "cell_type": "code",
   "execution_count": 8,
   "id": "883574b2-4f3e-4973-abe4-a4e6839b1f2d",
   "metadata": {},
   "outputs": [
    {
     "data": {
      "text/plain": [
       "'htarahb'"
      ]
     },
     "execution_count": 8,
     "metadata": {},
     "output_type": "execute_result"
    }
   ],
   "source": [
    "s[::-1]"
   ]
  },
  {
   "cell_type": "code",
   "execution_count": 20,
   "id": "e05a575a-be75-4d48-a14d-cef4d22d7b51",
   "metadata": {},
   "outputs": [
    {
     "ename": "AttributeError",
     "evalue": "'str' object has no attribute 'reverse'",
     "output_type": "error",
     "traceback": [
      "\u001b[0;31m---------------------------------------------------------------------------\u001b[0m",
      "\u001b[0;31mAttributeError\u001b[0m                            Traceback (most recent call last)",
      "Cell \u001b[0;32mIn[20], line 1\u001b[0m\n\u001b[0;32m----> 1\u001b[0m \u001b[43ms\u001b[49m\u001b[38;5;241;43m.\u001b[39;49m\u001b[43mreverse\u001b[49m()\n",
      "\u001b[0;31mAttributeError\u001b[0m: 'str' object has no attribute 'reverse'"
     ]
    }
   ],
   "source": [
    "s."
   ]
  },
  {
   "cell_type": "code",
   "execution_count": 13,
   "id": "2e96ba7b-f5e3-4d1d-950b-687d7d54217e",
   "metadata": {},
   "outputs": [
    {
     "data": {
      "text/plain": [
       "'htarahb'"
      ]
     },
     "execution_count": 13,
     "metadata": {},
     "output_type": "execute_result"
    }
   ],
   "source": [
    "##for loop\n",
    "s1=\"\"\n",
    "n=len(s)\n",
    "for i in s:\n",
    "    s1=s1+s[n-1]\n",
    "    n=n-1\n",
    "s1"
   ]
  },
  {
   "cell_type": "code",
   "execution_count": 15,
   "id": "f594734c-0c31-4b6f-aa42-28db065dda5f",
   "metadata": {},
   "outputs": [
    {
     "data": {
      "text/plain": [
       "'htarahb'"
      ]
     },
     "execution_count": 15,
     "metadata": {},
     "output_type": "execute_result"
    }
   ],
   "source": [
    "### while loop\n",
    "s1=\"\"\n",
    "counter=0\n",
    "n=len(s)\n",
    "while counter<n:\n",
    "    s1=s1+s[n-1]\n",
    "    n=n-1\n",
    "s1"
   ]
  },
  {
   "cell_type": "code",
   "execution_count": 6,
   "id": "ac62f4e4-9f7c-450a-9a0c-0b92bc4f6218",
   "metadata": {},
   "outputs": [
    {
     "name": "stdin",
     "output_type": "stream",
     "text": [
      "enter your word for reversal bharath\n"
     ]
    },
    {
     "data": {
      "text/plain": [
       "'htarahb'"
      ]
     },
     "execution_count": 6,
     "metadata": {},
     "output_type": "execute_result"
    }
   ],
   "source": [
    "### while loop reversing\n",
    "word=input(\"enter your word for reversal\")\n",
    "counter=0\n",
    "s1=\"\"\n",
    "n=len(word)\n",
    "while counter<n:\n",
    "    s1=s1+word[n-1]\n",
    "    n=n-1\n",
    "s1"
   ]
  },
  {
   "cell_type": "code",
   "execution_count": 16,
   "id": "c4828659-1b62-4d17-9d82-5dd6e460d26f",
   "metadata": {},
   "outputs": [
    {
     "name": "stdin",
     "output_type": "stream",
     "text": [
      "enter the number for tables 5\n"
     ]
    },
    {
     "name": "stdout",
     "output_type": "stream",
     "text": [
      "5x1=5\n",
      "5x2=10\n",
      "5x3=15\n",
      "5x4=20\n",
      "5x5=25\n",
      "5x6=30\n",
      "5x7=35\n",
      "5x8=40\n",
      "5x9=45\n",
      "5x10=50\n"
     ]
    }
   ],
   "source": [
    "### tables of number till 10 using while loop\n",
    "number=int(input(\"enter the number for tables\"))\n",
    "counter=1\n",
    "while counter<=10:\n",
    "    total=number*counter\n",
    "    print(\"{}x{}={}\".format(number, counter, total))\n",
    "    counter=counter+1\n"
   ]
  },
  {
   "cell_type": "code",
   "execution_count": 17,
   "id": "d36f030f-e66e-4c94-ae20-628758f16c8d",
   "metadata": {},
   "outputs": [
    {
     "name": "stdin",
     "output_type": "stream",
     "text": [
      "enter the number for tables 5\n"
     ]
    },
    {
     "name": "stdout",
     "output_type": "stream",
     "text": [
      "5x1=5\n",
      "5x2=10\n",
      "5x3=15\n",
      "5x4=20\n",
      "5x5=25\n",
      "5x6=30\n",
      "5x7=35\n",
      "5x8=40\n",
      "5x9=45\n",
      "5x10=50\n"
     ]
    }
   ],
   "source": [
    "### tables of numbers till 10 using for loop\n",
    "number=int(input(\"enter the number for tables\"))\n",
    "counter=1\n",
    "for i in range(1,11):\n",
    "    total=number*counter\n",
    "    print(\"{}x{}={}\".format(number, counter, total))\n",
    "    counter=counter+1"
   ]
  },
  {
   "cell_type": "code",
   "execution_count": 19,
   "id": "6d6403e4-08e5-400e-b2b5-365b989c5b20",
   "metadata": {},
   "outputs": [
    {
     "name": "stdin",
     "output_type": "stream",
     "text": [
      "enter the number for tables 5\n"
     ]
    },
    {
     "name": "stdout",
     "output_type": "stream",
     "text": [
      "5x1=5\n",
      "5x2=10\n",
      "5x3=15\n",
      "5x4=20\n",
      "5x5=25\n",
      "5x6=30\n",
      "5x7=35\n",
      "5x8=40\n",
      "5x9=45\n",
      "5x10=50\n"
     ]
    }
   ],
   "source": [
    "### tables of numbers till 10 using for loop\n",
    "number=int(input(\"enter the number for tables\"))\n",
    "for i in range(1,11):\n",
    "    total=number*i\n",
    "    print(\"{}x{}={}\".format(number, i, total))"
   ]
  },
  {
   "cell_type": "code",
   "execution_count": 21,
   "id": "f3c466a9-9b1f-4825-9e5b-f551c1b2d829",
   "metadata": {},
   "outputs": [
    {
     "name": "stdout",
     "output_type": "stream",
     "text": [
      "1\n",
      "2\n",
      "3\n",
      "4\n",
      "5\n",
      "done\n"
     ]
    }
   ],
   "source": [
    "### while-else \n",
    "n=5\n",
    "counter=1\n",
    "while counter<=n:\n",
    "    print(counter)\n",
    "    counter=counter+1\n",
    "else : print(\"done\")"
   ]
  },
  {
   "cell_type": "code",
   "execution_count": 24,
   "id": "1ad29dd9-f0dd-47bc-a818-2dc8c92a6f32",
   "metadata": {},
   "outputs": [
    {
     "name": "stdout",
     "output_type": "stream",
     "text": [
      "1\n",
      "2\n",
      "3\n"
     ]
    }
   ],
   "source": [
    "### while-else \n",
    "n=5\n",
    "counter=1\n",
    "while counter<=n:\n",
    "    print(counter)\n",
    "    if counter==3:\n",
    "        break\n",
    "    counter=counter+1\n",
    "else : print(\"done\")"
   ]
  },
  {
   "cell_type": "code",
   "execution_count": null,
   "id": "f11148a7-1d0f-47d7-afda-7d675400e3f0",
   "metadata": {},
   "outputs": [],
   "source": []
  }
 ],
 "metadata": {
  "kernelspec": {
   "display_name": "Python 3 (ipykernel)",
   "language": "python",
   "name": "python3"
  },
  "language_info": {
   "codemirror_mode": {
    "name": "ipython",
    "version": 3
   },
   "file_extension": ".py",
   "mimetype": "text/x-python",
   "name": "python",
   "nbconvert_exporter": "python",
   "pygments_lexer": "ipython3",
   "version": "3.10.8"
  }
 },
 "nbformat": 4,
 "nbformat_minor": 5
}
