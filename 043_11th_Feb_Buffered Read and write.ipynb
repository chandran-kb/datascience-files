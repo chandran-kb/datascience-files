{
 "cells": [
  {
   "cell_type": "code",
   "execution_count": 1,
   "id": "e71215ec-908d-432c-b999-fd457113e9bd",
   "metadata": {},
   "outputs": [],
   "source": [
    "## in buffered read and write ... large data is written in chunks. "
   ]
  },
  {
   "cell_type": "code",
   "execution_count": 3,
   "id": "9b0b42db-90ac-40cf-ad21-9ad27f7e9652",
   "metadata": {},
   "outputs": [],
   "source": [
    "# io - input output module\n",
    "import io"
   ]
  },
  {
   "cell_type": "code",
   "execution_count": 7,
   "id": "690b9819-c2c3-4db2-a72d-0c8da405413c",
   "metadata": {},
   "outputs": [],
   "source": [
    "with open(\"text0.txt\" , \"wb\") as f:\n",
    "    file  = io.BufferedWriter(f)\n",
    "    \n",
    "    file.write(b\" this is my first line\\n\")\n",
    "    file.write(b\" this is my second line\")\n",
    "    file.flush()"
   ]
  },
  {
   "cell_type": "code",
   "execution_count": 10,
   "id": "831f156c-4eeb-404e-8cbe-7ad4abaaa8c3",
   "metadata": {},
   "outputs": [
    {
     "data": {
      "text/plain": [
       "b' this is my first line\\n this is my second line'"
      ]
     },
     "execution_count": 10,
     "metadata": {},
     "output_type": "execute_result"
    }
   ],
   "source": [
    "with open(\"text0.txt\" , \"rb\") as f:\n",
    "    \n",
    "    file = io.BufferedReader(f)\n",
    "    f1 = file.read()\n",
    "f1"
   ]
  },
  {
   "cell_type": "code",
   "execution_count": 11,
   "id": "63d2a5f5-4f80-436c-a902-f410549cb139",
   "metadata": {},
   "outputs": [
    {
     "data": {
      "text/plain": [
       "b' this is m'"
      ]
     },
     "execution_count": 11,
     "metadata": {},
     "output_type": "execute_result"
    }
   ],
   "source": [
    "with open(\"text0.txt\" , \"rb\") as f:\n",
    "    \n",
    "    file = io.BufferedReader(f)\n",
    "    f1 = file.read(10)\n",
    "f1"
   ]
  },
  {
   "cell_type": "code",
   "execution_count": null,
   "id": "e3d24086-878a-4b3b-a272-c75b63f391b0",
   "metadata": {},
   "outputs": [],
   "source": []
  }
 ],
 "metadata": {
  "kernelspec": {
   "display_name": "Python 3 (ipykernel)",
   "language": "python",
   "name": "python3"
  },
  "language_info": {
   "codemirror_mode": {
    "name": "ipython",
    "version": 3
   },
   "file_extension": ".py",
   "mimetype": "text/x-python",
   "name": "python",
   "nbconvert_exporter": "python",
   "pygments_lexer": "ipython3",
   "version": "3.10.8"
  }
 },
 "nbformat": 4,
 "nbformat_minor": 5
}
