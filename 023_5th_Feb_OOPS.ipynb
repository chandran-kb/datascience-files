{
 "cells": [
  {
   "cell_type": "code",
   "execution_count": 1,
   "id": "e0f6a468-832b-4741-bf21-19e84cf799d9",
   "metadata": {},
   "outputs": [],
   "source": [
    "# OOPS = Object Oriented Programming  System"
   ]
  },
  {
   "cell_type": "code",
   "execution_count": 2,
   "id": "1933f5e6-d638-4ea2-9f4f-d1326c09e4c9",
   "metadata": {},
   "outputs": [],
   "source": [
    "a=1"
   ]
  },
  {
   "cell_type": "code",
   "execution_count": 3,
   "id": "39119633-eeca-407a-9163-efe6cf0086cc",
   "metadata": {},
   "outputs": [
    {
     "name": "stdout",
     "output_type": "stream",
     "text": [
      "<class 'int'>\n"
     ]
    }
   ],
   "source": [
    "print(type(a))"
   ]
  },
  {
   "cell_type": "code",
   "execution_count": 5,
   "id": "2e07621c-4f39-425f-a73d-cbf19b19f21f",
   "metadata": {},
   "outputs": [
    {
     "name": "stdout",
     "output_type": "stream",
     "text": [
      "<class 'str'>\n"
     ]
    }
   ],
   "source": [
    "print(type(\"bharath\"))"
   ]
  },
  {
   "cell_type": "code",
   "execution_count": 7,
   "id": "3c612f39-88e0-4383-963d-3d4433645081",
   "metadata": {},
   "outputs": [],
   "source": [
    "## Concept of classes\n",
    "# Class is a blueprint or a skeleton. OR Class defines overall objects\n",
    "## Class is a classification of objects"
   ]
  },
  {
   "cell_type": "code",
   "execution_count": 13,
   "id": "e64e3bb9-b520-4588-a3fc-ef96b14e8e5f",
   "metadata": {},
   "outputs": [],
   "source": [
    "## clreating a class.  \n",
    "## Why do we create a class in programming? \n",
    "## When we create a project, there are multiple modules (Front end, back end, middle ware etc\n",
    "## Class helps in creating a structure of these modules\n",
    "#Class is a reserved key word\n",
    "class test1:\n",
    "    pass\n",
    "    "
   ]
  },
  {
   "cell_type": "code",
   "execution_count": 14,
   "id": "70c203f3-4158-4d19-82cd-cef0abf72c58",
   "metadata": {},
   "outputs": [],
   "source": [
    "a=test1()"
   ]
  },
  {
   "cell_type": "code",
   "execution_count": 15,
   "id": "610839cf-dd1c-4e73-82da-a87671e86e25",
   "metadata": {},
   "outputs": [
    {
     "data": {
      "text/plain": [
       "__main__.test1"
      ]
     },
     "execution_count": 15,
     "metadata": {},
     "output_type": "execute_result"
    }
   ],
   "source": [
    "type(a)"
   ]
  },
  {
   "cell_type": "code",
   "execution_count": 16,
   "id": "4c2def88-35af-43d0-8269-9b6ff760f05d",
   "metadata": {},
   "outputs": [
    {
     "name": "stdout",
     "output_type": "stream",
     "text": [
      "<class '__main__.test1'>\n"
     ]
    }
   ],
   "source": [
    "print(type(a))"
   ]
  },
  {
   "cell_type": "code",
   "execution_count": 35,
   "id": "25bfe27a-cf56-4419-b2b7-470664f1226b",
   "metadata": {},
   "outputs": [],
   "source": [
    "class pwskills1():\n",
    "    # we can declare any varialbles (or) keep any method or functions inside class\n",
    "    def welcome_msg():\n",
    "        print(\"Welcome to PWSKILLS\")"
   ]
  },
  {
   "cell_type": "code",
   "execution_count": 36,
   "id": "99a0c4eb-c311-431c-8d5d-6222bc64d36d",
   "metadata": {},
   "outputs": [],
   "source": [
    "rohan = pwskills1()"
   ]
  },
  {
   "cell_type": "code",
   "execution_count": 37,
   "id": "384527cf-80ae-40f7-a314-743d96713071",
   "metadata": {},
   "outputs": [
    {
     "name": "stdout",
     "output_type": "stream",
     "text": [
      "<class '__main__.pwskills1'>\n"
     ]
    }
   ],
   "source": [
    "print(type(rohan))"
   ]
  },
  {
   "cell_type": "code",
   "execution_count": 38,
   "id": "cb323180-ee4e-42ba-9951-7eb8c563bf32",
   "metadata": {},
   "outputs": [
    {
     "ename": "TypeError",
     "evalue": "pwskills1.welcome_msg() takes 0 positional arguments but 1 was given",
     "output_type": "error",
     "traceback": [
      "\u001b[0;31m---------------------------------------------------------------------------\u001b[0m",
      "\u001b[0;31mTypeError\u001b[0m                                 Traceback (most recent call last)",
      "Cell \u001b[0;32mIn[38], line 1\u001b[0m\n\u001b[0;32m----> 1\u001b[0m \u001b[43mrohan\u001b[49m\u001b[38;5;241;43m.\u001b[39;49m\u001b[43mwelcome_msg\u001b[49m\u001b[43m(\u001b[49m\u001b[43m)\u001b[49m\n",
      "\u001b[0;31mTypeError\u001b[0m: pwskills1.welcome_msg() takes 0 positional arguments but 1 was given"
     ]
    }
   ],
   "source": [
    "rohan.welcome_msg()"
   ]
  },
  {
   "cell_type": "code",
   "execution_count": 34,
   "id": "03ad966f-c909-4cc1-ae22-d8ff17940d83",
   "metadata": {},
   "outputs": [],
   "source": [
    "class pwskills2():\n",
    "    def welcome_msg(self):\n",
    "        print(\"Welcome to PWSKILLS\")"
   ]
  },
  {
   "cell_type": "code",
   "execution_count": 44,
   "id": "c5b53375-b472-4360-980a-2dd89eea37a4",
   "metadata": {},
   "outputs": [],
   "source": [
    "## bharath is the object or varialble or instance of the class\n",
    "bharath=pwskills2()"
   ]
  },
  {
   "cell_type": "code",
   "execution_count": 43,
   "id": "dc2c1221-2947-403e-b785-e82ed0bc1aeb",
   "metadata": {},
   "outputs": [
    {
     "name": "stdout",
     "output_type": "stream",
     "text": [
      "Welcome to PWSKILLS\n"
     ]
    }
   ],
   "source": [
    "bharath.welcome_msg()"
   ]
  },
  {
   "cell_type": "code",
   "execution_count": 45,
   "id": "135b243e-d6f9-48e6-8163-ddb2d5edf7f6",
   "metadata": {},
   "outputs": [],
   "source": [
    "akshay=pwskills2()"
   ]
  },
  {
   "cell_type": "code",
   "execution_count": 46,
   "id": "8abff468-9368-4d2b-8a87-0825a2908704",
   "metadata": {},
   "outputs": [
    {
     "name": "stdout",
     "output_type": "stream",
     "text": [
      "Welcome to PWSKILLS\n"
     ]
    }
   ],
   "source": [
    "akshay.welcome_msg()"
   ]
  },
  {
   "cell_type": "code",
   "execution_count": 47,
   "id": "005a20be-fd30-4897-9b64-82373e3f7203",
   "metadata": {},
   "outputs": [
    {
     "ename": "TypeError",
     "evalue": "cannot unpack non-iterable pwskills2 object",
     "output_type": "error",
     "traceback": [
      "\u001b[0;31m---------------------------------------------------------------------------\u001b[0m",
      "\u001b[0;31mTypeError\u001b[0m                                 Traceback (most recent call last)",
      "Cell \u001b[0;32mIn[47], line 1\u001b[0m\n\u001b[0;32m----> 1\u001b[0m uday, uday2 \u001b[38;5;241m=\u001b[39m pwskills2()\n",
      "\u001b[0;31mTypeError\u001b[0m: cannot unpack non-iterable pwskills2 object"
     ]
    }
   ],
   "source": []
  },
  {
   "cell_type": "code",
   "execution_count": 2,
   "id": "deef8c47-b31d-4c90-b67c-4a9c468e609e",
   "metadata": {},
   "outputs": [],
   "source": [
    "# __init__ is a constructor which is used to pass data within the function of a class\n",
    "\n",
    "class pwskills3():\n",
    "    \n",
    "    def __init__(self, phone_number , email_id, student_id ):\n",
    "        self.phone_number= phone_number\n",
    "        self.email_id = email_id\n",
    "        self.student_id= student_id\n",
    "        \n",
    "    def return_student_details(self):\n",
    "        return self.student_id , self.phone_number, self.email_id\n",
    "    \n",
    "    "
   ]
  },
  {
   "cell_type": "code",
   "execution_count": 6,
   "id": "8cbf8df1-8260-4e91-b2b0-42e46e85dfba",
   "metadata": {},
   "outputs": [
    {
     "ename": "TypeError",
     "evalue": "pwskills3.__init__() missing 3 required positional arguments: 'phone_number', 'email_id', and 'student_id'",
     "output_type": "error",
     "traceback": [
      "\u001b[0;31m---------------------------------------------------------------------------\u001b[0m",
      "\u001b[0;31mTypeError\u001b[0m                                 Traceback (most recent call last)",
      "Cell \u001b[0;32mIn[6], line 1\u001b[0m\n\u001b[0;32m----> 1\u001b[0m rohan\u001b[38;5;241m=\u001b[39m\u001b[43mpwskills3\u001b[49m\u001b[43m(\u001b[49m\u001b[43m)\u001b[49m\n",
      "\u001b[0;31mTypeError\u001b[0m: pwskills3.__init__() missing 3 required positional arguments: 'phone_number', 'email_id', and 'student_id'"
     ]
    }
   ],
   "source": [
    "rohan=pwskills3()"
   ]
  },
  {
   "cell_type": "code",
   "execution_count": 3,
   "id": "132a4409-6c32-4747-9e2b-6843cf3e1cee",
   "metadata": {},
   "outputs": [],
   "source": [
    "bharath=pwskills3(9502556895, \"bharath@gmil.com\", 5543210)"
   ]
  },
  {
   "cell_type": "code",
   "execution_count": 4,
   "id": "b3a51549-75bb-4d76-b5bf-725b14a72dbd",
   "metadata": {},
   "outputs": [
    {
     "data": {
      "text/plain": [
       "(5543210, 9502556895, 'bharath@gmil.com')"
      ]
     },
     "execution_count": 4,
     "metadata": {},
     "output_type": "execute_result"
    }
   ],
   "source": [
    "bharath.return_student_details()"
   ]
  },
  {
   "cell_type": "code",
   "execution_count": 11,
   "id": "c2aabcf3-aabb-4187-91cc-fbbf844430a5",
   "metadata": {},
   "outputs": [
    {
     "data": {
      "text/plain": [
       "9502556895"
      ]
     },
     "execution_count": 11,
     "metadata": {},
     "output_type": "execute_result"
    }
   ],
   "source": [
    "bharath.phone_number"
   ]
  },
  {
   "cell_type": "code",
   "execution_count": 8,
   "id": "9748da4b-dc44-4e1b-88b9-b46e462788c7",
   "metadata": {},
   "outputs": [],
   "source": [
    "akshay=pwskills3(6454548646 , \"akshay@gmail.com\", 543211)"
   ]
  },
  {
   "cell_type": "code",
   "execution_count": 9,
   "id": "5f06a81b-8b16-4dec-9059-a74bdc96b3e9",
   "metadata": {},
   "outputs": [
    {
     "data": {
      "text/plain": [
       "(543211, 6454548646, 'akshay@gmail.com')"
      ]
     },
     "execution_count": 9,
     "metadata": {},
     "output_type": "execute_result"
    }
   ],
   "source": [
    "akshay.return_student_details()"
   ]
  },
  {
   "cell_type": "code",
   "execution_count": 12,
   "id": "9145c188-c2ab-4847-aae4-996622e0ffb2",
   "metadata": {},
   "outputs": [
    {
     "data": {
      "text/plain": [
       "'akshay@gmail.com'"
      ]
     },
     "execution_count": 12,
     "metadata": {},
     "output_type": "execute_result"
    }
   ],
   "source": [
    "akshay.email_id"
   ]
  },
  {
   "cell_type": "code",
   "execution_count": 13,
   "id": "efa8b963-11d8-494e-a925-fd3d43a67eed",
   "metadata": {},
   "outputs": [],
   "source": [
    "# __init__ is a constructor which is used to pass data within the function of a class\n",
    "\n",
    "class pwskills4():\n",
    "    \n",
    "    def __init__(self, phone_number , email_id, student_id ):\n",
    "        self.phone_number1= phone_number\n",
    "        self.email_id1 = email_id\n",
    "        self.student_id1= student_id\n",
    "        \n",
    "    def return_student_details(self):\n",
    "        return self.student_id1 , self.phone_number1, self.email_id1\n",
    "    \n",
    "    "
   ]
  },
  {
   "cell_type": "code",
   "execution_count": 14,
   "id": "19ed49f0-8c9e-4c44-a6f8-517f67d9ee8c",
   "metadata": {},
   "outputs": [],
   "source": [
    "sudh = pwskills4(4546797 , \"sudh@gmail.com\", 543212)"
   ]
  },
  {
   "cell_type": "code",
   "execution_count": 15,
   "id": "34bb431a-eda1-4284-b98b-06a8493992c7",
   "metadata": {},
   "outputs": [
    {
     "ename": "AttributeError",
     "evalue": "'pwskills4' object has no attribute 'phone_number'",
     "output_type": "error",
     "traceback": [
      "\u001b[0;31m---------------------------------------------------------------------------\u001b[0m",
      "\u001b[0;31mAttributeError\u001b[0m                            Traceback (most recent call last)",
      "Cell \u001b[0;32mIn[15], line 1\u001b[0m\n\u001b[0;32m----> 1\u001b[0m \u001b[43msudh\u001b[49m\u001b[38;5;241;43m.\u001b[39;49m\u001b[43mphone_number\u001b[49m\n",
      "\u001b[0;31mAttributeError\u001b[0m: 'pwskills4' object has no attribute 'phone_number'"
     ]
    }
   ],
   "source": [
    "sudh.phone_number"
   ]
  },
  {
   "cell_type": "code",
   "execution_count": 16,
   "id": "0924ead8-f17d-402f-a45e-e21a604154d1",
   "metadata": {},
   "outputs": [
    {
     "data": {
      "text/plain": [
       "4546797"
      ]
     },
     "execution_count": 16,
     "metadata": {},
     "output_type": "execute_result"
    }
   ],
   "source": [
    "sudh.phone_number1"
   ]
  },
  {
   "cell_type": "code",
   "execution_count": 17,
   "id": "0fb410b1-f02c-4eb2-9b8f-a9e870b95760",
   "metadata": {},
   "outputs": [
    {
     "data": {
      "text/plain": [
       "(543212, 4546797, 'sudh@gmail.com')"
      ]
     },
     "execution_count": 17,
     "metadata": {},
     "output_type": "execute_result"
    }
   ],
   "source": [
    "sudh.return_student_details()"
   ]
  },
  {
   "cell_type": "code",
   "execution_count": 79,
   "id": "50724bfc-2a40-440e-ad1a-6b10373862c7",
   "metadata": {},
   "outputs": [],
   "source": [
    "\n",
    "class pwskills4():\n",
    "    \n",
    "    def __init__(self, phone_number , email_id, student_id ):\n",
    "        self.phone_number1= phone_number\n",
    "        self.email_id1 = email_id\n",
    "        self.student_id1= student_id\n",
    "        \n",
    "    def return_student_details(self):\n",
    "        return self.student_id1 , self.phone_number1, self.email_id1\n",
    "    \n",
    "    "
   ]
  },
  {
   "cell_type": "code",
   "execution_count": 82,
   "id": "570badb9-b59f-4c34-8fe7-02fd4e28554e",
   "metadata": {},
   "outputs": [],
   "source": [
    "sudh = pwskills4(4546797 , \"sudh@gmail.com\", 543212)"
   ]
  },
  {
   "cell_type": "code",
   "execution_count": 85,
   "id": "340ddf2b-5ebb-44f5-96a2-c694a7b86ebf",
   "metadata": {},
   "outputs": [
    {
     "data": {
      "text/plain": [
       "(543212, 4546797, 'sudh@gmail.com')"
      ]
     },
     "execution_count": 85,
     "metadata": {},
     "output_type": "execute_result"
    }
   ],
   "source": [
    "sudh.return_student_details()"
   ]
  },
  {
   "cell_type": "code",
   "execution_count": 86,
   "id": "19717c7c-3cc7-4eaf-b87c-0a454a2ac5e4",
   "metadata": {},
   "outputs": [
    {
     "data": {
      "text/plain": [
       "4546797"
      ]
     },
     "execution_count": 86,
     "metadata": {},
     "output_type": "execute_result"
    }
   ],
   "source": [
    "sudh.phone_number1"
   ]
  },
  {
   "cell_type": "code",
   "execution_count": 87,
   "id": "a93bec62-ecf9-4964-9212-9467276a2317",
   "metadata": {},
   "outputs": [
    {
     "data": {
      "text/plain": [
       "int"
      ]
     },
     "execution_count": 87,
     "metadata": {},
     "output_type": "execute_result"
    }
   ],
   "source": [
    "type(sudh.phone_number1)"
   ]
  },
  {
   "cell_type": "code",
   "execution_count": 88,
   "id": "ad078127-d5d1-4969-9319-1c598f30b856",
   "metadata": {},
   "outputs": [
    {
     "data": {
      "text/plain": [
       "__main__.pwskills4"
      ]
     },
     "execution_count": 88,
     "metadata": {},
     "output_type": "execute_result"
    }
   ],
   "source": [
    "type(sudh)"
   ]
  },
  {
   "cell_type": "code",
   "execution_count": 22,
   "id": "3609c7cc-1c63-4d24-87e2-4fc9abb24d5b",
   "metadata": {},
   "outputs": [],
   "source": [
    "## self is not a reserverd key word. it's a variable to associate the object with the function/method\n",
    "class pwskills5():\n",
    "    \n",
    "    def __init__(self, phone_number , email_id, student_id ):\n",
    "        self.phone_number1= phone_number\n",
    "        self.email_id1 = email_id\n",
    "        self.student_id1= student_id\n",
    "        \n",
    "    def return_student_details(self):\n",
    "        return self.student_id1 , self.phone_number1, self.email_id1\n",
    "    \n"
   ]
  },
  {
   "cell_type": "code",
   "execution_count": 23,
   "id": "79958daa-1b11-46eb-860c-718c80f8c93b",
   "metadata": {},
   "outputs": [],
   "source": [
    "rohan=pwskills5(543212, 4546797, 'sudh@gmail.com')"
   ]
  },
  {
   "cell_type": "code",
   "execution_count": 24,
   "id": "425dd8f3-5413-4a22-b2f9-02000d91b625",
   "metadata": {},
   "outputs": [
    {
     "data": {
      "text/plain": [
       "('sudh@gmail.com', 543212, 4546797)"
      ]
     },
     "execution_count": 24,
     "metadata": {},
     "output_type": "execute_result"
    }
   ],
   "source": [
    "rohan.return_student_details()"
   ]
  },
  {
   "cell_type": "code",
   "execution_count": 25,
   "id": "8cfa0089-cfa5-4d37-9a6b-55d7227acaa1",
   "metadata": {},
   "outputs": [
    {
     "data": {
      "text/plain": [
       "543212"
      ]
     },
     "execution_count": 25,
     "metadata": {},
     "output_type": "execute_result"
    }
   ],
   "source": [
    "rohan.phone_number1"
   ]
  },
  {
   "cell_type": "code",
   "execution_count": null,
   "id": "f8b88941-cff6-46ab-a363-652cfbfdb178",
   "metadata": {},
   "outputs": [],
   "source": []
  }
 ],
 "metadata": {
  "kernelspec": {
   "display_name": "Python 3 (ipykernel)",
   "language": "python",
   "name": "python3"
  },
  "language_info": {
   "codemirror_mode": {
    "name": "ipython",
    "version": 3
   },
   "file_extension": ".py",
   "mimetype": "text/x-python",
   "name": "python",
   "nbconvert_exporter": "python",
   "pygments_lexer": "ipython3",
   "version": "3.10.8"
  }
 },
 "nbformat": 4,
 "nbformat_minor": 5
}
