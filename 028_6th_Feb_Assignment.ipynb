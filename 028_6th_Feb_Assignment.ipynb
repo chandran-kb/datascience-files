{
 "cells": [
  {
   "cell_type": "code",
   "execution_count": null,
   "id": "97a99da6-4963-426d-a005-f5aa920e33f4",
   "metadata": {},
   "outputs": [],
   "source": [
    "###Q1. Create a function which will take a list as an argument and return the product of all the numbers\n",
    "## after creating a flat list.\n",
    "## Use the below-given list as an argument for your function.\n",
    "## list1 = [1,2,3,4, [44,55,66, True], False, (34,56,78,89,34), {1,2,3,3,2,1}, {1:34, \"key2\": [55, 67, 78, 89], 4: (45, 22, 61, 34)}, \n",
    "## [56, 'data science'], 'Machine Learning'] "
   ]
  },
  {
   "cell_type": "code",
   "execution_count": 12,
   "id": "8e13bf81-f9d5-4520-aef0-ab552d9bfc96",
   "metadata": {},
   "outputs": [],
   "source": [
    "l = [1,2,3,4, [44,55,66, True], False, (34,56,78,89,34), {1,2,3,3,2,1}, {1:34, \"key2\": [55, 67, 78, 89], 4: (45, 22, 61, 34)}, [56, 'data science'], 'Machine Learning'] "
   ]
  },
  {
   "cell_type": "code",
   "execution_count": 55,
   "id": "0c5efb65-c8c9-4619-b336-d270f1b30700",
   "metadata": {},
   "outputs": [],
   "source": [
    "from functools import reduce\n",
    "def product():\n",
    "    l1=[]\n",
    "    for i in l:\n",
    "        if type(i)==int:\n",
    "            l1.append(i)\n",
    "        elif type(i)==list or type(i)==tuple or type(i)==set:\n",
    "            for j in i:\n",
    "                if type(j)==int:\n",
    "                    l1.append(j)\n",
    "        elif type(i)==dict:\n",
    "            for k in i.keys():\n",
    "                if type(k)==int:\n",
    "                    l1.append(k)\n",
    "            for v in i.values():\n",
    "                if type(v)==int:\n",
    "                    l1.append(v)\n",
    "                elif type(v)==list or type(v)==tuple:\n",
    "                    for m in v:\n",
    "                        if type(m)==int:\n",
    "                            l1.append(m)\n",
    "    return reduce(lambda x,y : x*y, l1)\n",
    "             "
   ]
  },
  {
   "cell_type": "code",
   "execution_count": 54,
   "id": "c8c25307-ae02-456a-9c20-38e0ab11e482",
   "metadata": {},
   "outputs": [
    {
     "data": {
      "text/plain": [
       "4134711838987085478833841242112000"
      ]
     },
     "execution_count": 54,
     "metadata": {},
     "output_type": "execute_result"
    }
   ],
   "source": [
    "product()"
   ]
  },
  {
   "cell_type": "code",
   "execution_count": 56,
   "id": "7a3299c6-c0ff-431d-9df1-6172de1d1c06",
   "metadata": {},
   "outputs": [
    {
     "data": {
      "text/plain": [
       "'Q2. Write a python program for encrypting a message sent to you by your friend. The logic of encryption\\nshould be such that, for a the output should be z. For b, the output should be y. For c, the output should\\nbe x respectively. Also, the whitespace should be replaced with a dollar sign. Keep the punctuation\\nmarks unchanged.\\nInput Sentence: I want to become a Data Scientist.\\nEncrypt the above input sentence using the program you just created.'"
      ]
     },
     "execution_count": 56,
     "metadata": {},
     "output_type": "execute_result"
    }
   ],
   "source": [
    "\"\"\"Q2. Write a python program for encrypting a message sent to you by your friend. The logic of encryption\n",
    "should be such that, for a the output should be z. For b, the output should be y. For c, the output should\n",
    "be x respectively. Also, the whitespace should be replaced with a dollar sign. Keep the punctuation\n",
    "marks unchanged.\n",
    "Input Sentence: I want to become a Data Scientist.\n",
    "Encrypt the above input sentence using the program you just created.\"\"\""
   ]
  },
  {
   "cell_type": "code",
   "execution_count": 87,
   "id": "aeb6f1a7-72a9-417d-8a2a-0b7a11522bb7",
   "metadata": {},
   "outputs": [],
   "source": [
    "import string\n",
    "alphabets = list(string.ascii_lowercase)"
   ]
  },
  {
   "cell_type": "code",
   "execution_count": 86,
   "id": "68c0f7dd-f3f6-4f86-b527-56b1d7caa824",
   "metadata": {},
   "outputs": [
    {
     "data": {
      "text/plain": [
       "['a',\n",
       " 'b',\n",
       " 'c',\n",
       " 'd',\n",
       " 'e',\n",
       " 'f',\n",
       " 'g',\n",
       " 'h',\n",
       " 'i',\n",
       " 'j',\n",
       " 'k',\n",
       " 'l',\n",
       " 'm',\n",
       " 'n',\n",
       " 'o',\n",
       " 'p',\n",
       " 'q',\n",
       " 'r',\n",
       " 's',\n",
       " 't',\n",
       " 'u',\n",
       " 'v',\n",
       " 'w',\n",
       " 'x',\n",
       " 'y',\n",
       " 'z']"
      ]
     },
     "execution_count": 88,
     "metadata": {},
     "output_type": "execute_result"
    }
   ],
   "source": [
    "alphabets"
   ]
  },
  {
   "cell_type": "code",
   "execution_count": 131,
   "id": "b1a05122-53aa-41f8-b65a-6bc30c368aec",
   "metadata": {},
   "outputs": [
    {
     "name": "stdin",
     "output_type": "stream",
     "text": [
      "enter your text I want to become a Data Scientist.\n"
     ]
    },
    {
     "name": "stdout",
     "output_type": "stream",
     "text": [
      "r dzmg gl yvxlnv z wzgz hxrvmgrhg."
     ]
    }
   ],
   "source": [
    "import string\n",
    "l = list(string.ascii_lowercase)\n",
    "\n",
    "n = input(\"enter your text\")\n",
    "\n",
    "for i in n:\n",
    "    if i.lower() in l:\n",
    "        print(l[25-l.index(i.lower())], end =\"\")\n",
    "    else: print(i , end = \"\")"
   ]
  },
  {
   "cell_type": "code",
   "execution_count": null,
   "id": "988e1385-c1d0-46db-b877-86e278f59792",
   "metadata": {},
   "outputs": [],
   "source": []
  }
 ],
 "metadata": {
  "kernelspec": {
   "display_name": "Python 3 (ipykernel)",
   "language": "python",
   "name": "python3"
  },
  "language_info": {
   "codemirror_mode": {
    "name": "ipython",
    "version": 3
   },
   "file_extension": ".py",
   "mimetype": "text/x-python",
   "name": "python",
   "nbconvert_exporter": "python",
   "pygments_lexer": "ipython3",
   "version": "3.10.8"
  }
 },
 "nbformat": 4,
 "nbformat_minor": 5
}
