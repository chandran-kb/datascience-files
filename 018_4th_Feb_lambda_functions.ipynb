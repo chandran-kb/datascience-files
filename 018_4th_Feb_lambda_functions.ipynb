{
 "cells": [
  {
   "cell_type": "code",
   "execution_count": 1,
   "id": "d30e4276-f376-492f-bc26-79da34edec4a",
   "metadata": {},
   "outputs": [
    {
     "data": {
      "text/plain": [
       "9"
      ]
     },
     "execution_count": 1,
     "metadata": {},
     "output_type": "execute_result"
    }
   ],
   "source": [
    "n=3\n",
    "p=2\n",
    "n**p"
   ]
  },
  {
   "cell_type": "code",
   "execution_count": 2,
   "id": "8f65c006-fb7c-4163-a0d9-01fd66c9f682",
   "metadata": {},
   "outputs": [],
   "source": [
    "## regular function\n",
    "def test(n,p):\n",
    "    return n**p"
   ]
  },
  {
   "cell_type": "code",
   "execution_count": 3,
   "id": "62d0333d-dcc8-4905-91e9-bbc6628bce26",
   "metadata": {},
   "outputs": [
    {
     "data": {
      "text/plain": [
       "125"
      ]
     },
     "execution_count": 3,
     "metadata": {},
     "output_type": "execute_result"
    }
   ],
   "source": [
    "test(5,3)"
   ]
  },
  {
   "cell_type": "code",
   "execution_count": 4,
   "id": "18a00e0b-ba26-4db5-b46e-48c61b49c406",
   "metadata": {},
   "outputs": [
    {
     "data": {
      "text/plain": [
       "<function __main__.<lambda>(n, p)>"
      ]
     },
     "execution_count": 4,
     "metadata": {},
     "output_type": "execute_result"
    }
   ],
   "source": [
    "## through lambda function or one line function or anonymous function \n",
    "lambda n,p : n**p"
   ]
  },
  {
   "cell_type": "code",
   "execution_count": 5,
   "id": "ddef8c53-b498-4732-a902-1bfbce2c9ff1",
   "metadata": {},
   "outputs": [],
   "source": [
    "a=lambda n,p : n**p"
   ]
  },
  {
   "cell_type": "code",
   "execution_count": 6,
   "id": "44791a14-a2bc-4391-abfe-ec9e75d3042e",
   "metadata": {},
   "outputs": [
    {
     "data": {
      "text/plain": [
       "<function __main__.<lambda>(n, p)>"
      ]
     },
     "execution_count": 6,
     "metadata": {},
     "output_type": "execute_result"
    }
   ],
   "source": [
    "a"
   ]
  },
  {
   "cell_type": "code",
   "execution_count": 7,
   "id": "9f6ea484-d801-4199-b92e-a9d9582e7bf7",
   "metadata": {},
   "outputs": [
    {
     "data": {
      "text/plain": [
       "125"
      ]
     },
     "execution_count": 7,
     "metadata": {},
     "output_type": "execute_result"
    }
   ],
   "source": [
    "a(5,3)"
   ]
  },
  {
   "cell_type": "code",
   "execution_count": 10,
   "id": "7bfbbb52-82aa-4986-a8ed-01832e2e512b",
   "metadata": {},
   "outputs": [],
   "source": [
    "b=lambda a,b,c : a+b*c"
   ]
  },
  {
   "cell_type": "code",
   "execution_count": 11,
   "id": "65b99559-f122-4ead-8e7b-aa72745ee989",
   "metadata": {},
   "outputs": [
    {
     "data": {
      "text/plain": [
       "7"
      ]
     },
     "execution_count": 11,
     "metadata": {},
     "output_type": "execute_result"
    }
   ],
   "source": [
    "b(1,2,3)"
   ]
  },
  {
   "cell_type": "code",
   "execution_count": 12,
   "id": "597f3f76-c8a0-4f8b-bdf3-be20e437970a",
   "metadata": {},
   "outputs": [],
   "source": [
    "## for basic functions or simple functions, you can use lambda function "
   ]
  },
  {
   "cell_type": "code",
   "execution_count": 19,
   "id": "33c4485c-306b-4c81-894b-a0c40823ab64",
   "metadata": {},
   "outputs": [],
   "source": [
    "## celsius to farenheit function\n",
    "c_to_f=lambda c : (9/5)*c+32"
   ]
  },
  {
   "cell_type": "code",
   "execution_count": 25,
   "id": "a79ece82-318f-430f-973e-7f558a43720e",
   "metadata": {},
   "outputs": [
    {
     "data": {
      "text/plain": [
       "98.60000000000001"
      ]
     },
     "execution_count": 25,
     "metadata": {},
     "output_type": "execute_result"
    }
   ],
   "source": [
    "c_to_f(37)"
   ]
  },
  {
   "cell_type": "code",
   "execution_count": 26,
   "id": "f5490b18-718c-46e7-8abf-7562f37f486f",
   "metadata": {},
   "outputs": [],
   "source": [
    "## finding a maximum of 2 numbers using lambda function\n",
    "## using if else inside lambda"
   ]
  },
  {
   "cell_type": "code",
   "execution_count": 1,
   "id": "35085d3c-7c9a-4b83-9e39-198595deee80",
   "metadata": {},
   "outputs": [],
   "source": [
    "maxx= lambda a,b : a if a>b else b"
   ]
  },
  {
   "cell_type": "code",
   "execution_count": 2,
   "id": "a1d452e1-bef1-4440-ab5d-f41227e50c9c",
   "metadata": {},
   "outputs": [
    {
     "data": {
      "text/plain": [
       "18"
      ]
     },
     "execution_count": 2,
     "metadata": {},
     "output_type": "execute_result"
    }
   ],
   "source": [
    "(maxx(10,18))"
   ]
  },
  {
   "cell_type": "code",
   "execution_count": 5,
   "id": "c6ac216f-1d8f-4780-addf-983e164f4511",
   "metadata": {},
   "outputs": [
    {
     "data": {
      "text/plain": [
       "int"
      ]
     },
     "execution_count": 5,
     "metadata": {},
     "output_type": "execute_result"
    }
   ],
   "source": [
    "type(maxx(5,8))"
   ]
  },
  {
   "cell_type": "code",
   "execution_count": 6,
   "id": "c9074c37-7af8-4051-8e45-b553470fbc30",
   "metadata": {},
   "outputs": [
    {
     "data": {
      "text/plain": [
       "<function __main__.<lambda>(a, b)>"
      ]
     },
     "execution_count": 6,
     "metadata": {},
     "output_type": "execute_result"
    }
   ],
   "source": [
    "maxx"
   ]
  },
  {
   "cell_type": "code",
   "execution_count": 32,
   "id": "c10dab88-793a-48b1-abb6-af2483f41c8b",
   "metadata": {},
   "outputs": [],
   "source": [
    "## len functions using lambda\n",
    "s=\"pwskills\"\n",
    "leng =lambda s : len(s)"
   ]
  },
  {
   "cell_type": "code",
   "execution_count": 34,
   "id": "61c9792e-fda0-4e53-8039-6879b2ab98f2",
   "metadata": {},
   "outputs": [
    {
     "data": {
      "text/plain": [
       "8"
      ]
     },
     "execution_count": 34,
     "metadata": {},
     "output_type": "execute_result"
    }
   ],
   "source": [
    "leng(s)"
   ]
  },
  {
   "cell_type": "code",
   "execution_count": null,
   "id": "c433acee-07e2-44a0-ba47-435e5ba76acb",
   "metadata": {},
   "outputs": [],
   "source": []
  }
 ],
 "metadata": {
  "kernelspec": {
   "display_name": "Python 3 (ipykernel)",
   "language": "python",
   "name": "python3"
  },
  "language_info": {
   "codemirror_mode": {
    "name": "ipython",
    "version": 3
   },
   "file_extension": ".py",
   "mimetype": "text/x-python",
   "name": "python",
   "nbconvert_exporter": "python",
   "pygments_lexer": "ipython3",
   "version": "3.10.8"
  }
 },
 "nbformat": 4,
 "nbformat_minor": 5
}
