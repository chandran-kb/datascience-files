{
 "cells": [
  {
   "cell_type": "code",
   "execution_count": 1,
   "id": "df523fcb-709c-41af-928a-04366dadafed",
   "metadata": {},
   "outputs": [],
   "source": [
    "## when we need to raise an exception for a custom class when the error is  not included in the python library or Exception superclass"
   ]
  },
  {
   "cell_type": "code",
   "execution_count": 2,
   "id": "59245539-a996-425a-981e-56101ca1e369",
   "metadata": {},
   "outputs": [
    {
     "name": "stdin",
     "output_type": "stream",
     "text": [
      "enter your age -41\n"
     ]
    }
   ],
   "source": [
    "age = int(input(\"enter your age\"))"
   ]
  },
  {
   "cell_type": "code",
   "execution_count": 3,
   "id": "370c6497-d39a-4990-85e6-7b20b8939c81",
   "metadata": {},
   "outputs": [],
   "source": [
    "## the above is not an error as per python but age cannot be negative and it's an error in reality"
   ]
  },
  {
   "cell_type": "code",
   "execution_count": 4,
   "id": "1766640d-424e-4b3f-9a8d-96484c999f58",
   "metadata": {},
   "outputs": [],
   "source": [
    "class validateage(Exception):\n",
    "    def __init__(self, error_msg):\n",
    "        self.msg = error_msg\n",
    "        "
   ]
  },
  {
   "cell_type": "code",
   "execution_count": 8,
   "id": "9a671947-887b-4375-a70d-6a774ccf220a",
   "metadata": {},
   "outputs": [],
   "source": [
    "def validateage1(age): \n",
    "    if age <0 :\n",
    "        raise validateage(\"Error : entered age is less than 0\")\n",
    "    elif age > 126:\n",
    "        raise validateage(\"Error : entered age is more than the guiness world record\")\n",
    "    else : \n",
    "        print(\"age is valid\")"
   ]
  },
  {
   "cell_type": "code",
   "execution_count": 10,
   "id": "becf9cc7-20a2-49db-b01d-68e52639653b",
   "metadata": {},
   "outputs": [
    {
     "name": "stdin",
     "output_type": "stream",
     "text": [
      "enter your age -55\n"
     ]
    },
    {
     "name": "stdout",
     "output_type": "stream",
     "text": [
      "Error : entered age is less than 0\n"
     ]
    }
   ],
   "source": [
    "try : \n",
    "    age = int(input(\"enter your age\"))\n",
    "    validateage1(age)\n",
    "except validateage as e:\n",
    "    print(e)"
   ]
  },
  {
   "cell_type": "code",
   "execution_count": 11,
   "id": "c15af9b6-e7e8-4384-a9db-a148630c96e6",
   "metadata": {},
   "outputs": [
    {
     "name": "stdin",
     "output_type": "stream",
     "text": [
      "enter your age 855\n"
     ]
    },
    {
     "name": "stdout",
     "output_type": "stream",
     "text": [
      "Error : entered age is more than the guiness world record\n"
     ]
    }
   ],
   "source": [
    "try : \n",
    "    age = int(input(\"enter your age\"))\n",
    "    validateage1(age)\n",
    "except validateage as e:\n",
    "    print(e)"
   ]
  },
  {
   "cell_type": "code",
   "execution_count": null,
   "id": "3fca3f81-a21b-4188-9147-1d5ad7e124fe",
   "metadata": {},
   "outputs": [],
   "source": []
  }
 ],
 "metadata": {
  "kernelspec": {
   "display_name": "Python 3 (ipykernel)",
   "language": "python",
   "name": "python3"
  },
  "language_info": {
   "codemirror_mode": {
    "name": "ipython",
    "version": 3
   },
   "file_extension": ".py",
   "mimetype": "text/x-python",
   "name": "python",
   "nbconvert_exporter": "python",
   "pygments_lexer": "ipython3",
   "version": "3.10.8"
  }
 },
 "nbformat": 4,
 "nbformat_minor": 5
}
