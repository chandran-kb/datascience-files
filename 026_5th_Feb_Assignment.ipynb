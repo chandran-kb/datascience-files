{
 "cells": [
  {
   "cell_type": "code",
   "execution_count": 5,
   "id": "dd1f0a7e-ac14-4724-9849-3e9002a3c56c",
   "metadata": {},
   "outputs": [],
   "source": [
    "### Q1. Explain Class and Object with respect to Object-Oriented Programming. Give a suitable example."
   ]
  },
  {
   "cell_type": "code",
   "execution_count": 7,
   "id": "c164b27d-d34a-4f86-976c-b97717f56c05",
   "metadata": {},
   "outputs": [],
   "source": [
    "class students():\n",
    "    \n",
    "    grade = \"IV\"\n",
    "    \n",
    "    def __init__(self, rank, roll_id, phone):\n",
    "        self.__rank = rank\n",
    "        self.__roll_id = roll_id\n",
    "        self.__phone = phone\n",
    "        self.grade = self.display_grade()\n",
    "        \n",
    "    def display_details(self):\n",
    "        return \"Rank : {} Roll ID : {} Phone number : {} Grade : {}\" .format(self.__rank, self.__roll_id, self.__phone , self.grade)\n",
    "    \n",
    "    @classmethod\n",
    "    def display_grade(cls):\n",
    "        return cls.grade\n",
    "\n",
    "bharath =students(525, \"A09\", 9502556893)"
   ]
  },
  {
   "cell_type": "code",
   "execution_count": 8,
   "id": "d1c6740a-9dc0-4939-8765-212c71d3ee98",
   "metadata": {},
   "outputs": [
    {
     "data": {
      "text/plain": [
       "'Rank : 525 Roll ID : A09 Phone number : 9502556893 Grade : IV'"
      ]
     },
     "execution_count": 8,
     "metadata": {},
     "output_type": "execute_result"
    }
   ],
   "source": [
    "bharath.display_details()"
   ]
  },
  {
   "cell_type": "code",
   "execution_count": 48,
   "id": "af0fc729-c6af-4b0f-98fd-9212a4cd522a",
   "metadata": {},
   "outputs": [
    {
     "data": {
      "text/plain": [
       "525"
      ]
     },
     "execution_count": 48,
     "metadata": {},
     "output_type": "execute_result"
    }
   ],
   "source": [
    "bharath._students__rank"
   ]
  },
  {
   "cell_type": "code",
   "execution_count": 49,
   "id": "5067f74d-348c-4683-8747-627bcb4961df",
   "metadata": {},
   "outputs": [
    {
     "data": {
      "text/plain": [
       "'IV'"
      ]
     },
     "execution_count": 49,
     "metadata": {},
     "output_type": "execute_result"
    }
   ],
   "source": [
    "bharath.display_grade()"
   ]
  },
  {
   "cell_type": "code",
   "execution_count": 13,
   "id": "e0e7f25c-3dd7-4eef-9877-9e0a8334ddb7",
   "metadata": {},
   "outputs": [],
   "source": [
    "## Q2. Name the four pillars of OOPs.\n",
    "## 1) Encapsulation\n",
    "# 2) polymorphism\n",
    "# 3) Inheritence\n",
    "# 4) Abstraction"
   ]
  },
  {
   "cell_type": "code",
   "execution_count": 15,
   "id": "c1bdd265-5171-4068-8f3e-00356464c6b9",
   "metadata": {},
   "outputs": [],
   "source": [
    "### Q3. Explain why the __init__() function is used. Give a suitable example.\n",
    "## - used to pass pararemetrs of the object or instance"
   ]
  },
  {
   "cell_type": "code",
   "execution_count": 14,
   "id": "27412c1f-fd53-4c44-bae3-f57bbe1ec824",
   "metadata": {},
   "outputs": [],
   "source": [
    "class students():\n",
    "    \n",
    "    grade = \"IV\"\n",
    "    \n",
    "    def __init__(self, rank, roll_id, phone):\n",
    "        self.__rank = rank\n",
    "        self.__roll_id = roll_id\n",
    "        self.__phone = phone\n",
    "        self.grade = self.display_grade()\n",
    "        \n",
    "    def display_details(self):\n",
    "        return \"Rank : {} Roll ID : {} Phone number : {} Grade : {}\" .format(self.__rank, self.__roll_id, self.__phone , self.grade)\n",
    "    \n",
    "    @classmethod\n",
    "    def display_grade(cls):\n",
    "        return cls.grade\n",
    "\n",
    "bharath =students(525, \"A09\", 9502556893)"
   ]
  },
  {
   "cell_type": "code",
   "execution_count": 16,
   "id": "b9f81c28-7b5a-4fd2-a06e-a604acbeaacf",
   "metadata": {},
   "outputs": [],
   "source": [
    "## Q4. Why self is used in OOPs?\n",
    "## self is pointer to bind an object to the methods inside the class"
   ]
  },
  {
   "cell_type": "code",
   "execution_count": 17,
   "id": "55049f18-98f0-4332-9cc4-fb86ca444998",
   "metadata": {},
   "outputs": [],
   "source": [
    "##Q5. What is inheritance? Give an example for each type of inheritance."
   ]
  },
  {
   "cell_type": "code",
   "execution_count": 40,
   "id": "f4d27350-1947-4f61-a3b2-8e16ec78fd7d",
   "metadata": {},
   "outputs": [],
   "source": [
    "class B():\n",
    "    \n",
    "    def feature1(self):\n",
    "        return \"feature 1 working\"\n",
    "class A(B):\n",
    "    \n",
    "    def feature2(self):\n",
    "        return \"feature2 is working\""
   ]
  },
  {
   "cell_type": "code",
   "execution_count": 41,
   "id": "06061b28-e8f7-46c3-a42d-9e21f1f0ea76",
   "metadata": {},
   "outputs": [],
   "source": [
    "bharath = A()"
   ]
  },
  {
   "cell_type": "code",
   "execution_count": 42,
   "id": "a3a31cde-cb46-4e9a-98d4-93d331543d7c",
   "metadata": {},
   "outputs": [
    {
     "data": {
      "text/plain": [
       "'feature 1 working'"
      ]
     },
     "execution_count": 42,
     "metadata": {},
     "output_type": "execute_result"
    }
   ],
   "source": [
    "bharath.feature1()"
   ]
  },
  {
   "cell_type": "code",
   "execution_count": 43,
   "id": "acd24b54-74ad-4e64-87dd-3c45afc7bb66",
   "metadata": {},
   "outputs": [
    {
     "data": {
      "text/plain": [
       "'feature2 is working'"
      ]
     },
     "execution_count": 43,
     "metadata": {},
     "output_type": "execute_result"
    }
   ],
   "source": [
    "bharath.feature2()"
   ]
  },
  {
   "cell_type": "code",
   "execution_count": null,
   "id": "59817a34-e8b0-4d2b-9ffe-148fede75875",
   "metadata": {},
   "outputs": [],
   "source": []
  },
  {
   "cell_type": "code",
   "execution_count": null,
   "id": "83084220-80f1-4676-9bac-2bed213dc741",
   "metadata": {},
   "outputs": [],
   "source": []
  }
 ],
 "metadata": {
  "kernelspec": {
   "display_name": "Python 3 (ipykernel)",
   "language": "python",
   "name": "python3"
  },
  "language_info": {
   "codemirror_mode": {
    "name": "ipython",
    "version": 3
   },
   "file_extension": ".py",
   "mimetype": "text/x-python",
   "name": "python",
   "nbconvert_exporter": "python",
   "pygments_lexer": "ipython3",
   "version": "3.10.8"
  }
 },
 "nbformat": 4,
 "nbformat_minor": 5
}
