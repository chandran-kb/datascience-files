{
 "cells": [
  {
   "cell_type": "code",
   "execution_count": 1,
   "id": "2d326e8f-b189-429b-a809-9a84df905f1a",
   "metadata": {},
   "outputs": [],
   "source": [
    "## multithreading"
   ]
  },
  {
   "cell_type": "code",
   "execution_count": 2,
   "id": "67de163a-19ce-47a4-a2e6-fabdc6021a64",
   "metadata": {},
   "outputs": [],
   "source": [
    "## each program runs in each core of the processor of a computer. (for example in an quadcore, there are 4 cores and 4 programs can run in each of the core at a time\n",
    "# if you want a single core to run more than one program, then we use multithreading"
   ]
  },
  {
   "cell_type": "code",
   "execution_count": 3,
   "id": "bcb521ee-4726-4259-bb15-0b72fcbae13e",
   "metadata": {},
   "outputs": [],
   "source": [
    "import threading"
   ]
  },
  {
   "cell_type": "code",
   "execution_count": 4,
   "id": "f94170a8-dcbf-46dc-9220-548170b6e51f",
   "metadata": {},
   "outputs": [],
   "source": [
    "def test(ID):\n",
    "    print(\"program start %d\" %ID )"
   ]
  },
  {
   "cell_type": "code",
   "execution_count": 5,
   "id": "58f48e09-9114-4c3c-937c-7937457e933f",
   "metadata": {},
   "outputs": [
    {
     "name": "stdout",
     "output_type": "stream",
     "text": [
      "program start 5\n"
     ]
    }
   ],
   "source": [
    "test(5)"
   ]
  },
  {
   "cell_type": "code",
   "execution_count": 8,
   "id": "455f3543-b612-484f-ad8e-44e5ecdb641a",
   "metadata": {},
   "outputs": [],
   "source": [
    "thread = [threading.Thread(target=test , args = (i,)) for i in range(10)]"
   ]
  },
  {
   "cell_type": "code",
   "execution_count": 9,
   "id": "393d5720-254f-4242-a32b-434429041faa",
   "metadata": {},
   "outputs": [
    {
     "name": "stdout",
     "output_type": "stream",
     "text": [
      "program start 0\n",
      "program start 1\n",
      "program start 2\n",
      "program start 3\n",
      "program start 4\n",
      "program start 5\n",
      "program start 6\n",
      "program start 7\n",
      "program start 8\n",
      "program start 9\n"
     ]
    }
   ],
   "source": [
    "for t in thread:\n",
    "    t.start()"
   ]
  },
  {
   "cell_type": "code",
   "execution_count": 9,
   "id": "3c5f4e4c-2061-4ef0-94e0-b2599d8757e6",
   "metadata": {},
   "outputs": [
    {
     "data": {
      "text/plain": [
       "[<Thread(Thread-5 (test), stopped 140078203532864)>,\n",
       " <Thread(Thread-6 (test), stopped 140078203532864)>,\n",
       " <Thread(Thread-7 (test), stopped 140078203532864)>,\n",
       " <Thread(Thread-8 (test), stopped 140078195140160)>,\n",
       " <Thread(Thread-9 (test), stopped 140078195140160)>,\n",
       " <Thread(Thread-10 (test), stopped 140078203532864)>,\n",
       " <Thread(Thread-11 (test), stopped 140078203532864)>,\n",
       " <Thread(Thread-12 (test), stopped 140078203532864)>,\n",
       " <Thread(Thread-13 (test), stopped 140078203532864)>,\n",
       " <Thread(Thread-14 (test), stopped 140078203532864)>]"
      ]
     },
     "execution_count": 9,
     "metadata": {},
     "output_type": "execute_result"
    }
   ],
   "source": [
    "thread"
   ]
  },
  {
   "cell_type": "code",
   "execution_count": null,
   "id": "45fb0a09-5bf2-4dc4-8b01-8e42bc7e88d2",
   "metadata": {},
   "outputs": [],
   "source": []
  }
 ],
 "metadata": {
  "kernelspec": {
   "display_name": "Python 3 (ipykernel)",
   "language": "python",
   "name": "python3"
  },
  "language_info": {
   "codemirror_mode": {
    "name": "ipython",
    "version": 3
   },
   "file_extension": ".py",
   "mimetype": "text/x-python",
   "name": "python",
   "nbconvert_exporter": "python",
   "pygments_lexer": "ipython3",
   "version": "3.10.8"
  }
 },
 "nbformat": 4,
 "nbformat_minor": 5
}
