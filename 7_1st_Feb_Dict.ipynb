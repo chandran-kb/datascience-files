{
 "cells": [
  {
   "cell_type": "code",
   "execution_count": 1,
   "id": "6f3cc054-710c-4a36-ab57-0b06c1aae43a",
   "metadata": {},
   "outputs": [],
   "source": [
    "d={}"
   ]
  },
  {
   "cell_type": "code",
   "execution_count": 2,
   "id": "f2a7072a-befe-4219-a306-d858ebc205f3",
   "metadata": {},
   "outputs": [
    {
     "data": {
      "text/plain": [
       "dict"
      ]
     },
     "execution_count": 2,
     "metadata": {},
     "output_type": "execute_result"
    }
   ],
   "source": [
    "type(d)"
   ]
  },
  {
   "cell_type": "code",
   "execution_count": 5,
   "id": "6a3c597c-ff05-4084-93b7-0f9eedb7e1ff",
   "metadata": {},
   "outputs": [],
   "source": [
    "d1={1,2,3}"
   ]
  },
  {
   "cell_type": "code",
   "execution_count": 6,
   "id": "d8bb2167-0b92-4a30-a648-74a4c4ae7204",
   "metadata": {},
   "outputs": [
    {
     "data": {
      "text/plain": [
       "set"
      ]
     },
     "execution_count": 6,
     "metadata": {},
     "output_type": "execute_result"
    }
   ],
   "source": [
    "type(d1)"
   ]
  },
  {
   "cell_type": "code",
   "execution_count": 11,
   "id": "ecf8d766-900a-406f-b449-2d31a003e6ce",
   "metadata": {},
   "outputs": [],
   "source": [
    "## dic  is a set of key and value pair\n",
    "## key has to be unique or it'll update itself as below\n",
    "d2={\"key1\" : \"value1\" , \"key1\" : \"value2\" , \"key3\": \"value3\"}"
   ]
  },
  {
   "cell_type": "code",
   "execution_count": 16,
   "id": "ebc98639-3269-40b8-8c84-3e50b38e8b81",
   "metadata": {},
   "outputs": [
    {
     "data": {
      "text/plain": [
       "{'key1': 'value2', 'key3': 'value3'}"
      ]
     },
     "execution_count": 16,
     "metadata": {},
     "output_type": "execute_result"
    }
   ],
   "source": [
    "d2"
   ]
  },
  {
   "cell_type": "code",
   "execution_count": 23,
   "id": "073ea499-eb70-4c5b-98b0-a416c590d356",
   "metadata": {},
   "outputs": [],
   "source": [
    "d = {'name' : 'bharath' , 'age': 29, 'number' : 9502556893, 'interests':{\"x\",7,5,5}}"
   ]
  },
  {
   "cell_type": "code",
   "execution_count": 24,
   "id": "6af04d22-7163-4e7a-89fa-847799c91e27",
   "metadata": {},
   "outputs": [
    {
     "data": {
      "text/plain": [
       "{'name': 'bharath', 'age': 29, 'number': 9502556893, 'interests': {5, 7, 'x'}}"
      ]
     },
     "execution_count": 24,
     "metadata": {},
     "output_type": "execute_result"
    }
   ],
   "source": [
    "d"
   ]
  },
  {
   "cell_type": "code",
   "execution_count": 26,
   "id": "bd43bef7-77ee-4dd3-8bce-63837a4aecfa",
   "metadata": {},
   "outputs": [
    {
     "data": {
      "text/plain": [
       "dict_keys(['name', 'age', 'number', 'interests'])"
      ]
     },
     "execution_count": 26,
     "metadata": {},
     "output_type": "execute_result"
    }
   ],
   "source": [
    "d.keys()"
   ]
  },
  {
   "cell_type": "code",
   "execution_count": 27,
   "id": "95a3b917-98fa-49cc-808d-aca2220e34d7",
   "metadata": {},
   "outputs": [
    {
     "data": {
      "text/plain": [
       "dict_values(['bharath', 29, 9502556893, {'x', 5, 7}])"
      ]
     },
     "execution_count": 27,
     "metadata": {},
     "output_type": "execute_result"
    }
   ],
   "source": [
    "d.values()"
   ]
  },
  {
   "cell_type": "code",
   "execution_count": 28,
   "id": "d8051eb1-64b6-428f-bbd5-c44752399f58",
   "metadata": {},
   "outputs": [
    {
     "data": {
      "text/plain": [
       "dict_items([('name', 'bharath'), ('age', 29), ('number', 9502556893), ('interests', {'x', 5, 7})])"
      ]
     },
     "execution_count": 28,
     "metadata": {},
     "output_type": "execute_result"
    }
   ],
   "source": [
    "d.items()"
   ]
  },
  {
   "cell_type": "code",
   "execution_count": 35,
   "id": "0637a888-ffa5-4599-bf13-428fb5028d8b",
   "metadata": {},
   "outputs": [
    {
     "data": {
      "text/plain": [
       "'bharath'"
      ]
     },
     "execution_count": 35,
     "metadata": {},
     "output_type": "execute_result"
    }
   ],
   "source": [
    "### indexing cannot be done like lists or tuples\n",
    "## indexing can be done based on key value\n",
    "d['name']"
   ]
  },
  {
   "cell_type": "code",
   "execution_count": 36,
   "id": "2c009ff6-93f3-47f8-b2bb-0f8f3beaaacd",
   "metadata": {},
   "outputs": [],
   "source": [
    "### dict can have list or tuple or set or another dict as it's values "
   ]
  },
  {
   "cell_type": "code",
   "execution_count": 37,
   "id": "4a74d02a-8512-42ca-9451-e70f290f169b",
   "metadata": {},
   "outputs": [
    {
     "data": {
      "text/plain": [
       "{'name': 'bharath', 'age': 29, 'number': 9502556893, 'interests': {5, 7, 'x'}}"
      ]
     },
     "execution_count": 37,
     "metadata": {},
     "output_type": "execute_result"
    }
   ],
   "source": [
    "d"
   ]
  },
  {
   "cell_type": "code",
   "execution_count": 39,
   "id": "293acd6a-54a9-4039-b619-4c128db92856",
   "metadata": {},
   "outputs": [],
   "source": [
    "### adding a new key inside a dict\n",
    "d['list']=[1,2,'y']"
   ]
  },
  {
   "cell_type": "code",
   "execution_count": 40,
   "id": "5ce89aaf-c933-400d-bc2d-20ddb56cd93e",
   "metadata": {},
   "outputs": [
    {
     "data": {
      "text/plain": [
       "{'name': 'bharath',\n",
       " 'age': 29,\n",
       " 'number': 9502556893,\n",
       " 'interests': {5, 7, 'x'},\n",
       " 'list': [1, 2, 'y']}"
      ]
     },
     "execution_count": 40,
     "metadata": {},
     "output_type": "execute_result"
    }
   ],
   "source": [
    "d"
   ]
  },
  {
   "cell_type": "code",
   "execution_count": 41,
   "id": "0b08e7d6-1f11-445f-a000-6002ea1a2a34",
   "metadata": {},
   "outputs": [
    {
     "data": {
      "text/plain": [
       "29"
      ]
     },
     "execution_count": 41,
     "metadata": {},
     "output_type": "execute_result"
    }
   ],
   "source": [
    "## removing a key from a dict\n",
    "d.pop('age')"
   ]
  },
  {
   "cell_type": "code",
   "execution_count": 42,
   "id": "bb927e0a-df93-43a4-b98b-4960fac191a2",
   "metadata": {},
   "outputs": [
    {
     "data": {
      "text/plain": [
       "{'name': 'bharath',\n",
       " 'number': 9502556893,\n",
       " 'interests': {5, 7, 'x'},\n",
       " 'list': [1, 2, 'y']}"
      ]
     },
     "execution_count": 42,
     "metadata": {},
     "output_type": "execute_result"
    }
   ],
   "source": [
    "d"
   ]
  },
  {
   "cell_type": "code",
   "execution_count": null,
   "id": "f89c8836-1389-42ad-85cc-e174e17db3d3",
   "metadata": {},
   "outputs": [],
   "source": []
  }
 ],
 "metadata": {
  "kernelspec": {
   "display_name": "Python 3 (ipykernel)",
   "language": "python",
   "name": "python3"
  },
  "language_info": {
   "codemirror_mode": {
    "name": "ipython",
    "version": 3
   },
   "file_extension": ".py",
   "mimetype": "text/x-python",
   "name": "python",
   "nbconvert_exporter": "python",
   "pygments_lexer": "ipython3",
   "version": "3.10.8"
  }
 },
 "nbformat": 4,
 "nbformat_minor": 5
}
