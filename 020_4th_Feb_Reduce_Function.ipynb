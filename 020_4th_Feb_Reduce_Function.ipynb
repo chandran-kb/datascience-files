{
 "cells": [
  {
   "cell_type": "code",
   "execution_count": 1,
   "id": "62721138-2563-42ba-aaad-11e6aa630571",
   "metadata": {},
   "outputs": [],
   "source": [
    "## reduce function is not available by default as a function like lambda or map\n",
    "## reduce has to be called from library\n",
    "\n",
    "## reduce functions reduces the data isnide the list and returns it as a single entity\n",
    "\n",
    "## reduce also takes input as an external function/internal function(lambda) and an iterable"
   ]
  },
  {
   "cell_type": "code",
   "execution_count": 18,
   "id": "8d317076-d2f1-449c-b271-381b4b6c49f4",
   "metadata": {},
   "outputs": [],
   "source": [
    "# reduce function applies a function cumulatively to elements of an iterable, from left to right"
   ]
  },
  {
   "cell_type": "code",
   "execution_count": 2,
   "id": "3ddaf29e-7385-43e3-8bff-18e620bc1f52",
   "metadata": {},
   "outputs": [],
   "source": [
    "from functools import reduce"
   ]
  },
  {
   "cell_type": "code",
   "execution_count": 3,
   "id": "bcd803f4-e8b0-4992-a063-050225a5ced8",
   "metadata": {},
   "outputs": [],
   "source": [
    "l=range(1,9)"
   ]
  },
  {
   "cell_type": "code",
   "execution_count": 4,
   "id": "30c66a72-570c-4361-9464-bf6630696136",
   "metadata": {},
   "outputs": [
    {
     "data": {
      "text/plain": [
       "36"
      ]
     },
     "execution_count": 4,
     "metadata": {},
     "output_type": "execute_result"
    }
   ],
   "source": [
    "## sum of the numbers in the list using reduce and lambda\n",
    "reduce(lambda x,y : x+y,l )"
   ]
  },
  {
   "cell_type": "code",
   "execution_count": 7,
   "id": "22147e3c-27e0-4ca2-b26d-eb70b531bbe1",
   "metadata": {},
   "outputs": [
    {
     "data": {
      "text/plain": [
       "36"
      ]
     },
     "execution_count": 7,
     "metadata": {},
     "output_type": "execute_result"
    }
   ],
   "source": [
    "## sum of the numbers in the list using reduce and external function\n",
    "#after adding x and y, the reduce function automatically makes the new value as x & the next value becomes y since it has to reduce the list\n",
    "def addd(x,y):\n",
    "    return x+y\n",
    "reduce(addd,l)"
   ]
  },
  {
   "cell_type": "code",
   "execution_count": 8,
   "id": "6b0d9c86-2c7d-4e7c-ad8f-8805d60d8d80",
   "metadata": {},
   "outputs": [],
   "source": [
    "## reduce functions wouldn't take more than 2 parameters \n",
    "## like in above case, it can only take x and y. not x and y and z"
   ]
  },
  {
   "cell_type": "code",
   "execution_count": 9,
   "id": "9f8ca898-2b05-4243-aaa1-5735362a2984",
   "metadata": {},
   "outputs": [
    {
     "data": {
      "text/plain": [
       "40320"
      ]
     },
     "execution_count": 9,
     "metadata": {},
     "output_type": "execute_result"
    }
   ],
   "source": [
    "## for product of numbers in list\n",
    "reduce(lambda x,y : x*y,l)"
   ]
  },
  {
   "cell_type": "code",
   "execution_count": 14,
   "id": "28c9fe9b-5637-42f5-ba43-e7249a91adb1",
   "metadata": {},
   "outputs": [],
   "source": [
    "#for highest number in the list\n",
    "def max(x,y):\n",
    "    if x>y:\n",
    "        return x\n",
    "    else : return y"
   ]
  },
  {
   "cell_type": "code",
   "execution_count": 16,
   "id": "dec3effc-57a8-4561-bef0-3193d46c8050",
   "metadata": {},
   "outputs": [
    {
     "data": {
      "text/plain": [
       "8"
      ]
     },
     "execution_count": 16,
     "metadata": {},
     "output_type": "execute_result"
    }
   ],
   "source": [
    "reduce (max,l)"
   ]
  },
  {
   "cell_type": "code",
   "execution_count": 17,
   "id": "f70a7c00-fa1f-49f9-a64b-b8ee54c1fc3c",
   "metadata": {},
   "outputs": [
    {
     "data": {
      "text/plain": [
       "8"
      ]
     },
     "execution_count": 17,
     "metadata": {},
     "output_type": "execute_result"
    }
   ],
   "source": [
    "## or\n",
    "reduce(lambda x,y : x if x>y else y ,l)"
   ]
  },
  {
   "cell_type": "code",
   "execution_count": null,
   "id": "9a666e72-1637-499b-ae1e-1bbf99d895d3",
   "metadata": {},
   "outputs": [],
   "source": []
  }
 ],
 "metadata": {
  "kernelspec": {
   "display_name": "Python 3 (ipykernel)",
   "language": "python",
   "name": "python3"
  },
  "language_info": {
   "codemirror_mode": {
    "name": "ipython",
    "version": 3
   },
   "file_extension": ".py",
   "mimetype": "text/x-python",
   "name": "python",
   "nbconvert_exporter": "python",
   "pygments_lexer": "ipython3",
   "version": "3.10.8"
  }
 },
 "nbformat": 4,
 "nbformat_minor": 5
}
