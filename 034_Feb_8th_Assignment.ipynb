{
 "cells": [
  {
   "cell_type": "code",
   "execution_count": 1,
   "id": "cafc1855-56fb-4bf6-a491-ef1d17593363",
   "metadata": {},
   "outputs": [],
   "source": [
    "# Q1. What is Abstraction in OOps? Explain with an example."
   ]
  },
  {
   "cell_type": "code",
   "execution_count": 2,
   "id": "545da6b8-7aba-4b8c-b3a1-312e41292c3a",
   "metadata": {},
   "outputs": [],
   "source": [
    "# Abstraction is a process of creating a blueprint of methods and compiling it elsewhere so that we can hide the complex \n",
    "# implementation and just show the signature."
   ]
  },
  {
   "cell_type": "code",
   "execution_count": 10,
   "id": "5156eff6-6690-4729-abfd-9bcc62ed84cd",
   "metadata": {},
   "outputs": [],
   "source": [
    "## example"
   ]
  },
  {
   "cell_type": "code",
   "execution_count": 112,
   "id": "2dd26d7d-041d-4d84-b9d3-4de4f1a36b7c",
   "metadata": {},
   "outputs": [],
   "source": [
    "import abc\n",
    "from abc import ABC, abstractmethod\n",
    "\n",
    "class ATM():\n",
    "    @abc.abstractmethod\n",
    "    def bank_name():\n",
    "        pass\n",
    "    \n",
    "    @abc.abstractmethod\n",
    "    def set_pin():\n",
    "        pass\n",
    "    \n",
    "    @abc.abstractmethod\n",
    "    def show_balance():\n",
    "        pass\n",
    "    \n",
    "    @abc.abstractmethod\n",
    "    def withdrawal():\n",
    "        pass\n",
    "    \n",
    "    @abc.abstractmethod\n",
    "    def deposit():\n",
    "        pass\n",
    "    \n",
    "    @abc.abstractmethod\n",
    "    def change_pin():\n",
    "        pass\n"
   ]
  },
  {
   "cell_type": "code",
   "execution_count": 99,
   "id": "48f03eb5-679b-4095-aef8-3b112451ff3e",
   "metadata": {},
   "outputs": [],
   "source": [
    "    \n",
    "class bank_account(ATM):\n",
    "    \n",
    "    balance = 0\n",
    "    pin = 0\n",
    "    \n",
    "    def bank_name(self):\n",
    "        self.bank_name = \"ICICI\"\n",
    "        return self.bank_name\n",
    "        \n",
    "    def set_pin(self):\n",
    "        pin = int(input(\"enter pin\"))\n",
    "        if len(str(pin))!=4:\n",
    "            return \"PIN can only be 4 digits and cannot be 0000\"\n",
    "            return\n",
    "        #encaplsulation\n",
    "        self.__pin = pin\n",
    "        return \"new pin set\"\n",
    "        \n",
    "    def show_balance(self):\n",
    "        n= int(input(\"enter PIN\"))\n",
    "        if n != self.__pin:\n",
    "            print(\"wrong PIN\")\n",
    "            return\n",
    "        else : pass\n",
    "              \n",
    "        return self.balance\n",
    "    \n",
    "        \n",
    "    def deposit(self, amount):\n",
    "        self.amount=amount\n",
    "        n= int(input(\"enter PIN\"))\n",
    "\n",
    "        if n != self.__pin:\n",
    "            print(\"wrong PIN\")\n",
    "            return\n",
    "        else : pass\n",
    "        self.balance= self.balance+ amount\n",
    "        return self.balance\n",
    "        \n",
    "    def withdrawal(self , amount):\n",
    "        self.amount= amount\n",
    "        n= int(input(\"enter PIN\"))\n",
    "        if n != self.__pin:\n",
    "            print(\"wrong PIN\")\n",
    "            return\n",
    "        else : pass\n",
    "              \n",
    "        if self.balance >= amount :\n",
    "            self.balance = self.balance - amount\n",
    "            return self.balance          \n",
    "        else : \n",
    "            return \"Insufficient Balance\"\n",
    "        \n",
    "    def change_pin(self):\n",
    "        n=int(input(\"enter old pin\"))\n",
    "        if n != self.__pin:\n",
    "            return \"incorrect pin\"\n",
    "            return\n",
    "        else : newpin = int(input(\"enter new pin\"))\n",
    "        if len(str(newpin))!=4:\n",
    "            return \"PIN can only be 4 digits and cannot be 0000\"\n",
    "            return\n",
    "        self.__pin = newpin\n",
    "        return \"new pin set\"    \n",
    "\n",
    "bharath = bank_account()"
   ]
  },
  {
   "cell_type": "code",
   "execution_count": 101,
   "id": "bdf7b7ab-3669-41e0-9de0-2945bec4f0f5",
   "metadata": {},
   "outputs": [
    {
     "data": {
      "text/plain": [
       "'ICICI'"
      ]
     },
     "execution_count": 101,
     "metadata": {},
     "output_type": "execute_result"
    }
   ],
   "source": [
    "bharath.bank_name()"
   ]
  },
  {
   "cell_type": "code",
   "execution_count": 102,
   "id": "1eb343fa-3c80-49d9-ab86-0ffb384cdb3d",
   "metadata": {},
   "outputs": [
    {
     "name": "stdin",
     "output_type": "stream",
     "text": [
      "enter pin 1111\n"
     ]
    },
    {
     "data": {
      "text/plain": [
       "'new pin set'"
      ]
     },
     "execution_count": 102,
     "metadata": {},
     "output_type": "execute_result"
    }
   ],
   "source": [
    "bharath.set_pin()"
   ]
  },
  {
   "cell_type": "code",
   "execution_count": 104,
   "id": "286af594-abeb-42a9-889f-00f98047f688",
   "metadata": {},
   "outputs": [
    {
     "name": "stdin",
     "output_type": "stream",
     "text": [
      "enter PIN 1111\n"
     ]
    },
    {
     "data": {
      "text/plain": [
       "5000"
      ]
     },
     "execution_count": 104,
     "metadata": {},
     "output_type": "execute_result"
    }
   ],
   "source": [
    "bharath.deposit(5000)"
   ]
  },
  {
   "cell_type": "code",
   "execution_count": 106,
   "id": "e476fb2a-9586-4c91-8277-aa1d5d4db1b9",
   "metadata": {},
   "outputs": [
    {
     "name": "stdin",
     "output_type": "stream",
     "text": [
      "enter PIN 1111\n"
     ]
    },
    {
     "data": {
      "text/plain": [
       "4500"
      ]
     },
     "execution_count": 106,
     "metadata": {},
     "output_type": "execute_result"
    }
   ],
   "source": [
    "bharath.withdrawal(500)"
   ]
  },
  {
   "cell_type": "code",
   "execution_count": 107,
   "id": "9ee6f718-2bdc-41fd-9b91-f1bf1b55fd9e",
   "metadata": {},
   "outputs": [
    {
     "name": "stdin",
     "output_type": "stream",
     "text": [
      "enter PIN 1111\n"
     ]
    },
    {
     "data": {
      "text/plain": [
       "4500"
      ]
     },
     "execution_count": 107,
     "metadata": {},
     "output_type": "execute_result"
    }
   ],
   "source": [
    "bharath.show_balance()"
   ]
  },
  {
   "cell_type": "code",
   "execution_count": 108,
   "id": "381024c5-15ad-4ace-8218-74bee76326d1",
   "metadata": {},
   "outputs": [
    {
     "name": "stdin",
     "output_type": "stream",
     "text": [
      "enter old pin 1111\n",
      "enter new pin 1112\n"
     ]
    },
    {
     "data": {
      "text/plain": [
       "'new pin set'"
      ]
     },
     "execution_count": 108,
     "metadata": {},
     "output_type": "execute_result"
    }
   ],
   "source": [
    "bharath.change_pin()"
   ]
  },
  {
   "cell_type": "code",
   "execution_count": 109,
   "id": "da21e101-34df-421e-8fe6-b1bc247fd23a",
   "metadata": {},
   "outputs": [
    {
     "data": {
      "text/plain": [
       "0"
      ]
     },
     "execution_count": 109,
     "metadata": {},
     "output_type": "execute_result"
    }
   ],
   "source": [
    "bharath.pin"
   ]
  },
  {
   "cell_type": "code",
   "execution_count": 116,
   "id": "392109b9-b0a8-42c0-803f-935e940e124e",
   "metadata": {},
   "outputs": [
    {
     "data": {
      "text/plain": [
       "1112"
      ]
     },
     "execution_count": 116,
     "metadata": {},
     "output_type": "execute_result"
    }
   ],
   "source": [
    "bharath._bank_account__pin"
   ]
  },
  {
   "cell_type": "code",
   "execution_count": 114,
   "id": "0bf2984b-4cd3-45de-bcf6-e0197ec77bde",
   "metadata": {},
   "outputs": [],
   "source": [
    "##Q2. Differentiate between Abstraction and Encapsulation. Explain with an example.\n",
    "## abstraction is way of hiding unimportant data and complex implementation from the user and only showing the blueprint or the signature\n",
    "## encapsulation is hiding important data from the user by binding the data and the class into a sigle unit"
   ]
  },
  {
   "cell_type": "code",
   "execution_count": 115,
   "id": "91e09bc8-3fb4-4ac8-bc89-f470c5d3bde8",
   "metadata": {},
   "outputs": [
    {
     "data": {
      "text/plain": [
       "1112"
      ]
     },
     "execution_count": 115,
     "metadata": {},
     "output_type": "execute_result"
    }
   ],
   "source": [
    "## encapsulation\n",
    "bharath._bank_account__pin"
   ]
  },
  {
   "cell_type": "code",
   "execution_count": 117,
   "id": "bcc8b5d8-2864-4247-b067-fa95f2ea728e",
   "metadata": {},
   "outputs": [],
   "source": [
    "## Q3. What is abc module in python? Why is it used?\n",
    "\n",
    "## abc module is \"abstract base classes\" module and it is used to create abstract classes and abstract methods"
   ]
  },
  {
   "cell_type": "code",
   "execution_count": 118,
   "id": "523cb7c8-5642-4dbf-866d-23382eede764",
   "metadata": {},
   "outputs": [],
   "source": [
    "# Q4. How can we achieve data abstraction?\n",
    "\n",
    "# Through importing abc module and creating abstract classes and methods"
   ]
  },
  {
   "cell_type": "code",
   "execution_count": null,
   "id": "6f698152-afb2-4cac-b5eb-d4e8b29895e6",
   "metadata": {},
   "outputs": [],
   "source": [
    "## Q5. Can we create an instance of an abstract class? Explain your answer.\n",
    "\n",
    "## we cannot create an instance/object of an abstract class as the class and the methods in it are not defined. "
   ]
  }
 ],
 "metadata": {
  "kernelspec": {
   "display_name": "Python 3 (ipykernel)",
   "language": "python",
   "name": "python3"
  },
  "language_info": {
   "codemirror_mode": {
    "name": "ipython",
    "version": 3
   },
   "file_extension": ".py",
   "mimetype": "text/x-python",
   "name": "python",
   "nbconvert_exporter": "python",
   "pygments_lexer": "ipython3",
   "version": "3.10.8"
  }
 },
 "nbformat": 4,
 "nbformat_minor": 5
}
