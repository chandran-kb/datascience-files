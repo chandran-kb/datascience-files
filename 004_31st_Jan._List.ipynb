{
 "cells": [
  {
   "cell_type": "code",
   "execution_count": 2,
   "id": "df7fa2ae-a846-4150-822e-d0fda8388489",
   "metadata": {},
   "outputs": [],
   "source": [
    "l=[44, 636, 8, 7956 , \"bharath\", True, 54.5]"
   ]
  },
  {
   "cell_type": "code",
   "execution_count": 3,
   "id": "ea91a0f2-f31b-427c-b012-4bc81789ca76",
   "metadata": {},
   "outputs": [
    {
     "data": {
      "text/plain": [
       "[44, 636, 8, 7956, 'bharath', True, 54.5]"
      ]
     },
     "execution_count": 3,
     "metadata": {},
     "output_type": "execute_result"
    }
   ],
   "source": [
    "l"
   ]
  },
  {
   "cell_type": "code",
   "execution_count": 4,
   "id": "f1c17cc0-4e71-4ce4-a0bd-dfc90156e940",
   "metadata": {},
   "outputs": [
    {
     "data": {
      "text/plain": [
       "7"
      ]
     },
     "execution_count": 4,
     "metadata": {},
     "output_type": "execute_result"
    }
   ],
   "source": [
    "len(l)"
   ]
  },
  {
   "cell_type": "code",
   "execution_count": 5,
   "id": "ca5d06ed-8613-482c-af6b-0c6b0d82db59",
   "metadata": {},
   "outputs": [],
   "source": [
    "## indexing and slicing and reversing of strings works same in List as well\n"
   ]
  },
  {
   "cell_type": "code",
   "execution_count": 6,
   "id": "0af05803-3d98-4559-903c-2a5a28de6c96",
   "metadata": {},
   "outputs": [
    {
     "data": {
      "text/plain": [
       "'bharath'"
      ]
     },
     "execution_count": 6,
     "metadata": {},
     "output_type": "execute_result"
    }
   ],
   "source": [
    "##indexing\n",
    "l[4] "
   ]
  },
  {
   "cell_type": "code",
   "execution_count": 7,
   "id": "1618c891-ff46-4e4c-ac16-b5d9b24a804d",
   "metadata": {},
   "outputs": [
    {
     "data": {
      "text/plain": [
       "54.5"
      ]
     },
     "execution_count": 7,
     "metadata": {},
     "output_type": "execute_result"
    }
   ],
   "source": [
    "#negative indexing \n",
    "l[-1]"
   ]
  },
  {
   "cell_type": "code",
   "execution_count": 8,
   "id": "4d372943-5794-4c16-beaf-79304d467fee",
   "metadata": {},
   "outputs": [
    {
     "data": {
      "text/plain": [
       "[44, 636, 8, 7956, 'bharath']"
      ]
     },
     "execution_count": 8,
     "metadata": {},
     "output_type": "execute_result"
    }
   ],
   "source": [
    "#slicing\n",
    "l[0:5] "
   ]
  },
  {
   "cell_type": "code",
   "execution_count": 9,
   "id": "1a8d5187-c0f3-4468-bdf6-298744b2a1ae",
   "metadata": {},
   "outputs": [
    {
     "data": {
      "text/plain": [
       "[54.5, True, 'bharath', 7956]"
      ]
     },
     "execution_count": 9,
     "metadata": {},
     "output_type": "execute_result"
    }
   ],
   "source": [
    "#negative slicing\n",
    "l[-1:-5:-1]"
   ]
  },
  {
   "cell_type": "code",
   "execution_count": 10,
   "id": "4a6b2141-3716-4cad-8e87-72c0b1def947",
   "metadata": {},
   "outputs": [
    {
     "data": {
      "text/plain": [
       "[44, 8, 'bharath', 54.5]"
      ]
     },
     "execution_count": 10,
     "metadata": {},
     "output_type": "execute_result"
    }
   ],
   "source": [
    "##slicing using jump\n",
    "l[::2]"
   ]
  },
  {
   "cell_type": "code",
   "execution_count": 11,
   "id": "0d67de93-5433-4285-b26f-94eb0e4aa42c",
   "metadata": {},
   "outputs": [
    {
     "data": {
      "text/plain": [
       "'bh'"
      ]
     },
     "execution_count": 11,
     "metadata": {},
     "output_type": "execute_result"
    }
   ],
   "source": [
    "## slicing a string inside the list\n",
    "l[4][0:2]"
   ]
  },
  {
   "cell_type": "code",
   "execution_count": 12,
   "id": "607fb9f4-7d99-4e81-a5d5-bdd91854df1c",
   "metadata": {},
   "outputs": [
    {
     "data": {
      "text/plain": [
       "[54.5, True, 'bharath', 7956, 8, 636, 44]"
      ]
     },
     "execution_count": 12,
     "metadata": {},
     "output_type": "execute_result"
    }
   ],
   "source": [
    "#reversing\n",
    "l[::-1]"
   ]
  },
  {
   "cell_type": "code",
   "execution_count": 13,
   "id": "a6c11f75-ec53-40ca-bbd9-cb5f1c63d370",
   "metadata": {},
   "outputs": [
    {
     "data": {
      "text/plain": [
       "[54.5, True, 'bharath', 7956, 8, 636, 44]"
      ]
     },
     "execution_count": 13,
     "metadata": {},
     "output_type": "execute_result"
    }
   ],
   "source": [
    "#reversing using alternate method\n",
    "l[-1:-len(l)-1:-1]"
   ]
  },
  {
   "cell_type": "code",
   "execution_count": 14,
   "id": "181acd29-79c5-4d38-bb22-1a5271494105",
   "metadata": {},
   "outputs": [
    {
     "data": {
      "text/plain": [
       "[44, 636, 8, 7956, 'bharath', True, 54.5]"
      ]
     },
     "execution_count": 14,
     "metadata": {},
     "output_type": "execute_result"
    }
   ],
   "source": [
    "l"
   ]
  },
  {
   "cell_type": "code",
   "execution_count": 15,
   "id": "042f56cb-3c8b-449c-91e4-9eeea291cf28",
   "metadata": {},
   "outputs": [],
   "source": [
    "## concatenation works when you have 2 lists. otherwise it wont work\n",
    "## append and insert also has similar functionality but it updates the list unlike concatenation \n",
    "### append adds the data at the end, insert adds the data based on index"
   ]
  },
  {
   "cell_type": "code",
   "execution_count": 16,
   "id": "4d8bbf3b-0409-480e-a54d-189119736ca2",
   "metadata": {},
   "outputs": [],
   "source": [
    "### similary pop and remove are used to delete the data\n",
    "### pop deletes the data based on index (bydefault it takes the last index) and remove deletes the data which is entered"
   ]
  },
  {
   "cell_type": "code",
   "execution_count": 17,
   "id": "ad74178a-55ae-4947-b874-80ebd5dae6e5",
   "metadata": {},
   "outputs": [
    {
     "data": {
      "text/plain": [
       "[44, 636, 8, 7956, 'bharath', True, 54.5, 5]"
      ]
     },
     "execution_count": 17,
     "metadata": {},
     "output_type": "execute_result"
    }
   ],
   "source": [
    "l+[5]"
   ]
  },
  {
   "cell_type": "code",
   "execution_count": 18,
   "id": "df64ef71-9396-4781-8a9a-da6d7e1e4672",
   "metadata": {},
   "outputs": [
    {
     "data": {
      "text/plain": [
       "[44, 636, 8, 7956, 'bharath', True, 54.5, 3]"
      ]
     },
     "execution_count": 18,
     "metadata": {},
     "output_type": "execute_result"
    }
   ],
   "source": [
    "s=[3]\n",
    "l+s"
   ]
  },
  {
   "cell_type": "code",
   "execution_count": 19,
   "id": "663c53f9-5409-441c-bd27-dfb810bd0c4c",
   "metadata": {},
   "outputs": [
    {
     "data": {
      "text/plain": [
       "[44, 636, 8, 7956, 'bharath', True, 54.5]"
      ]
     },
     "execution_count": 19,
     "metadata": {},
     "output_type": "execute_result"
    }
   ],
   "source": [
    "l"
   ]
  },
  {
   "cell_type": "code",
   "execution_count": 20,
   "id": "fd6ccad9-e8a0-4327-94ab-c2809186fa5b",
   "metadata": {},
   "outputs": [],
   "source": [
    "l.append(False)"
   ]
  },
  {
   "cell_type": "code",
   "execution_count": 21,
   "id": "617f8b01-e2ea-47fb-be35-125720114460",
   "metadata": {},
   "outputs": [
    {
     "data": {
      "text/plain": [
       "[44, 636, 8, 7956, 'bharath', True, 54.5, False]"
      ]
     },
     "execution_count": 21,
     "metadata": {},
     "output_type": "execute_result"
    }
   ],
   "source": [
    "l"
   ]
  },
  {
   "cell_type": "code",
   "execution_count": 22,
   "id": "b2e47aa8-7a4b-466d-92ad-1a7d712f25b5",
   "metadata": {},
   "outputs": [],
   "source": [
    "l.append(\"whysds\")"
   ]
  },
  {
   "cell_type": "code",
   "execution_count": 23,
   "id": "565885ad-c810-4384-b811-dd21b9825ef0",
   "metadata": {},
   "outputs": [
    {
     "data": {
      "text/plain": [
       "[44, 636, 8, 7956, 'bharath', True, 54.5, False, 'whysds']"
      ]
     },
     "execution_count": 23,
     "metadata": {},
     "output_type": "execute_result"
    }
   ],
   "source": [
    "l"
   ]
  },
  {
   "cell_type": "code",
   "execution_count": 24,
   "id": "b6a4a081-6d56-44c7-b3c8-e8a1c6333408",
   "metadata": {},
   "outputs": [],
   "source": [
    "l.insert(5,\"akshay\")"
   ]
  },
  {
   "cell_type": "code",
   "execution_count": 25,
   "id": "3cd66125-8102-483a-9470-f79f67f0e043",
   "metadata": {},
   "outputs": [
    {
     "data": {
      "text/plain": [
       "[44, 636, 8, 7956, 'bharath', 'akshay', True, 54.5, False, 'whysds']"
      ]
     },
     "execution_count": 25,
     "metadata": {},
     "output_type": "execute_result"
    }
   ],
   "source": [
    "l"
   ]
  },
  {
   "cell_type": "code",
   "execution_count": 26,
   "id": "f2dff39e-2143-4738-8126-e51afd856bdd",
   "metadata": {},
   "outputs": [
    {
     "data": {
      "text/plain": [
       "'whysds'"
      ]
     },
     "execution_count": 26,
     "metadata": {},
     "output_type": "execute_result"
    }
   ],
   "source": [
    "l.pop()"
   ]
  },
  {
   "cell_type": "code",
   "execution_count": 27,
   "id": "7f9faabb-992c-46bd-94f8-72f4822dd29e",
   "metadata": {},
   "outputs": [
    {
     "data": {
      "text/plain": [
       "[44, 636, 8, 7956, 'bharath', 'akshay', True, 54.5, False]"
      ]
     },
     "execution_count": 27,
     "metadata": {},
     "output_type": "execute_result"
    }
   ],
   "source": [
    "l"
   ]
  },
  {
   "cell_type": "code",
   "execution_count": 28,
   "id": "ff016659-433d-4f53-86b2-899192c0d611",
   "metadata": {},
   "outputs": [],
   "source": [
    "l.remove(False)"
   ]
  },
  {
   "cell_type": "code",
   "execution_count": 29,
   "id": "00fdfac0-44e2-4773-b8af-6d6866d89bd0",
   "metadata": {},
   "outputs": [
    {
     "data": {
      "text/plain": [
       "[44, 636, 8, 7956, 'bharath', 'akshay', True, 54.5]"
      ]
     },
     "execution_count": 29,
     "metadata": {},
     "output_type": "execute_result"
    }
   ],
   "source": [
    "l"
   ]
  },
  {
   "cell_type": "code",
   "execution_count": 30,
   "id": "932d41b6-8080-46bf-9c94-f9f2d69b952f",
   "metadata": {},
   "outputs": [],
   "source": [
    "## extend is a function whcih splits the string and then adds it to the list\n",
    "## extend only takes iterable data (data which can be further broken data or unwraped)"
   ]
  },
  {
   "cell_type": "code",
   "execution_count": 31,
   "id": "5453a9b7-96c6-4295-8f30-038910c9ab95",
   "metadata": {},
   "outputs": [],
   "source": [
    "l.extend(\"bh\")"
   ]
  },
  {
   "cell_type": "code",
   "execution_count": 32,
   "id": "f95c5f23-1e88-4704-a938-d455ba970020",
   "metadata": {},
   "outputs": [
    {
     "data": {
      "text/plain": [
       "[44, 636, 8, 7956, 'bharath', 'akshay', True, 54.5, 'b', 'h']"
      ]
     },
     "execution_count": 32,
     "metadata": {},
     "output_type": "execute_result"
    }
   ],
   "source": [
    "l"
   ]
  },
  {
   "cell_type": "code",
   "execution_count": 33,
   "id": "82531433-2103-4055-b008-b190ec98332b",
   "metadata": {},
   "outputs": [],
   "source": [
    "## list within list"
   ]
  },
  {
   "cell_type": "code",
   "execution_count": 34,
   "id": "af7b878d-e5df-4663-9bca-d57017a54580",
   "metadata": {},
   "outputs": [],
   "source": [
    "l.insert(4,[1,2,\"bharath\"])"
   ]
  },
  {
   "cell_type": "code",
   "execution_count": 35,
   "id": "941cfad8-3145-4b93-bef7-ecb7bd2a737b",
   "metadata": {},
   "outputs": [
    {
     "data": {
      "text/plain": [
       "[44,\n",
       " 636,\n",
       " 8,\n",
       " 7956,\n",
       " [1, 2, 'bharath'],\n",
       " 'bharath',\n",
       " 'akshay',\n",
       " True,\n",
       " 54.5,\n",
       " 'b',\n",
       " 'h']"
      ]
     },
     "execution_count": 35,
     "metadata": {},
     "output_type": "execute_result"
    }
   ],
   "source": [
    "l"
   ]
  },
  {
   "cell_type": "code",
   "execution_count": 36,
   "id": "830c9d9e-9ee3-4920-b0ee-3b9867376c98",
   "metadata": {},
   "outputs": [],
   "source": [
    "l.insert(-1,[888,586])"
   ]
  },
  {
   "cell_type": "code",
   "execution_count": 37,
   "id": "61adbb00-df32-4e37-b17b-98b8ffc65839",
   "metadata": {},
   "outputs": [
    {
     "data": {
      "text/plain": [
       "[44,\n",
       " 636,\n",
       " 8,\n",
       " 7956,\n",
       " [1, 2, 'bharath'],\n",
       " 'bharath',\n",
       " 'akshay',\n",
       " True,\n",
       " 54.5,\n",
       " 'b',\n",
       " [888, 586],\n",
       " 'h']"
      ]
     },
     "execution_count": 37,
     "metadata": {},
     "output_type": "execute_result"
    }
   ],
   "source": [
    "l"
   ]
  },
  {
   "cell_type": "code",
   "execution_count": 38,
   "id": "ed3bd2b5-a539-4152-81d5-882e178f7627",
   "metadata": {},
   "outputs": [
    {
     "data": {
      "text/plain": [
       "1"
      ]
     },
     "execution_count": 38,
     "metadata": {},
     "output_type": "execute_result"
    }
   ],
   "source": [
    "###removing data within the list of list\n",
    "l[4].pop(0)"
   ]
  },
  {
   "cell_type": "code",
   "execution_count": 39,
   "id": "92588f28-19b7-4a35-aee6-483d1bc56b6d",
   "metadata": {},
   "outputs": [
    {
     "data": {
      "text/plain": [
       "[44,\n",
       " 636,\n",
       " 8,\n",
       " 7956,\n",
       " [2, 'bharath'],\n",
       " 'bharath',\n",
       " 'akshay',\n",
       " True,\n",
       " 54.5,\n",
       " 'b',\n",
       " [888, 586],\n",
       " 'h']"
      ]
     },
     "execution_count": 39,
     "metadata": {},
     "output_type": "execute_result"
    }
   ],
   "source": [
    "l"
   ]
  },
  {
   "cell_type": "code",
   "execution_count": 42,
   "id": "a5dec460-ee21-4b15-a394-4f25cac87d06",
   "metadata": {},
   "outputs": [
    {
     "data": {
      "text/plain": [
       "'r'"
      ]
     },
     "execution_count": 42,
     "metadata": {},
     "output_type": "execute_result"
    }
   ],
   "source": [
    "##indexing data within the list of list\n",
    "l[4][1][3]"
   ]
  },
  {
   "cell_type": "code",
   "execution_count": 43,
   "id": "e0be6021-10c4-4246-8c30-9a85d19b4e3d",
   "metadata": {},
   "outputs": [
    {
     "data": {
      "text/plain": [
       "'rYYYYYYYY'"
      ]
     },
     "execution_count": 43,
     "metadata": {},
     "output_type": "execute_result"
    }
   ],
   "source": [
    "l[4][1][3]+\"YYYYYYYY\""
   ]
  },
  {
   "cell_type": "code",
   "execution_count": 41,
   "id": "53a7c5b3-4480-45ba-a59d-63dc7bba0b34",
   "metadata": {},
   "outputs": [
    {
     "data": {
      "text/plain": [
       "[44,\n",
       " 636,\n",
       " 8,\n",
       " 7956,\n",
       " [2, 'bharath'],\n",
       " 'bharath',\n",
       " 'akshay',\n",
       " True,\n",
       " 54.5,\n",
       " 'b',\n",
       " [888, 586],\n",
       " 'h']"
      ]
     },
     "execution_count": 41,
     "metadata": {},
     "output_type": "execute_result"
    }
   ],
   "source": [
    "l"
   ]
  },
  {
   "cell_type": "code",
   "execution_count": 44,
   "id": "094fbf72-b89d-4589-996b-b7a6641bd39a",
   "metadata": {},
   "outputs": [],
   "source": [
    "##list also has a reversing function.\n",
    "l.reverse()"
   ]
  },
  {
   "cell_type": "code",
   "execution_count": 45,
   "id": "6c2eeb6b-f89b-4dcb-8366-2abe573b3cf1",
   "metadata": {},
   "outputs": [
    {
     "data": {
      "text/plain": [
       "['h',\n",
       " [888, 586],\n",
       " 'b',\n",
       " 54.5,\n",
       " True,\n",
       " 'akshay',\n",
       " 'bharath',\n",
       " [2, 'bharath'],\n",
       " 7956,\n",
       " 8,\n",
       " 636,\n",
       " 44]"
      ]
     },
     "execution_count": 45,
     "metadata": {},
     "output_type": "execute_result"
    }
   ],
   "source": [
    "l"
   ]
  },
  {
   "cell_type": "code",
   "execution_count": 46,
   "id": "608e095d-025d-4c65-8066-95fe37c99044",
   "metadata": {},
   "outputs": [],
   "source": [
    "##reversing a list inside list\n",
    "l[1].reverse()"
   ]
  },
  {
   "cell_type": "code",
   "execution_count": 47,
   "id": "10e95515-d456-4f57-9f8e-4256a0d015ab",
   "metadata": {},
   "outputs": [
    {
     "data": {
      "text/plain": [
       "['h',\n",
       " [586, 888],\n",
       " 'b',\n",
       " 54.5,\n",
       " True,\n",
       " 'akshay',\n",
       " 'bharath',\n",
       " [2, 'bharath'],\n",
       " 7956,\n",
       " 8,\n",
       " 636,\n",
       " 44]"
      ]
     },
     "execution_count": 47,
     "metadata": {},
     "output_type": "execute_result"
    }
   ],
   "source": [
    "l"
   ]
  },
  {
   "cell_type": "code",
   "execution_count": 48,
   "id": "10c2bcf7-a790-4188-814a-fa4be2d06ce4",
   "metadata": {},
   "outputs": [],
   "source": [
    "##sorting inside a list"
   ]
  },
  {
   "cell_type": "code",
   "execution_count": 49,
   "id": "8a5fd5aa-0fdc-4d89-9b47-9482e06da781",
   "metadata": {},
   "outputs": [
    {
     "ename": "TypeError",
     "evalue": "'<' not supported between instances of 'list' and 'str'",
     "output_type": "error",
     "traceback": [
      "\u001b[0;31m---------------------------------------------------------------------------\u001b[0m",
      "\u001b[0;31mTypeError\u001b[0m                                 Traceback (most recent call last)",
      "Cell \u001b[0;32mIn[49], line 1\u001b[0m\n\u001b[0;32m----> 1\u001b[0m \u001b[43ml\u001b[49m\u001b[38;5;241;43m.\u001b[39;49m\u001b[43msort\u001b[49m\u001b[43m(\u001b[49m\u001b[43m)\u001b[49m\n",
      "\u001b[0;31mTypeError\u001b[0m: '<' not supported between instances of 'list' and 'str'"
     ]
    }
   ],
   "source": [
    "l.sort()"
   ]
  },
  {
   "cell_type": "code",
   "execution_count": 50,
   "id": "418c34a8-af12-4b5e-9130-8e00ec6f90b9",
   "metadata": {},
   "outputs": [],
   "source": [
    "l1=[5,34,6,4,6]"
   ]
  },
  {
   "cell_type": "code",
   "execution_count": 51,
   "id": "7a14bcb2-09da-46ec-86b3-d15b88992b65",
   "metadata": {},
   "outputs": [],
   "source": [
    "l1.sort()"
   ]
  },
  {
   "cell_type": "code",
   "execution_count": 52,
   "id": "0d2dd341-aa29-45cc-8c3c-77a7a4e38ed1",
   "metadata": {},
   "outputs": [
    {
     "data": {
      "text/plain": [
       "[4, 5, 6, 6, 34]"
      ]
     },
     "execution_count": 52,
     "metadata": {},
     "output_type": "execute_result"
    }
   ],
   "source": [
    "l1"
   ]
  },
  {
   "cell_type": "code",
   "execution_count": 53,
   "id": "8759f6d3-69cb-425c-a760-e6c5091374d2",
   "metadata": {},
   "outputs": [],
   "source": [
    "l2=[\"bharath\",\"akshay\",\"uday\"]"
   ]
  },
  {
   "cell_type": "code",
   "execution_count": 54,
   "id": "3bde77f8-5d48-4081-b7d9-5a79e7f08026",
   "metadata": {},
   "outputs": [],
   "source": [
    "l2.sort()"
   ]
  },
  {
   "cell_type": "code",
   "execution_count": 55,
   "id": "8e0e1e8c-1436-4984-8c7c-cc036539cd33",
   "metadata": {},
   "outputs": [
    {
     "data": {
      "text/plain": [
       "['akshay', 'bharath', 'uday']"
      ]
     },
     "execution_count": 55,
     "metadata": {},
     "output_type": "execute_result"
    }
   ],
   "source": [
    "l2"
   ]
  },
  {
   "cell_type": "code",
   "execution_count": 56,
   "id": "442831bd-2c65-4a8b-a832-e8e51d9db423",
   "metadata": {},
   "outputs": [],
   "source": [
    "l2[1]=\"Bharath\""
   ]
  },
  {
   "cell_type": "code",
   "execution_count": 57,
   "id": "76f0c4d4-91a2-41f7-9e48-077fe7bdfddb",
   "metadata": {},
   "outputs": [
    {
     "data": {
      "text/plain": [
       "['akshay', 'Bharath', 'uday']"
      ]
     },
     "execution_count": 57,
     "metadata": {},
     "output_type": "execute_result"
    }
   ],
   "source": [
    "l2"
   ]
  },
  {
   "cell_type": "code",
   "execution_count": 59,
   "id": "9d187ceb-5a1a-4dcf-a8d3-52e29c17c5b9",
   "metadata": {},
   "outputs": [],
   "source": [
    "## list is mutable, which means the data at a particular index can be changed\n",
    "## "
   ]
  },
  {
   "cell_type": "code",
   "execution_count": null,
   "id": "1cec9e3a-268a-497e-bd1a-553f20ef0a29",
   "metadata": {},
   "outputs": [],
   "source": []
  }
 ],
 "metadata": {
  "kernelspec": {
   "display_name": "Python 3 (ipykernel)",
   "language": "python",
   "name": "python3"
  },
  "language_info": {
   "codemirror_mode": {
    "name": "ipython",
    "version": 3
   },
   "file_extension": ".py",
   "mimetype": "text/x-python",
   "name": "python",
   "nbconvert_exporter": "python",
   "pygments_lexer": "ipython3",
   "version": "3.10.8"
  }
 },
 "nbformat": 4,
 "nbformat_minor": 5
}
