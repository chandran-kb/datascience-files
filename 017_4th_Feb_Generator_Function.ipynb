{
 "cells": [
  {
   "cell_type": "code",
   "execution_count": 7,
   "id": "3c4ed713-53ab-4416-a6e6-8713c3bc327a",
   "metadata": {},
   "outputs": [],
   "source": [
    "### generator function yeilds or generates data/result without showing the result one by one"
   ]
  },
  {
   "cell_type": "code",
   "execution_count": 8,
   "id": "f59c8983-2f0f-44dd-ab8f-32d6f85a4d10",
   "metadata": {},
   "outputs": [],
   "source": [
    "def test_fib(n):\n",
    "    a,b=0,1\n",
    "    for i in range(1,n+1):\n",
    "        yield (a)\n",
    "        a,b = b,a+b"
   ]
  },
  {
   "cell_type": "code",
   "execution_count": 9,
   "id": "85a7fe79-de0b-4de2-b2cd-c266c7d79ce8",
   "metadata": {},
   "outputs": [
    {
     "data": {
      "text/plain": [
       "<generator object test_fib at 0x7f156c14f060>"
      ]
     },
     "execution_count": 9,
     "metadata": {},
     "output_type": "execute_result"
    }
   ],
   "source": [
    "test_fib(11)"
   ]
  },
  {
   "cell_type": "code",
   "execution_count": 10,
   "id": "b2b131bd-ac89-453d-ab2f-aa9c3530a000",
   "metadata": {},
   "outputs": [
    {
     "data": {
      "text/plain": [
       "[0, 1, 1, 2, 3, 5, 8, 13, 21, 34]"
      ]
     },
     "execution_count": 10,
     "metadata": {},
     "output_type": "execute_result"
    }
   ],
   "source": [
    "list(test_fib(10))"
   ]
  },
  {
   "cell_type": "code",
   "execution_count": 11,
   "id": "08a37b96-c2b7-4931-9380-bda12da1b12a",
   "metadata": {},
   "outputs": [
    {
     "name": "stdout",
     "output_type": "stream",
     "text": [
      "0\n",
      "1\n",
      "1\n",
      "2\n",
      "3\n",
      "5\n",
      "8\n",
      "13\n",
      "21\n",
      "34\n"
     ]
    }
   ],
   "source": [
    "for i in test_fib(10):\n",
    "    print(i)"
   ]
  },
  {
   "cell_type": "code",
   "execution_count": 12,
   "id": "4a50d869-5965-4b06-8742-091082efdb35",
   "metadata": {},
   "outputs": [],
   "source": [
    "def test_fib(n):\n",
    "    a,b=0,1\n",
    "    for i in range(1,n+1):\n",
    "        print (a)\n",
    "        a,b = b,a+b"
   ]
  },
  {
   "cell_type": "code",
   "execution_count": 13,
   "id": "31b7da41-a69c-42f2-8b2d-d5061baaeee1",
   "metadata": {},
   "outputs": [
    {
     "name": "stdout",
     "output_type": "stream",
     "text": [
      "0\n",
      "1\n",
      "1\n",
      "2\n",
      "3\n",
      "5\n",
      "8\n",
      "13\n",
      "21\n",
      "34\n"
     ]
    }
   ],
   "source": [
    "test_fib(10)"
   ]
  },
  {
   "cell_type": "code",
   "execution_count": 1,
   "id": "f708e0a3-3e2a-4986-bdfd-fa0020be66a6",
   "metadata": {},
   "outputs": [],
   "source": [
    "def test_fib(n):\n",
    "    a,b=0,1\n",
    "    for i in range(1,n+1):\n",
    "        return a\n",
    "        a,b = b,a+b\n",
    "    "
   ]
  },
  {
   "cell_type": "code",
   "execution_count": 2,
   "id": "f370d8c1-76e0-41a0-9020-e56eeb8af8b1",
   "metadata": {},
   "outputs": [
    {
     "data": {
      "text/plain": [
       "0"
      ]
     },
     "execution_count": 2,
     "metadata": {},
     "output_type": "execute_result"
    }
   ],
   "source": [
    "test_fib(10)"
   ]
  },
  {
   "cell_type": "code",
   "execution_count": 16,
   "id": "76c5ae93-0510-4e71-9b21-eb653483eb0b",
   "metadata": {},
   "outputs": [],
   "source": [
    "def test_fib1(n):\n",
    "    a,b=0,1\n",
    "    counter=1\n",
    "    while counter<=n:\n",
    "        yield (a)\n",
    "        a,b = b,a+b\n",
    "        counter=counter+1"
   ]
  },
  {
   "cell_type": "code",
   "execution_count": 17,
   "id": "6e5dd128-89c5-4a53-b88b-c82b0e1741dc",
   "metadata": {},
   "outputs": [
    {
     "data": {
      "text/plain": [
       "[0, 1, 1, 2, 3, 5, 8, 13, 21, 34]"
      ]
     },
     "execution_count": 17,
     "metadata": {},
     "output_type": "execute_result"
    }
   ],
   "source": [
    "list(test_fib1(10))"
   ]
  },
  {
   "cell_type": "code",
   "execution_count": 4,
   "id": "3c076f6e-3b18-4d8f-8cf9-ba3b9e0e9a10",
   "metadata": {},
   "outputs": [],
   "source": [
    "## alternate way using next function\n",
    "def test_fib2():\n",
    "    a,b=0,1\n",
    "    while True:\n",
    "        yield (a)\n",
    "        a,b = b,a+b"
   ]
  },
  {
   "cell_type": "code",
   "execution_count": 5,
   "id": "c8c64669-8242-4554-bf24-f73586fcfef7",
   "metadata": {},
   "outputs": [],
   "source": [
    "l=test_fib2()"
   ]
  },
  {
   "cell_type": "code",
   "execution_count": 6,
   "id": "190a0eb5-3284-4276-a783-897318f9b704",
   "metadata": {},
   "outputs": [
    {
     "name": "stdout",
     "output_type": "stream",
     "text": [
      "0\n",
      "1\n",
      "1\n",
      "2\n",
      "3\n",
      "5\n",
      "8\n",
      "13\n",
      "21\n",
      "34\n"
     ]
    }
   ],
   "source": [
    "for i in range(10):\n",
    "    print(next(l))"
   ]
  },
  {
   "cell_type": "code",
   "execution_count": 21,
   "id": "cc110864-c3e8-46fd-92f6-f9f784ca68d5",
   "metadata": {},
   "outputs": [
    {
     "name": "stdout",
     "output_type": "stream",
     "text": [
      "b\n",
      "h\n",
      "a\n",
      "r\n",
      "a\n",
      "t\n",
      "h\n"
     ]
    }
   ],
   "source": [
    "## next function is used to get the next result in an iterator\n",
    "## example of how next function works inside a for loop\n",
    "s=\"bharath\"\n",
    "for i in s:\n",
    "    print(i)"
   ]
  },
  {
   "cell_type": "code",
   "execution_count": 22,
   "id": "0ca3e4df-09eb-4688-9f11-af2eef7399f3",
   "metadata": {},
   "outputs": [
    {
     "data": {
      "text/plain": [
       "'bharath'"
      ]
     },
     "execution_count": 22,
     "metadata": {},
     "output_type": "execute_result"
    }
   ],
   "source": [
    "s"
   ]
  },
  {
   "cell_type": "code",
   "execution_count": 23,
   "id": "ffe75efd-e246-4eb3-afb8-6301339dd05c",
   "metadata": {},
   "outputs": [
    {
     "ename": "TypeError",
     "evalue": "'str' object is not an iterator",
     "output_type": "error",
     "traceback": [
      "\u001b[0;31m---------------------------------------------------------------------------\u001b[0m",
      "\u001b[0;31mTypeError\u001b[0m                                 Traceback (most recent call last)",
      "Cell \u001b[0;32mIn[23], line 1\u001b[0m\n\u001b[0;32m----> 1\u001b[0m \u001b[38;5;28;43mnext\u001b[39;49m\u001b[43m(\u001b[49m\u001b[43ms\u001b[49m\u001b[43m)\u001b[49m\n",
      "\u001b[0;31mTypeError\u001b[0m: 'str' object is not an iterator"
     ]
    }
   ],
   "source": [
    "next(s)"
   ]
  },
  {
   "cell_type": "code",
   "execution_count": 25,
   "id": "cd145691-ee25-4781-a663-1c6bb07738bb",
   "metadata": {},
   "outputs": [],
   "source": [
    "#next function works only on iterator. hence converting s to an iterator\n",
    "s1=iter(s)"
   ]
  },
  {
   "cell_type": "code",
   "execution_count": 26,
   "id": "d98715e9-1425-4cff-b717-843aee998177",
   "metadata": {},
   "outputs": [
    {
     "data": {
      "text/plain": [
       "<str_iterator at 0x7f155c761ab0>"
      ]
     },
     "execution_count": 26,
     "metadata": {},
     "output_type": "execute_result"
    }
   ],
   "source": [
    "s1"
   ]
  },
  {
   "cell_type": "code",
   "execution_count": 27,
   "id": "2d768c26-517f-4207-9d9f-bac296a17ee9",
   "metadata": {},
   "outputs": [
    {
     "data": {
      "text/plain": [
       "'b'"
      ]
     },
     "execution_count": 27,
     "metadata": {},
     "output_type": "execute_result"
    }
   ],
   "source": [
    "next(s1)"
   ]
  },
  {
   "cell_type": "code",
   "execution_count": 28,
   "id": "13842e17-9294-4c24-8d15-f9050d6436d4",
   "metadata": {},
   "outputs": [
    {
     "data": {
      "text/plain": [
       "'h'"
      ]
     },
     "execution_count": 28,
     "metadata": {},
     "output_type": "execute_result"
    }
   ],
   "source": [
    "next(s1)"
   ]
  },
  {
   "cell_type": "code",
   "execution_count": 29,
   "id": "9c048739-17b0-402b-b28e-5af9b4a74fd7",
   "metadata": {},
   "outputs": [
    {
     "data": {
      "text/plain": [
       "'a'"
      ]
     },
     "execution_count": 29,
     "metadata": {},
     "output_type": "execute_result"
    }
   ],
   "source": [
    "next(s1)"
   ]
  },
  {
   "cell_type": "code",
   "execution_count": 30,
   "id": "0e44845b-af79-497b-a40c-5672ae8936d9",
   "metadata": {},
   "outputs": [
    {
     "data": {
      "text/plain": [
       "'r'"
      ]
     },
     "execution_count": 30,
     "metadata": {},
     "output_type": "execute_result"
    }
   ],
   "source": [
    "next(s1)"
   ]
  },
  {
   "cell_type": "code",
   "execution_count": 31,
   "id": "bf2a756a-83b5-4ce0-8e2f-c8b2b32439fb",
   "metadata": {},
   "outputs": [
    {
     "data": {
      "text/plain": [
       "'a'"
      ]
     },
     "execution_count": 31,
     "metadata": {},
     "output_type": "execute_result"
    }
   ],
   "source": [
    "next(s1)"
   ]
  },
  {
   "cell_type": "code",
   "execution_count": 1,
   "id": "577debb5-434d-47fe-a030-0890c585456a",
   "metadata": {},
   "outputs": [],
   "source": [
    "def count_fun():\n",
    "    count=0\n",
    "    while True:\n",
    "        yield count\n",
    "        count=count+1"
   ]
  },
  {
   "cell_type": "code",
   "execution_count": 4,
   "id": "1089ff2a-d097-4ddc-a6f8-8929eea48b68",
   "metadata": {},
   "outputs": [],
   "source": [
    "c=count_fun()"
   ]
  },
  {
   "cell_type": "code",
   "execution_count": 5,
   "id": "8954636f-fc5b-42e9-b341-b7dae5923380",
   "metadata": {},
   "outputs": [
    {
     "name": "stdout",
     "output_type": "stream",
     "text": [
      "0\n",
      "1\n",
      "2\n",
      "3\n",
      "4\n"
     ]
    }
   ],
   "source": [
    "for i in range(5):\n",
    "    print(next(c))"
   ]
  },
  {
   "cell_type": "code",
   "execution_count": 10,
   "id": "50fee6c2-ef65-4e8f-9028-dbf890e419d5",
   "metadata": {},
   "outputs": [
    {
     "name": "stdout",
     "output_type": "stream",
     "text": [
      "0\n",
      "1\n",
      "2\n",
      "3\n",
      "4\n"
     ]
    }
   ],
   "source": [
    "\n",
    "def count_fun(n):\n",
    "    count=0\n",
    "    while count<n:\n",
    "        yield count\n",
    "        count=count+1\n",
    "c=count_fun(5)\n",
    "for i in c:\n",
    "    print(i)\n"
   ]
  },
  {
   "cell_type": "code",
   "execution_count": 2,
   "id": "ebed4665-957b-4089-8631-d0144bafdbff",
   "metadata": {},
   "outputs": [
    {
     "name": "stdout",
     "output_type": "stream",
     "text": [
      "0\n",
      "1\n",
      "2\n",
      "3\n",
      "4\n"
     ]
    }
   ],
   "source": [
    "\n",
    "def count_fun():\n",
    "    count=0\n",
    "    while True:\n",
    "        yield count\n",
    "        count=count+1\n",
    "c=count_fun()\n",
    "for i in range(5):\n",
    "    print(next(c))\n"
   ]
  },
  {
   "cell_type": "code",
   "execution_count": 1,
   "id": "25f825e8-b43f-4df9-91bc-4e85f0290af6",
   "metadata": {},
   "outputs": [
    {
     "name": "stdout",
     "output_type": "stream",
     "text": [
      "0\n",
      "1\n",
      "1\n",
      "2\n",
      "3\n",
      "5\n",
      "8\n",
      "13\n",
      "21\n",
      "34\n"
     ]
    }
   ],
   "source": [
    "\n",
    "def test_fib2():\n",
    "    a,b=0,1\n",
    "    while True:\n",
    "        yield (a)\n",
    "        a,b = b,a+b\n",
    "listt=test_fib2()\n",
    "for i in range(10):\n",
    "    print(next(listt))"
   ]
  },
  {
   "cell_type": "code",
   "execution_count": 2,
   "id": "7287ab6b-40d2-4953-86ab-1ea56f25e27d",
   "metadata": {},
   "outputs": [
    {
     "data": {
      "text/plain": [
       "generator"
      ]
     },
     "execution_count": 2,
     "metadata": {},
     "output_type": "execute_result"
    }
   ],
   "source": [
    "type(listt)"
   ]
  },
  {
   "cell_type": "code",
   "execution_count": null,
   "id": "88281fbf-7832-495f-b858-aa769218b9d2",
   "metadata": {},
   "outputs": [],
   "source": []
  }
 ],
 "metadata": {
  "kernelspec": {
   "display_name": "Python 3 (ipykernel)",
   "language": "python",
   "name": "python3"
  },
  "language_info": {
   "codemirror_mode": {
    "name": "ipython",
    "version": 3
   },
   "file_extension": ".py",
   "mimetype": "text/x-python",
   "name": "python",
   "nbconvert_exporter": "python",
   "pygments_lexer": "ipython3",
   "version": "3.10.8"
  }
 },
 "nbformat": 4,
 "nbformat_minor": 5
}
