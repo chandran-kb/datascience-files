{
 "cells": [
  {
   "cell_type": "code",
   "execution_count": 1,
   "id": "d3b0dc61-93f0-414e-a1c9-792b19129d8a",
   "metadata": {},
   "outputs": [],
   "source": [
    "## Best Practices for Exceptions Handling\n",
    "## always use the generice exception\n",
    "## always print a proper Error Message\n",
    "## always try to log your error\n",
    "## always avoid writing multiple exception handling\n",
    "## cleanup all the resources  (ex : if you have opened a file, don't leave it open.  use finally: and close the file so that it doesn't consume RAM in the background\n"
   ]
  },
  {
   "cell_type": "code",
   "execution_count": 2,
   "id": "3d0baf3c-51f9-4c0d-a94d-7dd41766c1ca",
   "metadata": {},
   "outputs": [
    {
     "name": "stdout",
     "output_type": "stream",
     "text": [
      "Error:  division by zero\n"
     ]
    },
    {
     "data": {
      "text/plain": [
       "2.0"
      ]
     },
     "execution_count": 2,
     "metadata": {},
     "output_type": "execute_result"
    }
   ],
   "source": [
    "## always use the specific exception\n",
    "## always print a proper Error Message\n",
    "try :\n",
    "    a=1/0\n",
    "except ZeroDivisionError as e:\n",
    "    print(\"Error: \" , e)\n",
    "10/5"
   ]
  },
  {
   "cell_type": "code",
   "execution_count": 3,
   "id": "de0889fa-3bfe-4249-8930-8f99d12745b8",
   "metadata": {},
   "outputs": [
    {
     "data": {
      "text/plain": [
       "2.0"
      ]
     },
     "execution_count": 3,
     "metadata": {},
     "output_type": "execute_result"
    }
   ],
   "source": [
    "## always try to log your error\n",
    "import logging\n",
    "logging.basicConfig(filename = \"error.log\", level = logging.ERROR)\n",
    "try :\n",
    "    a=1/0\n",
    "except ZeroDivisionError as e:\n",
    "    logging.error(\"Error: {} \" .format(e))\n",
    "10/5"
   ]
  },
  {
   "cell_type": "code",
   "execution_count": null,
   "id": "1a3aa544-186c-4471-b30a-d65cf391f755",
   "metadata": {},
   "outputs": [],
   "source": []
  }
 ],
 "metadata": {
  "kernelspec": {
   "display_name": "Python 3 (ipykernel)",
   "language": "python",
   "name": "python3"
  },
  "language_info": {
   "codemirror_mode": {
    "name": "ipython",
    "version": 3
   },
   "file_extension": ".py",
   "mimetype": "text/x-python",
   "name": "python",
   "nbconvert_exporter": "python",
   "pygments_lexer": "ipython3",
   "version": "3.10.8"
  }
 },
 "nbformat": 4,
 "nbformat_minor": 5
}
