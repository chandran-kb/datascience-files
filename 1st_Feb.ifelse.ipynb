{
 "cells": [
  {
   "cell_type": "code",
   "execution_count": 1,
   "id": "63cde3d6-6471-4f5a-b8f0-98d830b4f37b",
   "metadata": {},
   "outputs": [],
   "source": [
    "##Control or conditional flow"
   ]
  },
  {
   "cell_type": "code",
   "execution_count": 11,
   "id": "a07c8052-02ed-4f94-b4ae-316a87f59f11",
   "metadata": {},
   "outputs": [
    {
     "name": "stdin",
     "output_type": "stream",
     "text": [
      "enter the marks 1010\n"
     ]
    },
    {
     "name": "stdout",
     "output_type": "stream",
     "text": [
      "you ara a part of A0 batch\n"
     ]
    }
   ],
   "source": [
    "n=int(input(\"enter the marks\"))\n",
    "if n>=90:\n",
    "    print(\"you ara a part of A0 batch\")\n",
    "elif n<90 and n>=75:\n",
    "    print(\"you ara a part of A1 batch\")\n",
    "elif n<75 and n>=35:\n",
    "    print(\"you ara a part of A2 batch\")\n",
    "else : print(\"You failed\")"
   ]
  },
  {
   "cell_type": "code",
   "execution_count": 13,
   "id": "75ee9f26-dac3-4e40-bb4c-a354167d9de6",
   "metadata": {},
   "outputs": [
    {
     "name": "stdin",
     "output_type": "stream",
     "text": [
      "enter the price 8000\n"
     ]
    },
    {
     "name": "stdout",
     "output_type": "stream",
     "text": [
      "the final price of 8000 is 6400.0\n"
     ]
    }
   ],
   "source": [
    "n=int(input(\"enter the price\"))\n",
    "if n >5000:\n",
    "    print(\"the final price of {} is {}\".format(n,n*0.8))"
   ]
  },
  {
   "cell_type": "code",
   "execution_count": 16,
   "id": "31106010-ec99-4ecc-bea6-d1d07d06951c",
   "metadata": {},
   "outputs": [
    {
     "name": "stdin",
     "output_type": "stream",
     "text": [
      "enter the price of the product 999\n"
     ]
    },
    {
     "name": "stdout",
     "output_type": "stream",
     "text": [
      "final price is 699.3\n"
     ]
    }
   ],
   "source": [
    "##task2\n",
    "p=int(input(\"enter the price of the product\"))\n",
    "if p>=1000:\n",
    "    print(\"final price is of {} is {}\".format(p),(p-p*20/100))\n",
    "elif p<1000:\n",
    "    print(\"final price is {}\".format(p-p*30/100))\n",
    "                "
   ]
  },
  {
   "cell_type": "code",
   "execution_count": 17,
   "id": "c1bcb402-c67a-4a5a-aa76-a76463edfd12",
   "metadata": {},
   "outputs": [
    {
     "name": "stdin",
     "output_type": "stream",
     "text": [
      "enter the price of the product 100\n"
     ]
    },
    {
     "name": "stdout",
     "output_type": "stream",
     "text": [
      "Final price of the product is 100\n"
     ]
    }
   ],
   "source": [
    "##task 3\n",
    "p=int(input(\"enter the price of the product\"))\n",
    "if p>3000:\n",
    "    print(f\"Final price of the prodict {p*0.8}\")\n",
    "elif p>2000 and p<=3000:\n",
    "    print(f\"Final price of the prodict {p*0.7}\")\n",
    "elif p<=2000 and p>1000:\n",
    "    print(f\"Final price of the prodict {p*0.6}\")\n",
    "else : print(f\"Final price of the product is {p}\")"
   ]
  },
  {
   "cell_type": "code",
   "execution_count": null,
   "id": "2e909655-daa4-4012-bd1f-81e703ad15e9",
   "metadata": {},
   "outputs": [],
   "source": []
  }
 ],
 "metadata": {
  "kernelspec": {
   "display_name": "Python 3 (ipykernel)",
   "language": "python",
   "name": "python3"
  },
  "language_info": {
   "codemirror_mode": {
    "name": "ipython",
    "version": 3
   },
   "file_extension": ".py",
   "mimetype": "text/x-python",
   "name": "python",
   "nbconvert_exporter": "python",
   "pygments_lexer": "ipython3",
   "version": "3.10.8"
  }
 },
 "nbformat": 4,
 "nbformat_minor": 5
}
